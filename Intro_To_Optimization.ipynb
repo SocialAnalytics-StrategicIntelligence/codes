{
 "cells": [
  {
   "cell_type": "markdown",
   "id": "e94c1246",
   "metadata": {},
   "source": [
    "<img src=\"https://i.imgur.com/6U6q5jQ.png\"/>\n",
    "\n",
    "_____\n",
    "<a id='home'></a>\n",
    "\n",
    "# Introduction to Optimization\n"
   ]
  },
  {
   "cell_type": "code",
   "execution_count": 3,
   "id": "4e38af10",
   "metadata": {},
   "outputs": [
    {
     "data": {
      "text/html": [
       "<iframe src=\"https://docs.google.com/presentation/d/e/2PACX-1vQHq0p2eTmxRWJjDmo1mUmdarYgIrEew4ieiVbIGQy-D_CyBw5rbbRUlRxwLKKaVQpRV9Hs8MGnz0X2/embed?start=false&loop=false&delayms=3000\" frameborder=\"0\" width=\"960\" height=\"569\" allowfullscreen=\"true\" mozallowfullscreen=\"true\" webkitallowfullscreen=\"true\"></iframe>\n"
      ],
      "text/plain": [
       "<IPython.core.display.HTML object>"
      ]
     },
     "metadata": {},
     "output_type": "display_data"
    }
   ],
   "source": [
    "%%html\n",
    "<iframe src=\"https://docs.google.com/presentation/d/e/2PACX-1vQHq0p2eTmxRWJjDmo1mUmdarYgIrEew4ieiVbIGQy-D_CyBw5rbbRUlRxwLKKaVQpRV9Hs8MGnz0X2/embed?start=false&loop=false&delayms=3000\" frameborder=\"0\" width=\"960\" height=\"569\" allowfullscreen=\"true\" mozallowfullscreen=\"true\" webkitallowfullscreen=\"true\"></iframe>\n"
   ]
  },
  {
   "cell_type": "markdown",
   "id": "1f02e23b",
   "metadata": {},
   "source": [
    "Please, go to your _environment_ in Anacoda Navigator to install **glpk** and **pulp**  before runing the codes below."
   ]
  },
  {
   "cell_type": "code",
   "execution_count": 4,
   "id": "4436e0c7",
   "metadata": {},
   "outputs": [],
   "source": [
    "from pulp import LpMaximize,LpProblem,LpVariable,LpConstraint, value\n",
    "from pulp import COIN_CMD\n",
    "from pulp import LpConstraintGE as GE\n",
    "from pulp import LpConstraintLE as LE\n",
    "\n",
    "\n",
    "model = LpProblem(name='refinery-problem', sense=LpMaximize)\n",
    "\n",
    "gas = LpVariable(name=\"Gas\", lowBound=0,cat='Continuous')\n",
    "oil = LpVariable(name=\"Oil\", lowBound=0,cat='Continuous')\n",
    "\n",
    "obj_func = 1.9*gas + 1.5*oil\n",
    "\n",
    "C1= LpConstraint(name='Gas Constraint', \n",
    "                 e= 1*gas - 2*oil, sense=GE, rhs=0)\n",
    "C2= LpConstraint(name='Oil Constraint',\n",
    "                 e= 1*oil, sense=GE, rhs=3000000)\n",
    "C3= LpConstraint(name='Demand Constraint',\n",
    "                 e= 1*gas, sense=LE, rhs=6400000)\n",
    "\n",
    "\n",
    "# build model with info and solve the model\n",
    "\n",
    "model += obj_func\n",
    "model += C1\n",
    "model += C2\n",
    "model += C3\n",
    "\n",
    "solver = COIN_CMD(msg=False)\n",
    "result=model.solve(solver)"
   ]
  },
  {
   "cell_type": "code",
   "execution_count": 5,
   "id": "04f0f2d9",
   "metadata": {},
   "outputs": [
    {
     "name": "stdout",
     "output_type": "stream",
     "text": [
      "Optimal Result:\n",
      "Gas = 6400000.0\n",
      "Oil = 3200000.0\n"
     ]
    }
   ],
   "source": [
    "print (\"Optimal Result:\")\n",
    "for variable in model.variables():\n",
    "    print (variable.name, \"=\", variable.varValue)"
   ]
  },
  {
   "cell_type": "code",
   "execution_count": 6,
   "id": "d0365db0",
   "metadata": {},
   "outputs": [
    {
     "name": "stdout",
     "output_type": "stream",
     "text": [
      "Total net max profit:\n",
      "16960000.0\n"
     ]
    }
   ],
   "source": [
    "print (\"Total net max profit:\")\n",
    "print (value(model.objective))"
   ]
  },
  {
   "cell_type": "code",
   "execution_count": 7,
   "id": "2ac78158",
   "metadata": {},
   "outputs": [
    {
     "name": "stdout",
     "output_type": "stream",
     "text": [
      "RHS-LHS\n",
      "Gas_Constraint:0.0\n",
      "Oil_Constraint:200000.0\n",
      "Demand_Constraint:0.0\n"
     ]
    }
   ],
   "source": [
    "print (\"RHS-LHS\")\n",
    "for name, constraint in model.constraints.items():\n",
    "    print(name + ':' + str(constraint.value()))"
   ]
  },
  {
   "cell_type": "code",
   "execution_count": 8,
   "id": "d019b6cc-b19f-4c8b-95eb-bf88989c6bbb",
   "metadata": {},
   "outputs": [
    {
     "name": "stdout",
     "output_type": "stream",
     "text": [
      "                name  shadow price     slack\n",
      "0     Gas_Constraint         -0.75      -0.0\n",
      "1     Oil_Constraint         -0.00 -200000.0\n",
      "2  Demand_Constraint          2.65      -0.0\n"
     ]
    }
   ],
   "source": [
    "import pandas as pd\n",
    "\n",
    "o = [{'name':name,'shadow price':c.pi,'slack': c.slack} for name, c in model.constraints.items()]\n",
    "\n",
    "print(pd.DataFrame(o))"
   ]
  },
  {
   "cell_type": "code",
   "execution_count": 15,
   "id": "a7e1cb7a",
   "metadata": {},
   "outputs": [
    {
     "data": {
      "text/html": [
       "\n",
       "\n",
       "<iframe src=\"https://docs.google.com/presentation/d/e/2PACX-1vTSq9X74urGAB_5n_MIJ9ZGIboKSvBdokVTBXVLh_qqZnmLRTJioOF431Rzys3Qi9UaFwWXjeq6Wmd5/embed?start=false&loop=false&delayms=3000\" frameborder=\"0\" width=\"960\" height=\"569\" allowfullscreen=\"true\" mozallowfullscreen=\"true\" webkitallowfullscreen=\"true\"></iframe>\n"
      ],
      "text/plain": [
       "<IPython.core.display.HTML object>"
      ]
     },
     "metadata": {},
     "output_type": "display_data"
    }
   ],
   "source": [
    "%%html\n",
    "\n",
    "\n",
    "<iframe src=\"https://docs.google.com/presentation/d/e/2PACX-1vTSq9X74urGAB_5n_MIJ9ZGIboKSvBdokVTBXVLh_qqZnmLRTJioOF431Rzys3Qi9UaFwWXjeq6Wmd5/embed?start=false&loop=false&delayms=3000\" frameborder=\"0\" width=\"960\" height=\"569\" allowfullscreen=\"true\" mozallowfullscreen=\"true\" webkitallowfullscreen=\"true\"></iframe>"
   ]
  },
  {
   "cell_type": "code",
   "execution_count": 10,
   "id": "06e07313",
   "metadata": {},
   "outputs": [],
   "source": [
    "from pulp import LpMinimize\n",
    "\n",
    "model = LpProblem(name='diet-problem', sense=LpMinimize)\n",
    "\n",
    "V_V = LpVariable(name=\"Vega Vita\", lowBound=0,cat='Integer')\n",
    "H_H = LpVariable(name=\"Happy Health\", lowBound=0,cat='Integer')\n",
    "\n",
    "obj_func = 0.2*V_V + 0.3*H_H\n",
    "\n",
    "C1=LpConstraint(e=20*V_V + 30*H_H,sense=GE,name='Vitamin C',rhs=60)\n",
    "C2=LpConstraint(e=500*V_V + 250*H_H,sense=GE,name='Calcium',rhs=1000)\n",
    "C3=LpConstraint(e=9*V_V + 2*H_H,sense=GE,name='Iron',rhs=18)\n",
    "C4=LpConstraint(e=2*V_V + 10*H_H,sense=GE,name='Niacin',rhs=20)\n",
    "C5=LpConstraint(e=60*V_V + 90*H_H,sense=GE,name='Magnesium',rhs=360)\n",
    "\n",
    "\n",
    "model += obj_func\n",
    "model += C1\n",
    "model += C2\n",
    "model += C3\n",
    "model += C4\n",
    "model += C5\n",
    "\n",
    "solver = COIN_CMD(msg=False)\n",
    "result=model.solve(solver)"
   ]
  },
  {
   "cell_type": "code",
   "execution_count": 11,
   "id": "3948aae6",
   "metadata": {},
   "outputs": [
    {
     "name": "stdout",
     "output_type": "stream",
     "text": [
      "Optimal Result:\n",
      "Happy_Health = 2.0\n",
      "Vega_Vita = 3.0\n"
     ]
    }
   ],
   "source": [
    "print (\"Optimal Result:\")\n",
    "for variable in model.variables():\n",
    "    print (variable.name, \"=\", variable.varValue)"
   ]
  },
  {
   "cell_type": "code",
   "execution_count": 12,
   "id": "89e41ac7",
   "metadata": {},
   "outputs": [
    {
     "name": "stdout",
     "output_type": "stream",
     "text": [
      "Total min expenses:\n",
      "1.2000000000000002\n"
     ]
    }
   ],
   "source": [
    "print (\"Total min expenses:\")\n",
    "print (value(model.objective))"
   ]
  },
  {
   "cell_type": "code",
   "execution_count": 13,
   "id": "9473d34a",
   "metadata": {},
   "outputs": [
    {
     "name": "stdout",
     "output_type": "stream",
     "text": [
      "RHS-LHS\n",
      "Vitamin_C:60.0\n",
      "Calcium:1000.0\n",
      "Iron:13.0\n",
      "Niacin:6.0\n",
      "Magnesium:0.0\n"
     ]
    }
   ],
   "source": [
    "print (\"RHS-LHS\")\n",
    "for name, constraint in model.constraints.items():\n",
    "    print(name + ':' + str(constraint.value()))"
   ]
  },
  {
   "cell_type": "code",
   "execution_count": 14,
   "id": "edf6787d",
   "metadata": {},
   "outputs": [
    {
     "name": "stdout",
     "output_type": "stream",
     "text": [
      "        name  shadow price   slack\n",
      "0  Vitamin_C           0.0   -60.0\n",
      "1    Calcium           0.0 -1000.0\n",
      "2       Iron           0.0   -13.0\n",
      "3     Niacin           0.0    -6.0\n",
      "4  Magnesium           0.0    -0.0\n"
     ]
    }
   ],
   "source": [
    "import pandas as pd\n",
    "\n",
    "o = [{'name':name,'shadow price':c.pi,'slack': c.slack} for name, c in model.constraints.items()]\n",
    "\n",
    "print(pd.DataFrame(o))"
   ]
  },
  {
   "cell_type": "code",
   "execution_count": null,
   "id": "591b3dc7-103f-496f-a293-f1b95042e33e",
   "metadata": {},
   "outputs": [],
   "source": []
  }
 ],
 "metadata": {
  "kernelspec": {
   "display_name": "Python 3 (ipykernel)",
   "language": "python",
   "name": "python3"
  },
  "language_info": {
   "codemirror_mode": {
    "name": "ipython",
    "version": 3
   },
   "file_extension": ".py",
   "mimetype": "text/x-python",
   "name": "python",
   "nbconvert_exporter": "python",
   "pygments_lexer": "ipython3",
   "version": "3.11.5"
  }
 },
 "nbformat": 4,
 "nbformat_minor": 5
}
