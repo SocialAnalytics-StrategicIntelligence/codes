{
 "cells": [
  {
   "cell_type": "markdown",
   "metadata": {},
   "source": [
    "<center><img src=\"https://i.imgur.com/zRrFdsf.png\" width=\"700\"></center> \n",
    "\n",
    "_____\n",
    "\n",
    "<a id='home'></a>\n",
    "\n",
    "# Data Preprocessing in Python: Data Integration and Reshaping"
   ]
  },
  {
   "cell_type": "markdown",
   "metadata": {},
   "source": [
    "I will cover some important processes for DFs:\n",
    "* [Appending](#appending)\n",
    "* [Reshaping](#reshaping)\n",
    "* [Merging](#merging)\n",
    "\n",
    "Finally, we will see some simple code for:\n",
    "* [Scaling](#scaling)\n",
    "* [Exporting](#exporting)"
   ]
  },
  {
   "cell_type": "markdown",
   "metadata": {},
   "source": [
    "<a id='appending'></a>\n",
    "\n",
    "# Appending\n",
    "\n",
    "As the name implies, this process binds DFs into one, that is, one or more DFs will be put below or on top of another DF. Appending can be done when you fulfill these requisites:\n",
    "1. All the DFs  share the same column names.\n",
    "2. All the DFs  columns are in the same location.\n",
    "\n",
    "Note that it is better if the columns share the same data types. But you can solve it during the formatting process.\n",
    "\n",
    "\n",
    "Let's visit this website: https://fundforpeace.org/what-we-do/country-risk-and-fragility-data/\n",
    "\n",
    "There, you will find several excel files with the _Fragile States Index_ per year. I have the files from 2013 to 2021 in a repo:"
   ]
  },
  {
   "cell_type": "code",
   "execution_count": 1,
   "metadata": {},
   "outputs": [],
   "source": [
    "# link to repo\n",
    "dataRepo='https://github.com/CienciaDeDatosEspacial/dataSets/raw/main/'"
   ]
  },
  {
   "cell_type": "code",
   "execution_count": 2,
   "metadata": {},
   "outputs": [
    {
     "data": {
      "text/plain": [
       "['fsi-2013.xlsx',\n",
       " 'fsi-2014.xlsx',\n",
       " 'fsi-2015.xlsx',\n",
       " 'fsi-2016.xlsx',\n",
       " 'fsi-2017.xlsx',\n",
       " 'fsi-2018.xlsx',\n",
       " 'fsi-2019.xlsx',\n",
       " 'fsi-2020.xlsx',\n",
       " 'fsi-2021.xlsx']"
      ]
     },
     "execution_count": 2,
     "metadata": {},
     "output_type": "execute_result"
    }
   ],
   "source": [
    "# creating file names into a list:\n",
    "years=range(2013,2022)\n",
    "fileNames=['fsi-'+str(year)+'.xlsx' for year in years]\n",
    "# list of file names\n",
    "fileNames"
   ]
  },
  {
   "cell_type": "code",
   "execution_count": 3,
   "metadata": {},
   "outputs": [
    {
     "data": {
      "text/plain": [
       "['https://github.com/CienciaDeDatosEspacial/dataSets/raw/main/fsi-2013.xlsx',\n",
       " 'https://github.com/CienciaDeDatosEspacial/dataSets/raw/main/fsi-2014.xlsx',\n",
       " 'https://github.com/CienciaDeDatosEspacial/dataSets/raw/main/fsi-2015.xlsx',\n",
       " 'https://github.com/CienciaDeDatosEspacial/dataSets/raw/main/fsi-2016.xlsx',\n",
       " 'https://github.com/CienciaDeDatosEspacial/dataSets/raw/main/fsi-2017.xlsx',\n",
       " 'https://github.com/CienciaDeDatosEspacial/dataSets/raw/main/fsi-2018.xlsx',\n",
       " 'https://github.com/CienciaDeDatosEspacial/dataSets/raw/main/fsi-2019.xlsx',\n",
       " 'https://github.com/CienciaDeDatosEspacial/dataSets/raw/main/fsi-2020.xlsx',\n",
       " 'https://github.com/CienciaDeDatosEspacial/dataSets/raw/main/fsi-2021.xlsx']"
      ]
     },
     "execution_count": 3,
     "metadata": {},
     "output_type": "execute_result"
    }
   ],
   "source": [
    "# creating the url to each file:\n",
    "alltheLinks=[dataRepo+fn for fn in fileNames]\n",
    "alltheLinks"
   ]
  },
  {
   "cell_type": "markdown",
   "metadata": {},
   "source": [
    "We will save each data frame in a list **allDFs**. We will use pandas, but we need **openpyxl** and **xlrd** (for Excel) before doing this operation:"
   ]
  },
  {
   "cell_type": "code",
   "execution_count": 4,
   "metadata": {},
   "outputs": [
    {
     "name": "stdout",
     "output_type": "stream",
     "text": [
      "2013\n",
      "2014\n",
      "2015\n",
      "2016\n",
      "2017\n",
      "2018\n",
      "2019\n"
     ]
    }
   ],
   "source": [
    "# creating list of DFs\n",
    "allDFs=[]\n",
    "\n",
    "import pandas as pd\n",
    "\n",
    "for link in alltheLinks:\n",
    "    current=pd.read_excel(link)\n",
    "    allDFs.append(current)"
   ]
  },
  {
   "cell_type": "code",
   "execution_count": 5,
   "metadata": {},
   "outputs": [],
   "source": [
    "# saving column names\n",
    "allColumnNames=[]\n",
    "for df in allDFs:\n",
    "    allColumnNames.append(set(df.columns))# list of sets!"
   ]
  },
  {
   "cell_type": "code",
   "execution_count": 6,
   "metadata": {},
   "outputs": [
    {
     "data": {
      "text/plain": [
       "[16, 16, 16, 16, 16, 16, 17, 17, 16]"
      ]
     },
     "execution_count": 6,
     "metadata": {},
     "output_type": "execute_result"
    }
   ],
   "source": [
    "# checking how many columns per df\n",
    "\n",
    "[len(cols) for cols in allColumnNames]"
   ]
  },
  {
   "cell_type": "markdown",
   "metadata": {},
   "source": [
    "We have an extra column in a couple of years. \n",
    "Let's find the common columns:"
   ]
  },
  {
   "cell_type": "code",
   "execution_count": 7,
   "metadata": {},
   "outputs": [
    {
     "data": {
      "text/plain": [
       "(16,\n",
       " {'C1: Security Apparatus',\n",
       "  'C2: Factionalized Elites',\n",
       "  'C3: Group Grievance',\n",
       "  'Country',\n",
       "  'E1: Economy',\n",
       "  'E2: Economic Inequality',\n",
       "  'E3: Human Flight and Brain Drain',\n",
       "  'P1: State Legitimacy',\n",
       "  'P2: Public Services',\n",
       "  'P3: Human Rights',\n",
       "  'Rank',\n",
       "  'S1: Demographic Pressures',\n",
       "  'S2: Refugees and IDPs',\n",
       "  'Total',\n",
       "  'X1: External Intervention',\n",
       "  'Year'})"
      ]
     },
     "execution_count": 7,
     "metadata": {},
     "output_type": "execute_result"
    }
   ],
   "source": [
    "# details of common columns\n",
    "commonColumns=set.intersection(*allColumnNames) # expanding list of sets (*)\n",
    "len(commonColumns),commonColumns"
   ]
  },
  {
   "cell_type": "markdown",
   "metadata": {},
   "source": [
    "These are the columns not in the common names:"
   ]
  },
  {
   "cell_type": "code",
   "execution_count": 21,
   "metadata": {},
   "outputs": [
    {
     "data": {
      "text/plain": [
       "[{'Change from Previous Year'}, {'Change from Previous Year'}]"
      ]
     },
     "execution_count": 21,
     "metadata": {},
     "output_type": "execute_result"
    }
   ],
   "source": [
    "# not in common columns\n",
    "[set.difference(cols,commonColumns) for cols in allColumnNames if len(cols-commonColumns)>0]"
   ]
  },
  {
   "cell_type": "markdown",
   "metadata": {},
   "source": [
    "We could make a list of data frames with only the common columns:"
   ]
  },
  {
   "cell_type": "code",
   "execution_count": 22,
   "metadata": {},
   "outputs": [],
   "source": [
    "# DFs with the common columns\n",
    "allDFs_sameNames=[]\n",
    "for df in allDFs:\n",
    "    allDFs_sameNames.append(df.loc[:,list(commonColumns)])"
   ]
  },
  {
   "cell_type": "markdown",
   "metadata": {},
   "source": [
    "Appending in pandas requires a list of data frames, in these case that is **allDFs_sameNames**. Then we proceed:"
   ]
  },
  {
   "cell_type": "code",
   "execution_count": 23,
   "metadata": {},
   "outputs": [
    {
     "data": {
      "text/html": [
       "<div>\n",
       "<style scoped>\n",
       "    .dataframe tbody tr th:only-of-type {\n",
       "        vertical-align: middle;\n",
       "    }\n",
       "\n",
       "    .dataframe tbody tr th {\n",
       "        vertical-align: top;\n",
       "    }\n",
       "\n",
       "    .dataframe thead th {\n",
       "        text-align: right;\n",
       "    }\n",
       "</style>\n",
       "<table border=\"1\" class=\"dataframe\">\n",
       "  <thead>\n",
       "    <tr style=\"text-align: right;\">\n",
       "      <th></th>\n",
       "      <th>E1: Economy</th>\n",
       "      <th>Rank</th>\n",
       "      <th>C2: Factionalized Elites</th>\n",
       "      <th>C1: Security Apparatus</th>\n",
       "      <th>P1: State Legitimacy</th>\n",
       "      <th>P2: Public Services</th>\n",
       "      <th>E2: Economic Inequality</th>\n",
       "      <th>Country</th>\n",
       "      <th>C3: Group Grievance</th>\n",
       "      <th>X1: External Intervention</th>\n",
       "      <th>S2: Refugees and IDPs</th>\n",
       "      <th>Year</th>\n",
       "      <th>Total</th>\n",
       "      <th>E3: Human Flight and Brain Drain</th>\n",
       "      <th>S1: Demographic Pressures</th>\n",
       "      <th>P3: Human Rights</th>\n",
       "    </tr>\n",
       "  </thead>\n",
       "  <tbody>\n",
       "    <tr>\n",
       "      <th>0</th>\n",
       "      <td>9.4</td>\n",
       "      <td>1st</td>\n",
       "      <td>10.0</td>\n",
       "      <td>9.7</td>\n",
       "      <td>9.5</td>\n",
       "      <td>9.8</td>\n",
       "      <td>8.4</td>\n",
       "      <td>Somalia</td>\n",
       "      <td>9.3</td>\n",
       "      <td>9.4</td>\n",
       "      <td>10.0</td>\n",
       "      <td>2013-01-01 00:00:00</td>\n",
       "      <td>113.9</td>\n",
       "      <td>8.9</td>\n",
       "      <td>9.5</td>\n",
       "      <td>10.0</td>\n",
       "    </tr>\n",
       "    <tr>\n",
       "      <th>1</th>\n",
       "      <td>8.5</td>\n",
       "      <td>2nd</td>\n",
       "      <td>9.5</td>\n",
       "      <td>10.0</td>\n",
       "      <td>9.6</td>\n",
       "      <td>9.5</td>\n",
       "      <td>8.8</td>\n",
       "      <td>Congo Democratic Republic</td>\n",
       "      <td>9.4</td>\n",
       "      <td>9.7</td>\n",
       "      <td>10.0</td>\n",
       "      <td>2013-01-01 00:00:00</td>\n",
       "      <td>111.9</td>\n",
       "      <td>7.1</td>\n",
       "      <td>10.0</td>\n",
       "      <td>9.8</td>\n",
       "    </tr>\n",
       "    <tr>\n",
       "      <th>2</th>\n",
       "      <td>7.8</td>\n",
       "      <td>3rd</td>\n",
       "      <td>10.0</td>\n",
       "      <td>9.8</td>\n",
       "      <td>9.6</td>\n",
       "      <td>8.8</td>\n",
       "      <td>8.5</td>\n",
       "      <td>Sudan</td>\n",
       "      <td>10.0</td>\n",
       "      <td>10.0</td>\n",
       "      <td>10.0</td>\n",
       "      <td>2013-01-01 00:00:00</td>\n",
       "      <td>111.0</td>\n",
       "      <td>8.4</td>\n",
       "      <td>8.8</td>\n",
       "      <td>9.3</td>\n",
       "    </tr>\n",
       "    <tr>\n",
       "      <th>3</th>\n",
       "      <td>8.6</td>\n",
       "      <td>4th</td>\n",
       "      <td>9.8</td>\n",
       "      <td>9.6</td>\n",
       "      <td>9.1</td>\n",
       "      <td>9.8</td>\n",
       "      <td>8.9</td>\n",
       "      <td>South Sudan</td>\n",
       "      <td>10.0</td>\n",
       "      <td>10.0</td>\n",
       "      <td>10.0</td>\n",
       "      <td>2013-01-01 00:00:00</td>\n",
       "      <td>110.6</td>\n",
       "      <td>6.5</td>\n",
       "      <td>8.9</td>\n",
       "      <td>9.3</td>\n",
       "    </tr>\n",
       "    <tr>\n",
       "      <th>4</th>\n",
       "      <td>8.0</td>\n",
       "      <td>5th</td>\n",
       "      <td>9.5</td>\n",
       "      <td>9.4</td>\n",
       "      <td>9.7</td>\n",
       "      <td>9.9</td>\n",
       "      <td>8.9</td>\n",
       "      <td>Chad</td>\n",
       "      <td>8.8</td>\n",
       "      <td>7.9</td>\n",
       "      <td>9.7</td>\n",
       "      <td>2013-01-01 00:00:00</td>\n",
       "      <td>109.0</td>\n",
       "      <td>8.0</td>\n",
       "      <td>9.5</td>\n",
       "      <td>9.8</td>\n",
       "    </tr>\n",
       "  </tbody>\n",
       "</table>\n",
       "</div>"
      ],
      "text/plain": [
       "   E1: Economy Rank  C2: Factionalized Elites  C1: Security Apparatus  \\\n",
       "0          9.4  1st                      10.0                     9.7   \n",
       "1          8.5  2nd                       9.5                    10.0   \n",
       "2          7.8  3rd                      10.0                     9.8   \n",
       "3          8.6  4th                       9.8                     9.6   \n",
       "4          8.0  5th                       9.5                     9.4   \n",
       "\n",
       "   P1: State Legitimacy  P2: Public Services  E2: Economic Inequality  \\\n",
       "0                   9.5                  9.8                      8.4   \n",
       "1                   9.6                  9.5                      8.8   \n",
       "2                   9.6                  8.8                      8.5   \n",
       "3                   9.1                  9.8                      8.9   \n",
       "4                   9.7                  9.9                      8.9   \n",
       "\n",
       "                     Country  C3: Group Grievance  X1: External Intervention  \\\n",
       "0                    Somalia                  9.3                        9.4   \n",
       "1  Congo Democratic Republic                  9.4                        9.7   \n",
       "2                      Sudan                 10.0                       10.0   \n",
       "3                South Sudan                 10.0                       10.0   \n",
       "4                       Chad                  8.8                        7.9   \n",
       "\n",
       "   S2: Refugees and IDPs                 Year  Total  \\\n",
       "0                   10.0  2013-01-01 00:00:00  113.9   \n",
       "1                   10.0  2013-01-01 00:00:00  111.9   \n",
       "2                   10.0  2013-01-01 00:00:00  111.0   \n",
       "3                   10.0  2013-01-01 00:00:00  110.6   \n",
       "4                    9.7  2013-01-01 00:00:00  109.0   \n",
       "\n",
       "   E3: Human Flight and Brain Drain  S1: Demographic Pressures  \\\n",
       "0                               8.9                        9.5   \n",
       "1                               7.1                       10.0   \n",
       "2                               8.4                        8.8   \n",
       "3                               6.5                        8.9   \n",
       "4                               8.0                        9.5   \n",
       "\n",
       "   P3: Human Rights  \n",
       "0              10.0  \n",
       "1               9.8  \n",
       "2               9.3  \n",
       "3               9.3  \n",
       "4               9.8  "
      ]
     },
     "execution_count": 23,
     "metadata": {},
     "output_type": "execute_result"
    }
   ],
   "source": [
    "# appending\n",
    "allDFsConcat=pd.concat(allDFs_sameNames)\n",
    "allDFsConcat.head()"
   ]
  },
  {
   "cell_type": "markdown",
   "metadata": {},
   "source": [
    "We could pay attention to the current data types:"
   ]
  },
  {
   "cell_type": "code",
   "execution_count": 24,
   "metadata": {},
   "outputs": [
    {
     "name": "stdout",
     "output_type": "stream",
     "text": [
      "<class 'pandas.core.frame.DataFrame'>\n",
      "Int64Index: 1603 entries, 0 to 178\n",
      "Data columns (total 16 columns):\n",
      " #   Column                            Non-Null Count  Dtype  \n",
      "---  ------                            --------------  -----  \n",
      " 0   E1: Economy                       1603 non-null   float64\n",
      " 1   Rank                              1603 non-null   object \n",
      " 2   C2: Factionalized Elites          1603 non-null   float64\n",
      " 3   C1: Security Apparatus            1603 non-null   float64\n",
      " 4   P1: State Legitimacy              1603 non-null   float64\n",
      " 5   P2: Public Services               1603 non-null   float64\n",
      " 6   E2: Economic Inequality           1603 non-null   float64\n",
      " 7   Country                           1603 non-null   object \n",
      " 8   C3: Group Grievance               1603 non-null   float64\n",
      " 9   X1: External Intervention         1603 non-null   float64\n",
      " 10  S2: Refugees and IDPs             1603 non-null   float64\n",
      " 11  Year                              1603 non-null   object \n",
      " 12  Total                             1603 non-null   float64\n",
      " 13  E3: Human Flight and Brain Drain  1603 non-null   float64\n",
      " 14  S1: Demographic Pressures         1603 non-null   float64\n",
      " 15  P3: Human Rights                  1603 non-null   float64\n",
      "dtypes: float64(13), object(3)\n",
      "memory usage: 212.9+ KB\n"
     ]
    }
   ],
   "source": [
    "allDFsConcat.info()"
   ]
  },
  {
   "cell_type": "markdown",
   "metadata": {},
   "source": [
    "The columns **Year** was expected to be a numeric type, but we got an _object_ instead. Let's explore that column:"
   ]
  },
  {
   "cell_type": "code",
   "execution_count": 25,
   "metadata": {},
   "outputs": [
    {
     "data": {
      "text/plain": [
       "2021                   179\n",
       "2013-01-01 00:00:00    178\n",
       "2014-01-01 00:00:00    178\n",
       "2015-01-01 00:00:00    178\n",
       "2016-01-01 00:00:00    178\n",
       "2017-01-01 00:00:00    178\n",
       "2018-01-01 00:00:00    178\n",
       "2019-01-01 00:00:00    178\n",
       "2020-01-01 00:00:00    178\n",
       "Name: Year, dtype: int64"
      ]
     },
     "execution_count": 25,
     "metadata": {},
     "output_type": "execute_result"
    }
   ],
   "source": [
    "# exploring year column as frequency table\n",
    "allDFsConcat.Year.value_counts()"
   ]
  },
  {
   "cell_type": "markdown",
   "metadata": {},
   "source": [
    "Except for the year 2021, the other values are in date-time format. We just need an integer number, then:"
   ]
  },
  {
   "cell_type": "code",
   "execution_count": 27,
   "metadata": {},
   "outputs": [
    {
     "data": {
      "text/plain": [
       "2021    179\n",
       "2013    178\n",
       "2014    178\n",
       "2015    178\n",
       "2016    178\n",
       "2017    178\n",
       "2018    178\n",
       "2019    178\n",
       "2020    178\n",
       "dtype: int64"
      ]
     },
     "execution_count": 27,
     "metadata": {},
     "output_type": "execute_result"
    }
   ],
   "source": [
    "# keeping just the year value\n",
    "yearAsNumber=[]\n",
    "for y in allDFsConcat.Year:\n",
    "    try:\n",
    "        yearAsNumber.append(y.year)# the value from a date-time format\n",
    "    except:\n",
    "        yearAsNumber.append(y) # if not a datetime\n",
    "\n",
    "#verifying\n",
    "pd.Series(yearAsNumber).value_counts()"
   ]
  },
  {
   "cell_type": "code",
   "execution_count": 28,
   "metadata": {},
   "outputs": [],
   "source": [
    "# overwriting the year column\n",
    "allDFsConcat.Year=yearAsNumber"
   ]
  },
  {
   "cell_type": "markdown",
   "metadata": {},
   "source": [
    "You may have notice that the column ordering does not look appropriate. In general you expect that the columns to the left start with identification of the rows rather than some measurements. Let's move 'Country','Year','Total' to the left:"
   ]
  },
  {
   "cell_type": "code",
   "execution_count": 30,
   "metadata": {},
   "outputs": [
    {
     "data": {
      "text/html": [
       "<div>\n",
       "<style scoped>\n",
       "    .dataframe tbody tr th:only-of-type {\n",
       "        vertical-align: middle;\n",
       "    }\n",
       "\n",
       "    .dataframe tbody tr th {\n",
       "        vertical-align: top;\n",
       "    }\n",
       "\n",
       "    .dataframe thead th {\n",
       "        text-align: right;\n",
       "    }\n",
       "</style>\n",
       "<table border=\"1\" class=\"dataframe\">\n",
       "  <thead>\n",
       "    <tr style=\"text-align: right;\">\n",
       "      <th></th>\n",
       "      <th></th>\n",
       "      <th></th>\n",
       "      <th>E1: Economy</th>\n",
       "      <th>Rank</th>\n",
       "      <th>C2: Factionalized Elites</th>\n",
       "      <th>C1: Security Apparatus</th>\n",
       "      <th>P1: State Legitimacy</th>\n",
       "      <th>P2: Public Services</th>\n",
       "      <th>E2: Economic Inequality</th>\n",
       "      <th>C3: Group Grievance</th>\n",
       "      <th>X1: External Intervention</th>\n",
       "      <th>S2: Refugees and IDPs</th>\n",
       "      <th>E3: Human Flight and Brain Drain</th>\n",
       "      <th>S1: Demographic Pressures</th>\n",
       "      <th>P3: Human Rights</th>\n",
       "    </tr>\n",
       "    <tr>\n",
       "      <th>Country</th>\n",
       "      <th>Year</th>\n",
       "      <th>Total</th>\n",
       "      <th></th>\n",
       "      <th></th>\n",
       "      <th></th>\n",
       "      <th></th>\n",
       "      <th></th>\n",
       "      <th></th>\n",
       "      <th></th>\n",
       "      <th></th>\n",
       "      <th></th>\n",
       "      <th></th>\n",
       "      <th></th>\n",
       "      <th></th>\n",
       "      <th></th>\n",
       "    </tr>\n",
       "  </thead>\n",
       "  <tbody>\n",
       "    <tr>\n",
       "      <th>Somalia</th>\n",
       "      <th>2013</th>\n",
       "      <th>113.9</th>\n",
       "      <td>9.4</td>\n",
       "      <td>1st</td>\n",
       "      <td>10.0</td>\n",
       "      <td>9.7</td>\n",
       "      <td>9.5</td>\n",
       "      <td>9.8</td>\n",
       "      <td>8.4</td>\n",
       "      <td>9.3</td>\n",
       "      <td>9.4</td>\n",
       "      <td>10.0</td>\n",
       "      <td>8.9</td>\n",
       "      <td>9.5</td>\n",
       "      <td>10.0</td>\n",
       "    </tr>\n",
       "    <tr>\n",
       "      <th>Congo Democratic Republic</th>\n",
       "      <th>2013</th>\n",
       "      <th>111.9</th>\n",
       "      <td>8.5</td>\n",
       "      <td>2nd</td>\n",
       "      <td>9.5</td>\n",
       "      <td>10.0</td>\n",
       "      <td>9.6</td>\n",
       "      <td>9.5</td>\n",
       "      <td>8.8</td>\n",
       "      <td>9.4</td>\n",
       "      <td>9.7</td>\n",
       "      <td>10.0</td>\n",
       "      <td>7.1</td>\n",
       "      <td>10.0</td>\n",
       "      <td>9.8</td>\n",
       "    </tr>\n",
       "    <tr>\n",
       "      <th>Sudan</th>\n",
       "      <th>2013</th>\n",
       "      <th>111.0</th>\n",
       "      <td>7.8</td>\n",
       "      <td>3rd</td>\n",
       "      <td>10.0</td>\n",
       "      <td>9.8</td>\n",
       "      <td>9.6</td>\n",
       "      <td>8.8</td>\n",
       "      <td>8.5</td>\n",
       "      <td>10.0</td>\n",
       "      <td>10.0</td>\n",
       "      <td>10.0</td>\n",
       "      <td>8.4</td>\n",
       "      <td>8.8</td>\n",
       "      <td>9.3</td>\n",
       "    </tr>\n",
       "    <tr>\n",
       "      <th>South Sudan</th>\n",
       "      <th>2013</th>\n",
       "      <th>110.6</th>\n",
       "      <td>8.6</td>\n",
       "      <td>4th</td>\n",
       "      <td>9.8</td>\n",
       "      <td>9.6</td>\n",
       "      <td>9.1</td>\n",
       "      <td>9.8</td>\n",
       "      <td>8.9</td>\n",
       "      <td>10.0</td>\n",
       "      <td>10.0</td>\n",
       "      <td>10.0</td>\n",
       "      <td>6.5</td>\n",
       "      <td>8.9</td>\n",
       "      <td>9.3</td>\n",
       "    </tr>\n",
       "    <tr>\n",
       "      <th>Chad</th>\n",
       "      <th>2013</th>\n",
       "      <th>109.0</th>\n",
       "      <td>8.0</td>\n",
       "      <td>5th</td>\n",
       "      <td>9.5</td>\n",
       "      <td>9.4</td>\n",
       "      <td>9.7</td>\n",
       "      <td>9.9</td>\n",
       "      <td>8.9</td>\n",
       "      <td>8.8</td>\n",
       "      <td>7.9</td>\n",
       "      <td>9.7</td>\n",
       "      <td>8.0</td>\n",
       "      <td>9.5</td>\n",
       "      <td>9.8</td>\n",
       "    </tr>\n",
       "  </tbody>\n",
       "</table>\n",
       "</div>"
      ],
      "text/plain": [
       "                                      E1: Economy Rank  \\\n",
       "Country                   Year Total                     \n",
       "Somalia                   2013 113.9          9.4  1st   \n",
       "Congo Democratic Republic 2013 111.9          8.5  2nd   \n",
       "Sudan                     2013 111.0          7.8  3rd   \n",
       "South Sudan               2013 110.6          8.6  4th   \n",
       "Chad                      2013 109.0          8.0  5th   \n",
       "\n",
       "                                      C2: Factionalized Elites  \\\n",
       "Country                   Year Total                             \n",
       "Somalia                   2013 113.9                      10.0   \n",
       "Congo Democratic Republic 2013 111.9                       9.5   \n",
       "Sudan                     2013 111.0                      10.0   \n",
       "South Sudan               2013 110.6                       9.8   \n",
       "Chad                      2013 109.0                       9.5   \n",
       "\n",
       "                                      C1: Security Apparatus  \\\n",
       "Country                   Year Total                           \n",
       "Somalia                   2013 113.9                     9.7   \n",
       "Congo Democratic Republic 2013 111.9                    10.0   \n",
       "Sudan                     2013 111.0                     9.8   \n",
       "South Sudan               2013 110.6                     9.6   \n",
       "Chad                      2013 109.0                     9.4   \n",
       "\n",
       "                                      P1: State Legitimacy  \\\n",
       "Country                   Year Total                         \n",
       "Somalia                   2013 113.9                   9.5   \n",
       "Congo Democratic Republic 2013 111.9                   9.6   \n",
       "Sudan                     2013 111.0                   9.6   \n",
       "South Sudan               2013 110.6                   9.1   \n",
       "Chad                      2013 109.0                   9.7   \n",
       "\n",
       "                                      P2: Public Services  \\\n",
       "Country                   Year Total                        \n",
       "Somalia                   2013 113.9                  9.8   \n",
       "Congo Democratic Republic 2013 111.9                  9.5   \n",
       "Sudan                     2013 111.0                  8.8   \n",
       "South Sudan               2013 110.6                  9.8   \n",
       "Chad                      2013 109.0                  9.9   \n",
       "\n",
       "                                      E2: Economic Inequality  \\\n",
       "Country                   Year Total                            \n",
       "Somalia                   2013 113.9                      8.4   \n",
       "Congo Democratic Republic 2013 111.9                      8.8   \n",
       "Sudan                     2013 111.0                      8.5   \n",
       "South Sudan               2013 110.6                      8.9   \n",
       "Chad                      2013 109.0                      8.9   \n",
       "\n",
       "                                      C3: Group Grievance  \\\n",
       "Country                   Year Total                        \n",
       "Somalia                   2013 113.9                  9.3   \n",
       "Congo Democratic Republic 2013 111.9                  9.4   \n",
       "Sudan                     2013 111.0                 10.0   \n",
       "South Sudan               2013 110.6                 10.0   \n",
       "Chad                      2013 109.0                  8.8   \n",
       "\n",
       "                                      X1: External Intervention  \\\n",
       "Country                   Year Total                              \n",
       "Somalia                   2013 113.9                        9.4   \n",
       "Congo Democratic Republic 2013 111.9                        9.7   \n",
       "Sudan                     2013 111.0                       10.0   \n",
       "South Sudan               2013 110.6                       10.0   \n",
       "Chad                      2013 109.0                        7.9   \n",
       "\n",
       "                                      S2: Refugees and IDPs  \\\n",
       "Country                   Year Total                          \n",
       "Somalia                   2013 113.9                   10.0   \n",
       "Congo Democratic Republic 2013 111.9                   10.0   \n",
       "Sudan                     2013 111.0                   10.0   \n",
       "South Sudan               2013 110.6                   10.0   \n",
       "Chad                      2013 109.0                    9.7   \n",
       "\n",
       "                                      E3: Human Flight and Brain Drain  \\\n",
       "Country                   Year Total                                     \n",
       "Somalia                   2013 113.9                               8.9   \n",
       "Congo Democratic Republic 2013 111.9                               7.1   \n",
       "Sudan                     2013 111.0                               8.4   \n",
       "South Sudan               2013 110.6                               6.5   \n",
       "Chad                      2013 109.0                               8.0   \n",
       "\n",
       "                                      S1: Demographic Pressures  \\\n",
       "Country                   Year Total                              \n",
       "Somalia                   2013 113.9                        9.5   \n",
       "Congo Democratic Republic 2013 111.9                       10.0   \n",
       "Sudan                     2013 111.0                        8.8   \n",
       "South Sudan               2013 110.6                        8.9   \n",
       "Chad                      2013 109.0                        9.5   \n",
       "\n",
       "                                      P3: Human Rights  \n",
       "Country                   Year Total                    \n",
       "Somalia                   2013 113.9              10.0  \n",
       "Congo Democratic Republic 2013 111.9               9.8  \n",
       "Sudan                     2013 111.0               9.3  \n",
       "South Sudan               2013 110.6               9.3  \n",
       "Chad                      2013 109.0               9.8  "
      ]
     },
     "execution_count": 30,
     "metadata": {},
     "output_type": "execute_result"
    }
   ],
   "source": [
    "# this is a trick: setting columns as index\n",
    "allDFsConcat.set_index(['Country','Year','Total'],inplace=True)\n",
    "allDFsConcat.head()"
   ]
  },
  {
   "cell_type": "markdown",
   "metadata": {},
   "source": [
    "Since I will not use _Rank_, I will get rid of it:"
   ]
  },
  {
   "cell_type": "code",
   "execution_count": 31,
   "metadata": {},
   "outputs": [],
   "source": [
    "# dropping unneeded column\n",
    "allDFsConcat.drop(columns='Rank',inplace=True)"
   ]
  },
  {
   "cell_type": "markdown",
   "metadata": {},
   "source": [
    "Let's order the current column names:"
   ]
  },
  {
   "cell_type": "code",
   "execution_count": 32,
   "metadata": {},
   "outputs": [],
   "source": [
    "# ordering column names alphabetically\n",
    "allDFsConcat.sort_index(axis=1,inplace=True) # by row index will be axis=0"
   ]
  },
  {
   "cell_type": "markdown",
   "metadata": {},
   "source": [
    "Now put the row indexes back:"
   ]
  },
  {
   "cell_type": "code",
   "execution_count": 33,
   "metadata": {},
   "outputs": [],
   "source": [
    "# indexes will be columns\n",
    "allDFsConcat.reset_index(inplace=True)"
   ]
  },
  {
   "cell_type": "markdown",
   "metadata": {},
   "source": [
    "Let's do some cleaning on the column names:"
   ]
  },
  {
   "cell_type": "code",
   "execution_count": 34,
   "metadata": {},
   "outputs": [
    {
     "data": {
      "text/plain": [
       "['Country',\n",
       " 'Year',\n",
       " 'Total',\n",
       " 'C1: Security Apparatus',\n",
       " 'C2: Factionalized Elites',\n",
       " 'C3: Group Grievance',\n",
       " 'E1: Economy',\n",
       " 'E2: Economic Inequality',\n",
       " 'E3: Human Flight and Brain Drain',\n",
       " 'P1: State Legitimacy',\n",
       " 'P2: Public Services',\n",
       " 'P3: Human Rights',\n",
       " 'S1: Demographic Pressures',\n",
       " 'S2: Refugees and IDPs',\n",
       " 'X1: External Intervention']"
      ]
     },
     "execution_count": 34,
     "metadata": {},
     "output_type": "execute_result"
    }
   ],
   "source": [
    "# see column names\n",
    "allDFsConcat.columns.to_list()"
   ]
  },
  {
   "cell_type": "code",
   "execution_count": 35,
   "metadata": {},
   "outputs": [
    {
     "data": {
      "text/plain": [
       "['Country',\n",
       " 'Year',\n",
       " 'Total',\n",
       " 'C1_SecurityApparatus',\n",
       " 'C2_FactionalizedElites',\n",
       " 'C3_GroupGrievance',\n",
       " 'E1_Economy',\n",
       " 'E2_EconomicInequality',\n",
       " 'E3_HumanFlightandBrainDrain',\n",
       " 'P1_StateLegitimacy',\n",
       " 'P2_PublicServices',\n",
       " 'P3_HumanRights',\n",
       " 'S1_DemographicPressures',\n",
       " 'S2_RefugeesandIDPs',\n",
       " 'X1_ExternalIntervention']"
      ]
     },
     "execution_count": 35,
     "metadata": {},
     "output_type": "execute_result"
    }
   ],
   "source": [
    "# clean column names\n",
    "allDFsConcat.columns=allDFsConcat.columns.str.replace(':\\s',\"_\",regex=True)\n",
    "allDFsConcat.columns=allDFsConcat.columns.str.replace('\\s',\"\",regex=True)\n",
    "#see\n",
    "allDFsConcat.columns.to_list()"
   ]
  },
  {
   "cell_type": "markdown",
   "metadata": {},
   "source": [
    "Let's set the country names into upper case:"
   ]
  },
  {
   "cell_type": "code",
   "execution_count": 36,
   "metadata": {},
   "outputs": [],
   "source": [
    "# overwriting country\n",
    "allDFsConcat.Country=allDFsConcat.Country.str.upper()"
   ]
  },
  {
   "cell_type": "markdown",
   "metadata": {},
   "source": [
    "Finally, let's check the format:"
   ]
  },
  {
   "cell_type": "code",
   "execution_count": 37,
   "metadata": {},
   "outputs": [
    {
     "name": "stdout",
     "output_type": "stream",
     "text": [
      "<class 'pandas.core.frame.DataFrame'>\n",
      "RangeIndex: 1603 entries, 0 to 1602\n",
      "Data columns (total 15 columns):\n",
      " #   Column                       Non-Null Count  Dtype  \n",
      "---  ------                       --------------  -----  \n",
      " 0   Country                      1603 non-null   object \n",
      " 1   Year                         1603 non-null   int64  \n",
      " 2   Total                        1603 non-null   float64\n",
      " 3   C1_SecurityApparatus         1603 non-null   float64\n",
      " 4   C2_FactionalizedElites       1603 non-null   float64\n",
      " 5   C3_GroupGrievance            1603 non-null   float64\n",
      " 6   E1_Economy                   1603 non-null   float64\n",
      " 7   E2_EconomicInequality        1603 non-null   float64\n",
      " 8   E3_HumanFlightandBrainDrain  1603 non-null   float64\n",
      " 9   P1_StateLegitimacy           1603 non-null   float64\n",
      " 10  P2_PublicServices            1603 non-null   float64\n",
      " 11  P3_HumanRights               1603 non-null   float64\n",
      " 12  S1_DemographicPressures      1603 non-null   float64\n",
      " 13  S2_RefugeesandIDPs           1603 non-null   float64\n",
      " 14  X1_ExternalIntervention      1603 non-null   float64\n",
      "dtypes: float64(13), int64(1), object(1)\n",
      "memory usage: 188.0+ KB\n"
     ]
    }
   ],
   "source": [
    "allDFsConcat.info()"
   ]
  },
  {
   "cell_type": "markdown",
   "metadata": {},
   "source": [
    "[Home](#home)\n",
    "\n",
    "______\n",
    "\n",
    "<a id='reshaping'></a>\n",
    "\n",
    "# Reshaping\n",
    "\n",
    "Data frames have have different shapes. Let me keep some columns from the last DF so you can notice something:"
   ]
  },
  {
   "cell_type": "code",
   "execution_count": 38,
   "metadata": {},
   "outputs": [
    {
     "data": {
      "text/html": [
       "<div>\n",
       "<style scoped>\n",
       "    .dataframe tbody tr th:only-of-type {\n",
       "        vertical-align: middle;\n",
       "    }\n",
       "\n",
       "    .dataframe tbody tr th {\n",
       "        vertical-align: top;\n",
       "    }\n",
       "\n",
       "    .dataframe thead th {\n",
       "        text-align: right;\n",
       "    }\n",
       "</style>\n",
       "<table border=\"1\" class=\"dataframe\">\n",
       "  <thead>\n",
       "    <tr style=\"text-align: right;\">\n",
       "      <th></th>\n",
       "      <th>Country</th>\n",
       "      <th>Year</th>\n",
       "      <th>Total</th>\n",
       "    </tr>\n",
       "  </thead>\n",
       "  <tbody>\n",
       "    <tr>\n",
       "      <th>0</th>\n",
       "      <td>SOMALIA</td>\n",
       "      <td>2013</td>\n",
       "      <td>113.9</td>\n",
       "    </tr>\n",
       "    <tr>\n",
       "      <th>1</th>\n",
       "      <td>CONGO DEMOCRATIC REPUBLIC</td>\n",
       "      <td>2013</td>\n",
       "      <td>111.9</td>\n",
       "    </tr>\n",
       "    <tr>\n",
       "      <th>2</th>\n",
       "      <td>SUDAN</td>\n",
       "      <td>2013</td>\n",
       "      <td>111.0</td>\n",
       "    </tr>\n",
       "    <tr>\n",
       "      <th>3</th>\n",
       "      <td>SOUTH SUDAN</td>\n",
       "      <td>2013</td>\n",
       "      <td>110.6</td>\n",
       "    </tr>\n",
       "    <tr>\n",
       "      <th>4</th>\n",
       "      <td>CHAD</td>\n",
       "      <td>2013</td>\n",
       "      <td>109.0</td>\n",
       "    </tr>\n",
       "    <tr>\n",
       "      <th>...</th>\n",
       "      <td>...</td>\n",
       "      <td>...</td>\n",
       "      <td>...</td>\n",
       "    </tr>\n",
       "    <tr>\n",
       "      <th>1598</th>\n",
       "      <td>DENMARK</td>\n",
       "      <td>2021</td>\n",
       "      <td>18.8</td>\n",
       "    </tr>\n",
       "    <tr>\n",
       "      <th>1599</th>\n",
       "      <td>NEW ZEALAND</td>\n",
       "      <td>2021</td>\n",
       "      <td>18.4</td>\n",
       "    </tr>\n",
       "    <tr>\n",
       "      <th>1600</th>\n",
       "      <td>ICELAND</td>\n",
       "      <td>2021</td>\n",
       "      <td>18.0</td>\n",
       "    </tr>\n",
       "    <tr>\n",
       "      <th>1601</th>\n",
       "      <td>NORWAY</td>\n",
       "      <td>2021</td>\n",
       "      <td>16.6</td>\n",
       "    </tr>\n",
       "    <tr>\n",
       "      <th>1602</th>\n",
       "      <td>FINLAND</td>\n",
       "      <td>2021</td>\n",
       "      <td>16.2</td>\n",
       "    </tr>\n",
       "  </tbody>\n",
       "</table>\n",
       "<p>1603 rows × 3 columns</p>\n",
       "</div>"
      ],
      "text/plain": [
       "                        Country  Year  Total\n",
       "0                       SOMALIA  2013  113.9\n",
       "1     CONGO DEMOCRATIC REPUBLIC  2013  111.9\n",
       "2                         SUDAN  2013  111.0\n",
       "3                   SOUTH SUDAN  2013  110.6\n",
       "4                          CHAD  2013  109.0\n",
       "...                         ...   ...    ...\n",
       "1598                    DENMARK  2021   18.8\n",
       "1599                NEW ZEALAND  2021   18.4\n",
       "1600                    ICELAND  2021   18.0\n",
       "1601                     NORWAY  2021   16.6\n",
       "1602                    FINLAND  2021   16.2\n",
       "\n",
       "[1603 rows x 3 columns]"
      ]
     },
     "execution_count": 38,
     "metadata": {},
     "output_type": "execute_result"
    }
   ],
   "source": [
    "# seeing long shape\n",
    "fragileLong=allDFsConcat.iloc[:,:3]\n",
    "fragileLong"
   ]
  },
  {
   "cell_type": "markdown",
   "metadata": {},
   "source": [
    "You notice a DF is in long shape when you see the unit of analysis repeated in more than one cell."
   ]
  },
  {
   "cell_type": "markdown",
   "metadata": {},
   "source": [
    "Let me turn our **long** into **wide** shape:"
   ]
  },
  {
   "cell_type": "code",
   "execution_count": 39,
   "metadata": {},
   "outputs": [
    {
     "data": {
      "text/html": [
       "<div>\n",
       "<style scoped>\n",
       "    .dataframe tbody tr th:only-of-type {\n",
       "        vertical-align: middle;\n",
       "    }\n",
       "\n",
       "    .dataframe tbody tr th {\n",
       "        vertical-align: top;\n",
       "    }\n",
       "\n",
       "    .dataframe thead th {\n",
       "        text-align: right;\n",
       "    }\n",
       "</style>\n",
       "<table border=\"1\" class=\"dataframe\">\n",
       "  <thead>\n",
       "    <tr style=\"text-align: right;\">\n",
       "      <th>Year</th>\n",
       "      <th>2013</th>\n",
       "      <th>2014</th>\n",
       "      <th>2015</th>\n",
       "      <th>2016</th>\n",
       "      <th>2017</th>\n",
       "      <th>2018</th>\n",
       "      <th>2019</th>\n",
       "      <th>2020</th>\n",
       "      <th>2021</th>\n",
       "    </tr>\n",
       "    <tr>\n",
       "      <th>Country</th>\n",
       "      <th></th>\n",
       "      <th></th>\n",
       "      <th></th>\n",
       "      <th></th>\n",
       "      <th></th>\n",
       "      <th></th>\n",
       "      <th></th>\n",
       "      <th></th>\n",
       "      <th></th>\n",
       "    </tr>\n",
       "  </thead>\n",
       "  <tbody>\n",
       "    <tr>\n",
       "      <th>AFGHANISTAN</th>\n",
       "      <td>106.7</td>\n",
       "      <td>106.5</td>\n",
       "      <td>107.9</td>\n",
       "      <td>107.9</td>\n",
       "      <td>107.3</td>\n",
       "      <td>106.620768</td>\n",
       "      <td>105.0</td>\n",
       "      <td>102.901187</td>\n",
       "      <td>102.1</td>\n",
       "    </tr>\n",
       "    <tr>\n",
       "      <th>ALBANIA</th>\n",
       "      <td>65.2</td>\n",
       "      <td>63.6</td>\n",
       "      <td>61.9</td>\n",
       "      <td>61.2</td>\n",
       "      <td>60.5</td>\n",
       "      <td>60.079308</td>\n",
       "      <td>58.9</td>\n",
       "      <td>58.753811</td>\n",
       "      <td>59.0</td>\n",
       "    </tr>\n",
       "    <tr>\n",
       "      <th>ALGERIA</th>\n",
       "      <td>78.7</td>\n",
       "      <td>78.8</td>\n",
       "      <td>79.6</td>\n",
       "      <td>78.3</td>\n",
       "      <td>76.8</td>\n",
       "      <td>75.785052</td>\n",
       "      <td>75.4</td>\n",
       "      <td>74.575183</td>\n",
       "      <td>73.6</td>\n",
       "    </tr>\n",
       "    <tr>\n",
       "      <th>ANGOLA</th>\n",
       "      <td>87.1</td>\n",
       "      <td>87.4</td>\n",
       "      <td>87.9</td>\n",
       "      <td>90.5</td>\n",
       "      <td>91.1</td>\n",
       "      <td>89.440296</td>\n",
       "      <td>87.8</td>\n",
       "      <td>87.320039</td>\n",
       "      <td>89.0</td>\n",
       "    </tr>\n",
       "    <tr>\n",
       "      <th>ANTIGUA AND BARBUDA</th>\n",
       "      <td>58.0</td>\n",
       "      <td>59.0</td>\n",
       "      <td>57.8</td>\n",
       "      <td>56.2</td>\n",
       "      <td>54.8</td>\n",
       "      <td>55.611041</td>\n",
       "      <td>54.4</td>\n",
       "      <td>52.062352</td>\n",
       "      <td>54.9</td>\n",
       "    </tr>\n",
       "  </tbody>\n",
       "</table>\n",
       "</div>"
      ],
      "text/plain": [
       "Year                  2013   2014   2015   2016   2017        2018   2019  \\\n",
       "Country                                                                     \n",
       "AFGHANISTAN          106.7  106.5  107.9  107.9  107.3  106.620768  105.0   \n",
       "ALBANIA               65.2   63.6   61.9   61.2   60.5   60.079308   58.9   \n",
       "ALGERIA               78.7   78.8   79.6   78.3   76.8   75.785052   75.4   \n",
       "ANGOLA                87.1   87.4   87.9   90.5   91.1   89.440296   87.8   \n",
       "ANTIGUA AND BARBUDA   58.0   59.0   57.8   56.2   54.8   55.611041   54.4   \n",
       "\n",
       "Year                       2020   2021  \n",
       "Country                                 \n",
       "AFGHANISTAN          102.901187  102.1  \n",
       "ALBANIA               58.753811   59.0  \n",
       "ALGERIA               74.575183   73.6  \n",
       "ANGOLA                87.320039   89.0  \n",
       "ANTIGUA AND BARBUDA   52.062352   54.9  "
      ]
     },
     "execution_count": 39,
     "metadata": {},
     "output_type": "execute_result"
    }
   ],
   "source": [
    "# to wide\n",
    "fragileWide=pd.pivot_table(fragileLong,\n",
    "               values='Total', # values to use\n",
    "               index=['Country'], # unit of analysis\n",
    "               columns=['Year']) # the values for NEW column\n",
    "# see wide\n",
    "fragileWide.head()"
   ]
  },
  {
   "cell_type": "markdown",
   "metadata": {},
   "source": [
    "The **wide** shape from a **pivot_table** function looks great, but pay attention:"
   ]
  },
  {
   "cell_type": "code",
   "execution_count": 41,
   "metadata": {},
   "outputs": [
    {
     "data": {
      "text/plain": [
       "Int64Index([2013, 2014, 2015, 2016, 2017, 2018, 2019, 2020, 2021], dtype='int64', name='Year')"
      ]
     },
     "execution_count": 41,
     "metadata": {},
     "output_type": "execute_result"
    }
   ],
   "source": [
    "fragileWide.columns"
   ]
  },
  {
   "cell_type": "markdown",
   "metadata": {},
   "source": [
    "As you see above, the country is the row _index_ (row name), not a column. You may want this:"
   ]
  },
  {
   "cell_type": "code",
   "execution_count": 43,
   "metadata": {},
   "outputs": [
    {
     "data": {
      "text/html": [
       "<div>\n",
       "<style scoped>\n",
       "    .dataframe tbody tr th:only-of-type {\n",
       "        vertical-align: middle;\n",
       "    }\n",
       "\n",
       "    .dataframe tbody tr th {\n",
       "        vertical-align: top;\n",
       "    }\n",
       "\n",
       "    .dataframe thead th {\n",
       "        text-align: right;\n",
       "    }\n",
       "</style>\n",
       "<table border=\"1\" class=\"dataframe\">\n",
       "  <thead>\n",
       "    <tr style=\"text-align: right;\">\n",
       "      <th></th>\n",
       "      <th>index</th>\n",
       "      <th>Country</th>\n",
       "      <th>2013</th>\n",
       "      <th>2014</th>\n",
       "      <th>2015</th>\n",
       "      <th>2016</th>\n",
       "      <th>2017</th>\n",
       "      <th>2018</th>\n",
       "      <th>2019</th>\n",
       "      <th>2020</th>\n",
       "      <th>2021</th>\n",
       "    </tr>\n",
       "  </thead>\n",
       "  <tbody>\n",
       "    <tr>\n",
       "      <th>0</th>\n",
       "      <td>0</td>\n",
       "      <td>AFGHANISTAN</td>\n",
       "      <td>106.7</td>\n",
       "      <td>106.5</td>\n",
       "      <td>107.9</td>\n",
       "      <td>107.9</td>\n",
       "      <td>107.3</td>\n",
       "      <td>106.620768</td>\n",
       "      <td>105.0</td>\n",
       "      <td>102.901187</td>\n",
       "      <td>102.1</td>\n",
       "    </tr>\n",
       "    <tr>\n",
       "      <th>1</th>\n",
       "      <td>1</td>\n",
       "      <td>ALBANIA</td>\n",
       "      <td>65.2</td>\n",
       "      <td>63.6</td>\n",
       "      <td>61.9</td>\n",
       "      <td>61.2</td>\n",
       "      <td>60.5</td>\n",
       "      <td>60.079308</td>\n",
       "      <td>58.9</td>\n",
       "      <td>58.753811</td>\n",
       "      <td>59.0</td>\n",
       "    </tr>\n",
       "    <tr>\n",
       "      <th>2</th>\n",
       "      <td>2</td>\n",
       "      <td>ALGERIA</td>\n",
       "      <td>78.7</td>\n",
       "      <td>78.8</td>\n",
       "      <td>79.6</td>\n",
       "      <td>78.3</td>\n",
       "      <td>76.8</td>\n",
       "      <td>75.785052</td>\n",
       "      <td>75.4</td>\n",
       "      <td>74.575183</td>\n",
       "      <td>73.6</td>\n",
       "    </tr>\n",
       "    <tr>\n",
       "      <th>3</th>\n",
       "      <td>3</td>\n",
       "      <td>ANGOLA</td>\n",
       "      <td>87.1</td>\n",
       "      <td>87.4</td>\n",
       "      <td>87.9</td>\n",
       "      <td>90.5</td>\n",
       "      <td>91.1</td>\n",
       "      <td>89.440296</td>\n",
       "      <td>87.8</td>\n",
       "      <td>87.320039</td>\n",
       "      <td>89.0</td>\n",
       "    </tr>\n",
       "    <tr>\n",
       "      <th>4</th>\n",
       "      <td>4</td>\n",
       "      <td>ANTIGUA AND BARBUDA</td>\n",
       "      <td>58.0</td>\n",
       "      <td>59.0</td>\n",
       "      <td>57.8</td>\n",
       "      <td>56.2</td>\n",
       "      <td>54.8</td>\n",
       "      <td>55.611041</td>\n",
       "      <td>54.4</td>\n",
       "      <td>52.062352</td>\n",
       "      <td>54.9</td>\n",
       "    </tr>\n",
       "  </tbody>\n",
       "</table>\n",
       "</div>"
      ],
      "text/plain": [
       "   index              Country   2013   2014   2015   2016   2017        2018  \\\n",
       "0      0          AFGHANISTAN  106.7  106.5  107.9  107.9  107.3  106.620768   \n",
       "1      1              ALBANIA   65.2   63.6   61.9   61.2   60.5   60.079308   \n",
       "2      2              ALGERIA   78.7   78.8   79.6   78.3   76.8   75.785052   \n",
       "3      3               ANGOLA   87.1   87.4   87.9   90.5   91.1   89.440296   \n",
       "4      4  ANTIGUA AND BARBUDA   58.0   59.0   57.8   56.2   54.8   55.611041   \n",
       "\n",
       "    2019        2020   2021  \n",
       "0  105.0  102.901187  102.1  \n",
       "1   58.9   58.753811   59.0  \n",
       "2   75.4   74.575183   73.6  \n",
       "3   87.8   87.320039   89.0  \n",
       "4   54.4   52.062352   54.9  "
      ]
     },
     "execution_count": 43,
     "metadata": {},
     "output_type": "execute_result"
    }
   ],
   "source": [
    "# resetting index, keeping last index as a column\n",
    "fragileWide= fragileWide.reset_index(drop=False).\\\n",
    "             rename_axis(index=None, columns=None) # no name for indexes\n",
    "\n",
    "# result:\n",
    "fragileWide.head()"
   ]
  },
  {
   "cell_type": "markdown",
   "metadata": {},
   "source": [
    "Long shape is efficient in the presence of missing values:"
   ]
  },
  {
   "cell_type": "code",
   "execution_count": 44,
   "metadata": {},
   "outputs": [
    {
     "data": {
      "text/html": [
       "<div>\n",
       "<style scoped>\n",
       "    .dataframe tbody tr th:only-of-type {\n",
       "        vertical-align: middle;\n",
       "    }\n",
       "\n",
       "    .dataframe tbody tr th {\n",
       "        vertical-align: top;\n",
       "    }\n",
       "\n",
       "    .dataframe thead th {\n",
       "        text-align: right;\n",
       "    }\n",
       "</style>\n",
       "<table border=\"1\" class=\"dataframe\">\n",
       "  <thead>\n",
       "    <tr style=\"text-align: right;\">\n",
       "      <th></th>\n",
       "      <th>Country</th>\n",
       "      <th>Year</th>\n",
       "      <th>Total</th>\n",
       "    </tr>\n",
       "  </thead>\n",
       "  <tbody>\n",
       "  </tbody>\n",
       "</table>\n",
       "</div>"
      ],
      "text/plain": [
       "Empty DataFrame\n",
       "Columns: [Country, Year, Total]\n",
       "Index: []"
      ]
     },
     "execution_count": 44,
     "metadata": {},
     "output_type": "execute_result"
    }
   ],
   "source": [
    "# missing values in long format\n",
    "fragileLong[fragileLong.isna().any(axis=1)]"
   ]
  },
  {
   "cell_type": "markdown",
   "metadata": {},
   "source": [
    "Wide shape will create missing values when needed:"
   ]
  },
  {
   "cell_type": "code",
   "execution_count": 45,
   "metadata": {},
   "outputs": [
    {
     "data": {
      "text/html": [
       "<div>\n",
       "<style scoped>\n",
       "    .dataframe tbody tr th:only-of-type {\n",
       "        vertical-align: middle;\n",
       "    }\n",
       "\n",
       "    .dataframe tbody tr th {\n",
       "        vertical-align: top;\n",
       "    }\n",
       "\n",
       "    .dataframe thead th {\n",
       "        text-align: right;\n",
       "    }\n",
       "</style>\n",
       "<table border=\"1\" class=\"dataframe\">\n",
       "  <thead>\n",
       "    <tr style=\"text-align: right;\">\n",
       "      <th></th>\n",
       "      <th>index</th>\n",
       "      <th>Country</th>\n",
       "      <th>2013</th>\n",
       "      <th>2014</th>\n",
       "      <th>2015</th>\n",
       "      <th>2016</th>\n",
       "      <th>2017</th>\n",
       "      <th>2018</th>\n",
       "      <th>2019</th>\n",
       "      <th>2020</th>\n",
       "      <th>2021</th>\n",
       "    </tr>\n",
       "  </thead>\n",
       "  <tbody>\n",
       "    <tr>\n",
       "      <th>27</th>\n",
       "      <td>27</td>\n",
       "      <td>CABO VERDE</td>\n",
       "      <td>NaN</td>\n",
       "      <td>NaN</td>\n",
       "      <td>NaN</td>\n",
       "      <td>NaN</td>\n",
       "      <td>NaN</td>\n",
       "      <td>NaN</td>\n",
       "      <td>NaN</td>\n",
       "      <td>NaN</td>\n",
       "      <td>64.2</td>\n",
       "    </tr>\n",
       "    <tr>\n",
       "      <th>31</th>\n",
       "      <td>31</td>\n",
       "      <td>CAPE VERDE</td>\n",
       "      <td>73.7</td>\n",
       "      <td>74.1</td>\n",
       "      <td>73.5</td>\n",
       "      <td>71.5</td>\n",
       "      <td>70.1</td>\n",
       "      <td>68.000000</td>\n",
       "      <td>66.6</td>\n",
       "      <td>64.778171</td>\n",
       "      <td>NaN</td>\n",
       "    </tr>\n",
       "    <tr>\n",
       "      <th>45</th>\n",
       "      <td>45</td>\n",
       "      <td>CZECH REPUBLIC</td>\n",
       "      <td>39.9</td>\n",
       "      <td>39.4</td>\n",
       "      <td>37.4</td>\n",
       "      <td>40.8</td>\n",
       "      <td>40.1</td>\n",
       "      <td>39.047601</td>\n",
       "      <td>NaN</td>\n",
       "      <td>35.741616</td>\n",
       "      <td>NaN</td>\n",
       "    </tr>\n",
       "    <tr>\n",
       "      <th>46</th>\n",
       "      <td>46</td>\n",
       "      <td>CZECHIA</td>\n",
       "      <td>NaN</td>\n",
       "      <td>NaN</td>\n",
       "      <td>NaN</td>\n",
       "      <td>NaN</td>\n",
       "      <td>NaN</td>\n",
       "      <td>NaN</td>\n",
       "      <td>37.6</td>\n",
       "      <td>NaN</td>\n",
       "      <td>39.3</td>\n",
       "    </tr>\n",
       "    <tr>\n",
       "      <th>56</th>\n",
       "      <td>56</td>\n",
       "      <td>ESWATINI</td>\n",
       "      <td>NaN</td>\n",
       "      <td>NaN</td>\n",
       "      <td>NaN</td>\n",
       "      <td>NaN</td>\n",
       "      <td>NaN</td>\n",
       "      <td>NaN</td>\n",
       "      <td>85.3</td>\n",
       "      <td>NaN</td>\n",
       "      <td>82.5</td>\n",
       "    </tr>\n",
       "    <tr>\n",
       "      <th>81</th>\n",
       "      <td>81</td>\n",
       "      <td>ISRAEL</td>\n",
       "      <td>NaN</td>\n",
       "      <td>NaN</td>\n",
       "      <td>NaN</td>\n",
       "      <td>NaN</td>\n",
       "      <td>NaN</td>\n",
       "      <td>NaN</td>\n",
       "      <td>NaN</td>\n",
       "      <td>NaN</td>\n",
       "      <td>43.0</td>\n",
       "    </tr>\n",
       "    <tr>\n",
       "      <th>82</th>\n",
       "      <td>82</td>\n",
       "      <td>ISRAEL AND WEST BANK</td>\n",
       "      <td>80.8</td>\n",
       "      <td>79.5</td>\n",
       "      <td>79.4</td>\n",
       "      <td>79.7</td>\n",
       "      <td>78.9</td>\n",
       "      <td>78.533740</td>\n",
       "      <td>76.5</td>\n",
       "      <td>75.123972</td>\n",
       "      <td>NaN</td>\n",
       "    </tr>\n",
       "    <tr>\n",
       "      <th>90</th>\n",
       "      <td>90</td>\n",
       "      <td>KYRGYZ REPUBLIC</td>\n",
       "      <td>85.7</td>\n",
       "      <td>83.9</td>\n",
       "      <td>82.2</td>\n",
       "      <td>81.1</td>\n",
       "      <td>80.3</td>\n",
       "      <td>78.634122</td>\n",
       "      <td>76.2</td>\n",
       "      <td>73.929364</td>\n",
       "      <td>NaN</td>\n",
       "    </tr>\n",
       "    <tr>\n",
       "      <th>91</th>\n",
       "      <td>91</td>\n",
       "      <td>KYRGYZSTAN</td>\n",
       "      <td>NaN</td>\n",
       "      <td>NaN</td>\n",
       "      <td>NaN</td>\n",
       "      <td>NaN</td>\n",
       "      <td>NaN</td>\n",
       "      <td>NaN</td>\n",
       "      <td>NaN</td>\n",
       "      <td>NaN</td>\n",
       "      <td>76.4</td>\n",
       "    </tr>\n",
       "    <tr>\n",
       "      <th>100</th>\n",
       "      <td>100</td>\n",
       "      <td>MACEDONIA</td>\n",
       "      <td>68.0</td>\n",
       "      <td>66.4</td>\n",
       "      <td>64.5</td>\n",
       "      <td>67.0</td>\n",
       "      <td>66.1</td>\n",
       "      <td>64.797158</td>\n",
       "      <td>64.6</td>\n",
       "      <td>62.130864</td>\n",
       "      <td>NaN</td>\n",
       "    </tr>\n",
       "    <tr>\n",
       "      <th>125</th>\n",
       "      <td>125</td>\n",
       "      <td>NORTH MACEDONIA</td>\n",
       "      <td>NaN</td>\n",
       "      <td>NaN</td>\n",
       "      <td>NaN</td>\n",
       "      <td>NaN</td>\n",
       "      <td>NaN</td>\n",
       "      <td>NaN</td>\n",
       "      <td>NaN</td>\n",
       "      <td>NaN</td>\n",
       "      <td>64.5</td>\n",
       "    </tr>\n",
       "    <tr>\n",
       "      <th>129</th>\n",
       "      <td>129</td>\n",
       "      <td>PALESTINE</td>\n",
       "      <td>NaN</td>\n",
       "      <td>NaN</td>\n",
       "      <td>NaN</td>\n",
       "      <td>NaN</td>\n",
       "      <td>NaN</td>\n",
       "      <td>NaN</td>\n",
       "      <td>NaN</td>\n",
       "      <td>NaN</td>\n",
       "      <td>86.0</td>\n",
       "    </tr>\n",
       "    <tr>\n",
       "      <th>149</th>\n",
       "      <td>149</td>\n",
       "      <td>SLOVAK REPUBLIC</td>\n",
       "      <td>45.3</td>\n",
       "      <td>45.3</td>\n",
       "      <td>42.6</td>\n",
       "      <td>44.9</td>\n",
       "      <td>44.3</td>\n",
       "      <td>42.474889</td>\n",
       "      <td>40.5</td>\n",
       "      <td>38.221815</td>\n",
       "      <td>NaN</td>\n",
       "    </tr>\n",
       "    <tr>\n",
       "      <th>150</th>\n",
       "      <td>150</td>\n",
       "      <td>SLOVAKIA</td>\n",
       "      <td>NaN</td>\n",
       "      <td>NaN</td>\n",
       "      <td>NaN</td>\n",
       "      <td>NaN</td>\n",
       "      <td>NaN</td>\n",
       "      <td>NaN</td>\n",
       "      <td>NaN</td>\n",
       "      <td>NaN</td>\n",
       "      <td>39.0</td>\n",
       "    </tr>\n",
       "    <tr>\n",
       "      <th>161</th>\n",
       "      <td>161</td>\n",
       "      <td>SWAZILAND</td>\n",
       "      <td>85.6</td>\n",
       "      <td>85.8</td>\n",
       "      <td>86.2</td>\n",
       "      <td>87.6</td>\n",
       "      <td>88.8</td>\n",
       "      <td>87.540650</td>\n",
       "      <td>NaN</td>\n",
       "      <td>83.000000</td>\n",
       "      <td>NaN</td>\n",
       "    </tr>\n",
       "  </tbody>\n",
       "</table>\n",
       "</div>"
      ],
      "text/plain": [
       "     index               Country  2013  2014  2015  2016  2017       2018  \\\n",
       "27      27            CABO VERDE   NaN   NaN   NaN   NaN   NaN        NaN   \n",
       "31      31            CAPE VERDE  73.7  74.1  73.5  71.5  70.1  68.000000   \n",
       "45      45        CZECH REPUBLIC  39.9  39.4  37.4  40.8  40.1  39.047601   \n",
       "46      46               CZECHIA   NaN   NaN   NaN   NaN   NaN        NaN   \n",
       "56      56              ESWATINI   NaN   NaN   NaN   NaN   NaN        NaN   \n",
       "81      81                ISRAEL   NaN   NaN   NaN   NaN   NaN        NaN   \n",
       "82      82  ISRAEL AND WEST BANK  80.8  79.5  79.4  79.7  78.9  78.533740   \n",
       "90      90       KYRGYZ REPUBLIC  85.7  83.9  82.2  81.1  80.3  78.634122   \n",
       "91      91            KYRGYZSTAN   NaN   NaN   NaN   NaN   NaN        NaN   \n",
       "100    100             MACEDONIA  68.0  66.4  64.5  67.0  66.1  64.797158   \n",
       "125    125       NORTH MACEDONIA   NaN   NaN   NaN   NaN   NaN        NaN   \n",
       "129    129             PALESTINE   NaN   NaN   NaN   NaN   NaN        NaN   \n",
       "149    149       SLOVAK REPUBLIC  45.3  45.3  42.6  44.9  44.3  42.474889   \n",
       "150    150              SLOVAKIA   NaN   NaN   NaN   NaN   NaN        NaN   \n",
       "161    161             SWAZILAND  85.6  85.8  86.2  87.6  88.8  87.540650   \n",
       "\n",
       "     2019       2020  2021  \n",
       "27    NaN        NaN  64.2  \n",
       "31   66.6  64.778171   NaN  \n",
       "45    NaN  35.741616   NaN  \n",
       "46   37.6        NaN  39.3  \n",
       "56   85.3        NaN  82.5  \n",
       "81    NaN        NaN  43.0  \n",
       "82   76.5  75.123972   NaN  \n",
       "90   76.2  73.929364   NaN  \n",
       "91    NaN        NaN  76.4  \n",
       "100  64.6  62.130864   NaN  \n",
       "125   NaN        NaN  64.5  \n",
       "129   NaN        NaN  86.0  \n",
       "149  40.5  38.221815   NaN  \n",
       "150   NaN        NaN  39.0  \n",
       "161   NaN  83.000000   NaN  "
      ]
     },
     "execution_count": 45,
     "metadata": {},
     "output_type": "execute_result"
    }
   ],
   "source": [
    "# what cells have missing values?\n",
    "fragileWide[fragileWide.isna().any(axis=1)]"
   ]
  },
  {
   "cell_type": "markdown",
   "metadata": {},
   "source": [
    "This last request shows us problems.\n",
    "As you can see, even though the data DFs were prepared by the same organization, the DFs have country names that differ among them. Here we need some **manual** changes: "
   ]
  },
  {
   "cell_type": "code",
   "execution_count": 46,
   "metadata": {},
   "outputs": [],
   "source": [
    "# prepare changes as dict:\n",
    "changes={\"CABO VERDE\": \"CAPE VERDE\",\n",
    "\"CZECHIA\":\"CZECH REPUBLIC\",\n",
    "\"SWAZILAND\":\"ESWATINI\",\n",
    "\"ISRAEL AND WEST BANK\":\"ISRAEL\",\n",
    "\"KYRGYZSTAN\":\"KYRGYZ REPUBLIC\",\n",
    "\"NORTH MACEDONIA\":\"MACEDONIA\",\n",
    "\"SLOVAKIA\": \"SLOVAK REPUBLIC\"}"
   ]
  },
  {
   "cell_type": "markdown",
   "metadata": {},
   "source": [
    "Notice I am making the changes in the long shape of the DF, so that the wide shape will work fine:"
   ]
  },
  {
   "cell_type": "code",
   "execution_count": 47,
   "metadata": {},
   "outputs": [],
   "source": [
    "# make changes using 'replace':\n",
    "fragileLong.Country.replace(to_replace=changes,inplace=True)"
   ]
  },
  {
   "cell_type": "markdown",
   "metadata": {},
   "source": [
    "Let's redo the wide reshape:"
   ]
  },
  {
   "cell_type": "code",
   "execution_count": 48,
   "metadata": {},
   "outputs": [
    {
     "data": {
      "text/html": [
       "<div>\n",
       "<style scoped>\n",
       "    .dataframe tbody tr th:only-of-type {\n",
       "        vertical-align: middle;\n",
       "    }\n",
       "\n",
       "    .dataframe tbody tr th {\n",
       "        vertical-align: top;\n",
       "    }\n",
       "\n",
       "    .dataframe thead th {\n",
       "        text-align: right;\n",
       "    }\n",
       "</style>\n",
       "<table border=\"1\" class=\"dataframe\">\n",
       "  <thead>\n",
       "    <tr style=\"text-align: right;\">\n",
       "      <th></th>\n",
       "      <th>Country</th>\n",
       "      <th>2013</th>\n",
       "      <th>2014</th>\n",
       "      <th>2015</th>\n",
       "      <th>2016</th>\n",
       "      <th>2017</th>\n",
       "      <th>2018</th>\n",
       "      <th>2019</th>\n",
       "      <th>2020</th>\n",
       "      <th>2021</th>\n",
       "    </tr>\n",
       "  </thead>\n",
       "  <tbody>\n",
       "    <tr>\n",
       "      <th>124</th>\n",
       "      <td>PALESTINE</td>\n",
       "      <td>NaN</td>\n",
       "      <td>NaN</td>\n",
       "      <td>NaN</td>\n",
       "      <td>NaN</td>\n",
       "      <td>NaN</td>\n",
       "      <td>NaN</td>\n",
       "      <td>NaN</td>\n",
       "      <td>NaN</td>\n",
       "      <td>86.0</td>\n",
       "    </tr>\n",
       "  </tbody>\n",
       "</table>\n",
       "</div>"
      ],
      "text/plain": [
       "       Country  2013  2014  2015  2016  2017  2018  2019  2020  2021\n",
       "124  PALESTINE   NaN   NaN   NaN   NaN   NaN   NaN   NaN   NaN  86.0"
      ]
     },
     "execution_count": 48,
     "metadata": {},
     "output_type": "execute_result"
    }
   ],
   "source": [
    "# to wide shape again\n",
    "fragileWide=pd.pivot_table(fragileLong,\n",
    "               values='Total',\n",
    "               index=['Country'],\n",
    "               columns=['Year']).\\\n",
    "            reset_index(drop=False).\\\n",
    "            rename_axis(index=None, columns=None)\n",
    "\n",
    "# verify missing\n",
    "fragileWide[fragileWide.isna().any(axis=1)]"
   ]
  },
  {
   "cell_type": "markdown",
   "metadata": {},
   "source": [
    "You have to be very careful when working with countries, specially when you are including or excluding countries; which may cause you hurting someone else's feelings. \n",
    "\n",
    "For instance, here I am just keeping **rows** with no missing values:"
   ]
  },
  {
   "cell_type": "code",
   "execution_count": 49,
   "metadata": {},
   "outputs": [],
   "source": [
    "fragileWide.dropna(inplace=True) "
   ]
  },
  {
   "cell_type": "markdown",
   "metadata": {},
   "source": [
    "After dropping rows, I recommend you reset the indexes:"
   ]
  },
  {
   "cell_type": "code",
   "execution_count": 50,
   "metadata": {},
   "outputs": [],
   "source": [
    "fragileWide.reset_index(drop=True,inplace=True) "
   ]
  },
  {
   "cell_type": "markdown",
   "metadata": {},
   "source": [
    "For sure, we can turn this wide shape into a long one, using the function **melt**:"
   ]
  },
  {
   "cell_type": "code",
   "execution_count": 51,
   "metadata": {},
   "outputs": [
    {
     "data": {
      "text/html": [
       "<div>\n",
       "<style scoped>\n",
       "    .dataframe tbody tr th:only-of-type {\n",
       "        vertical-align: middle;\n",
       "    }\n",
       "\n",
       "    .dataframe tbody tr th {\n",
       "        vertical-align: top;\n",
       "    }\n",
       "\n",
       "    .dataframe thead th {\n",
       "        text-align: right;\n",
       "    }\n",
       "</style>\n",
       "<table border=\"1\" class=\"dataframe\">\n",
       "  <thead>\n",
       "    <tr style=\"text-align: right;\">\n",
       "      <th></th>\n",
       "      <th>Country</th>\n",
       "      <th>variable</th>\n",
       "      <th>value</th>\n",
       "    </tr>\n",
       "  </thead>\n",
       "  <tbody>\n",
       "    <tr>\n",
       "      <th>0</th>\n",
       "      <td>AFGHANISTAN</td>\n",
       "      <td>2013</td>\n",
       "      <td>106.7</td>\n",
       "    </tr>\n",
       "    <tr>\n",
       "      <th>1</th>\n",
       "      <td>ALBANIA</td>\n",
       "      <td>2013</td>\n",
       "      <td>65.2</td>\n",
       "    </tr>\n",
       "    <tr>\n",
       "      <th>2</th>\n",
       "      <td>ALGERIA</td>\n",
       "      <td>2013</td>\n",
       "      <td>78.7</td>\n",
       "    </tr>\n",
       "    <tr>\n",
       "      <th>3</th>\n",
       "      <td>ANGOLA</td>\n",
       "      <td>2013</td>\n",
       "      <td>87.1</td>\n",
       "    </tr>\n",
       "    <tr>\n",
       "      <th>4</th>\n",
       "      <td>ANTIGUA AND BARBUDA</td>\n",
       "      <td>2013</td>\n",
       "      <td>58.0</td>\n",
       "    </tr>\n",
       "    <tr>\n",
       "      <th>...</th>\n",
       "      <td>...</td>\n",
       "      <td>...</td>\n",
       "      <td>...</td>\n",
       "    </tr>\n",
       "    <tr>\n",
       "      <th>1597</th>\n",
       "      <td>VENEZUELA</td>\n",
       "      <td>2021</td>\n",
       "      <td>92.6</td>\n",
       "    </tr>\n",
       "    <tr>\n",
       "      <th>1598</th>\n",
       "      <td>VIETNAM</td>\n",
       "      <td>2021</td>\n",
       "      <td>63.3</td>\n",
       "    </tr>\n",
       "    <tr>\n",
       "      <th>1599</th>\n",
       "      <td>YEMEN</td>\n",
       "      <td>2021</td>\n",
       "      <td>111.7</td>\n",
       "    </tr>\n",
       "    <tr>\n",
       "      <th>1600</th>\n",
       "      <td>ZAMBIA</td>\n",
       "      <td>2021</td>\n",
       "      <td>84.9</td>\n",
       "    </tr>\n",
       "    <tr>\n",
       "      <th>1601</th>\n",
       "      <td>ZIMBABWE</td>\n",
       "      <td>2021</td>\n",
       "      <td>99.1</td>\n",
       "    </tr>\n",
       "  </tbody>\n",
       "</table>\n",
       "<p>1602 rows × 3 columns</p>\n",
       "</div>"
      ],
      "text/plain": [
       "                  Country variable  value\n",
       "0             AFGHANISTAN     2013  106.7\n",
       "1                 ALBANIA     2013   65.2\n",
       "2                 ALGERIA     2013   78.7\n",
       "3                  ANGOLA     2013   87.1\n",
       "4     ANTIGUA AND BARBUDA     2013   58.0\n",
       "...                   ...      ...    ...\n",
       "1597            VENEZUELA     2021   92.6\n",
       "1598              VIETNAM     2021   63.3\n",
       "1599                YEMEN     2021  111.7\n",
       "1600               ZAMBIA     2021   84.9\n",
       "1601             ZIMBABWE     2021   99.1\n",
       "\n",
       "[1602 rows x 3 columns]"
      ]
     },
     "execution_count": 51,
     "metadata": {},
     "output_type": "execute_result"
    }
   ],
   "source": [
    "pd.melt(fragileWide, id_vars=['Country'])"
   ]
  },
  {
   "cell_type": "markdown",
   "metadata": {},
   "source": [
    "This would be more explicit:"
   ]
  },
  {
   "cell_type": "code",
   "execution_count": 52,
   "metadata": {},
   "outputs": [
    {
     "data": {
      "text/html": [
       "<div>\n",
       "<style scoped>\n",
       "    .dataframe tbody tr th:only-of-type {\n",
       "        vertical-align: middle;\n",
       "    }\n",
       "\n",
       "    .dataframe tbody tr th {\n",
       "        vertical-align: top;\n",
       "    }\n",
       "\n",
       "    .dataframe thead th {\n",
       "        text-align: right;\n",
       "    }\n",
       "</style>\n",
       "<table border=\"1\" class=\"dataframe\">\n",
       "  <thead>\n",
       "    <tr style=\"text-align: right;\">\n",
       "      <th></th>\n",
       "      <th>Country</th>\n",
       "      <th>Year</th>\n",
       "      <th>Total</th>\n",
       "    </tr>\n",
       "  </thead>\n",
       "  <tbody>\n",
       "    <tr>\n",
       "      <th>0</th>\n",
       "      <td>AFGHANISTAN</td>\n",
       "      <td>2013</td>\n",
       "      <td>106.7</td>\n",
       "    </tr>\n",
       "    <tr>\n",
       "      <th>1</th>\n",
       "      <td>ALBANIA</td>\n",
       "      <td>2013</td>\n",
       "      <td>65.2</td>\n",
       "    </tr>\n",
       "    <tr>\n",
       "      <th>2</th>\n",
       "      <td>ALGERIA</td>\n",
       "      <td>2013</td>\n",
       "      <td>78.7</td>\n",
       "    </tr>\n",
       "    <tr>\n",
       "      <th>3</th>\n",
       "      <td>ANGOLA</td>\n",
       "      <td>2013</td>\n",
       "      <td>87.1</td>\n",
       "    </tr>\n",
       "    <tr>\n",
       "      <th>4</th>\n",
       "      <td>ANTIGUA AND BARBUDA</td>\n",
       "      <td>2013</td>\n",
       "      <td>58.0</td>\n",
       "    </tr>\n",
       "  </tbody>\n",
       "</table>\n",
       "</div>"
      ],
      "text/plain": [
       "               Country  Year  Total\n",
       "0          AFGHANISTAN  2013  106.7\n",
       "1              ALBANIA  2013   65.2\n",
       "2              ALGERIA  2013   78.7\n",
       "3               ANGOLA  2013   87.1\n",
       "4  ANTIGUA AND BARBUDA  2013   58.0"
      ]
     },
     "execution_count": 52,
     "metadata": {},
     "output_type": "execute_result"
    }
   ],
   "source": [
    "fragileLong=pd.melt(fragileWide, #DF\n",
    "        id_vars=['Country'], #key\n",
    "        value_vars=list(range(2013,2022)), # columns in wide\n",
    "        var_name='Year', # new name for long column\n",
    "        value_name='Total')# new name for values\n",
    "\n",
    "# verifying\n",
    "fragileLong.head()"
   ]
  },
  {
   "cell_type": "markdown",
   "metadata": {},
   "source": [
    "[Home](#home)\n",
    "\n",
    "______\n",
    "\n",
    "<a id='merging'></a>\n",
    "\n",
    "# Merging"
   ]
  },
  {
   "cell_type": "markdown",
   "metadata": {},
   "source": [
    "Merging data sets need the following considerations:\n",
    "\n",
    "* Merging is done on two data frames.\n",
    "* You need a column in each data frame that share the same exact and unique values. The column names or titles need not be the same.\n",
    "* The merged table shows by default the mutual coincidences; but you can also request the values not matched, which will help you detect possible extra cleaning.\n",
    "* Pandas jargon uses a **left** and a **right** data frame: **left**.merge(**right**).\n",
    "\n",
    "At this stage, let me use other data frames we prepared previously:"
   ]
  },
  {
   "cell_type": "code",
   "execution_count": 53,
   "metadata": {},
   "outputs": [],
   "source": [
    "co2Link='https://github.com/CienciaDeDatosEspacial/dataSets/raw/main/co2.csv'\n",
    "forestLink='https://github.com/CienciaDeDatosEspacial/dataSets/raw/main/forestRev.csv'\n",
    "\n",
    "co2=pd.read_csv(co2Link)\n",
    "forest=pd.read_csv(forestLink)"
   ]
  },
  {
   "cell_type": "markdown",
   "metadata": {},
   "source": [
    "Remember the amount of rows of each DF:"
   ]
  },
  {
   "cell_type": "code",
   "execution_count": 54,
   "metadata": {},
   "outputs": [
    {
     "data": {
      "text/plain": [
       "((218, 4), (204, 3))"
      ]
     },
     "execution_count": 54,
     "metadata": {},
     "output_type": "execute_result"
    }
   ],
   "source": [
    "co2.shape,forest.shape"
   ]
  },
  {
   "cell_type": "markdown",
   "metadata": {},
   "source": [
    "Also keep in mind the column names:"
   ]
  },
  {
   "cell_type": "code",
   "execution_count": 55,
   "metadata": {},
   "outputs": [
    {
     "data": {
      "text/plain": [
       "(Index(['Country', 'ForestRev_gdp', 'ForestRev_date'], dtype='object'),\n",
       " Index(['name', 'co2', 'co2_date', 'region'], dtype='object'))"
      ]
     },
     "execution_count": 55,
     "metadata": {},
     "output_type": "execute_result"
    }
   ],
   "source": [
    "forest.columns,co2.columns"
   ]
  },
  {
   "cell_type": "markdown",
   "metadata": {},
   "source": [
    "Let me show you some merge approaches, but I will only show the amount of columns produced:\n",
    "\n",
    "1. You keep only what is common in both key columns:\n",
    "\n",
    "This is the default. The final rows will be the ones where the key values in each data frame match exactly. In this case, your count of rows will be at most the amount of rows of the smallest data frame."
   ]
  },
  {
   "cell_type": "code",
   "execution_count": 59,
   "metadata": {},
   "outputs": [
    {
     "data": {
      "text/plain": [
       "(197, 7)"
      ]
     },
     "execution_count": 59,
     "metadata": {},
     "output_type": "execute_result"
    }
   ],
   "source": [
    "# how many resulting rows after inner merging\n",
    "co2.merge(forest,how='inner',left_on='name',right_on='Country').shape"
   ]
  },
  {
   "cell_type": "markdown",
   "metadata": {},
   "source": [
    "2. You keep all the keys from one data frame:\n",
    "\n",
    "The final rows will be all the rows from the dataframe (here from the _left_). If a key values does not find a match, the key value is kept, but the columns will have missing values. In this case, your count of rows will be equal to the amount of rows of the data frame to the left. You can also use **right** so the same logic applies to the data frame to the right.\n",
    "\n"
   ]
  },
  {
   "cell_type": "code",
   "execution_count": 60,
   "metadata": {},
   "outputs": [
    {
     "data": {
      "text/plain": [
       "(218, 7)"
      ]
     },
     "execution_count": 60,
     "metadata": {},
     "output_type": "execute_result"
    }
   ],
   "source": [
    "# how many resulting rows after left merging\n",
    "co2.merge(forest,how='left',left_on='name',right_on='Country').shape"
   ]
  },
  {
   "cell_type": "markdown",
   "metadata": {},
   "source": [
    "3. You keep all the rows from both data frames:\n",
    "\n",
    "In this case you will obtain all possible rows: the matched values, and the unmatched values from both data frames. You will also generate missing values. In this case, your count of rows will be at least the amount of rows of the data frame with the most rows.\n"
   ]
  },
  {
   "cell_type": "code",
   "execution_count": 61,
   "metadata": {},
   "outputs": [
    {
     "data": {
      "text/plain": [
       "(225, 7)"
      ]
     },
     "execution_count": 61,
     "metadata": {},
     "output_type": "execute_result"
    }
   ],
   "source": [
    "# how many resulting rows after outer merging\n",
    "co2.merge(forest,how='outer',left_on='name',right_on='Country').shape"
   ]
  },
  {
   "cell_type": "markdown",
   "metadata": {},
   "source": [
    "Let's keep the **inner** merge on the CIA data files this time:"
   ]
  },
  {
   "cell_type": "code",
   "execution_count": 63,
   "metadata": {},
   "outputs": [
    {
     "data": {
      "text/html": [
       "<div>\n",
       "<style scoped>\n",
       "    .dataframe tbody tr th:only-of-type {\n",
       "        vertical-align: middle;\n",
       "    }\n",
       "\n",
       "    .dataframe tbody tr th {\n",
       "        vertical-align: top;\n",
       "    }\n",
       "\n",
       "    .dataframe thead th {\n",
       "        text-align: right;\n",
       "    }\n",
       "</style>\n",
       "<table border=\"1\" class=\"dataframe\">\n",
       "  <thead>\n",
       "    <tr style=\"text-align: right;\">\n",
       "      <th></th>\n",
       "      <th>name</th>\n",
       "      <th>co2</th>\n",
       "      <th>co2_date</th>\n",
       "      <th>region</th>\n",
       "      <th>Country</th>\n",
       "      <th>ForestRev_gdp</th>\n",
       "      <th>ForestRev_date</th>\n",
       "    </tr>\n",
       "  </thead>\n",
       "  <tbody>\n",
       "    <tr>\n",
       "      <th>0</th>\n",
       "      <td>CHINA</td>\n",
       "      <td>1.077325e+10</td>\n",
       "      <td>2019</td>\n",
       "      <td>EAST AND SOUTHEAST ASIA</td>\n",
       "      <td>CHINA</td>\n",
       "      <td>0.08</td>\n",
       "      <td>2018</td>\n",
       "    </tr>\n",
       "    <tr>\n",
       "      <th>1</th>\n",
       "      <td>UNITED STATES</td>\n",
       "      <td>5.144361e+09</td>\n",
       "      <td>2019</td>\n",
       "      <td>NORTH AMERICA</td>\n",
       "      <td>UNITED STATES</td>\n",
       "      <td>0.04</td>\n",
       "      <td>2018</td>\n",
       "    </tr>\n",
       "    <tr>\n",
       "      <th>2</th>\n",
       "      <td>INDIA</td>\n",
       "      <td>2.314738e+09</td>\n",
       "      <td>2019</td>\n",
       "      <td>SOUTH ASIA</td>\n",
       "      <td>INDIA</td>\n",
       "      <td>0.14</td>\n",
       "      <td>2018</td>\n",
       "    </tr>\n",
       "    <tr>\n",
       "      <th>3</th>\n",
       "      <td>RUSSIA</td>\n",
       "      <td>1.848070e+09</td>\n",
       "      <td>2019</td>\n",
       "      <td>CENTRAL ASIA</td>\n",
       "      <td>RUSSIA</td>\n",
       "      <td>0.29</td>\n",
       "      <td>2018</td>\n",
       "    </tr>\n",
       "    <tr>\n",
       "      <th>4</th>\n",
       "      <td>JAPAN</td>\n",
       "      <td>1.103234e+09</td>\n",
       "      <td>2019</td>\n",
       "      <td>EAST AND SOUTHEAST ASIA</td>\n",
       "      <td>JAPAN</td>\n",
       "      <td>0.02</td>\n",
       "      <td>2018</td>\n",
       "    </tr>\n",
       "  </tbody>\n",
       "</table>\n",
       "</div>"
      ],
      "text/plain": [
       "            name           co2  co2_date                   region  \\\n",
       "0          CHINA  1.077325e+10      2019  EAST AND SOUTHEAST ASIA   \n",
       "1  UNITED STATES  5.144361e+09      2019            NORTH AMERICA   \n",
       "2          INDIA  2.314738e+09      2019               SOUTH ASIA   \n",
       "3         RUSSIA  1.848070e+09      2019             CENTRAL ASIA   \n",
       "4          JAPAN  1.103234e+09      2019  EAST AND SOUTHEAST ASIA   \n",
       "\n",
       "         Country  ForestRev_gdp  ForestRev_date  \n",
       "0          CHINA           0.08            2018  \n",
       "1  UNITED STATES           0.04            2018  \n",
       "2          INDIA           0.14            2018  \n",
       "3         RUSSIA           0.29            2018  \n",
       "4          JAPAN           0.02            2018  "
      ]
     },
     "execution_count": 63,
     "metadata": {},
     "output_type": "execute_result"
    }
   ],
   "source": [
    "# the default is inner merge\n",
    "cia=co2.merge(forest,left_on='name',right_on='Country')\n",
    "cia.head()"
   ]
  },
  {
   "cell_type": "markdown",
   "metadata": {},
   "source": [
    "We could drop the repeated column:"
   ]
  },
  {
   "cell_type": "code",
   "execution_count": 65,
   "metadata": {},
   "outputs": [],
   "source": [
    "cia.drop(columns=['name'],inplace=True)"
   ]
  },
  {
   "cell_type": "markdown",
   "metadata": {},
   "source": [
    "Let's subset our long data frame on country fragility:"
   ]
  },
  {
   "cell_type": "code",
   "execution_count": 79,
   "metadata": {},
   "outputs": [],
   "source": [
    "fragile2019=fragileLong[fragileLong.Year==2019].copy()"
   ]
  },
  {
   "cell_type": "markdown",
   "metadata": {},
   "source": [
    "We will practice **fuzzy merging** now."
   ]
  },
  {
   "cell_type": "code",
   "execution_count": 80,
   "metadata": {},
   "outputs": [
    {
     "data": {
      "text/plain": [
       "{'AMERICAN SAMOA',\n",
       " 'ARUBA',\n",
       " 'BAHAMAS, THE',\n",
       " 'BRUNEI',\n",
       " 'BURMA',\n",
       " 'CABO VERDE',\n",
       " 'CAYMAN ISLANDS',\n",
       " 'CONGO, DEMOCRATIC REPUBLIC OF THE',\n",
       " 'CONGO, REPUBLIC OF THE',\n",
       " 'CZECHIA',\n",
       " 'DOMINICA',\n",
       " 'FAROE ISLANDS',\n",
       " 'GAMBIA, THE',\n",
       " 'GAZA STRIP',\n",
       " 'GREENLAND',\n",
       " 'GUAM',\n",
       " 'GUINEA-BISSAU',\n",
       " 'HONG KONG',\n",
       " 'KIRIBATI',\n",
       " 'KOREA, SOUTH',\n",
       " 'KOSOVO',\n",
       " 'KYRGYZSTAN',\n",
       " 'MACAU',\n",
       " 'MARSHALL ISLANDS',\n",
       " 'MICRONESIA, FEDERATED STATES OF',\n",
       " 'NAURU',\n",
       " 'NORTH MACEDONIA',\n",
       " 'NORTHERN MARIANA ISLANDS',\n",
       " 'PUERTO RICO',\n",
       " 'SAINT KITTS AND NEVIS',\n",
       " 'SAINT LUCIA',\n",
       " 'SAINT VINCENT AND THE GRENADINES',\n",
       " 'SLOVAKIA',\n",
       " 'TONGA',\n",
       " 'TURKEY (TURKIYE)',\n",
       " 'TURKS AND CAICOS ISLANDS',\n",
       " 'TUVALU',\n",
       " 'VANUATU',\n",
       " 'VIRGIN ISLANDS',\n",
       " 'WEST BANK'}"
      ]
     },
     "execution_count": 80,
     "metadata": {},
     "output_type": "execute_result"
    }
   ],
   "source": [
    "# Countries in 'cia' but NOT in 'fragile2019' \n",
    "OnlyCia=set(cia.Country)-set(fragile2019.Country)\n",
    "OnlyCia"
   ]
  },
  {
   "cell_type": "code",
   "execution_count": 81,
   "metadata": {},
   "outputs": [
    {
     "data": {
      "text/plain": [
       "{'BAHAMAS',\n",
       " 'BRUNEI DARUSSALAM',\n",
       " 'CAPE VERDE',\n",
       " 'CONGO DEMOCRATIC REPUBLIC',\n",
       " 'CONGO REPUBLIC',\n",
       " 'CZECH REPUBLIC',\n",
       " 'ERITREA',\n",
       " 'GAMBIA',\n",
       " 'GUINEA BISSAU',\n",
       " 'KYRGYZ REPUBLIC',\n",
       " 'MACEDONIA',\n",
       " 'MICRONESIA',\n",
       " 'MYANMAR',\n",
       " 'NORTH KOREA',\n",
       " 'SLOVAK REPUBLIC',\n",
       " 'SOMALIA',\n",
       " 'SOUTH AFRICA',\n",
       " 'SOUTH KOREA',\n",
       " 'SYRIA',\n",
       " 'TURKEY',\n",
       " 'VENEZUELA'}"
      ]
     },
     "execution_count": 81,
     "metadata": {},
     "output_type": "execute_result"
    }
   ],
   "source": [
    "# Countris in 'fragile2019' but NOT in 'cia' \n",
    "OnlyFragile=set(fragile2019.Country)-set(cia.Country)\n",
    "OnlyFragile"
   ]
  },
  {
   "cell_type": "markdown",
   "metadata": {},
   "source": [
    "Here, we should try to find the what countries in _OnlyFragile_ may match the ones in _OnlyCia_. We need to use the **fuzzy merge** approach (please install **thefuzz** if not previously installed):"
   ]
  },
  {
   "cell_type": "code",
   "execution_count": 82,
   "metadata": {},
   "outputs": [
    {
     "data": {
      "text/plain": [
       "[('BAHAMAS', ('BAHAMAS, THE', 90)),\n",
       " ('BRUNEI DARUSSALAM', ('BRUNEI', 90)),\n",
       " ('CAPE VERDE', ('CABO VERDE', 80)),\n",
       " ('CONGO DEMOCRATIC REPUBLIC', ('CONGO, DEMOCRATIC REPUBLIC OF THE', 95)),\n",
       " ('CONGO REPUBLIC', ('CONGO, DEMOCRATIC REPUBLIC OF THE', 86)),\n",
       " ('CZECH REPUBLIC', ('CONGO, DEMOCRATIC REPUBLIC OF THE', 86)),\n",
       " ('ERITREA', ('PUERTO RICO', 51)),\n",
       " ('GAMBIA', ('GAMBIA, THE', 90)),\n",
       " ('GUINEA BISSAU', ('GUINEA-BISSAU', 100)),\n",
       " ('KYRGYZ REPUBLIC', ('CONGO, DEMOCRATIC REPUBLIC OF THE', 86)),\n",
       " ('MACEDONIA', ('NORTH MACEDONIA', 90)),\n",
       " ('MICRONESIA', ('MICRONESIA, FEDERATED STATES OF', 90)),\n",
       " ('MYANMAR', ('NORTHERN MARIANA ISLANDS', 51)),\n",
       " ('NORTH KOREA', ('KOREA, SOUTH', 78)),\n",
       " ('SLOVAK REPUBLIC', ('CONGO, DEMOCRATIC REPUBLIC OF THE', 86)),\n",
       " ('SOMALIA', ('SLOVAKIA', 67)),\n",
       " ('SOUTH AFRICA', ('KOREA, SOUTH', 66)),\n",
       " ('SOUTH KOREA', ('KOREA, SOUTH', 95)),\n",
       " ('SYRIA', ('GAZA STRIP', 54)),\n",
       " ('TURKEY', ('TURKEY (TURKIYE)', 90)),\n",
       " ('VENEZUELA', ('VANUATU', 50))]"
      ]
     },
     "execution_count": 82,
     "metadata": {},
     "output_type": "execute_result"
    }
   ],
   "source": [
    "from thefuzz import process as fz\n",
    "\n",
    "# take a country from OnlyFragile\n",
    "# look for a country in OnlyCia and return the most similar\n",
    "[(f,fz.extractOne(f, OnlyCia)) for f in sorted(OnlyFragile)]"
   ]
  },
  {
   "cell_type": "markdown",
   "metadata": {},
   "source": [
    "Above you have found _some_ good matches. Let's keep the best ones:"
   ]
  },
  {
   "cell_type": "code",
   "execution_count": 83,
   "metadata": {},
   "outputs": [
    {
     "data": {
      "text/plain": [
       "[('BAHAMAS', ('BAHAMAS, THE', 90)),\n",
       " ('BRUNEI DARUSSALAM', ('BRUNEI', 90)),\n",
       " ('CONGO DEMOCRATIC REPUBLIC', ('CONGO, DEMOCRATIC REPUBLIC OF THE', 95)),\n",
       " ('GAMBIA', ('GAMBIA, THE', 90)),\n",
       " ('GUINEA BISSAU', ('GUINEA-BISSAU', 100)),\n",
       " ('MACEDONIA', ('NORTH MACEDONIA', 90)),\n",
       " ('MICRONESIA', ('MICRONESIA, FEDERATED STATES OF', 90)),\n",
       " ('SOUTH KOREA', ('KOREA, SOUTH', 95)),\n",
       " ('TURKEY', ('TURKEY (TURKIYE)', 90))]"
      ]
     },
     "execution_count": 83,
     "metadata": {},
     "output_type": "execute_result"
    }
   ],
   "source": [
    "[(f,fz.extractOne(f, OnlyCia)) for f in sorted(OnlyFragile)\n",
    " if fz.extractOne(f, OnlyCia)[1]>=87]"
   ]
  },
  {
   "cell_type": "markdown",
   "metadata": {},
   "source": [
    "Once you have good matches, you have to create dictionary like this:"
   ]
  },
  {
   "cell_type": "code",
   "execution_count": 84,
   "metadata": {},
   "outputs": [
    {
     "data": {
      "text/plain": [
       "{'BAHAMAS': 'BAHAMAS, THE',\n",
       " 'BRUNEI DARUSSALAM': 'BRUNEI',\n",
       " 'CONGO DEMOCRATIC REPUBLIC': 'CONGO, DEMOCRATIC REPUBLIC OF THE',\n",
       " 'GAMBIA': 'GAMBIA, THE',\n",
       " 'GUINEA BISSAU': 'GUINEA-BISSAU',\n",
       " 'MACEDONIA': 'NORTH MACEDONIA',\n",
       " 'MICRONESIA': 'MICRONESIA, FEDERATED STATES OF',\n",
       " 'SOUTH KOREA': 'KOREA, SOUTH',\n",
       " 'TURKEY': 'TURKEY (TURKIYE)'}"
      ]
     },
     "execution_count": 84,
     "metadata": {},
     "output_type": "execute_result"
    }
   ],
   "source": [
    "changesFragile1={f:fz.extractOne(f, OnlyCia)[0] \n",
    "                 for f in sorted(OnlyFragile)\n",
    "                 if fz.extractOne(f, OnlyCia)[1] >=87}\n",
    "#dict of matches\n",
    "changesFragile1"
   ]
  },
  {
   "cell_type": "markdown",
   "metadata": {},
   "source": [
    "You can use that dict for the replacements:"
   ]
  },
  {
   "cell_type": "code",
   "execution_count": 85,
   "metadata": {},
   "outputs": [],
   "source": [
    "fragile2019.Country.replace(to_replace=changesFragile1,inplace=True)"
   ]
  },
  {
   "cell_type": "markdown",
   "metadata": {},
   "source": [
    "Now the countries in fragile2019 have more matches. \n",
    "\n",
    "This process can be done a few more times, and you can recover more rows for the merging process. Let's see:"
   ]
  },
  {
   "cell_type": "code",
   "execution_count": 86,
   "metadata": {},
   "outputs": [
    {
     "data": {
      "text/plain": [
       "[('CAPE VERDE', ('CABO VERDE', 80)),\n",
       " ('CONGO REPUBLIC', ('CONGO, REPUBLIC OF THE', 86)),\n",
       " ('CZECH REPUBLIC', ('CONGO, REPUBLIC OF THE', 86)),\n",
       " ('ERITREA', ('PUERTO RICO', 51)),\n",
       " ('KYRGYZ REPUBLIC', ('CONGO, REPUBLIC OF THE', 66)),\n",
       " ('MYANMAR', ('NORTHERN MARIANA ISLANDS', 51)),\n",
       " ('NORTH KOREA', ('NORTHERN MARIANA ISLANDS', 62)),\n",
       " ('SLOVAK REPUBLIC', ('SLOVAKIA', 74)),\n",
       " ('SOMALIA', ('SLOVAKIA', 67)),\n",
       " ('SOUTH AFRICA', ('AMERICAN SAMOA', 59)),\n",
       " ('SYRIA', ('GAZA STRIP', 54)),\n",
       " ('VENEZUELA', ('VANUATU', 50))]"
      ]
     },
     "execution_count": 86,
     "metadata": {},
     "output_type": "execute_result"
    }
   ],
   "source": [
    "# second try\n",
    "OnlyCia=set(cia.Country)-set(fragile2019.Country)\n",
    "OnlyFragile=set(fragile2019.Country)-set(cia.Country)\n",
    "[(f,fz.extractOne(f, OnlyCia)) for f in sorted(OnlyFragile)]"
   ]
  },
  {
   "cell_type": "code",
   "execution_count": 87,
   "metadata": {},
   "outputs": [
    {
     "data": {
      "text/plain": [
       "{'CAPE VERDE': 'CABO VERDE', 'SLOVAK REPUBLIC': 'SLOVAKIA'}"
      ]
     },
     "execution_count": 87,
     "metadata": {},
     "output_type": "execute_result"
    }
   ],
   "source": [
    "# second dict of changes\n",
    "# select a different threshold\n",
    "changesFragile2={f:fz.extractOne(f, OnlyCia)[0] \n",
    "                 for f in sorted(OnlyFragile)\n",
    "                 if 74<=fz.extractOne(f, OnlyCia)[1]<=80}\n",
    "\n",
    "#dict of matches\n",
    "changesFragile2"
   ]
  },
  {
   "cell_type": "code",
   "execution_count": 88,
   "metadata": {},
   "outputs": [
    {
     "data": {
      "text/plain": [
       "{'CAPE VERDE': 'CABO VERDE',\n",
       " 'SLOVAK REPUBLIC': 'SLOVAKIA',\n",
       " 'CONGO REPUBLIC': 'CONGO, REPUBLIC OF THE'}"
      ]
     },
     "execution_count": 88,
     "metadata": {},
     "output_type": "execute_result"
    }
   ],
   "source": [
    "# add manually\n",
    "changesFragile2.update({'CONGO REPUBLIC':'CONGO, REPUBLIC OF THE'})\n",
    "changesFragile2"
   ]
  },
  {
   "cell_type": "code",
   "execution_count": 89,
   "metadata": {},
   "outputs": [],
   "source": [
    "# make the changes\n",
    "fragile2019.Country.replace(to_replace=changesFragile2,inplace=True)"
   ]
  },
  {
   "cell_type": "code",
   "execution_count": 90,
   "metadata": {},
   "outputs": [
    {
     "data": {
      "text/plain": [
       "[('CZECH REPUBLIC', ('CZECHIA', 64)),\n",
       " ('ERITREA', ('PUERTO RICO', 51)),\n",
       " ('KYRGYZ REPUBLIC', ('KYRGYZSTAN', 54)),\n",
       " ('MYANMAR', ('NORTHERN MARIANA ISLANDS', 51)),\n",
       " ('NORTH KOREA', ('NORTHERN MARIANA ISLANDS', 62)),\n",
       " ('SOMALIA', ('NORTHERN MARIANA ISLANDS', 61)),\n",
       " ('SOUTH AFRICA', ('AMERICAN SAMOA', 59)),\n",
       " ('SYRIA', ('GAZA STRIP', 54)),\n",
       " ('VENEZUELA', ('VANUATU', 50))]"
      ]
     },
     "execution_count": 90,
     "metadata": {},
     "output_type": "execute_result"
    }
   ],
   "source": [
    "# third try\n",
    "OnlyCia=set(cia.Country)-set(fragile2019.Country)\n",
    "OnlyFragile=set(fragile2019.Country)-set(cia.Country)\n",
    "[(f,fz.extractOne(f, OnlyCia)) for f in sorted(OnlyFragile)]"
   ]
  },
  {
   "cell_type": "code",
   "execution_count": 95,
   "metadata": {},
   "outputs": [
    {
     "data": {
      "text/plain": [
       "{'CZECH REPUBLIC': 'CZECHIA', 'KYRGYZ REPUBLIC': 'KYRGYZSTAN'}"
      ]
     },
     "execution_count": 95,
     "metadata": {},
     "output_type": "execute_result"
    }
   ],
   "source": [
    "# third dict of changes\n",
    "# new threshold\n",
    "changesFragile3={f:fz.extractOne(f, OnlyCia)[0] \n",
    "                 for f in sorted(OnlyFragile)\n",
    "                 if 64==fz.extractOne(f, OnlyCia)[1]}\n",
    "\n",
    "changesFragile3.update({'KYRGYZ REPUBLIC':'KYRGYZSTAN'})\n",
    "#dict of matches\n",
    "changesFragile3"
   ]
  },
  {
   "cell_type": "code",
   "execution_count": 98,
   "metadata": {},
   "outputs": [],
   "source": [
    "# make changes\n",
    "fragile2019.Country.replace(to_replace=changesFragile3,inplace=True)\n",
    "\n",
    "# also error in CIA\n",
    "cia.Country.replace(to_replace={'BURMA':'MYANMAR'},inplace=True)"
   ]
  },
  {
   "cell_type": "code",
   "execution_count": 99,
   "metadata": {},
   "outputs": [
    {
     "data": {
      "text/plain": [
       "[('ERITREA', ('PUERTO RICO', 51)),\n",
       " ('NORTH KOREA', ('NORTHERN MARIANA ISLANDS', 62)),\n",
       " ('SOMALIA', ('NORTHERN MARIANA ISLANDS', 61)),\n",
       " ('SOUTH AFRICA', ('AMERICAN SAMOA', 59)),\n",
       " ('SYRIA', ('GAZA STRIP', 54)),\n",
       " ('VENEZUELA', ('VANUATU', 50))]"
      ]
     },
     "execution_count": 99,
     "metadata": {},
     "output_type": "execute_result"
    }
   ],
   "source": [
    "# fourth try\n",
    "\n",
    "OnlyCia=set(cia.Country)-set(fragile2019.Country)\n",
    "OnlyFragile=set(fragile2019.Country)-set(cia.Country)\n",
    "[(f,fz.extractOne(f, OnlyCia)) for f in sorted(OnlyFragile)]"
   ]
  },
  {
   "cell_type": "markdown",
   "metadata": {},
   "source": [
    "The fourth attempt did not offer good results. So we are ready:"
   ]
  },
  {
   "cell_type": "code",
   "execution_count": 101,
   "metadata": {},
   "outputs": [
    {
     "data": {
      "text/html": [
       "<div>\n",
       "<style scoped>\n",
       "    .dataframe tbody tr th:only-of-type {\n",
       "        vertical-align: middle;\n",
       "    }\n",
       "\n",
       "    .dataframe tbody tr th {\n",
       "        vertical-align: top;\n",
       "    }\n",
       "\n",
       "    .dataframe thead th {\n",
       "        text-align: right;\n",
       "    }\n",
       "</style>\n",
       "<table border=\"1\" class=\"dataframe\">\n",
       "  <thead>\n",
       "    <tr style=\"text-align: right;\">\n",
       "      <th></th>\n",
       "      <th>Country</th>\n",
       "      <th>Year</th>\n",
       "      <th>Total</th>\n",
       "      <th>co2</th>\n",
       "      <th>co2_date</th>\n",
       "      <th>region</th>\n",
       "      <th>ForestRev_gdp</th>\n",
       "      <th>ForestRev_date</th>\n",
       "    </tr>\n",
       "  </thead>\n",
       "  <tbody>\n",
       "    <tr>\n",
       "      <th>0</th>\n",
       "      <td>AFGHANISTAN</td>\n",
       "      <td>2019</td>\n",
       "      <td>105.0</td>\n",
       "      <td>7893000.0</td>\n",
       "      <td>2019</td>\n",
       "      <td>SOUTH ASIA</td>\n",
       "      <td>0.20</td>\n",
       "      <td>2018</td>\n",
       "    </tr>\n",
       "    <tr>\n",
       "      <th>1</th>\n",
       "      <td>ALBANIA</td>\n",
       "      <td>2019</td>\n",
       "      <td>58.9</td>\n",
       "      <td>3794000.0</td>\n",
       "      <td>2019</td>\n",
       "      <td>EUROPE</td>\n",
       "      <td>0.18</td>\n",
       "      <td>2018</td>\n",
       "    </tr>\n",
       "    <tr>\n",
       "      <th>2</th>\n",
       "      <td>ALGERIA</td>\n",
       "      <td>2019</td>\n",
       "      <td>75.4</td>\n",
       "      <td>151633000.0</td>\n",
       "      <td>2019</td>\n",
       "      <td>AFRICA</td>\n",
       "      <td>0.10</td>\n",
       "      <td>2018</td>\n",
       "    </tr>\n",
       "    <tr>\n",
       "      <th>3</th>\n",
       "      <td>ANGOLA</td>\n",
       "      <td>2019</td>\n",
       "      <td>87.8</td>\n",
       "      <td>19362000.0</td>\n",
       "      <td>2019</td>\n",
       "      <td>AFRICA</td>\n",
       "      <td>0.36</td>\n",
       "      <td>2018</td>\n",
       "    </tr>\n",
       "    <tr>\n",
       "      <th>4</th>\n",
       "      <td>ANTIGUA AND BARBUDA</td>\n",
       "      <td>2019</td>\n",
       "      <td>54.4</td>\n",
       "      <td>729000.0</td>\n",
       "      <td>2019</td>\n",
       "      <td>CENTRAL AMERICA AND THE CARIBBEAN</td>\n",
       "      <td>0.00</td>\n",
       "      <td>2018</td>\n",
       "    </tr>\n",
       "    <tr>\n",
       "      <th>...</th>\n",
       "      <td>...</td>\n",
       "      <td>...</td>\n",
       "      <td>...</td>\n",
       "      <td>...</td>\n",
       "      <td>...</td>\n",
       "      <td>...</td>\n",
       "      <td>...</td>\n",
       "      <td>...</td>\n",
       "    </tr>\n",
       "    <tr>\n",
       "      <th>167</th>\n",
       "      <td>UZBEKISTAN</td>\n",
       "      <td>2019</td>\n",
       "      <td>75.7</td>\n",
       "      <td>102965000.0</td>\n",
       "      <td>2019</td>\n",
       "      <td>CENTRAL ASIA</td>\n",
       "      <td>0.00</td>\n",
       "      <td>2018</td>\n",
       "    </tr>\n",
       "    <tr>\n",
       "      <th>168</th>\n",
       "      <td>VIETNAM</td>\n",
       "      <td>2019</td>\n",
       "      <td>66.1</td>\n",
       "      <td>249929000.0</td>\n",
       "      <td>2019</td>\n",
       "      <td>EAST AND SOUTHEAST ASIA</td>\n",
       "      <td>1.49</td>\n",
       "      <td>2018</td>\n",
       "    </tr>\n",
       "    <tr>\n",
       "      <th>169</th>\n",
       "      <td>YEMEN</td>\n",
       "      <td>2019</td>\n",
       "      <td>113.5</td>\n",
       "      <td>10158000.0</td>\n",
       "      <td>2019</td>\n",
       "      <td>MIDDLE EAST</td>\n",
       "      <td>0.04</td>\n",
       "      <td>2018</td>\n",
       "    </tr>\n",
       "    <tr>\n",
       "      <th>170</th>\n",
       "      <td>ZAMBIA</td>\n",
       "      <td>2019</td>\n",
       "      <td>85.7</td>\n",
       "      <td>6798000.0</td>\n",
       "      <td>2019</td>\n",
       "      <td>AFRICA</td>\n",
       "      <td>4.45</td>\n",
       "      <td>2018</td>\n",
       "    </tr>\n",
       "    <tr>\n",
       "      <th>171</th>\n",
       "      <td>ZIMBABWE</td>\n",
       "      <td>2019</td>\n",
       "      <td>99.5</td>\n",
       "      <td>7902000.0</td>\n",
       "      <td>2019</td>\n",
       "      <td>AFRICA</td>\n",
       "      <td>1.61</td>\n",
       "      <td>2018</td>\n",
       "    </tr>\n",
       "  </tbody>\n",
       "</table>\n",
       "<p>172 rows × 8 columns</p>\n",
       "</div>"
      ],
      "text/plain": [
       "                 Country  Year  Total          co2  co2_date  \\\n",
       "0            AFGHANISTAN  2019  105.0    7893000.0      2019   \n",
       "1                ALBANIA  2019   58.9    3794000.0      2019   \n",
       "2                ALGERIA  2019   75.4  151633000.0      2019   \n",
       "3                 ANGOLA  2019   87.8   19362000.0      2019   \n",
       "4    ANTIGUA AND BARBUDA  2019   54.4     729000.0      2019   \n",
       "..                   ...   ...    ...          ...       ...   \n",
       "167           UZBEKISTAN  2019   75.7  102965000.0      2019   \n",
       "168              VIETNAM  2019   66.1  249929000.0      2019   \n",
       "169                YEMEN  2019  113.5   10158000.0      2019   \n",
       "170               ZAMBIA  2019   85.7    6798000.0      2019   \n",
       "171             ZIMBABWE  2019   99.5    7902000.0      2019   \n",
       "\n",
       "                                region  ForestRev_gdp  ForestRev_date  \n",
       "0                           SOUTH ASIA           0.20            2018  \n",
       "1                               EUROPE           0.18            2018  \n",
       "2                               AFRICA           0.10            2018  \n",
       "3                               AFRICA           0.36            2018  \n",
       "4    CENTRAL AMERICA AND THE CARIBBEAN           0.00            2018  \n",
       "..                                 ...            ...             ...  \n",
       "167                       CENTRAL ASIA           0.00            2018  \n",
       "168            EAST AND SOUTHEAST ASIA           1.49            2018  \n",
       "169                        MIDDLE EAST           0.04            2018  \n",
       "170                             AFRICA           4.45            2018  \n",
       "171                             AFRICA           1.61            2018  \n",
       "\n",
       "[172 rows x 8 columns]"
      ]
     },
     "execution_count": 101,
     "metadata": {},
     "output_type": "execute_result"
    }
   ],
   "source": [
    "fragilecia=fragile2019.merge(cia) #merge on Country\n",
    "fragilecia"
   ]
  },
  {
   "cell_type": "code",
   "execution_count": 102,
   "metadata": {},
   "outputs": [
    {
     "name": "stdout",
     "output_type": "stream",
     "text": [
      "<class 'pandas.core.frame.DataFrame'>\n",
      "Int64Index: 172 entries, 0 to 171\n",
      "Data columns (total 8 columns):\n",
      " #   Column          Non-Null Count  Dtype  \n",
      "---  ------          --------------  -----  \n",
      " 0   Country         172 non-null    object \n",
      " 1   Year            172 non-null    object \n",
      " 2   Total           172 non-null    float64\n",
      " 3   co2             172 non-null    float64\n",
      " 4   co2_date        172 non-null    int64  \n",
      " 5   region          172 non-null    object \n",
      " 6   ForestRev_gdp   172 non-null    float64\n",
      " 7   ForestRev_date  172 non-null    int64  \n",
      "dtypes: float64(3), int64(2), object(3)\n",
      "memory usage: 12.1+ KB\n"
     ]
    }
   ],
   "source": [
    "#checking:\n",
    "fragilecia.info()"
   ]
  },
  {
   "cell_type": "markdown",
   "metadata": {},
   "source": [
    "Merging is a key process for producing analytics. So, it is always good to add some 'standard' information to avoid the need of fuzzy merging. See this data table\n"
   ]
  },
  {
   "cell_type": "code",
   "execution_count": 103,
   "metadata": {},
   "outputs": [
    {
     "data": {
      "text/html": [
       "<div>\n",
       "<style scoped>\n",
       "    .dataframe tbody tr th:only-of-type {\n",
       "        vertical-align: middle;\n",
       "    }\n",
       "\n",
       "    .dataframe tbody tr th {\n",
       "        vertical-align: top;\n",
       "    }\n",
       "\n",
       "    .dataframe thead th {\n",
       "        text-align: right;\n",
       "    }\n",
       "</style>\n",
       "<table border=\"1\" class=\"dataframe\">\n",
       "  <thead>\n",
       "    <tr style=\"text-align: right;\">\n",
       "      <th></th>\n",
       "      <th>Countryname</th>\n",
       "      <th>Officialstatename</th>\n",
       "      <th>InternetccTLD</th>\n",
       "      <th>iso2</th>\n",
       "      <th>iso3</th>\n",
       "    </tr>\n",
       "  </thead>\n",
       "  <tbody>\n",
       "    <tr>\n",
       "      <th>0</th>\n",
       "      <td>Afghanistan</td>\n",
       "      <td>The Islamic Republic of Afghanistan</td>\n",
       "      <td>.af</td>\n",
       "      <td>AF</td>\n",
       "      <td>AFG</td>\n",
       "    </tr>\n",
       "    <tr>\n",
       "      <th>1</th>\n",
       "      <td>Åland Islands</td>\n",
       "      <td>Åland</td>\n",
       "      <td>.ax</td>\n",
       "      <td>AX</td>\n",
       "      <td>ALA</td>\n",
       "    </tr>\n",
       "    <tr>\n",
       "      <th>2</th>\n",
       "      <td>Albania</td>\n",
       "      <td>The Republic of Albania</td>\n",
       "      <td>.al</td>\n",
       "      <td>AL</td>\n",
       "      <td>ALB</td>\n",
       "    </tr>\n",
       "    <tr>\n",
       "      <th>3</th>\n",
       "      <td>Algeria</td>\n",
       "      <td>The People's Democratic Republic of Algeria</td>\n",
       "      <td>.dz</td>\n",
       "      <td>DZ</td>\n",
       "      <td>DZA</td>\n",
       "    </tr>\n",
       "    <tr>\n",
       "      <th>4</th>\n",
       "      <td>American Samoa</td>\n",
       "      <td>The Territory of American Samoa</td>\n",
       "      <td>.as</td>\n",
       "      <td>AS</td>\n",
       "      <td>ASM</td>\n",
       "    </tr>\n",
       "  </tbody>\n",
       "</table>\n",
       "</div>"
      ],
      "text/plain": [
       "      Countryname                            Officialstatename InternetccTLD  \\\n",
       "0     Afghanistan          The Islamic Republic of Afghanistan           .af   \n",
       "1   Åland Islands                                        Åland           .ax   \n",
       "2         Albania                      The Republic of Albania           .al   \n",
       "3         Algeria  The People's Democratic Republic of Algeria           .dz   \n",
       "4  American Samoa              The Territory of American Samoa           .as   \n",
       "\n",
       "  iso2 iso3  \n",
       "0   AF  AFG  \n",
       "1   AX  ALA  \n",
       "2   AL  ALB  \n",
       "3   DZ  DZA  \n",
       "4   AS  ASM  "
      ]
     },
     "execution_count": 103,
     "metadata": {},
     "output_type": "execute_result"
    }
   ],
   "source": [
    "isoLink='https://github.com/CienciaDeDatosEspacial/dataSets/raw/main/isodata.csv'\n",
    "isoCodes=pd.read_csv(isoLink)\n",
    "isoCodes.head()"
   ]
  },
  {
   "cell_type": "markdown",
   "metadata": {},
   "source": [
    "We should add the **ISO** columns to our recent merged data frame:"
   ]
  },
  {
   "cell_type": "code",
   "execution_count": 104,
   "metadata": {},
   "outputs": [
    {
     "data": {
      "text/html": [
       "<div>\n",
       "<style scoped>\n",
       "    .dataframe tbody tr th:only-of-type {\n",
       "        vertical-align: middle;\n",
       "    }\n",
       "\n",
       "    .dataframe tbody tr th {\n",
       "        vertical-align: top;\n",
       "    }\n",
       "\n",
       "    .dataframe thead th {\n",
       "        text-align: right;\n",
       "    }\n",
       "</style>\n",
       "<table border=\"1\" class=\"dataframe\">\n",
       "  <thead>\n",
       "    <tr style=\"text-align: right;\">\n",
       "      <th></th>\n",
       "      <th>Countryname</th>\n",
       "      <th>Officialstatename</th>\n",
       "      <th>InternetccTLD</th>\n",
       "      <th>iso2</th>\n",
       "      <th>iso3</th>\n",
       "      <th>Country</th>\n",
       "      <th>Year</th>\n",
       "      <th>Total</th>\n",
       "      <th>co2</th>\n",
       "      <th>co2_date</th>\n",
       "      <th>region</th>\n",
       "      <th>ForestRev_gdp</th>\n",
       "      <th>ForestRev_date</th>\n",
       "    </tr>\n",
       "  </thead>\n",
       "  <tbody>\n",
       "    <tr>\n",
       "      <th>0</th>\n",
       "      <td>AFGHANISTAN</td>\n",
       "      <td>The Islamic Republic of Afghanistan</td>\n",
       "      <td>.af</td>\n",
       "      <td>AF</td>\n",
       "      <td>AFG</td>\n",
       "      <td>AFGHANISTAN</td>\n",
       "      <td>2019</td>\n",
       "      <td>105.0</td>\n",
       "      <td>7893000.0</td>\n",
       "      <td>2019</td>\n",
       "      <td>SOUTH ASIA</td>\n",
       "      <td>0.20</td>\n",
       "      <td>2018</td>\n",
       "    </tr>\n",
       "    <tr>\n",
       "      <th>1</th>\n",
       "      <td>ALBANIA</td>\n",
       "      <td>The Republic of Albania</td>\n",
       "      <td>.al</td>\n",
       "      <td>AL</td>\n",
       "      <td>ALB</td>\n",
       "      <td>ALBANIA</td>\n",
       "      <td>2019</td>\n",
       "      <td>58.9</td>\n",
       "      <td>3794000.0</td>\n",
       "      <td>2019</td>\n",
       "      <td>EUROPE</td>\n",
       "      <td>0.18</td>\n",
       "      <td>2018</td>\n",
       "    </tr>\n",
       "    <tr>\n",
       "      <th>2</th>\n",
       "      <td>ALGERIA</td>\n",
       "      <td>The People's Democratic Republic of Algeria</td>\n",
       "      <td>.dz</td>\n",
       "      <td>DZ</td>\n",
       "      <td>DZA</td>\n",
       "      <td>ALGERIA</td>\n",
       "      <td>2019</td>\n",
       "      <td>75.4</td>\n",
       "      <td>151633000.0</td>\n",
       "      <td>2019</td>\n",
       "      <td>AFRICA</td>\n",
       "      <td>0.10</td>\n",
       "      <td>2018</td>\n",
       "    </tr>\n",
       "    <tr>\n",
       "      <th>3</th>\n",
       "      <td>ANGOLA</td>\n",
       "      <td>The Republic of Angola</td>\n",
       "      <td>.ao</td>\n",
       "      <td>AO</td>\n",
       "      <td>AGO</td>\n",
       "      <td>ANGOLA</td>\n",
       "      <td>2019</td>\n",
       "      <td>87.8</td>\n",
       "      <td>19362000.0</td>\n",
       "      <td>2019</td>\n",
       "      <td>AFRICA</td>\n",
       "      <td>0.36</td>\n",
       "      <td>2018</td>\n",
       "    </tr>\n",
       "    <tr>\n",
       "      <th>4</th>\n",
       "      <td>ANTIGUA AND BARBUDA</td>\n",
       "      <td>Antigua and Barbuda</td>\n",
       "      <td>.ag</td>\n",
       "      <td>AG</td>\n",
       "      <td>ATG</td>\n",
       "      <td>ANTIGUA AND BARBUDA</td>\n",
       "      <td>2019</td>\n",
       "      <td>54.4</td>\n",
       "      <td>729000.0</td>\n",
       "      <td>2019</td>\n",
       "      <td>CENTRAL AMERICA AND THE CARIBBEAN</td>\n",
       "      <td>0.00</td>\n",
       "      <td>2018</td>\n",
       "    </tr>\n",
       "    <tr>\n",
       "      <th>...</th>\n",
       "      <td>...</td>\n",
       "      <td>...</td>\n",
       "      <td>...</td>\n",
       "      <td>...</td>\n",
       "      <td>...</td>\n",
       "      <td>...</td>\n",
       "      <td>...</td>\n",
       "      <td>...</td>\n",
       "      <td>...</td>\n",
       "      <td>...</td>\n",
       "      <td>...</td>\n",
       "      <td>...</td>\n",
       "      <td>...</td>\n",
       "    </tr>\n",
       "    <tr>\n",
       "      <th>141</th>\n",
       "      <td>URUGUAY</td>\n",
       "      <td>The Oriental Republic of Uruguay</td>\n",
       "      <td>.uy</td>\n",
       "      <td>UY</td>\n",
       "      <td>URY</td>\n",
       "      <td>URUGUAY</td>\n",
       "      <td>2019</td>\n",
       "      <td>34.0</td>\n",
       "      <td>6450000.0</td>\n",
       "      <td>2019</td>\n",
       "      <td>SOUTH AMERICA</td>\n",
       "      <td>1.56</td>\n",
       "      <td>2018</td>\n",
       "    </tr>\n",
       "    <tr>\n",
       "      <th>142</th>\n",
       "      <td>UZBEKISTAN</td>\n",
       "      <td>The Republic of Uzbekistan</td>\n",
       "      <td>.uz</td>\n",
       "      <td>UZ</td>\n",
       "      <td>UZB</td>\n",
       "      <td>UZBEKISTAN</td>\n",
       "      <td>2019</td>\n",
       "      <td>75.7</td>\n",
       "      <td>102965000.0</td>\n",
       "      <td>2019</td>\n",
       "      <td>CENTRAL ASIA</td>\n",
       "      <td>0.00</td>\n",
       "      <td>2018</td>\n",
       "    </tr>\n",
       "    <tr>\n",
       "      <th>143</th>\n",
       "      <td>YEMEN</td>\n",
       "      <td>The Republic of Yemen</td>\n",
       "      <td>.ye</td>\n",
       "      <td>YE</td>\n",
       "      <td>YEM</td>\n",
       "      <td>YEMEN</td>\n",
       "      <td>2019</td>\n",
       "      <td>113.5</td>\n",
       "      <td>10158000.0</td>\n",
       "      <td>2019</td>\n",
       "      <td>MIDDLE EAST</td>\n",
       "      <td>0.04</td>\n",
       "      <td>2018</td>\n",
       "    </tr>\n",
       "    <tr>\n",
       "      <th>144</th>\n",
       "      <td>ZAMBIA</td>\n",
       "      <td>The Republic of Zambia</td>\n",
       "      <td>.zm</td>\n",
       "      <td>ZM</td>\n",
       "      <td>ZMB</td>\n",
       "      <td>ZAMBIA</td>\n",
       "      <td>2019</td>\n",
       "      <td>85.7</td>\n",
       "      <td>6798000.0</td>\n",
       "      <td>2019</td>\n",
       "      <td>AFRICA</td>\n",
       "      <td>4.45</td>\n",
       "      <td>2018</td>\n",
       "    </tr>\n",
       "    <tr>\n",
       "      <th>145</th>\n",
       "      <td>ZIMBABWE</td>\n",
       "      <td>The Republic of Zimbabwe</td>\n",
       "      <td>.zw</td>\n",
       "      <td>ZW</td>\n",
       "      <td>ZWE</td>\n",
       "      <td>ZIMBABWE</td>\n",
       "      <td>2019</td>\n",
       "      <td>99.5</td>\n",
       "      <td>7902000.0</td>\n",
       "      <td>2019</td>\n",
       "      <td>AFRICA</td>\n",
       "      <td>1.61</td>\n",
       "      <td>2018</td>\n",
       "    </tr>\n",
       "  </tbody>\n",
       "</table>\n",
       "<p>146 rows × 13 columns</p>\n",
       "</div>"
      ],
      "text/plain": [
       "             Countryname                            Officialstatename  \\\n",
       "0            AFGHANISTAN          The Islamic Republic of Afghanistan   \n",
       "1                ALBANIA                      The Republic of Albania   \n",
       "2                ALGERIA  The People's Democratic Republic of Algeria   \n",
       "3                 ANGOLA                       The Republic of Angola   \n",
       "4    ANTIGUA AND BARBUDA                          Antigua and Barbuda   \n",
       "..                   ...                                          ...   \n",
       "141              URUGUAY             The Oriental Republic of Uruguay   \n",
       "142           UZBEKISTAN                   The Republic of Uzbekistan   \n",
       "143                YEMEN                        The Republic of Yemen   \n",
       "144               ZAMBIA                       The Republic of Zambia   \n",
       "145             ZIMBABWE                     The Republic of Zimbabwe   \n",
       "\n",
       "    InternetccTLD iso2 iso3              Country  Year  Total          co2  \\\n",
       "0             .af   AF  AFG          AFGHANISTAN  2019  105.0    7893000.0   \n",
       "1             .al   AL  ALB              ALBANIA  2019   58.9    3794000.0   \n",
       "2             .dz   DZ  DZA              ALGERIA  2019   75.4  151633000.0   \n",
       "3             .ao   AO  AGO               ANGOLA  2019   87.8   19362000.0   \n",
       "4             .ag   AG  ATG  ANTIGUA AND BARBUDA  2019   54.4     729000.0   \n",
       "..            ...  ...  ...                  ...   ...    ...          ...   \n",
       "141           .uy   UY  URY              URUGUAY  2019   34.0    6450000.0   \n",
       "142           .uz   UZ  UZB           UZBEKISTAN  2019   75.7  102965000.0   \n",
       "143           .ye   YE  YEM                YEMEN  2019  113.5   10158000.0   \n",
       "144           .zm   ZM  ZMB               ZAMBIA  2019   85.7    6798000.0   \n",
       "145           .zw   ZW  ZWE             ZIMBABWE  2019   99.5    7902000.0   \n",
       "\n",
       "     co2_date                             region  ForestRev_gdp  \\\n",
       "0        2019                         SOUTH ASIA           0.20   \n",
       "1        2019                             EUROPE           0.18   \n",
       "2        2019                             AFRICA           0.10   \n",
       "3        2019                             AFRICA           0.36   \n",
       "4        2019  CENTRAL AMERICA AND THE CARIBBEAN           0.00   \n",
       "..        ...                                ...            ...   \n",
       "141      2019                      SOUTH AMERICA           1.56   \n",
       "142      2019                       CENTRAL ASIA           0.00   \n",
       "143      2019                        MIDDLE EAST           0.04   \n",
       "144      2019                             AFRICA           4.45   \n",
       "145      2019                             AFRICA           1.61   \n",
       "\n",
       "     ForestRev_date  \n",
       "0              2018  \n",
       "1              2018  \n",
       "2              2018  \n",
       "3              2018  \n",
       "4              2018  \n",
       "..              ...  \n",
       "141            2018  \n",
       "142            2018  \n",
       "143            2018  \n",
       "144            2018  \n",
       "145            2018  \n",
       "\n",
       "[146 rows x 13 columns]"
      ]
     },
     "execution_count": 104,
     "metadata": {},
     "output_type": "execute_result"
    }
   ],
   "source": [
    "# key columns are not spelled the same:\n",
    "isoCodes.Countryname=isoCodes.Countryname.str.upper()\n",
    "isoCodes.merge(fragilecia,left_on='Countryname',right_on='Country')"
   ]
  },
  {
   "cell_type": "markdown",
   "metadata": {},
   "source": [
    "We have lost several countries, then we redo the fuzzy merge:"
   ]
  },
  {
   "cell_type": "markdown",
   "metadata": {},
   "source": [
    "Let;s find this time **ALL** the matches:"
   ]
  },
  {
   "cell_type": "code",
   "execution_count": 108,
   "metadata": {},
   "outputs": [
    {
     "data": {
      "text/plain": [
       "[('BAHAMAS, THE', ('BAHAMAS (THE)', 100)),\n",
       " ('BOLIVIA', ('BOLIVIA (PLURINATIONAL STATE OF)', 90)),\n",
       " ('BRUNEI', ('BRUNEI DARUSSALAM', 90)),\n",
       " ('CENTRAL AFRICAN REPUBLIC', ('CENTRAL AFRICAN REPUBLIC (THE)', 95)),\n",
       " ('COMOROS', ('COMOROS (THE)', 90)),\n",
       " ('CONGO, DEMOCRATIC REPUBLIC OF THE',\n",
       "  ('CONGO (THE DEMOCRATIC REPUBLIC OF THE)', 95)),\n",
       " ('CONGO, REPUBLIC OF THE', ('CONGO (THE DEMOCRATIC REPUBLIC OF THE)', 86)),\n",
       " (\"COTE D'IVOIRE\", (\"CÔTE D'IVOIRE\", 96)),\n",
       " ('DOMINICAN REPUBLIC', ('DOMINICAN REPUBLIC (THE)', 95)),\n",
       " ('GAMBIA, THE', ('GAMBIA (THE)', 100)),\n",
       " ('IRAN', ('IRAN (ISLAMIC REPUBLIC OF)', 90)),\n",
       " ('KOREA, SOUTH', ('SOUTH GEORGIA AND THE SOUTH SANDWICH ISLANDS', 86)),\n",
       " ('LAOS', ('ANGUILLA', 60)),\n",
       " ('MICRONESIA, FEDERATED STATES OF',\n",
       "  ('MICRONESIA (FEDERATED STATES OF)', 100)),\n",
       " ('MOLDOVA', ('MOLDOVA (THE REPUBLIC OF)', 90)),\n",
       " ('NETHERLANDS', ('NETHERLANDS (THE)', 95)),\n",
       " ('NIGER', ('NIGER (THE)', 90)),\n",
       " ('PHILIPPINES', ('PHILIPPINES (THE)', 95)),\n",
       " ('RUSSIA', ('RUSSIAN FEDERATION (THE)', 90)),\n",
       " ('SUDAN', ('SUDAN (THE)', 90)),\n",
       " ('TANZANIA', ('TANZANIA, THE UNITED REPUBLIC OF', 90)),\n",
       " ('TURKEY (TURKIYE)', ('TURKEY', 90)),\n",
       " ('UNITED ARAB EMIRATES', ('UNITED ARAB EMIRATES (THE)', 95)),\n",
       " ('UNITED KINGDOM',\n",
       "  ('UNITED KINGDOM OF GREAT BRITAIN AND NORTHERN IRELAND (THE)', 90)),\n",
       " ('UNITED STATES', ('UNITED STATES OF AMERICA (THE)', 90)),\n",
       " ('VIETNAM', ('VIET NAM', 93))]"
      ]
     },
     "execution_count": 108,
     "metadata": {},
     "output_type": "execute_result"
    }
   ],
   "source": [
    "onlyFrcia=set(fragilecia.Country)-set(isoCodes.Countryname)\n",
    "onlyISO=set(isoCodes.Countryname)-set(fragilecia.Country)\n",
    "\n",
    "[(f,fz.extractOne(f, onlyISO)) for f in sorted(onlyFrcia)]"
   ]
  },
  {
   "cell_type": "code",
   "execution_count": 111,
   "metadata": {},
   "outputs": [
    {
     "data": {
      "text/plain": [
       "{'BAHAMAS, THE': 'BAHAMAS (THE)',\n",
       " 'BOLIVIA': 'BOLIVIA (PLURINATIONAL STATE OF)',\n",
       " 'BRUNEI': 'BRUNEI DARUSSALAM',\n",
       " 'CENTRAL AFRICAN REPUBLIC': 'CENTRAL AFRICAN REPUBLIC (THE)',\n",
       " 'COMOROS': 'COMOROS (THE)',\n",
       " 'CONGO, DEMOCRATIC REPUBLIC OF THE': 'CONGO (THE DEMOCRATIC REPUBLIC OF THE)',\n",
       " \"COTE D'IVOIRE\": \"CÔTE D'IVOIRE\",\n",
       " 'DOMINICAN REPUBLIC': 'DOMINICAN REPUBLIC (THE)',\n",
       " 'GAMBIA, THE': 'GAMBIA (THE)',\n",
       " 'IRAN': 'IRAN (ISLAMIC REPUBLIC OF)',\n",
       " 'MICRONESIA, FEDERATED STATES OF': 'MICRONESIA (FEDERATED STATES OF)',\n",
       " 'MOLDOVA': 'MOLDOVA (THE REPUBLIC OF)',\n",
       " 'NETHERLANDS': 'NETHERLANDS (THE)',\n",
       " 'NIGER': 'NIGER (THE)',\n",
       " 'PHILIPPINES': 'PHILIPPINES (THE)',\n",
       " 'RUSSIA': 'RUSSIAN FEDERATION (THE)',\n",
       " 'SUDAN': 'SUDAN (THE)',\n",
       " 'TANZANIA': 'TANZANIA, THE UNITED REPUBLIC OF',\n",
       " 'TURKEY (TURKIYE)': 'TURKEY',\n",
       " 'UNITED ARAB EMIRATES': 'UNITED ARAB EMIRATES (THE)',\n",
       " 'UNITED KINGDOM': 'UNITED KINGDOM OF GREAT BRITAIN AND NORTHERN IRELAND (THE)',\n",
       " 'UNITED STATES': 'UNITED STATES OF AMERICA (THE)',\n",
       " 'VIETNAM': 'VIET NAM'}"
      ]
     },
     "execution_count": 111,
     "metadata": {},
     "output_type": "execute_result"
    }
   ],
   "source": [
    "changesFrcia1={f:fz.extractOne(f, onlyISO)[0] \n",
    "                 for f in sorted(onlyFrcia)\n",
    "                 if fz.extractOne(f, onlyISO)[1] >=87}\n",
    "#dict of matches\n",
    "changesFrcia1"
   ]
  },
  {
   "cell_type": "markdown",
   "metadata": {},
   "source": [
    "Let's make the changes:\n"
   ]
  },
  {
   "cell_type": "code",
   "execution_count": 112,
   "metadata": {},
   "outputs": [],
   "source": [
    "# make changes\n",
    "fragilecia.Country.replace(to_replace=changesFrcia1,inplace=True)"
   ]
  },
  {
   "cell_type": "code",
   "execution_count": 113,
   "metadata": {},
   "outputs": [
    {
     "data": {
      "text/plain": [
       "[('CONGO, REPUBLIC OF THE', ('HOLY SEE (THE)', 86)),\n",
       " ('KOREA, SOUTH', ('SOUTH GEORGIA AND THE SOUTH SANDWICH ISLANDS', 86)),\n",
       " ('LAOS', ('ANGUILLA', 60))]"
      ]
     },
     "execution_count": 113,
     "metadata": {},
     "output_type": "execute_result"
    }
   ],
   "source": [
    "onlyFrcia=set(fragilecia.Country)-set(isoCodes.Countryname)\n",
    "onlyISO=set(isoCodes.Countryname)-set(fragilecia.Country)\n",
    "\n",
    "[(f,fz.extractOne(f, onlyISO)) for f in sorted(onlyFrcia)]"
   ]
  },
  {
   "cell_type": "code",
   "execution_count": 114,
   "metadata": {},
   "outputs": [
    {
     "data": {
      "text/plain": [
       "[('CONGO, REPUBLIC OF THE',\n",
       "  [('HOLY SEE (THE)', 86),\n",
       "   ('UNITED STATES MINOR OUTLYING ISLANDS (THE)', 86),\n",
       "   ('CONGO (THE)', 86),\n",
       "   ('SOUTH GEORGIA AND THE SOUTH SANDWICH ISLANDS', 86),\n",
       "   ('ISLE OF MAN', 86)]),\n",
       " ('KOREA, SOUTH',\n",
       "  [('SOUTH GEORGIA AND THE SOUTH SANDWICH ISLANDS', 86),\n",
       "   ('KOREA (THE REPUBLIC OF)', 86),\n",
       "   (\"KOREA (THE DEMOCRATIC PEOPLE'S REPUBLIC OF)\", 86),\n",
       "   ('SOUTH AFRICA', 66),\n",
       "   ('FRENCH SOUTHERN TERRITORIES (THE)', 62)]),\n",
       " ('LAOS',\n",
       "  [('ANGUILLA', 60),\n",
       "   ('CURAÇAO', 51),\n",
       "   ('MONACO', 51),\n",
       "   ('TOKELAU', 51),\n",
       "   ('ÅLAND ISLANDS', 45)])]"
      ]
     },
     "execution_count": 114,
     "metadata": {},
     "output_type": "execute_result"
    }
   ],
   "source": [
    "onlyFrcia=set(fragilecia.Country)-set(isoCodes.Countryname)\n",
    "onlyISO=set(isoCodes.Countryname)-set(fragilecia.Country)\n",
    "\n",
    "[(f,fz.extract(f, onlyISO)) for f in sorted(onlyFrcia)]"
   ]
  },
  {
   "cell_type": "code",
   "execution_count": 117,
   "metadata": {},
   "outputs": [
    {
     "data": {
      "text/html": [
       "<div>\n",
       "<style scoped>\n",
       "    .dataframe tbody tr th:only-of-type {\n",
       "        vertical-align: middle;\n",
       "    }\n",
       "\n",
       "    .dataframe tbody tr th {\n",
       "        vertical-align: top;\n",
       "    }\n",
       "\n",
       "    .dataframe thead th {\n",
       "        text-align: right;\n",
       "    }\n",
       "</style>\n",
       "<table border=\"1\" class=\"dataframe\">\n",
       "  <thead>\n",
       "    <tr style=\"text-align: right;\">\n",
       "      <th></th>\n",
       "      <th>Countryname</th>\n",
       "      <th>Officialstatename</th>\n",
       "      <th>InternetccTLD</th>\n",
       "      <th>iso2</th>\n",
       "      <th>iso3</th>\n",
       "    </tr>\n",
       "  </thead>\n",
       "  <tbody>\n",
       "    <tr>\n",
       "      <th>122</th>\n",
       "      <td>LAO PEOPLE'S DEMOCRATIC REPUBLIC (THE)</td>\n",
       "      <td>The Lao People's Democratic Republic</td>\n",
       "      <td>.la</td>\n",
       "      <td>LA</td>\n",
       "      <td>LAO</td>\n",
       "    </tr>\n",
       "  </tbody>\n",
       "</table>\n",
       "</div>"
      ],
      "text/plain": [
       "                                Countryname  \\\n",
       "122  LAO PEOPLE'S DEMOCRATIC REPUBLIC (THE)   \n",
       "\n",
       "                        Officialstatename InternetccTLD iso2 iso3  \n",
       "122  The Lao People's Democratic Republic           .la   LA  LAO  "
      ]
     },
     "execution_count": 117,
     "metadata": {},
     "output_type": "execute_result"
    }
   ],
   "source": [
    "isoCodes.loc[isoCodes.Countryname.str.contains('LAO')]"
   ]
  },
  {
   "cell_type": "code",
   "execution_count": 119,
   "metadata": {},
   "outputs": [],
   "source": [
    "lastChanges={'CONGO, REPUBLIC OF THE':'CONGO (THE)',\n",
    " 'KOREA, SOUTH':'KOREA (THE REPUBLIC OF)',\n",
    "'LAOS':\"LAO PEOPLE'S DEMOCRATIC REPUBLIC (THE)\"}\n",
    "\n",
    "fragilecia.Country.replace(to_replace=lastChanges,inplace=True)"
   ]
  },
  {
   "cell_type": "markdown",
   "metadata": {},
   "source": [
    "Then,"
   ]
  },
  {
   "cell_type": "code",
   "execution_count": 176,
   "metadata": {},
   "outputs": [
    {
     "data": {
      "text/html": [
       "<div>\n",
       "<style scoped>\n",
       "    .dataframe tbody tr th:only-of-type {\n",
       "        vertical-align: middle;\n",
       "    }\n",
       "\n",
       "    .dataframe tbody tr th {\n",
       "        vertical-align: top;\n",
       "    }\n",
       "\n",
       "    .dataframe thead th {\n",
       "        text-align: right;\n",
       "    }\n",
       "</style>\n",
       "<table border=\"1\" class=\"dataframe\">\n",
       "  <thead>\n",
       "    <tr style=\"text-align: right;\">\n",
       "      <th></th>\n",
       "      <th>Countryname</th>\n",
       "      <th>Officialstatename</th>\n",
       "      <th>InternetccTLD</th>\n",
       "      <th>iso2</th>\n",
       "      <th>iso3</th>\n",
       "      <th>Country</th>\n",
       "      <th>Year</th>\n",
       "      <th>Total</th>\n",
       "      <th>co2</th>\n",
       "      <th>co2_date</th>\n",
       "      <th>region</th>\n",
       "      <th>ForestRev_gdp</th>\n",
       "      <th>ForestRev_date</th>\n",
       "    </tr>\n",
       "  </thead>\n",
       "  <tbody>\n",
       "    <tr>\n",
       "      <th>0</th>\n",
       "      <td>AFGHANISTAN</td>\n",
       "      <td>The Islamic Republic of Afghanistan</td>\n",
       "      <td>.af</td>\n",
       "      <td>AF</td>\n",
       "      <td>AFG</td>\n",
       "      <td>AFGHANISTAN</td>\n",
       "      <td>2019</td>\n",
       "      <td>105.0</td>\n",
       "      <td>7893000.0</td>\n",
       "      <td>2019</td>\n",
       "      <td>SOUTH ASIA</td>\n",
       "      <td>0.20</td>\n",
       "      <td>2018</td>\n",
       "    </tr>\n",
       "    <tr>\n",
       "      <th>1</th>\n",
       "      <td>ALBANIA</td>\n",
       "      <td>The Republic of Albania</td>\n",
       "      <td>.al</td>\n",
       "      <td>AL</td>\n",
       "      <td>ALB</td>\n",
       "      <td>ALBANIA</td>\n",
       "      <td>2019</td>\n",
       "      <td>58.9</td>\n",
       "      <td>3794000.0</td>\n",
       "      <td>2019</td>\n",
       "      <td>EUROPE</td>\n",
       "      <td>0.18</td>\n",
       "      <td>2018</td>\n",
       "    </tr>\n",
       "    <tr>\n",
       "      <th>2</th>\n",
       "      <td>ALGERIA</td>\n",
       "      <td>The People's Democratic Republic of Algeria</td>\n",
       "      <td>.dz</td>\n",
       "      <td>DZ</td>\n",
       "      <td>DZA</td>\n",
       "      <td>ALGERIA</td>\n",
       "      <td>2019</td>\n",
       "      <td>75.4</td>\n",
       "      <td>151633000.0</td>\n",
       "      <td>2019</td>\n",
       "      <td>AFRICA</td>\n",
       "      <td>0.10</td>\n",
       "      <td>2018</td>\n",
       "    </tr>\n",
       "    <tr>\n",
       "      <th>3</th>\n",
       "      <td>ANGOLA</td>\n",
       "      <td>The Republic of Angola</td>\n",
       "      <td>.ao</td>\n",
       "      <td>AO</td>\n",
       "      <td>AGO</td>\n",
       "      <td>ANGOLA</td>\n",
       "      <td>2019</td>\n",
       "      <td>87.8</td>\n",
       "      <td>19362000.0</td>\n",
       "      <td>2019</td>\n",
       "      <td>AFRICA</td>\n",
       "      <td>0.36</td>\n",
       "      <td>2018</td>\n",
       "    </tr>\n",
       "    <tr>\n",
       "      <th>4</th>\n",
       "      <td>ANTIGUA AND BARBUDA</td>\n",
       "      <td>Antigua and Barbuda</td>\n",
       "      <td>.ag</td>\n",
       "      <td>AG</td>\n",
       "      <td>ATG</td>\n",
       "      <td>ANTIGUA AND BARBUDA</td>\n",
       "      <td>2019</td>\n",
       "      <td>54.4</td>\n",
       "      <td>729000.0</td>\n",
       "      <td>2019</td>\n",
       "      <td>CENTRAL AMERICA AND THE CARIBBEAN</td>\n",
       "      <td>0.00</td>\n",
       "      <td>2018</td>\n",
       "    </tr>\n",
       "  </tbody>\n",
       "</table>\n",
       "</div>"
      ],
      "text/plain": [
       "           Countryname                            Officialstatename  \\\n",
       "0          AFGHANISTAN          The Islamic Republic of Afghanistan   \n",
       "1              ALBANIA                      The Republic of Albania   \n",
       "2              ALGERIA  The People's Democratic Republic of Algeria   \n",
       "3               ANGOLA                       The Republic of Angola   \n",
       "4  ANTIGUA AND BARBUDA                          Antigua and Barbuda   \n",
       "\n",
       "  InternetccTLD iso2 iso3              Country  Year  Total          co2  \\\n",
       "0           .af   AF  AFG          AFGHANISTAN  2019  105.0    7893000.0   \n",
       "1           .al   AL  ALB              ALBANIA  2019   58.9    3794000.0   \n",
       "2           .dz   DZ  DZA              ALGERIA  2019   75.4  151633000.0   \n",
       "3           .ao   AO  AGO               ANGOLA  2019   87.8   19362000.0   \n",
       "4           .ag   AG  ATG  ANTIGUA AND BARBUDA  2019   54.4     729000.0   \n",
       "\n",
       "   co2_date                             region  ForestRev_gdp  ForestRev_date  \n",
       "0      2019                         SOUTH ASIA           0.20            2018  \n",
       "1      2019                             EUROPE           0.18            2018  \n",
       "2      2019                             AFRICA           0.10            2018  \n",
       "3      2019                             AFRICA           0.36            2018  \n",
       "4      2019  CENTRAL AMERICA AND THE CARIBBEAN           0.00            2018  "
      ]
     },
     "execution_count": 176,
     "metadata": {},
     "output_type": "execute_result"
    }
   ],
   "source": [
    "fragciaiso=isoCodes.merge(fragilecia,left_on='Countryname',right_on='Country')\n",
    "fragciaiso.head()"
   ]
  },
  {
   "cell_type": "code",
   "execution_count": 177,
   "metadata": {},
   "outputs": [
    {
     "data": {
      "text/html": [
       "<div>\n",
       "<style scoped>\n",
       "    .dataframe tbody tr th:only-of-type {\n",
       "        vertical-align: middle;\n",
       "    }\n",
       "\n",
       "    .dataframe tbody tr th {\n",
       "        vertical-align: top;\n",
       "    }\n",
       "\n",
       "    .dataframe thead th {\n",
       "        text-align: right;\n",
       "    }\n",
       "</style>\n",
       "<table border=\"1\" class=\"dataframe\">\n",
       "  <thead>\n",
       "    <tr style=\"text-align: right;\">\n",
       "      <th></th>\n",
       "      <th>Contry</th>\n",
       "      <th>Officialstatename</th>\n",
       "      <th>InternetccTLD</th>\n",
       "      <th>iso2</th>\n",
       "      <th>iso3</th>\n",
       "      <th>fragility_date</th>\n",
       "      <th>fragility</th>\n",
       "      <th>co2</th>\n",
       "      <th>co2_date</th>\n",
       "      <th>region</th>\n",
       "      <th>ForestRev_gdp</th>\n",
       "      <th>ForestRev_date</th>\n",
       "    </tr>\n",
       "  </thead>\n",
       "  <tbody>\n",
       "    <tr>\n",
       "      <th>0</th>\n",
       "      <td>AFGHANISTAN</td>\n",
       "      <td>The Islamic Republic of Afghanistan</td>\n",
       "      <td>.af</td>\n",
       "      <td>AF</td>\n",
       "      <td>AFG</td>\n",
       "      <td>2019</td>\n",
       "      <td>105.0</td>\n",
       "      <td>7893000.0</td>\n",
       "      <td>2019</td>\n",
       "      <td>SOUTH ASIA</td>\n",
       "      <td>0.20</td>\n",
       "      <td>2018</td>\n",
       "    </tr>\n",
       "    <tr>\n",
       "      <th>1</th>\n",
       "      <td>ALBANIA</td>\n",
       "      <td>The Republic of Albania</td>\n",
       "      <td>.al</td>\n",
       "      <td>AL</td>\n",
       "      <td>ALB</td>\n",
       "      <td>2019</td>\n",
       "      <td>58.9</td>\n",
       "      <td>3794000.0</td>\n",
       "      <td>2019</td>\n",
       "      <td>EUROPE</td>\n",
       "      <td>0.18</td>\n",
       "      <td>2018</td>\n",
       "    </tr>\n",
       "    <tr>\n",
       "      <th>2</th>\n",
       "      <td>ALGERIA</td>\n",
       "      <td>The People's Democratic Republic of Algeria</td>\n",
       "      <td>.dz</td>\n",
       "      <td>DZ</td>\n",
       "      <td>DZA</td>\n",
       "      <td>2019</td>\n",
       "      <td>75.4</td>\n",
       "      <td>151633000.0</td>\n",
       "      <td>2019</td>\n",
       "      <td>AFRICA</td>\n",
       "      <td>0.10</td>\n",
       "      <td>2018</td>\n",
       "    </tr>\n",
       "    <tr>\n",
       "      <th>3</th>\n",
       "      <td>ANGOLA</td>\n",
       "      <td>The Republic of Angola</td>\n",
       "      <td>.ao</td>\n",
       "      <td>AO</td>\n",
       "      <td>AGO</td>\n",
       "      <td>2019</td>\n",
       "      <td>87.8</td>\n",
       "      <td>19362000.0</td>\n",
       "      <td>2019</td>\n",
       "      <td>AFRICA</td>\n",
       "      <td>0.36</td>\n",
       "      <td>2018</td>\n",
       "    </tr>\n",
       "    <tr>\n",
       "      <th>4</th>\n",
       "      <td>ANTIGUA AND BARBUDA</td>\n",
       "      <td>Antigua and Barbuda</td>\n",
       "      <td>.ag</td>\n",
       "      <td>AG</td>\n",
       "      <td>ATG</td>\n",
       "      <td>2019</td>\n",
       "      <td>54.4</td>\n",
       "      <td>729000.0</td>\n",
       "      <td>2019</td>\n",
       "      <td>CENTRAL AMERICA AND THE CARIBBEAN</td>\n",
       "      <td>0.00</td>\n",
       "      <td>2018</td>\n",
       "    </tr>\n",
       "    <tr>\n",
       "      <th>...</th>\n",
       "      <td>...</td>\n",
       "      <td>...</td>\n",
       "      <td>...</td>\n",
       "      <td>...</td>\n",
       "      <td>...</td>\n",
       "      <td>...</td>\n",
       "      <td>...</td>\n",
       "      <td>...</td>\n",
       "      <td>...</td>\n",
       "      <td>...</td>\n",
       "      <td>...</td>\n",
       "      <td>...</td>\n",
       "    </tr>\n",
       "    <tr>\n",
       "      <th>167</th>\n",
       "      <td>UZBEKISTAN</td>\n",
       "      <td>The Republic of Uzbekistan</td>\n",
       "      <td>.uz</td>\n",
       "      <td>UZ</td>\n",
       "      <td>UZB</td>\n",
       "      <td>2019</td>\n",
       "      <td>75.7</td>\n",
       "      <td>102965000.0</td>\n",
       "      <td>2019</td>\n",
       "      <td>CENTRAL ASIA</td>\n",
       "      <td>0.00</td>\n",
       "      <td>2018</td>\n",
       "    </tr>\n",
       "    <tr>\n",
       "      <th>168</th>\n",
       "      <td>VIET NAM</td>\n",
       "      <td>The Socialist Republic of Viet Nam</td>\n",
       "      <td>.vn</td>\n",
       "      <td>VN</td>\n",
       "      <td>VNM</td>\n",
       "      <td>2019</td>\n",
       "      <td>66.1</td>\n",
       "      <td>249929000.0</td>\n",
       "      <td>2019</td>\n",
       "      <td>EAST AND SOUTHEAST ASIA</td>\n",
       "      <td>1.49</td>\n",
       "      <td>2018</td>\n",
       "    </tr>\n",
       "    <tr>\n",
       "      <th>169</th>\n",
       "      <td>YEMEN</td>\n",
       "      <td>The Republic of Yemen</td>\n",
       "      <td>.ye</td>\n",
       "      <td>YE</td>\n",
       "      <td>YEM</td>\n",
       "      <td>2019</td>\n",
       "      <td>113.5</td>\n",
       "      <td>10158000.0</td>\n",
       "      <td>2019</td>\n",
       "      <td>MIDDLE EAST</td>\n",
       "      <td>0.04</td>\n",
       "      <td>2018</td>\n",
       "    </tr>\n",
       "    <tr>\n",
       "      <th>170</th>\n",
       "      <td>ZAMBIA</td>\n",
       "      <td>The Republic of Zambia</td>\n",
       "      <td>.zm</td>\n",
       "      <td>ZM</td>\n",
       "      <td>ZMB</td>\n",
       "      <td>2019</td>\n",
       "      <td>85.7</td>\n",
       "      <td>6798000.0</td>\n",
       "      <td>2019</td>\n",
       "      <td>AFRICA</td>\n",
       "      <td>4.45</td>\n",
       "      <td>2018</td>\n",
       "    </tr>\n",
       "    <tr>\n",
       "      <th>171</th>\n",
       "      <td>ZIMBABWE</td>\n",
       "      <td>The Republic of Zimbabwe</td>\n",
       "      <td>.zw</td>\n",
       "      <td>ZW</td>\n",
       "      <td>ZWE</td>\n",
       "      <td>2019</td>\n",
       "      <td>99.5</td>\n",
       "      <td>7902000.0</td>\n",
       "      <td>2019</td>\n",
       "      <td>AFRICA</td>\n",
       "      <td>1.61</td>\n",
       "      <td>2018</td>\n",
       "    </tr>\n",
       "  </tbody>\n",
       "</table>\n",
       "<p>172 rows × 12 columns</p>\n",
       "</div>"
      ],
      "text/plain": [
       "                  Contry                            Officialstatename  \\\n",
       "0            AFGHANISTAN          The Islamic Republic of Afghanistan   \n",
       "1                ALBANIA                      The Republic of Albania   \n",
       "2                ALGERIA  The People's Democratic Republic of Algeria   \n",
       "3                 ANGOLA                       The Republic of Angola   \n",
       "4    ANTIGUA AND BARBUDA                          Antigua and Barbuda   \n",
       "..                   ...                                          ...   \n",
       "167           UZBEKISTAN                   The Republic of Uzbekistan   \n",
       "168             VIET NAM           The Socialist Republic of Viet Nam   \n",
       "169                YEMEN                        The Republic of Yemen   \n",
       "170               ZAMBIA                       The Republic of Zambia   \n",
       "171             ZIMBABWE                     The Republic of Zimbabwe   \n",
       "\n",
       "    InternetccTLD iso2 iso3 fragility_date  fragility          co2  co2_date  \\\n",
       "0             .af   AF  AFG           2019      105.0    7893000.0      2019   \n",
       "1             .al   AL  ALB           2019       58.9    3794000.0      2019   \n",
       "2             .dz   DZ  DZA           2019       75.4  151633000.0      2019   \n",
       "3             .ao   AO  AGO           2019       87.8   19362000.0      2019   \n",
       "4             .ag   AG  ATG           2019       54.4     729000.0      2019   \n",
       "..            ...  ...  ...            ...        ...          ...       ...   \n",
       "167           .uz   UZ  UZB           2019       75.7  102965000.0      2019   \n",
       "168           .vn   VN  VNM           2019       66.1  249929000.0      2019   \n",
       "169           .ye   YE  YEM           2019      113.5   10158000.0      2019   \n",
       "170           .zm   ZM  ZMB           2019       85.7    6798000.0      2019   \n",
       "171           .zw   ZW  ZWE           2019       99.5    7902000.0      2019   \n",
       "\n",
       "                                region  ForestRev_gdp  ForestRev_date  \n",
       "0                           SOUTH ASIA           0.20            2018  \n",
       "1                               EUROPE           0.18            2018  \n",
       "2                               AFRICA           0.10            2018  \n",
       "3                               AFRICA           0.36            2018  \n",
       "4    CENTRAL AMERICA AND THE CARIBBEAN           0.00            2018  \n",
       "..                                 ...            ...             ...  \n",
       "167                       CENTRAL ASIA           0.00            2018  \n",
       "168            EAST AND SOUTHEAST ASIA           1.49            2018  \n",
       "169                        MIDDLE EAST           0.04            2018  \n",
       "170                             AFRICA           4.45            2018  \n",
       "171                             AFRICA           1.61            2018  \n",
       "\n",
       "[172 rows x 12 columns]"
      ]
     },
     "execution_count": 177,
     "metadata": {},
     "output_type": "execute_result"
    }
   ],
   "source": [
    "fragciaiso.drop(columns=['Country'],inplace=True)\n",
    "fragciaiso.rename(columns={'Countryname':\"Contry\",'Year':'fragility_date','Total':'fragility'},inplace=True)\n",
    "fragciaiso"
   ]
  },
  {
   "cell_type": "markdown",
   "metadata": {},
   "source": [
    "[Home](#home)\n",
    "\n",
    "\n",
    "______\n",
    "\n",
    "<a id='scaling'></a>\n",
    "\n",
    "\n",
    "# Data Scaling"
   ]
  },
  {
   "cell_type": "markdown",
   "metadata": {},
   "source": [
    "It all look great so far. However, once you think you have the data ready, you should see the data ranges:"
   ]
  },
  {
   "cell_type": "code",
   "execution_count": 178,
   "metadata": {},
   "outputs": [
    {
     "data": {
      "text/html": [
       "<div>\n",
       "<style scoped>\n",
       "    .dataframe tbody tr th:only-of-type {\n",
       "        vertical-align: middle;\n",
       "    }\n",
       "\n",
       "    .dataframe tbody tr th {\n",
       "        vertical-align: top;\n",
       "    }\n",
       "\n",
       "    .dataframe thead th {\n",
       "        text-align: right;\n",
       "    }\n",
       "</style>\n",
       "<table border=\"1\" class=\"dataframe\">\n",
       "  <thead>\n",
       "    <tr style=\"text-align: right;\">\n",
       "      <th></th>\n",
       "      <th>Contry</th>\n",
       "      <th>Officialstatename</th>\n",
       "      <th>InternetccTLD</th>\n",
       "      <th>iso2</th>\n",
       "      <th>iso3</th>\n",
       "      <th>fragility_date</th>\n",
       "      <th>fragility</th>\n",
       "      <th>co2</th>\n",
       "      <th>co2_date</th>\n",
       "      <th>region</th>\n",
       "      <th>ForestRev_gdp</th>\n",
       "      <th>ForestRev_date</th>\n",
       "    </tr>\n",
       "  </thead>\n",
       "  <tbody>\n",
       "    <tr>\n",
       "      <th>count</th>\n",
       "      <td>172</td>\n",
       "      <td>172</td>\n",
       "      <td>172</td>\n",
       "      <td>171</td>\n",
       "      <td>172</td>\n",
       "      <td>172.0</td>\n",
       "      <td>172.000000</td>\n",
       "      <td>1.720000e+02</td>\n",
       "      <td>172.0</td>\n",
       "      <td>172</td>\n",
       "      <td>172.000000</td>\n",
       "      <td>172.000000</td>\n",
       "    </tr>\n",
       "    <tr>\n",
       "      <th>unique</th>\n",
       "      <td>172</td>\n",
       "      <td>172</td>\n",
       "      <td>172</td>\n",
       "      <td>171</td>\n",
       "      <td>172</td>\n",
       "      <td>1.0</td>\n",
       "      <td>NaN</td>\n",
       "      <td>NaN</td>\n",
       "      <td>NaN</td>\n",
       "      <td>10</td>\n",
       "      <td>NaN</td>\n",
       "      <td>NaN</td>\n",
       "    </tr>\n",
       "    <tr>\n",
       "      <th>top</th>\n",
       "      <td>AFGHANISTAN</td>\n",
       "      <td>The Islamic Republic of Afghanistan</td>\n",
       "      <td>.af</td>\n",
       "      <td>AF</td>\n",
       "      <td>AFG</td>\n",
       "      <td>2019.0</td>\n",
       "      <td>NaN</td>\n",
       "      <td>NaN</td>\n",
       "      <td>NaN</td>\n",
       "      <td>AFRICA</td>\n",
       "      <td>NaN</td>\n",
       "      <td>NaN</td>\n",
       "    </tr>\n",
       "    <tr>\n",
       "      <th>freq</th>\n",
       "      <td>1</td>\n",
       "      <td>1</td>\n",
       "      <td>1</td>\n",
       "      <td>1</td>\n",
       "      <td>1</td>\n",
       "      <td>172.0</td>\n",
       "      <td>NaN</td>\n",
       "      <td>NaN</td>\n",
       "      <td>NaN</td>\n",
       "      <td>51</td>\n",
       "      <td>NaN</td>\n",
       "      <td>NaN</td>\n",
       "    </tr>\n",
       "    <tr>\n",
       "      <th>mean</th>\n",
       "      <td>NaN</td>\n",
       "      <td>NaN</td>\n",
       "      <td>NaN</td>\n",
       "      <td>NaN</td>\n",
       "      <td>NaN</td>\n",
       "      <td>NaN</td>\n",
       "      <td>66.266279</td>\n",
       "      <td>2.004102e+08</td>\n",
       "      <td>2019.0</td>\n",
       "      <td>NaN</td>\n",
       "      <td>1.324477</td>\n",
       "      <td>2017.959302</td>\n",
       "    </tr>\n",
       "    <tr>\n",
       "      <th>std</th>\n",
       "      <td>NaN</td>\n",
       "      <td>NaN</td>\n",
       "      <td>NaN</td>\n",
       "      <td>NaN</td>\n",
       "      <td>NaN</td>\n",
       "      <td>NaN</td>\n",
       "      <td>23.779649</td>\n",
       "      <td>9.373311e+08</td>\n",
       "      <td>0.0</td>\n",
       "      <td>NaN</td>\n",
       "      <td>2.610627</td>\n",
       "      <td>0.293348</td>\n",
       "    </tr>\n",
       "    <tr>\n",
       "      <th>min</th>\n",
       "      <td>NaN</td>\n",
       "      <td>NaN</td>\n",
       "      <td>NaN</td>\n",
       "      <td>NaN</td>\n",
       "      <td>NaN</td>\n",
       "      <td>NaN</td>\n",
       "      <td>16.900000</td>\n",
       "      <td>1.730000e+05</td>\n",
       "      <td>2019.0</td>\n",
       "      <td>NaN</td>\n",
       "      <td>0.000000</td>\n",
       "      <td>2015.000000</td>\n",
       "    </tr>\n",
       "    <tr>\n",
       "      <th>25%</th>\n",
       "      <td>NaN</td>\n",
       "      <td>NaN</td>\n",
       "      <td>NaN</td>\n",
       "      <td>NaN</td>\n",
       "      <td>NaN</td>\n",
       "      <td>NaN</td>\n",
       "      <td>48.600000</td>\n",
       "      <td>4.387500e+06</td>\n",
       "      <td>2019.0</td>\n",
       "      <td>NaN</td>\n",
       "      <td>0.040000</td>\n",
       "      <td>2018.000000</td>\n",
       "    </tr>\n",
       "    <tr>\n",
       "      <th>50%</th>\n",
       "      <td>NaN</td>\n",
       "      <td>NaN</td>\n",
       "      <td>NaN</td>\n",
       "      <td>NaN</td>\n",
       "      <td>NaN</td>\n",
       "      <td>NaN</td>\n",
       "      <td>70.450000</td>\n",
       "      <td>1.661500e+07</td>\n",
       "      <td>2019.0</td>\n",
       "      <td>NaN</td>\n",
       "      <td>0.245000</td>\n",
       "      <td>2018.000000</td>\n",
       "    </tr>\n",
       "    <tr>\n",
       "      <th>75%</th>\n",
       "      <td>NaN</td>\n",
       "      <td>NaN</td>\n",
       "      <td>NaN</td>\n",
       "      <td>NaN</td>\n",
       "      <td>NaN</td>\n",
       "      <td>NaN</td>\n",
       "      <td>83.450000</td>\n",
       "      <td>8.283850e+07</td>\n",
       "      <td>2019.0</td>\n",
       "      <td>NaN</td>\n",
       "      <td>1.482500</td>\n",
       "      <td>2018.000000</td>\n",
       "    </tr>\n",
       "    <tr>\n",
       "      <th>max</th>\n",
       "      <td>NaN</td>\n",
       "      <td>NaN</td>\n",
       "      <td>NaN</td>\n",
       "      <td>NaN</td>\n",
       "      <td>NaN</td>\n",
       "      <td>NaN</td>\n",
       "      <td>113.500000</td>\n",
       "      <td>1.077325e+10</td>\n",
       "      <td>2019.0</td>\n",
       "      <td>NaN</td>\n",
       "      <td>20.270000</td>\n",
       "      <td>2018.000000</td>\n",
       "    </tr>\n",
       "  </tbody>\n",
       "</table>\n",
       "</div>"
      ],
      "text/plain": [
       "             Contry                    Officialstatename InternetccTLD iso2  \\\n",
       "count           172                                  172           172  171   \n",
       "unique          172                                  172           172  171   \n",
       "top     AFGHANISTAN  The Islamic Republic of Afghanistan           .af   AF   \n",
       "freq              1                                    1             1    1   \n",
       "mean            NaN                                  NaN           NaN  NaN   \n",
       "std             NaN                                  NaN           NaN  NaN   \n",
       "min             NaN                                  NaN           NaN  NaN   \n",
       "25%             NaN                                  NaN           NaN  NaN   \n",
       "50%             NaN                                  NaN           NaN  NaN   \n",
       "75%             NaN                                  NaN           NaN  NaN   \n",
       "max             NaN                                  NaN           NaN  NaN   \n",
       "\n",
       "       iso3  fragility_date   fragility           co2  co2_date  region  \\\n",
       "count   172           172.0  172.000000  1.720000e+02     172.0     172   \n",
       "unique  172             1.0         NaN           NaN       NaN      10   \n",
       "top     AFG          2019.0         NaN           NaN       NaN  AFRICA   \n",
       "freq      1           172.0         NaN           NaN       NaN      51   \n",
       "mean    NaN             NaN   66.266279  2.004102e+08    2019.0     NaN   \n",
       "std     NaN             NaN   23.779649  9.373311e+08       0.0     NaN   \n",
       "min     NaN             NaN   16.900000  1.730000e+05    2019.0     NaN   \n",
       "25%     NaN             NaN   48.600000  4.387500e+06    2019.0     NaN   \n",
       "50%     NaN             NaN   70.450000  1.661500e+07    2019.0     NaN   \n",
       "75%     NaN             NaN   83.450000  8.283850e+07    2019.0     NaN   \n",
       "max     NaN             NaN  113.500000  1.077325e+10    2019.0     NaN   \n",
       "\n",
       "        ForestRev_gdp  ForestRev_date  \n",
       "count      172.000000      172.000000  \n",
       "unique            NaN             NaN  \n",
       "top               NaN             NaN  \n",
       "freq              NaN             NaN  \n",
       "mean         1.324477     2017.959302  \n",
       "std          2.610627        0.293348  \n",
       "min          0.000000     2015.000000  \n",
       "25%          0.040000     2018.000000  \n",
       "50%          0.245000     2018.000000  \n",
       "75%          1.482500     2018.000000  \n",
       "max         20.270000     2018.000000  "
      ]
     },
     "execution_count": 178,
     "metadata": {},
     "output_type": "execute_result"
    }
   ],
   "source": [
    "fragciaiso.describe(include='all')"
   ]
  },
  {
   "cell_type": "markdown",
   "metadata": {},
   "source": [
    "The **describe** will only show numerical stats by default, so you need the parameter _include_ set to *all*. However, for our case, we should just request the range:"
   ]
  },
  {
   "cell_type": "code",
   "execution_count": 179,
   "metadata": {},
   "outputs": [
    {
     "data": {
      "text/html": [
       "<div>\n",
       "<style scoped>\n",
       "    .dataframe tbody tr th:only-of-type {\n",
       "        vertical-align: middle;\n",
       "    }\n",
       "\n",
       "    .dataframe tbody tr th {\n",
       "        vertical-align: top;\n",
       "    }\n",
       "\n",
       "    .dataframe thead th {\n",
       "        text-align: right;\n",
       "    }\n",
       "</style>\n",
       "<table border=\"1\" class=\"dataframe\">\n",
       "  <thead>\n",
       "    <tr style=\"text-align: right;\">\n",
       "      <th></th>\n",
       "      <th>min</th>\n",
       "      <th>max</th>\n",
       "    </tr>\n",
       "  </thead>\n",
       "  <tbody>\n",
       "    <tr>\n",
       "      <th>fragility</th>\n",
       "      <td>16.9</td>\n",
       "      <td>1.135000e+02</td>\n",
       "    </tr>\n",
       "    <tr>\n",
       "      <th>co2</th>\n",
       "      <td>173000.0</td>\n",
       "      <td>1.077325e+10</td>\n",
       "    </tr>\n",
       "    <tr>\n",
       "      <th>co2_date</th>\n",
       "      <td>2019.0</td>\n",
       "      <td>2.019000e+03</td>\n",
       "    </tr>\n",
       "    <tr>\n",
       "      <th>ForestRev_gdp</th>\n",
       "      <td>0.0</td>\n",
       "      <td>2.027000e+01</td>\n",
       "    </tr>\n",
       "    <tr>\n",
       "      <th>ForestRev_date</th>\n",
       "      <td>2015.0</td>\n",
       "      <td>2.018000e+03</td>\n",
       "    </tr>\n",
       "  </tbody>\n",
       "</table>\n",
       "</div>"
      ],
      "text/plain": [
       "                     min           max\n",
       "fragility           16.9  1.135000e+02\n",
       "co2             173000.0  1.077325e+10\n",
       "co2_date          2019.0  2.019000e+03\n",
       "ForestRev_gdp        0.0  2.027000e+01\n",
       "ForestRev_date    2015.0  2.018000e+03"
      ]
     },
     "execution_count": 179,
     "metadata": {},
     "output_type": "execute_result"
    }
   ],
   "source": [
    "fragciaiso.describe().loc[['min','max']].T # notice the transposing:"
   ]
  },
  {
   "cell_type": "markdown",
   "metadata": {},
   "source": [
    "A boxplot may also be helpful:"
   ]
  },
  {
   "cell_type": "code",
   "execution_count": 180,
   "metadata": {},
   "outputs": [
    {
     "data": {
      "image/png": "[encoded data removed]",
      "text/plain": [
       "<Figure size 640x480 with 1 Axes>"
      ]
     },
     "metadata": {},
     "output_type": "display_data"
    }
   ],
   "source": [
    "import matplotlib.pyplot as plt\n",
    "\n",
    "fragciaiso.plot(kind='box', rot=90)\n",
    "plt.semilogy();"
   ]
  },
  {
   "cell_type": "markdown",
   "metadata": {},
   "source": [
    "As you see above, the ranges are very different (except the years). Let's make sure all relevant numeric columns share the same range:"
   ]
  },
  {
   "cell_type": "code",
   "execution_count": 181,
   "metadata": {},
   "outputs": [
    {
     "data": {
      "text/plain": [
       "array([[9.12008282e+00, 7.16601342e-03, 9.86679822e-02],\n",
       "       [4.34782609e+00, 3.36115733e-03, 8.88011840e-02],\n",
       "       [6.05590062e+00, 1.40591243e-01, 4.93339911e-02],\n",
       "       [7.33954451e+00, 1.78119989e-02, 1.77602368e-01],\n",
       "       [3.88198758e+00, 5.16101484e-04, 0.00000000e+00],\n",
       "       [3.01242236e+00, 1.79180039e-01, 4.44005920e-02],\n",
       "       [5.15527950e+00, 5.73745193e-03, 1.38135175e-01],\n",
       "       [2.89855072e-01, 3.87723097e-01, 6.41341885e-02],\n",
       "       [8.38509317e-01, 6.06762693e-02, 3.45337938e-02],\n",
       "       [5.82815735e+00, 3.26889027e-02, 9.86679822e-03],\n",
       "       [3.30227743e+00, 3.53752294e-03, 4.93339911e-03],\n",
       "       [4.85507246e+00, 3.98577008e-02, 0.00000000e+00],\n",
       "       [7.32919255e+00, 8.91175454e-02, 3.94671929e-02],\n",
       "       [3.21946170e+00, 1.42020732e-03, 4.93339911e-03],\n",
       "       [5.31055901e+00, 5.06095056e-02, 5.03206709e-01],\n",
       "       [1.21118012e+00, 1.18883420e-01, 9.86679822e-03],\n",
       "       [4.72049689e+00, 3.41592349e-04, 1.52935372e-01],\n",
       "       [5.86956522e+00, 6.24705574e-03, 1.10508140e+00],\n",
       "       [5.70393375e+00, 7.06390701e-04, 9.32412432e-01],\n",
       "       [5.79710145e+00, 1.63490925e-02, 1.62802171e-01],\n",
       "       [5.63146998e+00, 1.48852579e-02, 2.41736556e-01],\n",
       "       [4.40993789e+00, 5.37636654e-03, 1.13468180e-01],\n",
       "       [5.68322981e+00, 4.23738812e-01, 3.05870745e-01],\n",
       "       [4.20289855e+00, 9.08097270e-03, 2.46669956e-02],\n",
       "       [3.48861284e+00, 3.54587711e-02, 1.08534780e-01],\n",
       "       [6.93581781e+00, 3.96451338e-03, 2.23976320e+00],\n",
       "       [8.41614907e+00, 5.03106123e-04, 5.08633448e+00],\n",
       "       [5.14492754e+00, 7.69511026e-04, 1.87469166e-01],\n",
       "       [6.79089027e+00, 1.26899701e-02, 4.14405525e-01],\n",
       "       [8.29192547e+00, 6.43456023e-03, 1.23334978e+00],\n",
       "       [3.20910973e-01, 5.68000316e-01, 3.94671929e-02],\n",
       "       [9.52380952e+00, 1.03962889e-04, 4.43512580e+00],\n",
       "       [9.48240166e+00, 1.48332765e-03, 1.87962506e+00],\n",
       "       [2.27743271e+00, 8.18336455e-02, 2.41736556e-01],\n",
       "       [5.61076605e+00, 1.00000000e+01, 3.94671929e-02],\n",
       "       [6.08695652e+00, 7.50333586e-02, 4.93339911e-02],\n",
       "       [6.70807453e+00, 1.42020732e-04, 6.85742477e-01],\n",
       "       [9.65838509e+00, 2.30203540e-03, 4.30192403e+00],\n",
       "       [7.82608696e+00, 4.03784435e-03, 1.56388752e+00],\n",
       "       [2.59834369e+00, 7.37208272e-03, 4.04538727e-01],\n",
       "       [7.78467909e+00, 1.08669066e-02, 1.00641342e+00],\n",
       "       [3.16770186e+00, 1.53892923e-02, 1.28268377e-01],\n",
       "       [4.54451346e+00, 1.51349545e-02, 2.96003947e-02],\n",
       "       [4.23395445e+00, 7.28761287e-03, 0.00000000e+00],\n",
       "       [2.14285714e+00, 9.22299344e-02, 8.38677849e-02],\n",
       "       [2.69151139e-01, 3.12603412e-02, 9.86679822e-03],\n",
       "       [7.06004141e+00, 4.05640915e-04, 1.28268377e-01],\n",
       "       [5.10351967e+00, 2.47236745e-02, 1.48001973e-02],\n",
       "       [5.62111801e+00, 3.33033976e-02, 1.33201776e-01],\n",
       "       [7.40165631e+00, 2.18103002e-01, 7.40009867e-02],\n",
       "       [5.47619048e+00, 6.92374276e-03, 2.96003947e-01],\n",
       "       [6.80124224e+00, 4.04248555e-03, 7.49876665e-01],\n",
       "       [2.47412008e+00, 4.41006862e-03, 4.19338925e-01],\n",
       "       [7.08074534e+00, 9.75580324e-04, 1.11001480e+00],\n",
       "       [8.00207039e+00, 1.54319913e-02, 2.86630488e+00],\n",
       "       [5.67287785e+00, 1.40906844e-03, 2.91070548e-01],\n",
       "       [0.00000000e+00, 3.88217849e-02, 1.77602368e-01],\n",
       "       [1.56314700e+00, 3.13979064e-01, 1.48001973e-02],\n",
       "       [5.54865424e+00, 2.30017892e-03, 1.28268377e+00],\n",
       "       [6.93581781e+00, 4.01927955e-04, 1.21854958e+00],\n",
       "       [5.70393375e+00, 9.39935905e-03, 3.45337938e-02],\n",
       "       [8.07453416e-01, 6.74559492e-01, 1.48001973e-02],\n",
       "       [5.07246377e+00, 1.66340622e-02, 1.73162309e+00],\n",
       "       [3.83022774e+00, 6.49675232e-02, 4.93339911e-03],\n",
       "       [4.21325052e+00, 1.32738331e-04, 0.00000000e+00],\n",
       "       [6.67701863e+00, 1.75140338e-02, 3.84805131e-01],\n",
       "       [8.54037267e+00, 2.60649814e-03, 2.37296497e+00],\n",
       "       [8.13664596e+00, 1.56872574e-04, 4.55846078e+00],\n",
       "       [5.31055901e+00, 2.38557701e-03, 2.24963000e+00],\n",
       "       [8.53002070e+00, 2.75316008e-03, 3.35471140e-01],\n",
       "       [6.30434783e+00, 7.75080467e-03, 4.48939319e-01],\n",
       "       [3.38509317e+00, 4.49416717e-02, 4.93339911e-02],\n",
       "       [3.00207039e-01, 2.93695161e-03, 0.00000000e+00],\n",
       "       [5.95238095e+00, 2.14847200e+00, 6.90675876e-02],\n",
       "       [5.53830228e+00, 5.22942614e-01, 1.92402565e-01],\n",
       "       [6.84265010e+00, 5.99517779e-01, 4.93339911e-03],\n",
       "       [8.50931677e+00, 1.33022373e-01, 0.00000000e+00],\n",
       "       [3.83022774e-01, 3.27687313e-02, 4.93339911e-03],\n",
       "       [6.16977226e+00, 5.65474574e-02, 0.00000000e+00],\n",
       "       [2.78467909e+00, 3.08053179e-01, 4.93339911e-03],\n",
       "       [4.58592133e+00, 9.12367175e-03, 7.40009867e-02],\n",
       "       [1.80124224e+00, 1.02390543e+00, 9.86679822e-03],\n",
       "       [6.10766046e+00, 2.16252091e-02, 9.86679822e-03],\n",
       "       [4.62732919e+00, 2.44606113e-01, 0.00000000e+00],\n",
       "       [7.92960663e+00, 1.62776180e-02, 6.41341885e-01],\n",
       "       [1.73913043e+00, 6.37497650e-01, 4.93339911e-03],\n",
       "       [3.75776398e+00, 8.57777376e-02, 0.00000000e+00],\n",
       "       [6.13871636e+00, 7.15394630e-03, 4.93339911e-03],\n",
       "       [6.39751553e+00, 3.76429200e-02, 7.30143069e-01],\n",
       "       [2.79503106e+00, 7.68304314e-03, 4.19338925e-01],\n",
       "       [7.04968944e+00, 2.38232817e-02, 0.00000000e+00],\n",
       "       [6.50103520e+00, 5.22599165e-04, 1.64775530e+00],\n",
       "       [7.58799172e+00, 1.08882561e-03, 6.54662062e+00],\n",
       "       [7.79503106e+00, 3.53882248e-02, 2.96003947e-02],\n",
       "       [2.19461698e+00, 1.33016803e-02, 1.52935372e-01],\n",
       "       [3.62318841e-01, 1.03359533e-02, 4.93339911e-03],\n",
       "       [4.93788820e+00, 6.69261098e-03, 7.40009867e-02],\n",
       "       [6.62525880e+00, 3.75473112e-03, 2.14109521e+00],\n",
       "       [6.87370600e+00, 1.27076067e-03, 3.05377405e+00],\n",
       "       [4.51345756e+00, 2.36321570e-01, 7.74543661e-01],\n",
       "       [5.47619048e+00, 1.96137129e-03, 0.00000000e+00],\n",
       "       [8.03312629e+00, 5.11088988e-03, 9.96546621e-01],\n",
       "       [1.82194617e+00, 8.72824147e-03, 0.00000000e+00],\n",
       "       [7.57763975e+00, 3.59043263e-03, 6.41341885e-01],\n",
       "       [2.27743271e+00, 6.51438888e-03, 0.00000000e+00],\n",
       "       [5.46583851e+00, 4.30300541e-01, 4.93339911e-02],\n",
       "       [5.80745342e+00, 3.71296032e-06, 9.86679822e-03],\n",
       "       [5.19668737e+00, 7.37115448e-03, 1.28268377e-01],\n",
       "       [3.85093168e+00, 2.09475939e-02, 6.90675876e-02],\n",
       "       [3.97515528e+00, 2.11081794e-03, 2.12136162e-01],\n",
       "       [5.80745342e+00, 5.57194673e-02, 6.41341885e-02],\n",
       "       [7.43271222e+00, 7.03605981e-03, 3.18697583e+00],\n",
       "       [8.01242236e+00, 2.94020045e-02, 8.33744450e-01],\n",
       "       [5.12422360e+00, 3.39550221e-03, 2.31869758e-01],\n",
       "       [7.01863354e+00, 6.99428900e-03, 2.22002960e-01],\n",
       "       [8.17805383e-01, 1.98868939e-01, 4.93339911e-03],\n",
       "       [3.31262940e-01, 3.72883323e-02, 2.46669956e-01],\n",
       "       [6.33540373e+00, 4.34230709e-03, 6.21608288e-01],\n",
       "       [8.20910973e+00, 2.04305642e-03, 2.17562901e+00],\n",
       "       [8.44720497e+00, 9.68349334e-02, 5.03206709e-01],\n",
       "       [1.13871636e-01, 3.39346008e-02, 2.46669956e-02],\n",
       "       [3.42650104e+00, 7.06836256e-02, 0.00000000e+00],\n",
       "       [8.00207039e+00, 1.79796391e-01, 4.93339911e-02],\n",
       "       [3.11594203e+00, 2.32895436e-02, 3.94671929e-02],\n",
       "       [6.85300207e+00, 5.86462083e-03, 1.02614702e+00],\n",
       "       [5.18633540e+00, 7.16879814e-03, 5.96941293e-01],\n",
       "       [5.31055901e+00, 5.08889059e-02, 5.92007893e-02],\n",
       "       [6.85300207e+00, 1.31911270e-01, 8.88011840e-02],\n",
       "       [2.68115942e+00, 2.82061528e-01, 8.38677849e-02],\n",
       "       [8.69565217e-01, 4.65948673e-02, 6.41341885e-02],\n",
       "       [2.95031056e+00, 1.03729901e-01, 0.00000000e+00],\n",
       "       [3.19875776e+00, 6.36522070e-02, 7.89343858e-02],\n",
       "       [5.98343685e+00, 1.71529206e+00, 1.43068574e-01],\n",
       "       [7.30848861e+00, 9.43091921e-04, 1.85002467e+00],\n",
       "       [4.89648033e+00, 1.68939695e-04, 1.33201776e-01],\n",
       "       [5.61076605e+00, 0.00000000e+00, 9.37345831e-01],\n",
       "       [5.53830228e+00, 5.38149043e-01, 0.00000000e+00],\n",
       "       [6.24223602e+00, 9.76787036e-03, 7.20276270e-01],\n",
       "       [5.28985507e+00, 4.41489547e-02, 1.87469166e-01],\n",
       "       [3.96480331e+00, 9.12459999e-04, 4.44005920e-02],\n",
       "       [7.23602484e+00, 6.73902298e-04, 3.41391219e+00],\n",
       "       [1.15942029e+00, 2.21673014e-01, 0.00000000e+00],\n",
       "       [2.44306418e+00, 3.00127865e-02, 1.08534780e-01],\n",
       "       [1.14906832e+00, 1.24198523e-02, 9.86679822e-02],\n",
       "       [6.72877847e+00, 1.48518413e-04, 1.00000000e+01],\n",
       "       [9.86542443e+00, 1.48982533e-03, 1.30735076e+00],\n",
       "       [2.46376812e+00, 2.60325859e-01, 9.86679822e-03],\n",
       "       [6.94616977e+00, 2.20605537e-02, 2.96003947e-02],\n",
       "       [9.43064182e+00, 1.59156044e-02, 1.48495313e+00],\n",
       "       [4.65838509e+00, 2.04119994e-03, 1.16428219e+00],\n",
       "       [3.51966874e-01, 4.45286049e-02, 1.03601381e-01],\n",
       "       [1.86335404e-01, 3.57985069e-02, 4.93339911e-03],\n",
       "       [6.29399586e+00, 6.93395340e-03, 5.52540701e-01],\n",
       "       [6.54244306e+00, 1.05058212e-02, 1.08041441e+00],\n",
       "       [5.81780538e+00, 2.83206048e-01, 1.67735570e-01],\n",
       "       [7.10144928e+00, 3.38807629e-04, 6.41341885e-02],\n",
       "       [7.29813665e+00, 1.92238521e-03, 1.95362605e+00],\n",
       "       [3.73706004e+00, 3.66459901e-02, 2.46669956e-02],\n",
       "       [5.50724638e+00, 2.18312784e-02, 1.03601381e-01],\n",
       "       [6.56314700e+00, 3.63516452e-01, 3.94671929e-02],\n",
       "       [5.64182195e+00, 1.01051928e-01, 0.00000000e+00],\n",
       "       [8.11594203e+00, 5.26126477e-03, 3.61124815e+00],\n",
       "       [5.60041408e+00, 1.72200602e-01, 1.67735570e-01],\n",
       "       [2.40165631e+00, 2.56252741e-01, 0.00000000e+00],\n",
       "       [2.04968944e+00, 3.69356938e-01, 4.93339911e-03],\n",
       "       [2.18426501e+00, 4.77504148e+00, 1.97335964e-02],\n",
       "       [1.77018634e+00, 5.82656298e-03, 7.69610261e-01],\n",
       "       [6.08695652e+00, 9.54156543e-02, 0.00000000e+00],\n",
       "       [5.09316770e+00, 2.31833529e-01, 7.35076468e-01],\n",
       "       [1.00000000e+01, 9.26847720e-03, 1.97335964e-02],\n",
       "       [7.12215321e+00, 6.14959053e-03, 2.19536260e+00],\n",
       "       [8.55072464e+00, 7.17436758e-03, 7.94277257e-01]])"
      ]
     },
     "execution_count": 181,
     "metadata": {},
     "output_type": "execute_result"
    }
   ],
   "source": [
    "columnsToScale=['fragility','co2','ForestRev_gdp'] # you can add more columns\n",
    "\n",
    "from sklearn import preprocessing\n",
    "\n",
    "# prepare the process\n",
    "minmaxSc = preprocessing.MinMaxScaler(feature_range=(0, 10))# default is 0,1\n",
    "\n",
    "# apply process\n",
    "minmaxResult = minmaxSc.fit_transform(fragciaiso[columnsToScale])\n",
    "\n",
    "# result\n",
    "minmaxResult"
   ]
  },
  {
   "cell_type": "code",
   "execution_count": 182,
   "metadata": {},
   "outputs": [
    {
     "data": {
      "text/plain": [
       "array([[ 1.63361586e+00, -2.05988397e-01, -4.31988061e-01],\n",
       "       [-3.10676848e-01, -2.10374220e-01, -4.39671422e-01],\n",
       "       [ 3.85219675e-01, -5.21903614e-02, -4.70404868e-01],\n",
       "       [ 9.08196456e-01, -1.93716867e-01, -3.70521170e-01],\n",
       "       [-5.00466809e-01, -2.13653689e-01, -5.08821675e-01],\n",
       "       [-8.54741403e-01, -7.70941014e-03, -4.74246549e-01],\n",
       "       [ 1.82924174e-02, -2.07635087e-01, -4.01254615e-01],\n",
       "       [-1.96395829e+00,  2.32676256e-01, -4.58879826e-01],\n",
       "       [-1.74042789e+00, -1.44307617e-01, -4.81929910e-01],\n",
       "       [ 2.92433472e-01, -1.76568397e-01, -5.01138313e-01],\n",
       "       [-7.36649871e-01, -2.10170925e-01, -5.04979994e-01],\n",
       "       [-1.04016668e-01, -1.68304989e-01, -5.08821675e-01],\n",
       "       [ 9.03978902e-01, -1.11523619e-01, -4.78088229e-01],\n",
       "       [-7.70390309e-01, -2.12611535e-01, -5.04979994e-01],\n",
       "       [ 8.15557377e-02, -1.55911483e-01, -1.16970243e-01],\n",
       "       [-1.58859592e+00, -7.72127690e-02, -5.01138313e-01],\n",
       "       [-1.58844879e-01, -2.13854845e-01, -3.89729573e-01],\n",
       "       [ 3.09303691e-01, -2.07047671e-01,  3.51714802e-01],\n",
       "       [ 2.41822816e-01, -2.13434345e-01,  2.17255978e-01],\n",
       "       [ 2.79780808e-01, -1.95403146e-01, -3.82046212e-01],\n",
       "       [ 2.12299933e-01, -1.97090495e-01, -3.20579320e-01],\n",
       "       [-2.85371520e-01, -2.08051307e-01, -4.20463019e-01],\n",
       "       [ 2.33387706e-01,  2.74191240e-01, -2.70637471e-01],\n",
       "       [-3.69722614e-01, -2.03781041e-01, -4.89613271e-01],\n",
       "       [-6.60733887e-01, -1.73375595e-01, -4.24304699e-01],\n",
       "       [ 7.43711823e-01, -2.09678737e-01,  1.23530136e+00],\n",
       "       [ 1.34682214e+00, -2.13668669e-01,  3.45195113e+00],\n",
       "       [ 1.40748627e-02, -2.13361587e-01, -3.62837808e-01],\n",
       "       [ 6.84666058e-01, -1.99620983e-01, -1.86120496e-01],\n",
       "       [ 1.29621149e+00, -2.06831536e-01,  4.51598501e-01],\n",
       "       [-1.95130562e+00,  4.40480150e-01, -4.78088229e-01],\n",
       "       [ 1.79810050e+00, -2.14128758e-01,  2.94484928e+00],\n",
       "       [ 1.78123028e+00, -2.12538777e-01,  9.54858673e-01],\n",
       "       [-1.15418779e+00, -1.19919704e-01, -3.20579320e-01],\n",
       "       [ 2.03864824e-01,  1.13126595e+01, -4.78088229e-01],\n",
       "       [ 3.97872339e-01, -1.27758332e-01, -4.70404868e-01],\n",
       "       [ 6.50925620e-01, -2.14084889e-01,  2.51719427e-02],\n",
       "       [ 1.85292871e+00, -2.11595060e-01,  2.84112390e+00],\n",
       "       [ 1.10642153e+00, -2.09594209e-01,  7.08991108e-01],\n",
       "       [-1.02344359e+00, -2.05750863e-01, -1.93803857e-01],\n",
       "       [ 1.08955131e+00, -2.01722411e-01,  2.74881188e-01],\n",
       "       [-7.91478082e-01, -1.96509499e-01, -4.08937977e-01],\n",
       "       [-2.30543309e-01, -1.96802672e-01, -4.85771591e-01],\n",
       "       [-3.57069950e-01, -2.05848231e-01, -5.08821675e-01],\n",
       "       [-1.20901600e+00, -1.07935997e-01, -4.43513103e-01],\n",
       "       [-1.97239339e+00, -1.78215087e-01, -5.01138313e-01],\n",
       "       [ 7.94322480e-01, -2.13781016e-01, -4.08937977e-01],\n",
       "       [-2.79535601e-03, -1.85749842e-01, -4.97296633e-01],\n",
       "       [ 2.08082378e-01, -1.75860074e-01, -4.05096296e-01],\n",
       "       [ 9.33501784e-01,  3.71567317e-02, -4.51196464e-01],\n",
       "       [ 1.49036613e-01, -2.06267660e-01, -2.78320833e-01],\n",
       "       [ 6.88883613e-01, -2.09588859e-01,  7.51137919e-02],\n",
       "       [-1.07405425e+00, -2.09165149e-01, -1.82278815e-01],\n",
       "       [ 8.02757589e-01, -2.13124052e-01,  3.55556483e-01],\n",
       "       [ 1.17811996e+00, -1.96460280e-01,  1.72319481e+00],\n",
       "       [ 2.29170152e-01, -2.12624375e-01, -2.82162513e-01],\n",
       "       [-2.08204982e+00, -1.69499080e-01, -3.70521170e-01],\n",
       "       [-1.44519906e+00,  1.47672187e-01, -4.97296633e-01],\n",
       "       [ 1.78559495e-01, -2.11597200e-01,  4.90015308e-01],\n",
       "       [ 7.43711823e-01, -2.13785296e-01,  4.40073459e-01],\n",
       "       [ 2.41822816e-01, -2.03414040e-01, -4.81929910e-01],\n",
       "       [-1.75308055e+00,  5.63309934e-01, -4.97296633e-01],\n",
       "       [-1.54480201e-02, -1.95074664e-01,  8.39608252e-01],\n",
       "       [-5.21554582e-01, -1.39361128e-01, -5.04979994e-01],\n",
       "       [-3.65505059e-01, -2.14095589e-01, -5.08821675e-01],\n",
       "       [ 6.38272956e-01, -1.94060329e-01, -2.09170580e-01],\n",
       "       [ 1.39743280e+00, -2.11244108e-01,  1.33902674e+00],\n",
       "       [ 1.23294817e+00, -2.14067769e-01,  3.04089129e+00],\n",
       "       [ 8.15557377e-02, -2.11498762e-01,  1.24298473e+00],\n",
       "       [ 1.39321525e+00, -2.11075053e-01, -2.47587387e-01],\n",
       "       [ 4.86440988e-01, -2.05314314e-01, -1.59228731e-01],\n",
       "       [-7.02909434e-01, -1.62444743e-01, -4.70404868e-01],\n",
       "       [-1.95974073e+00, -2.10863198e-01, -5.08821675e-01],\n",
       "       [ 3.43044128e-01,  2.26227534e+00, -4.55038145e-01],\n",
       "       [ 1.74341941e-01,  3.88542551e-01, -3.58996127e-01],\n",
       "       [ 7.05753831e-01,  4.76810041e-01, -5.04979994e-01],\n",
       "       [ 1.38478014e+00, -6.09149279e-02, -5.08821675e-01],\n",
       "       [-1.92600029e+00, -1.76476379e-01, -5.04979994e-01],\n",
       "       [ 4.31612777e-01, -1.49066860e-01, -5.08821675e-01],\n",
       "       [-9.47527606e-01,  1.40841474e-01, -5.04979994e-01],\n",
       "       [-2.13673090e-01, -2.03731822e-01, -4.51196464e-01],\n",
       "       [-1.34819530e+00,  9.65997787e-01, -5.01138313e-01],\n",
       "       [ 4.06307449e-01, -1.89321415e-01, -5.01138313e-01],\n",
       "       [-1.96802872e-01,  6.77066240e-02, -5.08821675e-01],\n",
       "       [ 1.14859707e+00, -1.95485534e-01, -9.40318358e-03],\n",
       "       [-1.37350063e+00,  5.20589089e-01, -5.04979994e-01],\n",
       "       [-5.51077465e-01, -1.15373385e-01, -5.08821675e-01],\n",
       "       [ 4.18960113e-01, -2.06002307e-01, -5.04979994e-01],\n",
       "       [ 5.24398980e-01, -1.70857947e-01,  5.97470691e-02],\n",
       "       [-9.43310051e-01, -2.05392422e-01, -1.82278815e-01],\n",
       "       [ 7.90104925e-01, -1.86787717e-01, -5.08821675e-01],\n",
       "       [ 5.66574527e-01, -2.13646200e-01,  7.74299680e-01],\n",
       "       [ 1.00941777e+00, -2.12993516e-01,  4.58908862e+00],\n",
       "       [ 1.09376886e+00, -1.73456913e-01, -4.85771591e-01],\n",
       "       [-1.18792822e+00, -1.98915870e-01, -3.89729573e-01],\n",
       "       [-1.93443540e+00, -2.02334437e-01, -5.04979994e-01],\n",
       "       [-7.02762310e-02, -2.06534084e-01, -4.51196464e-01],\n",
       "       [ 6.17185183e-01, -2.09920551e-01,  1.15846775e+00],\n",
       "       [ 7.18406495e-01, -2.12783801e-01,  1.86917868e+00],\n",
       "       [-2.43195973e-01,  5.81571077e-02,  9.43221954e-02],\n",
       "       [ 1.49036613e-01, -2.11987740e-01, -5.08821675e-01],\n",
       "       [ 1.19077262e+00, -2.08357319e-01,  2.67197827e-01],\n",
       "       [-1.33976019e+00, -2.04187631e-01, -5.08821675e-01],\n",
       "       [ 1.00520021e+00, -2.10109936e-01, -9.40318358e-03],\n",
       "       [-1.15418779e+00, -2.06739519e-01, -5.08821675e-01],\n",
       "       [ 1.44819058e-01,  2.81754885e-01, -4.70404868e-01],\n",
       "       [ 2.83998363e-01, -2.14244315e-01, -5.01138313e-01],\n",
       "       [ 3.51626362e-02, -2.05751933e-01, -4.08937977e-01],\n",
       "       [-5.13119473e-01, -1.90102496e-01, -4.55038145e-01],\n",
       "       [-4.62508817e-01, -2.11815474e-01, -3.43629405e-01],\n",
       "       [ 2.83998363e-01, -1.50021277e-01, -4.58879826e-01],\n",
       "       [ 9.46154448e-01, -2.06138193e-01,  1.97290406e+00],\n",
       "       [ 1.18233751e+00, -1.80357174e-01,  1.40422364e-01],\n",
       "       [ 5.63975336e-03, -2.10334631e-01, -3.28262682e-01],\n",
       "       [ 7.77452261e-01, -2.06186342e-01, -3.35946043e-01],\n",
       "       [-1.74886300e+00,  1.49858044e-02, -5.04979994e-01],\n",
       "       [-1.94708807e+00, -1.71266677e-01, -3.16737640e-01],\n",
       "       [ 4.99093652e-01, -2.09243257e-01, -2.47699064e-02],\n",
       "       [ 1.26247105e+00, -2.11893583e-01,  1.18535951e+00],\n",
       "       [ 1.35947481e+00, -1.02627857e-01, -1.16970243e-01],\n",
       "       [-2.03565671e+00, -1.75132492e-01, -4.89613271e-01],\n",
       "       [-6.86039215e-01, -1.32772229e-01, -5.08821675e-01],\n",
       "       [ 1.17811996e+00, -6.99894753e-03, -4.70404868e-01],\n",
       "       [-8.12565856e-01, -1.87402952e-01, -4.78088229e-01],\n",
       "       [ 7.09971386e-01, -2.07488500e-01,  2.90247911e-01],\n",
       "       [ 3.09450815e-02, -2.05985187e-01, -4.39783099e-02],\n",
       "       [ 8.15557377e-02, -1.55589421e-01, -4.62721506e-01],\n",
       "       [ 7.09971386e-01, -6.21956865e-02, -4.39671422e-01],\n",
       "       [-9.89703153e-01,  1.10881137e-01, -4.43513103e-01],\n",
       "       [-1.72777522e+00, -1.60539119e-01, -4.58879826e-01],\n",
       "       [-8.80046731e-01, -9.46800915e-02, -5.08821675e-01],\n",
       "       [-7.78825418e-01, -1.40877281e-01, -4.47354784e-01],\n",
       "       [ 3.55696792e-01,  1.76295280e+00, -3.97412934e-01],\n",
       "       [ 8.95543792e-01, -2.13161502e-01,  9.31808588e-01],\n",
       "       [-8.71464497e-02, -2.14053860e-01, -4.05096296e-01],\n",
       "       [ 2.03864824e-01, -2.14248595e-01,  2.21097659e-01],\n",
       "       [ 1.74341941e-01,  4.06070862e-01, -5.08821675e-01],\n",
       "       [ 4.61135659e-01, -2.02989260e-01,  5.20637077e-02],\n",
       "       [ 7.31206283e-02, -1.63358500e-01, -3.62837808e-01],\n",
       "       [-4.66726372e-01, -2.13196811e-01, -4.74246549e-01],\n",
       "       [ 8.66020909e-01, -2.13471794e-01,  2.14962137e+00],\n",
       "       [-1.60968369e+00,  4.12718510e-02, -5.08821675e-01],\n",
       "       [-1.08670691e+00, -1.79653132e-01, -4.24304699e-01],\n",
       "       [-1.61390125e+00, -1.99932345e-01, -4.31988061e-01],\n",
       "       [ 6.59360730e-01, -2.14077399e-01,  7.27826511e+00],\n",
       "       [ 1.93727980e+00, -2.12531287e-01,  5.09223711e-01],\n",
       "       [-1.07827180e+00,  8.58266305e-02, -5.01138313e-01],\n",
       "       [ 7.47929378e-01, -1.88819597e-01, -4.85771591e-01],\n",
       "       [ 1.76014250e+00, -1.95902824e-01,  6.47524216e-01],\n",
       "       [-1.84150208e-01, -2.11895722e-01,  3.97814971e-01],\n",
       "       [-1.93865296e+00, -1.62920881e-01, -4.28146380e-01],\n",
       "       [-2.00613383e+00, -1.72983985e-01, -5.04979994e-01],\n",
       "       [ 4.82223433e-01, -2.06255891e-01, -7.85534362e-02],\n",
       "       [ 5.83444745e-01, -2.02138631e-01,  3.32506399e-01],\n",
       "       [ 2.88215917e-01,  1.12200415e-01, -3.78204531e-01],\n",
       "       [ 8.11192698e-01, -2.13858054e-01, -4.58879826e-01],\n",
       "       [ 8.91326237e-01, -2.12032679e-01,  1.01248388e+00],\n",
       "       [-5.59512575e-01, -1.72007099e-01, -4.89613271e-01],\n",
       "       [ 1.61689277e-01, -1.89083881e-01, -4.28146380e-01],\n",
       "       [ 5.91879855e-01,  2.04773479e-01, -4.78088229e-01],\n",
       "       [ 2.16517488e-01, -9.77669659e-02, -5.08821675e-01],\n",
       "       [ 1.22451306e+00, -2.08183983e-01,  2.30328860e+00],\n",
       "       [ 1.99647269e-01, -1.57545432e-02, -3.78204531e-01],\n",
       "       [-1.10357713e+00,  8.11315854e-02, -5.08821675e-01],\n",
       "       [-1.24697399e+00,  2.11505754e-01, -5.04979994e-01],\n",
       "       [-1.19214578e+00,  5.28989785e+00, -4.93454952e-01],\n",
       "       [-1.36084796e+00, -2.07532369e-01,  9.04805147e-02],\n",
       "       [ 3.97872339e-01, -1.04263847e-01, -5.08821675e-01],\n",
       "       [-7.01291070e-03,  5.29837843e-02,  6.35887498e-02],\n",
       "       [ 1.99210801e+00, -2.03564906e-01, -4.93454952e-01],\n",
       "       [ 8.19627808e-01, -2.07160018e-01,  1.20072624e+00],\n",
       "       [ 1.40165035e+00, -2.05978767e-01,  1.09688918e-01]])"
      ]
     },
     "execution_count": 182,
     "metadata": {},
     "output_type": "execute_result"
    }
   ],
   "source": [
    "# prepare the process\n",
    "stdSc = preprocessing.StandardScaler()\n",
    "\n",
    "# apply process\n",
    "stdScResult = stdSc.fit_transform(fragciaiso[columnsToScale])\n",
    "\n",
    "# result\n",
    "stdScResult\n"
   ]
  },
  {
   "cell_type": "markdown",
   "metadata": {},
   "source": [
    "You just got:"
   ]
  },
  {
   "cell_type": "code",
   "execution_count": 183,
   "metadata": {},
   "outputs": [
    {
     "data": {
      "text/plain": [
       "(numpy.ndarray, numpy.ndarray)"
      ]
     },
     "execution_count": 183,
     "metadata": {},
     "output_type": "execute_result"
    }
   ],
   "source": [
    "type(scaledResult), type(stdScResult)"
   ]
  },
  {
   "cell_type": "code",
   "execution_count": 184,
   "metadata": {},
   "outputs": [
    {
     "data": {
      "text/plain": [
       "(['fragility_mM', 'co2_mM', 'ForestRev_gdp_mM'],\n",
       " ['fragility_sd', 'co2_sd', 'ForestRev_gdp_sd'])"
      ]
     },
     "execution_count": 184,
     "metadata": {},
     "output_type": "execute_result"
    }
   ],
   "source": [
    "newNames_mM=[name+'_mM' for name in columnsToScale]\n",
    "newNames_sd=[name+'_sd' for name in columnsToScale]\n",
    "newNames_mM,newNames_sd"
   ]
  },
  {
   "cell_type": "markdown",
   "metadata": {},
   "source": [
    "Let me use that array to replace my values in the pandas _Series_:"
   ]
  },
  {
   "cell_type": "code",
   "execution_count": 185,
   "metadata": {},
   "outputs": [],
   "source": [
    "mMDF=pd.DataFrame(minmaxResult,columns=newNames_mM)\n",
    "stDF=pd.DataFrame(stdScResult,columns=newNames_sd)"
   ]
  },
  {
   "cell_type": "code",
   "execution_count": 186,
   "metadata": {},
   "outputs": [
    {
     "name": "stdout",
     "output_type": "stream",
     "text": [
      "<class 'pandas.core.frame.DataFrame'>\n",
      "Int64Index: 172 entries, 0 to 171\n",
      "Data columns (total 18 columns):\n",
      " #   Column             Non-Null Count  Dtype  \n",
      "---  ------             --------------  -----  \n",
      " 0   Contry             172 non-null    object \n",
      " 1   Officialstatename  172 non-null    object \n",
      " 2   InternetccTLD      172 non-null    object \n",
      " 3   iso2               171 non-null    object \n",
      " 4   iso3               172 non-null    object \n",
      " 5   fragility_date     172 non-null    object \n",
      " 6   fragility          172 non-null    float64\n",
      " 7   co2                172 non-null    float64\n",
      " 8   co2_date           172 non-null    int64  \n",
      " 9   region             172 non-null    object \n",
      " 10  ForestRev_gdp      172 non-null    float64\n",
      " 11  ForestRev_date     172 non-null    int64  \n",
      " 12  fragility_mM       172 non-null    float64\n",
      " 13  co2_mM             172 non-null    float64\n",
      " 14  ForestRev_gdp_mM   172 non-null    float64\n",
      " 15  fragility_sd       172 non-null    float64\n",
      " 16  co2_sd             172 non-null    float64\n",
      " 17  ForestRev_gdp_sd   172 non-null    float64\n",
      "dtypes: float64(9), int64(2), object(7)\n",
      "memory usage: 25.5+ KB\n"
     ]
    }
   ],
   "source": [
    "fragciaiso=pd.concat([fragciaiso,mMDF,stDF],axis=1)\n",
    "\n",
    "fragciaiso.info()"
   ]
  },
  {
   "cell_type": "markdown",
   "metadata": {},
   "source": [
    "Now, these are my new data values:"
   ]
  },
  {
   "cell_type": "code",
   "execution_count": 187,
   "metadata": {},
   "outputs": [
    {
     "data": {
      "image/png": "[encoded data removed]",
      "text/plain": [
       "<Figure size 640x480 with 1 Axes>"
      ]
     },
     "metadata": {},
     "output_type": "display_data"
    }
   ],
   "source": [
    "fragciaiso[newNames_mM].plot(kind='box', rot=90);"
   ]
  },
  {
   "cell_type": "code",
   "execution_count": 188,
   "metadata": {},
   "outputs": [
    {
     "data": {
      "image/png": "[encoded data removed]",
      "text/plain": [
       "<Figure size 640x480 with 1 Axes>"
      ]
     },
     "metadata": {},
     "output_type": "display_data"
    }
   ],
   "source": [
    "fragciaiso[newNames_sd].plot(kind='box', rot=90);"
   ]
  },
  {
   "cell_type": "markdown",
   "metadata": {},
   "source": [
    "The data is ready to be exported."
   ]
  },
  {
   "cell_type": "markdown",
   "metadata": {},
   "source": [
    "\n",
    "[Home](#home)\n",
    "\n",
    "\n",
    "______\n",
    "\n",
    "<a id='exporting'></a>\n",
    "\n",
    "\n",
    "# Exporting file\n",
    "\n",
    "The current *demo_fragile* data frame is clean and formatted. It is time to send it to a format that will keep all our work for future use."
   ]
  },
  {
   "cell_type": "markdown",
   "metadata": {},
   "source": [
    "#### For future use in Python:"
   ]
  },
  {
   "cell_type": "code",
   "execution_count": 190,
   "metadata": {},
   "outputs": [],
   "source": [
    "fragciaiso.to_pickle(\"fragciaiso.csv\")"
   ]
  },
  {
   "cell_type": "markdown",
   "metadata": {},
   "source": [
    "#### For future  use in R:"
   ]
  },
  {
   "cell_type": "code",
   "execution_count": 192,
   "metadata": {},
   "outputs": [
    {
     "data": {
      "text/plain": [
       "<rpy2.rinterface_lib.sexp.NULLType object at 0x16def7510> [0]"
      ]
     },
     "execution_count": 192,
     "metadata": {},
     "output_type": "execute_result"
    }
   ],
   "source": [
    "#try the following before starting Python:\n",
    "#export LD_LIBRARY_PATH=\"$(python -m rpy2.situation LD_LIBRARY_PATH)\":${LD_LIBRARY_PATH}\n",
    "\n",
    "from rpy2.robjects import pandas2ri\n",
    "pandas2ri.activate()\n",
    "\n",
    "from rpy2.robjects.packages import importr\n",
    "\n",
    "base = importr('base')\n",
    "base.saveRDS(fragciaiso,file=\"fragciaiso.RDS\")\n",
    "\n",
    "\n",
    "#In R, you call it with: DF = readRDS(\"demfragiso_expo.RDS\")\n",
    "#or, if iyou read from cloud: DF = readRDS(url(\"https://..../demfragiso_expo.RDS\")"
   ]
  },
  {
   "cell_type": "code",
   "execution_count": null,
   "metadata": {},
   "outputs": [],
   "source": []
  }
 ],
 "metadata": {
  "hide_input": false,
  "kernelspec": {
   "display_name": "Python 3 (ipykernel)",
   "language": "python",
   "name": "python3"
  },
  "language_info": {
   "codemirror_mode": {
    "name": "ipython",
    "version": 3
   },
   "file_extension": ".py",
   "mimetype": "text/x-python",
   "name": "python",
   "nbconvert_exporter": "python",
   "pygments_lexer": "ipython3",
   "version": "3.11.5"
  }
 },
 "nbformat": 4,
 "nbformat_minor": 4
}
