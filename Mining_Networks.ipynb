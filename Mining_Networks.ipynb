{
 "cells": [
  {
   "cell_type": "markdown",
   "metadata": {},
   "source": [
    "<img src=\"https://i.imgur.com/6U6q5jQ.png\"/>"
   ]
  },
  {
   "cell_type": "markdown",
   "metadata": {},
   "source": [
    "# Mining Networks\n",
    "\n",
    "We have networks available. Let's get some information out of them.\n",
    "\n",
    "* This is the data about Peruvian elites:"
   ]
  },
  {
   "cell_type": "code",
   "execution_count": null,
   "metadata": {},
   "outputs": [],
   "source": [
    "import wget\n",
    "import networkx as nx\n",
    "import os\n",
    "\n",
    "GitLocation=\"https://github.com/SocialAnalytics-StrategicIntelligence/codes/raw/main/graphdata/\"\n",
    "URL = GitLocation+\"EliteNet.graphml\"\n",
    "\n",
    "theFile1=os.path.join('graphdata','EliteNet.graphml')\n",
    "\n",
    "\n",
    "if os.path.exists(theFile1):\n",
    "    os.remove(theFile1) # if exist, remove it directly\n",
    "wget.download(URL, theFile1) # download it to the specific path.\n",
    "eliNet=nx.read_graphml(theFile1)"
   ]
  },
  {
   "cell_type": "markdown",
   "metadata": {},
   "source": [
    "* This is the data about international trading"
   ]
  },
  {
   "cell_type": "code",
   "execution_count": null,
   "metadata": {},
   "outputs": [],
   "source": [
    "URL = \"trade_graph.graphml\"\n",
    "\n",
    "theFile2=os.path.join('graphdata','trade_graph.graphml')\n",
    "\n",
    "\n",
    "if os.path.exists(theFile2):\n",
    "    os.remove(theFile2) \n",
    "wget.download(URL, theFile2)\n",
    "tradeNet=nx.read_graphml(theFile2)"
   ]
  },
  {
   "cell_type": "markdown",
   "metadata": {},
   "source": [
    "* I have also prepared a network from [this article](https://www.builtinseattle.com/2018/08/06/50-seattle-tech-twitter-accounts-to-follow). There, we have a list of people considered key technological players in Seattle. The article gives their Twitter accounts, so I created a network using those accounts, the links meaning _someone follows someone on Twitter_.   "
   ]
  },
  {
   "cell_type": "code",
   "execution_count": null,
   "metadata": {},
   "outputs": [],
   "source": [
    "URL = GitLocation+ \"SeattleTechTop.graphml\"\n",
    "\n",
    "theFile3=os.path.join('graphdata','SeattleTechTop.graphml')\n",
    "\n",
    "\n",
    "if os.path.exists(theFile3):\n",
    "    os.remove(theFile3)\n",
    "wget.download(URL, theFile3) \n",
    "topsNet=nx.read_graphml(theFile3)"
   ]
  },
  {
   "cell_type": "markdown",
   "metadata": {},
   "source": [
    "## Connectedness"
   ]
  },
  {
   "cell_type": "code",
   "execution_count": null,
   "metadata": {},
   "outputs": [],
   "source": [
    "nx.is_connected(eliNet)"
   ]
  },
  {
   "cell_type": "markdown",
   "metadata": {},
   "source": [
    "So we have these people in components, how many?"
   ]
  },
  {
   "cell_type": "code",
   "execution_count": null,
   "metadata": {},
   "outputs": [],
   "source": [
    "numComponents=nx.number_connected_components(eliNet)\n",
    "numComponents"
   ]
  },
  {
   "cell_type": "markdown",
   "metadata": {},
   "source": [
    "What nodes are in each component?:"
   ]
  },
  {
   "cell_type": "code",
   "execution_count": null,
   "metadata": {},
   "outputs": [],
   "source": [
    "for c in nx.connected_components(eliNet):\n",
    "    print (c, '\\n')"
   ]
  },
  {
   "cell_type": "markdown",
   "metadata": {},
   "source": [
    "A visual representation follows:"
   ]
  },
  {
   "cell_type": "code",
   "execution_count": null,
   "metadata": {},
   "outputs": [],
   "source": [
    "import matplotlib.pyplot as plt\n",
    "\n",
    "colorsForComponents = plt.get_cmap('Set2',numComponents).colors\n",
    "\n",
    "nodesPositions=nx.spring_layout(eliNet,k=0.5)\n",
    "\n",
    "ConnectedComponents =(eliNet.subgraph(c).copy() for c in nx.connected_components(eliNet))\n",
    "colorsForComponents\n",
    "for eachComponent,eachColor in zip(ConnectedComponents,colorsForComponents):\n",
    "    nx.draw(eachComponent,nodesPositions,node_color=eachColor)"
   ]
  },
  {
   "cell_type": "code",
   "execution_count": null,
   "metadata": {},
   "outputs": [],
   "source": [
    "colorsForComponents"
   ]
  },
  {
   "cell_type": "markdown",
   "metadata": {},
   "source": [
    "As we do not have ONE connected network but several components, we can pay attention to the Giant Component:"
   ]
  },
  {
   "cell_type": "code",
   "execution_count": null,
   "metadata": {},
   "outputs": [],
   "source": [
    "sorted_Components = sorted(nx.connected_components(eliNet), key=len, reverse=True)\n",
    "eliNet_giant = eliNet.subgraph(sorted_Components[0])"
   ]
  },
  {
   "cell_type": "markdown",
   "metadata": {},
   "source": [
    "Let's take a look at the Giant Component:"
   ]
  },
  {
   "cell_type": "code",
   "execution_count": null,
   "metadata": {},
   "outputs": [],
   "source": [
    "nx.draw(eliNet_giant,with_labels=True)"
   ]
  },
  {
   "cell_type": "markdown",
   "metadata": {},
   "source": [
    "Basic summary:"
   ]
  },
  {
   "cell_type": "code",
   "execution_count": null,
   "metadata": {},
   "outputs": [],
   "source": [
    "# number of edges:\n",
    "eliNet_giant.size()"
   ]
  },
  {
   "cell_type": "code",
   "execution_count": null,
   "metadata": {},
   "outputs": [],
   "source": [
    "# number of  nodes:\n",
    "len(eliNet_giant)"
   ]
  },
  {
   "cell_type": "markdown",
   "metadata": {},
   "source": [
    "The Trade graph is connected:"
   ]
  },
  {
   "cell_type": "code",
   "execution_count": null,
   "metadata": {},
   "outputs": [],
   "source": [
    "nx.is_connected(tradeNet)"
   ]
  },
  {
   "cell_type": "markdown",
   "metadata": {},
   "source": [
    "The Top Tech is Seattle graph is connected too:"
   ]
  },
  {
   "cell_type": "code",
   "execution_count": null,
   "metadata": {},
   "outputs": [],
   "source": [
    "nx.is_connected(topsNet)"
   ]
  },
  {
   "cell_type": "markdown",
   "metadata": {},
   "source": [
    "____\n",
    "\n",
    "<a id='part2'></a>\n",
    "\n",
    "## Network Exploration"
   ]
  },
  {
   "cell_type": "markdown",
   "metadata": {},
   "source": [
    "<a id='part21'></a>\n",
    "\n",
    "### Exploring the Network as a whole"
   ]
  },
  {
   "cell_type": "markdown",
   "metadata": {},
   "source": [
    "* Density: from 0 to 1, where 1 makes it a 'complete' network: there is a link between every pair of nodes.\n",
    "\n",
    "  <center><img src=\"https://cdn.fs.guides.co/PDn0ImTfSb6QwgIvdoQ8\" width=\"500\"></center>\n"
   ]
  },
  {
   "cell_type": "markdown",
   "metadata": {},
   "source": [
    "What can we learn from this?"
   ]
  },
  {
   "cell_type": "code",
   "execution_count": null,
   "metadata": {},
   "outputs": [],
   "source": [
    "nx.density(eliNet_giant)"
   ]
  },
  {
   "cell_type": "code",
   "execution_count": null,
   "metadata": {},
   "outputs": [],
   "source": [
    "nx.density(tradeNet)"
   ]
  },
  {
   "cell_type": "code",
   "execution_count": null,
   "metadata": {},
   "outputs": [],
   "source": [
    "nx.density(topsNet)"
   ]
  },
  {
   "cell_type": "markdown",
   "metadata": {},
   "source": [
    "* Diameter: worst case escenario for number of steps for a node to contact another one (only for connected component). Also known as _maximum eccentricity_.\n",
    "\n",
    "<center><img src=\"https://github.com/EvansDataScience/CTforGA_Networks/raw/main/diameter.jpeg\" width=\"500\"></center>"
   ]
  },
  {
   "cell_type": "code",
   "execution_count": null,
   "metadata": {},
   "outputs": [],
   "source": [
    "nx.diameter(eliNet_giant)"
   ]
  },
  {
   "cell_type": "code",
   "execution_count": null,
   "metadata": {},
   "outputs": [],
   "source": [
    "nx.diameter(tradeNet)"
   ]
  },
  {
   "cell_type": "code",
   "execution_count": null,
   "metadata": {},
   "outputs": [],
   "source": [
    "nx.diameter(topsNet)"
   ]
  },
  {
   "cell_type": "markdown",
   "metadata": {},
   "source": [
    "* Average clustering coefficient: is the average of the local clustering coefficients of the nodes. If all the neighbors of every node are connected among one another, you get 1; if none of them are connected you get zero. \n",
    "\n",
    "<center><img src=\"https://raw.githubusercontent.com/SocialAnalytics-StrategicIntelligence/codes/main/images/LocalClustCoeff.png\" width=\"500\"></center>\n",
    "\n"
   ]
  },
  {
   "cell_type": "code",
   "execution_count": null,
   "metadata": {},
   "outputs": [],
   "source": [
    "# count_zeros=False -> to make results compatible with R!\n",
    "nx.average_clustering(eliNet_giant,count_zeros=False)"
   ]
  },
  {
   "cell_type": "code",
   "execution_count": null,
   "metadata": {},
   "outputs": [],
   "source": [
    "nx.average_clustering(tradeNet,count_zeros=False)"
   ]
  },
  {
   "cell_type": "code",
   "execution_count": null,
   "metadata": {},
   "outputs": [],
   "source": [
    "nx.average_clustering(topsNet,count_zeros=False)"
   ]
  },
  {
   "cell_type": "markdown",
   "metadata": {},
   "source": [
    "* Shortest path (average): it gets the average of every shortest path among the nodes in the network. A shorter path is the shortest _walk_ from one node to another."
   ]
  },
  {
   "cell_type": "code",
   "execution_count": null,
   "metadata": {},
   "outputs": [],
   "source": [
    "# the average number of steps it takes to get from one node to another.\n",
    "\n",
    "nx.average_shortest_path_length(eliNet_giant)"
   ]
  },
  {
   "cell_type": "code",
   "execution_count": null,
   "metadata": {},
   "outputs": [],
   "source": [
    "nx.average_shortest_path_length(tradeNet)"
   ]
  },
  {
   "cell_type": "code",
   "execution_count": null,
   "metadata": {},
   "outputs": [],
   "source": [
    "nx.average_shortest_path_length(topsNet)"
   ]
  },
  {
   "cell_type": "markdown",
   "metadata": {},
   "source": [
    "* **Random networks** have *small shortest path* and *small clustering coefficient*\n",
    "* **Small world networks** have *small shortest path* and *high clustering coefficient*\n",
    "* **Regular networks** have *high shortest path* and *high clustering coefficient*\n",
    "\r",
    "<center><img src=\"https://github.com/EvansDataScience/CTforGA_Networks/raw/main/networkTypes.jpeg\" width=\"500\"></center>\n",
    "\n",
    "\n",
    "* Transitivity: Tendency of local clustering."
   ]
  },
  {
   "cell_type": "code",
   "execution_count": null,
   "metadata": {},
   "outputs": [],
   "source": [
    "# Probability  that two business men with a common business friend, are also friends.\n",
    "nx.transitivity(eliNet_giant)"
   ]
  },
  {
   "cell_type": "code",
   "execution_count": null,
   "metadata": {},
   "outputs": [],
   "source": [
    "# Probability that two countries with a common trade partner, are also partners.\n",
    "\n",
    "nx.transitivity(tradeNet)"
   ]
  },
  {
   "cell_type": "code",
   "execution_count": null,
   "metadata": {},
   "outputs": [],
   "source": [
    "# Probability that two tech guys with a common colleague, are also colleagues.\n",
    "nx.transitivity(topsNet)"
   ]
  },
  {
   "cell_type": "markdown",
   "metadata": {},
   "source": [
    "* Assortativity (degree): it is a measure to see if nodes are connecting to other nodes similar in degree.  Closer to 1 means higher assortativity, closer to -1 diassortativity; while 0 is no assortitivity."
   ]
  },
  {
   "cell_type": "code",
   "execution_count": null,
   "metadata": {},
   "outputs": [],
   "source": [
    "nx.degree_assortativity_coefficient(eliNet_giant)"
   ]
  },
  {
   "cell_type": "code",
   "execution_count": null,
   "metadata": {},
   "outputs": [],
   "source": [
    "nx.degree_assortativity_coefficient(tradeNet)"
   ]
  },
  {
   "cell_type": "code",
   "execution_count": null,
   "metadata": {},
   "outputs": [],
   "source": [
    "nx.degree_assortativity_coefficient(topsNet)"
   ]
  },
  {
   "cell_type": "markdown",
   "metadata": {},
   "source": [
    "You can also compute assortativity using an attribute of interest:"
   ]
  },
  {
   "cell_type": "code",
   "execution_count": null,
   "metadata": {},
   "outputs": [],
   "source": [
    "nx.attribute_assortativity_coefficient(eliNet_giant,'multi')"
   ]
  },
  {
   "cell_type": "code",
   "execution_count": null,
   "metadata": {},
   "outputs": [],
   "source": [
    "nx.attribute_assortativity_coefficient(topsNet,'sex')"
   ]
  },
  {
   "cell_type": "markdown",
   "metadata": {},
   "source": [
    "<a id='part22'></a>\n",
    "\n",
    "### Exploration of network communities"
   ]
  },
  {
   "cell_type": "markdown",
   "metadata": {},
   "source": [
    "A **clique** can be understood a community of nodes where all of them are connected to one another.\n",
    "\n",
    "* How many cliques do we have?"
   ]
  },
  {
   "cell_type": "code",
   "execution_count": null,
   "metadata": {},
   "outputs": [],
   "source": [
    "len(list(nx.enumerate_all_cliques(eliNet_giant)))"
   ]
  },
  {
   "cell_type": "code",
   "execution_count": null,
   "metadata": {},
   "outputs": [],
   "source": [
    "#len(list(nx.enumerate_all_cliques(tradeNet)))"
   ]
  },
  {
   "cell_type": "code",
   "execution_count": null,
   "metadata": {},
   "outputs": [],
   "source": [
    "len(list(nx.enumerate_all_cliques(topsNet)))"
   ]
  },
  {
   "cell_type": "markdown",
   "metadata": {},
   "source": [
    "If a clique in the network can not be bigger is you add another node, then you have a **maximal clique**.\n",
    "\n",
    "<center><img src=\"https://github.com/EvansDataScience/CTforGA_Networks/raw/main/cliqueMaximal.png\" width=\"500\"></center>\n",
    "\n",
    "* How many maximal cliques are there in this network?"
   ]
  },
  {
   "cell_type": "code",
   "execution_count": null,
   "metadata": {},
   "outputs": [],
   "source": [
    "sum(1 for _ in nx.find_cliques(eliNet_giant))"
   ]
  },
  {
   "cell_type": "code",
   "execution_count": null,
   "metadata": {},
   "outputs": [],
   "source": [
    "sum(1 for _ in nx.find_cliques(tradeNet))"
   ]
  },
  {
   "cell_type": "code",
   "execution_count": null,
   "metadata": {},
   "outputs": [],
   "source": [
    "sum(1 for _ in nx.find_cliques(topsNet))"
   ]
  },
  {
   "cell_type": "markdown",
   "metadata": {},
   "source": [
    "This is how you see every maximal clique:"
   ]
  },
  {
   "cell_type": "code",
   "execution_count": null,
   "metadata": {},
   "outputs": [],
   "source": [
    "for a in nx.find_cliques(eliNet_giant):\n",
    "    print (a)"
   ]
  },
  {
   "cell_type": "markdown",
   "metadata": {},
   "source": [
    "You can find the size of the _maximum clique_, largest clique in the graph, like this:"
   ]
  },
  {
   "cell_type": "code",
   "execution_count": null,
   "metadata": {},
   "outputs": [],
   "source": [
    "max(len(c) for c in nx.find_cliques(eliNet_giant))"
   ]
  },
  {
   "cell_type": "code",
   "execution_count": null,
   "metadata": {},
   "outputs": [],
   "source": [
    "max(len(c) for c in nx.find_cliques(tradeNet))"
   ]
  },
  {
   "cell_type": "code",
   "execution_count": null,
   "metadata": {},
   "outputs": [],
   "source": [
    "max(len(c) for c in nx.find_cliques(topsNet))"
   ]
  },
  {
   "cell_type": "markdown",
   "metadata": {},
   "source": [
    "You can see each maximum clique like this:"
   ]
  },
  {
   "cell_type": "code",
   "execution_count": null,
   "metadata": {},
   "outputs": [],
   "source": [
    "[c for c in nx.find_cliques(eliNet_giant) if len(c) == max(len(c) for c in nx.find_cliques(eliNet_giant))]"
   ]
  },
  {
   "cell_type": "markdown",
   "metadata": {},
   "source": [
    "If a network presents cliques makes you suspect that there can be **communities**.\n",
    "\n",
    "This is a huge field of research, let me me show you one of the algorithms known as the [_Louvain method_](https://perso.uclouvain.be/vincent.blondel/research/louvain.html).\n",
    "\n",
    "This algorithm can be installed using **pip install python-louvain**, and import it using **community**.\n"
   ]
  },
  {
   "cell_type": "code",
   "execution_count": null,
   "metadata": {},
   "outputs": [],
   "source": [
    "import community \n",
    "parts = community.best_partition(eliNet_giant)\n",
    "parts"
   ]
  },
  {
   "cell_type": "markdown",
   "metadata": {},
   "source": [
    "You can add that value as an attribute:"
   ]
  },
  {
   "cell_type": "code",
   "execution_count": null,
   "metadata": {},
   "outputs": [],
   "source": [
    "nx.set_node_attributes(eliNet_giant, parts,'community')"
   ]
  },
  {
   "cell_type": "markdown",
   "metadata": {},
   "source": [
    "Now plot this attribute:"
   ]
  },
  {
   "cell_type": "code",
   "execution_count": null,
   "metadata": {},
   "outputs": [],
   "source": [
    "pos=nx.spring_layout(eliNet_giant, k=0.2) \n",
    "plt.figure(figsize=(8,8))\n",
    "color_map = plt.get_cmap(\"cool\")\n",
    "valuesForColors=[n[1]['community'] for n in eliNet_giant.nodes(data=True)]\n",
    "nx.draw(eliNet_giant,node_color=valuesForColors,cmap=color_map,with_labels=True,edge_color='lightblue')"
   ]
  },
  {
   "cell_type": "markdown",
   "metadata": {},
   "source": [
    "Let's turn our attention to the nodes and their roles in the network."
   ]
  },
  {
   "cell_type": "markdown",
   "metadata": {},
   "source": [
    "<a id='part23'></a>\n",
    "\n",
    "## Exploration of network actors"
   ]
  },
  {
   "cell_type": "code",
   "execution_count": null,
   "metadata": {},
   "outputs": [],
   "source": [
    "# Computing centrality measures:\n",
    "degr=nx.degree_centrality(eliNet_giant)  # based on connections count\n",
    "clos=nx.closeness_centrality(eliNet_giant) # \"speed\" to access the rest\n",
    "betw=nx.betweenness_centrality(eliNet_giant,normalized=True) # \"control flow\" among the network nodes\n",
    "eige=nx.eigenvector_centrality(eliNet_giant) # central nodes connected to central nodes (influential?)"
   ]
  },
  {
   "cell_type": "code",
   "execution_count": null,
   "metadata": {},
   "outputs": [],
   "source": [
    "# measures into a data frame:\n",
    "import pandas as pd\n",
    "Centrality=[ [rich, degr[rich],clos[rich],betw[rich],eige[rich]] for rich in eliNet_giant]\n",
    "headers=['person','Degree','Closeness','Betweenness','Eigenvector']\n",
    "DFCentrality=pd.DataFrame(Centrality,columns=headers)\n",
    "DFCentrality"
   ]
  },
  {
   "cell_type": "code",
   "execution_count": null,
   "metadata": {},
   "outputs": [],
   "source": [
    "fig, ax = plt.subplots(figsize=(10,10))\n",
    "\n",
    "ax.scatter(DFCentrality.Betweenness, DFCentrality.Closeness,s=(DFCentrality.Degree+1.3)**14,\n",
    "           c=DFCentrality.Eigenvector,\n",
    "           cmap=plt.get_cmap('YlOrRd'), alpha=0.6)\n",
    "\n",
    "valsForAnnotate=zip(DFCentrality['person'],DFCentrality['Betweenness'],DFCentrality['Closeness'])\n",
    "for name,coordX,coordY in valsForAnnotate:\n",
    "    ax.annotate(name, (coordX,coordY),alpha=0.5)\n",
    "    \n",
    "plt.title(\"scatterplot (size for degree of node, color for eigenvalue)\")\n",
    "plt.xlabel(\"betweenness\")\n",
    "plt.ylabel(\"closeness\")\n",
    "plt.show()"
   ]
  },
  {
   "cell_type": "markdown",
   "metadata": {},
   "source": [
    "### Egonet"
   ]
  },
  {
   "cell_type": "markdown",
   "metadata": {},
   "source": [
    "The node with the highest degree could be considered a _hub_ in the network:"
   ]
  },
  {
   "cell_type": "code",
   "execution_count": null,
   "metadata": {},
   "outputs": [],
   "source": [
    "# degr is a dictionary:\n",
    "max(degr.keys(), key=(lambda k: degr[k]))\n",
    "\n",
    "# or you can try:\n",
    "#DFCentrality['person'].loc[DFCentrality['Degree'].idxmax()]"
   ]
  },
  {
   "cell_type": "markdown",
   "metadata": {},
   "source": [
    "We can plot the neighbors of the hub, _its ego network_:"
   ]
  },
  {
   "cell_type": "code",
   "execution_count": null,
   "metadata": {},
   "outputs": [],
   "source": [
    "# Determine the hub name:\n",
    "HubNode=max(degr.keys(), key=(lambda k: degr[k]))\n",
    "\n",
    "# Get ego network of Hub\n",
    "HubEgonet=nx.ego_graph(eliNet_giant,HubNode)\n",
    "\n",
    "# prepare to plot:\n",
    "\n",
    "## positions of the nodes\n",
    "pos=nx.spring_layout(HubEgonet)\n",
    "\n",
    "## plot whole ego network\n",
    "nx.draw(HubEgonet,pos,node_color='b',node_size=800,with_labels=True, alpha=0.5,node_shape='^')\n",
    "\n",
    "## make the hub salient\n",
    "nx.draw_networkx_nodes(HubEgonet,pos,nodelist=[HubNode],node_size=2000,node_color='r')\n",
    "\n",
    "plt.show()"
   ]
  },
  {
   "cell_type": "markdown",
   "metadata": {},
   "source": [
    "Can this network be disconnected? \n",
    "If so, we can compute the minimum number of nodes that must be removed to disconnect the network (create at least two components:"
   ]
  },
  {
   "cell_type": "code",
   "execution_count": null,
   "metadata": {},
   "outputs": [],
   "source": [
    "nx.node_connectivity(eliNet_giant)"
   ]
  },
  {
   "cell_type": "markdown",
   "metadata": {},
   "source": [
    "Who is the sole node with the power to break the network?"
   ]
  },
  {
   "cell_type": "code",
   "execution_count": null,
   "metadata": {},
   "outputs": [],
   "source": [
    "list(nx.articulation_points(eliNet_giant))"
   ]
  },
  {
   "cell_type": "markdown",
   "metadata": {},
   "source": [
    "We can highlight the articulation node in the giant component:"
   ]
  },
  {
   "cell_type": "code",
   "execution_count": null,
   "metadata": {},
   "outputs": [],
   "source": [
    "# saving the cut point\n",
    "cut=list(nx.articulation_points(eliNet_giant))\n",
    "\n",
    "# positions for all the nodes\n",
    "pos=nx.spring_layout(eliNet_giant,k=0.5)\n",
    "\n",
    "# sizes for nodes\n",
    "SALIENT, NORMAL=(2000,800)\n",
    "\n",
    "# plot all nodes\n",
    "nx.draw(eliNet_giant,pos,node_color='b',node_size=NORMAL,with_labels=True, alpha=0.5,node_shape='^')\n",
    "\n",
    "# make the cut salient:\n",
    "nx.draw_networkx_nodes(eliNet_giant,pos,nodelist=cut,node_size=SALIENT,node_color='r')\n",
    "plt.show()"
   ]
  },
  {
   "cell_type": "code",
   "execution_count": null,
   "metadata": {},
   "outputs": [],
   "source": []
  }
 ],
 "metadata": {
  "hide_input": false,
  "kernelspec": {
   "display_name": "Python 3 (ipykernel)",
   "language": "python",
   "name": "python3"
  },
  "language_info": {
   "codemirror_mode": {
    "name": "ipython",
    "version": 3
   },
   "file_extension": ".py",
   "mimetype": "text/x-python",
   "name": "python",
   "nbconvert_exporter": "python",
   "pygments_lexer": "ipython3",
   "version": "3.11.5"
  }
 },
 "nbformat": 4,
 "nbformat_minor": 4
}
