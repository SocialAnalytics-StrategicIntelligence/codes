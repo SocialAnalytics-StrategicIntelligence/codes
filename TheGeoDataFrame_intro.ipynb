{
 "cells": [
  {
   "cell_type": "markdown",
   "metadata": {
    "id": "Rq_-jS9HtUU-"
   },
   "source": [
    "<img src=\"https://i.imgur.com/6U6q5jQ.png\"/>"
   ]
  },
  {
   "cell_type": "markdown",
   "metadata": {},
   "source": [
    "<a target=\"_blank\" href=\"https://colab.research.google.com/github/SocialAnalytics-StrategicIntelligence/codes/blob/main/TheGeoDataFrame_intro.ipynb\">\n",
    "  <img src=\"https://colab.research.google.com/assets/colab-badge.svg\" alt=\"Open In Colab\"/>\n",
    "</a>"
   ]
  },
  {
   "cell_type": "code",
   "execution_count": null,
   "metadata": {},
   "outputs": [],
   "source": [
    "%reset\n",
    "# starting fresh"
   ]
  },
  {
   "cell_type": "markdown",
   "metadata": {
    "id": "-cCaZ1r2tUVA"
   },
   "source": [
    "## The Geo Dataframe\n",
    "\n",
    "The geodataframe (GDF) is a dataframe (DF) where every row represents an spatial element (point, line, polygon).\n",
    "\n",
    "Historically, the most common file type that stores spatial elements is the shapefile. Let's take a look at some of them:\n",
    "\n",
    "1. Create a repository named: introgeodf.\n",
    "2. Clone that repo to a local folder in your computer.\n",
    "3. In that local folder in your computer, create a folder named **maps**.\n",
    "4. Go to this [website](https://www.efrainmaps.es/english-version/free-downloads/world/).\n",
    "5. Download three map files into the folder **maps** in your computer: *countries*, *cities*, and *rivers*."
   ]
  },
  {
   "cell_type": "markdown",
   "metadata": {
    "id": "PhGJmen1tUVB"
   },
   "source": [
    "You may see something like this:\n",
    "\n",
    "<img src=\"https://github.com/CienciaDeDatosEspacial/code_and_data/blob/main/mapsFolderImage.png?raw=true\">"
   ]
  },
  {
   "cell_type": "markdown",
   "metadata": {
    "id": "HBs3ovRstUVB"
   },
   "source": [
    "You can decompress those files:\n",
    "\n",
    "<img title=\"a title\" alt=\"Alt text\" src=\"https://github.com/CienciaDeDatosEspacial/code_and_data/blob/main/folderRar_1.png?raw=true\">"
   ]
  },
  {
   "cell_type": "markdown",
   "metadata": {
    "id": "OzvFDa2JtUVB"
   },
   "source": [
    "Now, take a look a **World_Countries**:\n",
    "\n",
    "<img src=\"https://github.com/CienciaDeDatosEspacial/code_and_data/blob/main/imageCountries_shp.png?raw=true\">"
   ]
  },
  {
   "cell_type": "markdown",
   "metadata": {
    "id": "BUOIWMOTtUVB"
   },
   "source": [
    "There, you see that this **one map** requires **several files**. That is the nature of the shapefile.\n",
    "\n",
    "Let's read the file with the help of **geopandas**:"
   ]
  },
  {
   "cell_type": "code",
   "execution_count": 2,
   "metadata": {
    "id": "KJV5G0POtUVB"
   },
   "outputs": [],
   "source": [
    "import os, geopandas as gpd\n",
    "\n",
    "countries=gpd.read_file(os.path.join(\"maps\",\"World_Countries\",\"World_Countries.shp\"))"
   ]
  },
  {
   "cell_type": "markdown",
   "metadata": {
    "id": "a5AOj3mktUVC"
   },
   "source": [
    "Let's use some familiar DF functions:"
   ]
  },
  {
   "cell_type": "code",
   "execution_count": 3,
   "metadata": {
    "id": "BTVBGfNatUVC"
   },
   "outputs": [
    {
     "data": {
      "text/plain": [
       "geopandas.geodataframe.GeoDataFrame"
      ]
     },
     "execution_count": 3,
     "metadata": {},
     "output_type": "execute_result"
    }
   ],
   "source": [
    "# what is it?\n",
    "type(countries)"
   ]
  },
  {
   "cell_type": "code",
   "execution_count": 4,
   "metadata": {
    "id": "AkvWskZytUVC"
   },
   "outputs": [
    {
     "data": {
      "text/plain": [
       "(252, 2)"
      ]
     },
     "execution_count": 4,
     "metadata": {},
     "output_type": "execute_result"
    }
   ],
   "source": [
    "# dimensions\n",
    "countries.shape"
   ]
  },
  {
   "cell_type": "code",
   "execution_count": 5,
   "metadata": {
    "id": "ETJdBBR1tUVD"
   },
   "outputs": [
    {
     "data": {
      "text/plain": [
       "Index(['COUNTRY', 'geometry'], dtype='object')"
      ]
     },
     "execution_count": 5,
     "metadata": {},
     "output_type": "execute_result"
    }
   ],
   "source": [
    "# names\n",
    "countries.columns"
   ]
  },
  {
   "cell_type": "code",
   "execution_count": 6,
   "metadata": {
    "id": "QrbZt4g5tUVD"
   },
   "outputs": [
    {
     "data": {
      "text/html": [
       "<div>\n",
       "<style scoped>\n",
       "    .dataframe tbody tr th:only-of-type {\n",
       "        vertical-align: middle;\n",
       "    }\n",
       "\n",
       "    .dataframe tbody tr th {\n",
       "        vertical-align: top;\n",
       "    }\n",
       "\n",
       "    .dataframe thead th {\n",
       "        text-align: right;\n",
       "    }\n",
       "</style>\n",
       "<table border=\"1\" class=\"dataframe\">\n",
       "  <thead>\n",
       "    <tr style=\"text-align: right;\">\n",
       "      <th></th>\n",
       "      <th>COUNTRY</th>\n",
       "      <th>geometry</th>\n",
       "    </tr>\n",
       "  </thead>\n",
       "  <tbody>\n",
       "    <tr>\n",
       "      <th>0</th>\n",
       "      <td>Aruba (Netherlands)</td>\n",
       "      <td>POLYGON ((-69.88223 12.41111, -69.94695 12.436...</td>\n",
       "    </tr>\n",
       "    <tr>\n",
       "      <th>1</th>\n",
       "      <td>Antigua and Barbuda</td>\n",
       "      <td>MULTIPOLYGON (((-61.73889 17.54055, -61.75195 ...</td>\n",
       "    </tr>\n",
       "    <tr>\n",
       "      <th>2</th>\n",
       "      <td>Afghanistan</td>\n",
       "      <td>POLYGON ((61.27656 35.60725, 61.29638 35.62853...</td>\n",
       "    </tr>\n",
       "    <tr>\n",
       "      <th>3</th>\n",
       "      <td>Algeria</td>\n",
       "      <td>POLYGON ((-5.15213 30.18047, -5.13917 30.19236...</td>\n",
       "    </tr>\n",
       "    <tr>\n",
       "      <th>4</th>\n",
       "      <td>Azerbaijan</td>\n",
       "      <td>MULTIPOLYGON (((46.54037 38.87559, 46.49554 38...</td>\n",
       "    </tr>\n",
       "  </tbody>\n",
       "</table>\n",
       "</div>"
      ],
      "text/plain": [
       "               COUNTRY                                           geometry\n",
       "0  Aruba (Netherlands)  POLYGON ((-69.88223 12.41111, -69.94695 12.436...\n",
       "1  Antigua and Barbuda  MULTIPOLYGON (((-61.73889 17.54055, -61.75195 ...\n",
       "2          Afghanistan  POLYGON ((61.27656 35.60725, 61.29638 35.62853...\n",
       "3              Algeria  POLYGON ((-5.15213 30.18047, -5.13917 30.19236...\n",
       "4           Azerbaijan  MULTIPOLYGON (((46.54037 38.87559, 46.49554 38..."
      ]
     },
     "execution_count": 6,
     "metadata": {},
     "output_type": "execute_result"
    }
   ],
   "source": [
    "# some content\n",
    "countries.head()"
   ]
  },
  {
   "cell_type": "code",
   "execution_count": 7,
   "metadata": {
    "id": "vPHdGEtatUVD"
   },
   "outputs": [
    {
     "data": {
      "text/html": [
       "<div>\n",
       "<style scoped>\n",
       "    .dataframe tbody tr th:only-of-type {\n",
       "        vertical-align: middle;\n",
       "    }\n",
       "\n",
       "    .dataframe tbody tr th {\n",
       "        vertical-align: top;\n",
       "    }\n",
       "\n",
       "    .dataframe thead th {\n",
       "        text-align: right;\n",
       "    }\n",
       "</style>\n",
       "<table border=\"1\" class=\"dataframe\">\n",
       "  <thead>\n",
       "    <tr style=\"text-align: right;\">\n",
       "      <th></th>\n",
       "      <th>COUNTRY</th>\n",
       "      <th>geometry</th>\n",
       "    </tr>\n",
       "  </thead>\n",
       "  <tbody>\n",
       "  </tbody>\n",
       "</table>\n",
       "</div>"
      ],
      "text/plain": [
       "Empty GeoDataFrame\n",
       "Columns: [COUNTRY, geometry]\n",
       "Index: []"
      ]
     },
     "execution_count": 7,
     "metadata": {},
     "output_type": "execute_result"
    }
   ],
   "source": [
    "# any missing values?\n",
    "countries[countries.isna().any(axis=1)]"
   ]
  },
  {
   "cell_type": "code",
   "execution_count": 8,
   "metadata": {
    "id": "TWXmBv-vtUVD",
    "scrolled": true
   },
   "outputs": [
    {
     "name": "stdout",
     "output_type": "stream",
     "text": [
      "<class 'geopandas.geodataframe.GeoDataFrame'>\n",
      "RangeIndex: 252 entries, 0 to 251\n",
      "Data columns (total 2 columns):\n",
      " #   Column    Non-Null Count  Dtype   \n",
      "---  ------    --------------  -----   \n",
      " 0   COUNTRY   252 non-null    object  \n",
      " 1   geometry  252 non-null    geometry\n",
      "dtypes: geometry(1), object(1)\n",
      "memory usage: 4.1+ KB\n"
     ]
    }
   ],
   "source": [
    "# types\n",
    "countries.info()"
   ]
  },
  {
   "cell_type": "markdown",
   "metadata": {
    "id": "QzT4ctrjtUVD"
   },
   "source": [
    "As you see, every pandas command is working, but now we have a new column type: **geometry**. Let's see this map of countries:"
   ]
  },
  {
   "cell_type": "code",
   "execution_count": null,
   "metadata": {
    "id": "DjMj9myHtUVD"
   },
   "outputs": [],
   "source": [
    "countries.plot(facecolor=\"azure\",#color of polygon fill\n",
    "               edgecolor='black', #color of lines\n",
    "               linewidth=0.1) #thickness of lines"
   ]
  },
  {
   "cell_type": "markdown",
   "metadata": {
    "id": "iCtifGnqtUVD"
   },
   "source": [
    "Let's open the other maps:"
   ]
  },
  {
   "cell_type": "code",
   "execution_count": null,
   "metadata": {
    "id": "lPbJ4wFHtUVD"
   },
   "outputs": [],
   "source": [
    "rivers=gpd.read_file(os.path.join(\"maps\",\"World_Hydrography\",\"World_Hydrography.shp\"))\n",
    "cities=gpd.read_file(os.path.join(\"maps\",\"World_Cities\",\"World_Cities.shp\"))"
   ]
  },
  {
   "cell_type": "markdown",
   "metadata": {},
   "source": [
    "This is the rivers map:"
   ]
  },
  {
   "cell_type": "code",
   "execution_count": null,
   "metadata": {
    "id": "8Gap_au4tUVD"
   },
   "outputs": [],
   "source": [
    "rivers.plot(edgecolor='blue',\n",
    "            linewidth=1,\n",
    "            linestyle='dotted')"
   ]
  },
  {
   "cell_type": "markdown",
   "metadata": {},
   "source": [
    "This is the cities map:"
   ]
  },
  {
   "cell_type": "code",
   "execution_count": null,
   "metadata": {
    "id": "8nAC2GkptUVD"
   },
   "outputs": [],
   "source": [
    "cities.plot(marker='.', # marker type\n",
    "            color='red',\n",
    "            markersize=1,\n",
    "            alpha=0.3) # transparency"
   ]
  },
  {
   "cell_type": "markdown",
   "metadata": {
    "id": "prkK6IA8tUVE"
   },
   "source": [
    "You can plot all the layers, as long as they share the same projection.\n",
    "Let's verify that all have the same projection (**CRS**):"
   ]
  },
  {
   "cell_type": "code",
   "execution_count": null,
   "metadata": {
    "id": "8G0MkpZ1tUVE"
   },
   "outputs": [],
   "source": [
    "countries.crs==cities.crs==cities.crs"
   ]
  },
  {
   "cell_type": "markdown",
   "metadata": {
    "id": "ZOiFM3uYtUVE"
   },
   "source": [
    "You can start by creating the layer on the back (the base), and add layers on top:"
   ]
  },
  {
   "cell_type": "code",
   "execution_count": null,
   "metadata": {
    "id": "rqkVAvHstUVE"
   },
   "outputs": [],
   "source": [
    "base = countries.plot(facecolor=\"white\",\n",
    "                      edgecolor='black',\n",
    "                      linewidth=0.1,\n",
    "                      figsize=(12,12))\n",
    "\n",
    "rivers.plot(edgecolor='blue', linewidth=0.4,\n",
    "            ax=base)# on top of...\n",
    "cities.plot(marker='.', color='red', markersize=1,alpha=0.7,\n",
    "            ax=base) # on top of...\n"
   ]
  },
  {
   "cell_type": "markdown",
   "metadata": {
    "id": "4WVBq3bUtUVE"
   },
   "source": [
    "## Subsetting\n",
    "\n",
    "You can subset your map by *filtering*:"
   ]
  },
  {
   "cell_type": "code",
   "execution_count": null,
   "metadata": {
    "id": "NsiI-8ZYtUVE"
   },
   "outputs": [],
   "source": [
    "brazil=countries[countries.COUNTRY=='Brazil']"
   ]
  },
  {
   "cell_type": "markdown",
   "metadata": {
    "id": "biux_VKutUVF"
   },
   "source": [
    "But you can also subset by *clipping*, as sometimes other data frames may not have the same fields for filtering:"
   ]
  },
  {
   "cell_type": "code",
   "execution_count": null,
   "metadata": {
    "id": "ltxxI2OotUVF"
   },
   "outputs": [],
   "source": [
    "cities_clipped = gpd.clip(gdf=cities,\n",
    "                          mask=brazil)\n",
    "rivers_clipped = gpd.clip(gdf=rivers,\n",
    "                               mask=brazil)"
   ]
  },
  {
   "cell_type": "markdown",
   "metadata": {
    "id": "2nXd5aiRtUVF"
   },
   "source": [
    "Then, you can plot the clipped version:"
   ]
  },
  {
   "cell_type": "code",
   "execution_count": null,
   "metadata": {
    "id": "dEfKc5nQtUVF"
   },
   "outputs": [],
   "source": [
    "base = brazil.plot(facecolor=\"greenyellow\", edgecolor='black', linewidth=0.4,figsize=(5,5))\n",
    "cities_clipped.plot(marker='+', color='red', markersize=15,\n",
    "                    ax=base)\n",
    "rivers_clipped.plot(edgecolor='blue', linewidth=0.5,\n",
    "                    ax=base)"
   ]
  },
  {
   "cell_type": "markdown",
   "metadata": {},
   "source": [
    "You can also check what geometries you have in your GDF:"
   ]
  },
  {
   "cell_type": "code",
   "execution_count": null,
   "metadata": {},
   "outputs": [],
   "source": [
    "brazil.geom_type"
   ]
  },
  {
   "cell_type": "code",
   "execution_count": null,
   "metadata": {},
   "outputs": [],
   "source": [
    "cities_clipped.geom_type"
   ]
  },
  {
   "cell_type": "code",
   "execution_count": null,
   "metadata": {
    "scrolled": true
   },
   "outputs": [],
   "source": [
    "rivers_clipped.geom_type"
   ]
  },
  {
   "cell_type": "markdown",
   "metadata": {
    "id": "Qz1RhizytUVG"
   },
   "source": [
    "## Exporting your subset\n",
    "\n",
    "You may need a couple of things here:\n",
    "\n",
    "- Save the map as an image.\n",
    "- Save the files (not the images).\n",
    "\n",
    "Let's see:"
   ]
  },
  {
   "cell_type": "code",
   "execution_count": null,
   "metadata": {
    "id": "qNaZOxNRtUVG"
   },
   "outputs": [],
   "source": [
    "# save the map as image (create \"images\" folder first)\n",
    "import matplotlib.pyplot as plt\n",
    "\n",
    "base = brazil.plot(facecolor=\"greenyellow\", edgecolor='black', linewidth=0.4,figsize=(5,5))\n",
    "cities=cities_clipped.plot(marker='+', color='red', markersize=15,ax=base)\n",
    "river=rivers_clipped.plot(edgecolor='blue', linewidth=0.5,ax=base)\n",
    "plt.savefig(os.path.join(\"images\",'Brasil_3layers.jpg'))"
   ]
  },
  {
   "cell_type": "markdown",
   "metadata": {
    "id": "Dq083_55tUVG"
   },
   "source": [
    "We may export these layers as one different file (not shapefiles):"
   ]
  },
  {
   "cell_type": "code",
   "execution_count": null,
   "metadata": {
    "id": "FnrWwUWZtUVG"
   },
   "outputs": [],
   "source": [
    "brazil.to_file(os.path.join(\"maps\",\"brazilMaps.gpkg\"), layer='country', driver=\"GPKG\")\n",
    "cities_clipped.to_file(os.path.join(\"maps\",\"brazilMaps.gpkg\"), layer='cities', driver=\"GPKG\")\n",
    "rivers_clipped.to_file(os.path.join(\"maps\",\"brazilMaps.gpkg\"), layer='rivers', driver=\"GPKG\")"
   ]
  },
  {
   "cell_type": "markdown",
   "metadata": {
    "id": "oum8bIhatUVG"
   },
   "source": [
    "The most important thing, now that you have saved these several maps into one file, is that once this file is stored in GitHub, you can call the map with the url. Let's reset the variables:"
   ]
  },
  {
   "cell_type": "code",
   "execution_count": null,
   "metadata": {},
   "outputs": [],
   "source": [
    "%reset"
   ]
  },
  {
   "cell_type": "markdown",
   "metadata": {
    "id": "pF1evAgTtUVG"
   },
   "source": [
    "Now, commit and push **brazilMaps.gpkg** and get a link like:"
   ]
  },
  {
   "cell_type": "code",
   "execution_count": null,
   "metadata": {
    "id": "b63-DUWYtUVG"
   },
   "outputs": [],
   "source": [
    "brazilMaps='https://github.com/SocialAnalytics-StrategicIntelligence/codes/raw/main/maps/brazilMaps.gpkg'"
   ]
  },
  {
   "cell_type": "markdown",
   "metadata": {
    "id": "6l3dF92ytUVG"
   },
   "source": [
    "### Reading in from the cloud:\n",
    "\n",
    "Let's use the *brazilMaps* link, and verify we have all the layers:"
   ]
  },
  {
   "cell_type": "code",
   "execution_count": null,
   "metadata": {
    "id": "_iBpwxECtUVG"
   },
   "outputs": [],
   "source": [
    "from  fiona import listlayers\n",
    "\n",
    "listlayers(brazilMaps)"
   ]
  },
  {
   "cell_type": "markdown",
   "metadata": {
    "id": "FLJ7uSLctUVG"
   },
   "source": [
    "Now you are confident what to request:"
   ]
  },
  {
   "cell_type": "code",
   "execution_count": null,
   "metadata": {
    "id": "_EB68wV2tUVH"
   },
   "outputs": [],
   "source": [
    "import geopandas as gpd\n",
    "\n",
    "countryGit=gpd.read_file(brazilMaps,layer='country')\n",
    "citiesGit=gpd.read_file(brazilMaps,layer='cities')\n",
    "riversGit=gpd.read_file(brazilMaps,layer='rivers')"
   ]
  },
  {
   "cell_type": "markdown",
   "metadata": {
    "id": "oDOrjj-ytUVH"
   },
   "source": [
    "As you see, it works great:"
   ]
  },
  {
   "cell_type": "code",
   "execution_count": null,
   "metadata": {
    "id": "wEXDJZiJtUVH"
   },
   "outputs": [],
   "source": [
    "base = countryGit.plot(facecolor='gainsboro')\n",
    "citiesGit.plot(ax=base, markersize=0.5, color='red')\n",
    "riversGit.plot(ax=base, linewidth=0.5)"
   ]
  },
  {
   "cell_type": "markdown",
   "metadata": {
    "id": "LPmfpa7rtUVH"
   },
   "source": [
    "### Exercise 1\n",
    "\n",
    "<div class=\"alert-success\">\n",
    "    \n",
    "1. Create a repo: **simpleplot**\n",
    "2. Clone that repo to your computer.\n",
    "3. Get **three** _SHP_ files from the same **country** (do not use islands or small territories). You should have polygons (i.e. regions).\n",
    "4. Save the three maps into one geopackage file.\n",
    "5. Get the link for the geopackage, open it in **R** (make sure you the layers you saved).\n",
    "6. Plot the maps in **flexdashboard** using R. It should look at least like [this](https://raw.githubusercontent.com/SocialAnalytics-StrategicIntelligence/codes/main/images/brazilDash1.jpg)\n",
    "    \n",
    "</div>\n",
    "\n"
   ]
  },
  {
   "cell_type": "markdown",
   "metadata": {
    "id": "cSdJJmvXtUVH"
   },
   "source": [
    "## Pre Processing GeoDataFrames\n",
    "\n",
    "Now, let's see some important pre processing operations:\n",
    "\n",
    "1. [(Re) Projecting](#1)\n",
    "    * [Geoseries projections](#1_1)\n",
    "    * [Lack of Projection](#1_2)\n",
    "    \n",
    "2. [Dissolving](#2)\n",
    "3. [Creating Spatial Points](#3)\n",
    "    * [Creating a convex hull](#31)\n",
    "4. [Checking Validity](#4)"
   ]
  },
  {
   "cell_type": "markdown",
   "metadata": {},
   "source": [
    "<a class=\"anchor\" id=\"1\"></a>\n",
    "\n",
    "## (Re) Projecting  \n",
    "\n",
    "The CRS is a very important property of the maps. They affect three aspects:\n",
    "\n",
    "* shape\n",
    "* area\n",
    "* scale\n",
    "* direction\n",
    "\n",
    "Most maps come with a default CRS: 4326. Pay attention:"
   ]
  },
  {
   "cell_type": "code",
   "execution_count": null,
   "metadata": {},
   "outputs": [],
   "source": [
    "# check units\n",
    "countryGit.crs.axis_info"
   ]
  },
  {
   "cell_type": "markdown",
   "metadata": {},
   "source": [
    "Polygons have a centroid. When we try getting a centroid from an **unprojected** polygon, you get: "
   ]
  },
  {
   "cell_type": "code",
   "execution_count": null,
   "metadata": {},
   "outputs": [],
   "source": [
    "# centroid\n",
    "countryGit.centroid"
   ]
  },
  {
   "cell_type": "markdown",
   "metadata": {},
   "source": [
    "A projected CRS will have units in meters or feet (or similar):"
   ]
  },
  {
   "cell_type": "code",
   "execution_count": null,
   "metadata": {},
   "outputs": [],
   "source": [
    "# let's use CRS 3587\n",
    "\n",
    "countryGit.to_crs(3587).crs.axis_info"
   ]
  },
  {
   "cell_type": "markdown",
   "metadata": {},
   "source": [
    "The reprojected map will not complain if I request the centriod:"
   ]
  },
  {
   "cell_type": "code",
   "execution_count": null,
   "metadata": {},
   "outputs": [],
   "source": [
    "countryGit.to_crs(3587).centroid"
   ]
  },
  {
   "cell_type": "markdown",
   "metadata": {},
   "source": [
    "Let's plot both:"
   ]
  },
  {
   "cell_type": "code",
   "execution_count": null,
   "metadata": {},
   "outputs": [],
   "source": [
    "# plot this projected version\n",
    "\n",
    "base3587= countryGit.to_crs(3587).plot()\n",
    "countryGit.to_crs(3587).centroid.plot(color='red',ax=base3587)"
   ]
  },
  {
   "cell_type": "markdown",
   "metadata": {},
   "source": [
    "We use the crs **3587** as an emergency option to reproject a map. However, for a more accurate option it is better to look for the ones explicitly prepared for a particular locations of the world. You can request a crs per country [here](https://epsg.io/?q=brazil+kind%3APROJCRS):"
   ]
  },
  {
   "cell_type": "code",
   "execution_count": null,
   "metadata": {},
   "outputs": [],
   "source": [
    "# recommended for Brazil (meters)\n",
    "countryGit.to_crs(5641).crs.axis_info"
   ]
  },
  {
   "cell_type": "code",
   "execution_count": null,
   "metadata": {},
   "outputs": [],
   "source": [
    "# this works\n",
    "countryGit.to_crs(5641).centroid"
   ]
  },
  {
   "cell_type": "code",
   "execution_count": null,
   "metadata": {},
   "outputs": [],
   "source": [
    "# replotting:\n",
    "\n",
    "base5641=countryGit.to_crs(5641).plot()\n",
    "countryGit.to_crs(5641).centroid.plot(color='red',ax=base5641)"
   ]
  },
  {
   "cell_type": "markdown",
   "metadata": {},
   "source": [
    "Not using the right projection will give you a wrong numerical result when needing numerical accuracy; however, you might find situation where the visual output seems right (yet it is wrong):"
   ]
  },
  {
   "cell_type": "code",
   "execution_count": null,
   "metadata": {},
   "outputs": [],
   "source": [
    "from matplotlib import pyplot\n",
    "\n",
    "fig, (ax1, ax2) = pyplot.subplots(ncols=2, sharex=False, sharey=False, figsize=(12,12))\n",
    "\n",
    "ax1.set_title('projected (5641)',fontsize=10)\n",
    "countryGit.to_crs(5641).plot(ax=ax1)\n",
    "countryGit.to_crs(5641).centroid.plot(color='red',ax=ax1)\n",
    "\n",
    "# this gives a warning\n",
    "ax2.set_title('unprojected',fontsize=10)\n",
    "countryGit.plot(ax=ax2)\n",
    "countryGit.centroid.plot(color='red',ax=ax2)"
   ]
  },
  {
   "cell_type": "markdown",
   "metadata": {},
   "source": [
    "Let's keep the projected version for all our maps:"
   ]
  },
  {
   "cell_type": "code",
   "execution_count": null,
   "metadata": {},
   "outputs": [],
   "source": [
    "brazil_5641=countryGit.to_crs(5641)\n",
    "# just Brazil\n",
    "\n",
    "cities_5641=citiesGit.to_crs(brazil_5641.crs)\n",
    "cities_5641=cities_5641[cities_5641.COUNTRY=='Brazil']\n",
    "\n",
    "rivers_5641=riversGit.to_crs(brazil_5641.crs)\n",
    "rivers_5641=gpd.clip(gdf=rivers_5641,mask=brazil_5641)"
   ]
  },
  {
   "cell_type": "markdown",
   "metadata": {},
   "source": [
    "We could save these maps of Brazil:"
   ]
  },
  {
   "cell_type": "code",
   "execution_count": null,
   "metadata": {},
   "outputs": [],
   "source": [
    "# saving \n",
    "import os\n",
    "\n",
    "brazil_5641.to_file(os.path.join(\"maps\",\"brazilMaps_5641.gpkg\"), layer='country', driver=\"GPKG\")\n",
    "cities_5641.to_file(os.path.join(\"maps\",\"brazilMaps_5641.gpkg\"), layer='cities', driver=\"GPKG\")\n",
    "rivers_5641.to_file(os.path.join(\"maps\",\"brazilMaps_5641.gpkg\"), layer='rivers', driver=\"GPKG\")"
   ]
  },
  {
   "cell_type": "markdown",
   "metadata": {},
   "source": [
    "### Exercise 2\n",
    "\n",
    "<div class=\"alert-success\">\n",
    "    \n",
    "1. Check the CRS of your map. If there is no CRS information at all, STOP. If you get a CRS, continue.\n",
    "2. If unprojected, look for the right CRS and reproject it.\n",
    "3. Compute the centroid of your country map.\n",
    "4. Plot both the reprojected map and its centroid.\n",
    "   \n",
    "</div>"
   ]
  },
  {
   "cell_type": "markdown",
   "metadata": {},
   "source": [
    "<a class=\"anchor\" id=\"1_1\"></a>\n",
    "\n",
    "### Formating Geoseries projections"
   ]
  },
  {
   "cell_type": "markdown",
   "metadata": {},
   "source": [
    "You know **brazil_5641** is a multipolygon:"
   ]
  },
  {
   "cell_type": "code",
   "execution_count": null,
   "metadata": {},
   "outputs": [],
   "source": [
    "brazil_5641"
   ]
  },
  {
   "cell_type": "markdown",
   "metadata": {},
   "source": [
    "Sometime, you just need the border (lines):"
   ]
  },
  {
   "cell_type": "code",
   "execution_count": null,
   "metadata": {},
   "outputs": [],
   "source": [
    "brazil_5641.boundary"
   ]
  },
  {
   "cell_type": "code",
   "execution_count": null,
   "metadata": {},
   "outputs": [],
   "source": [
    "# This is just the borderline\n",
    "brazil_5641.boundary.plot()"
   ]
  },
  {
   "cell_type": "markdown",
   "metadata": {},
   "source": [
    "Always check the data type:"
   ]
  },
  {
   "cell_type": "code",
   "execution_count": null,
   "metadata": {},
   "outputs": [],
   "source": [
    "# does 'boundary' return a GDF?\n",
    "type(brazil_5641.boundary)"
   ]
  },
  {
   "cell_type": "markdown",
   "metadata": {},
   "source": [
    "Some operations in geopandas require GDF or GS, but some may be exclusive for either. If you need a GDF instead of a GS:"
   ]
  },
  {
   "cell_type": "code",
   "execution_count": null,
   "metadata": {},
   "outputs": [],
   "source": [
    "# converting into GDF\n",
    "brazil_5641.boundary.to_frame()"
   ]
  },
  {
   "cell_type": "markdown",
   "metadata": {},
   "source": [
    "Notice you get a very simple GDF, and you may want to add some info:"
   ]
  },
  {
   "cell_type": "code",
   "execution_count": null,
   "metadata": {},
   "outputs": [],
   "source": [
    "# conversion\n",
    "brazil_5641DF=brazil_5641.boundary.to_frame() \n",
    "\n",
    "# new column (optional)\n",
    "brazil_5641DF['name']='Brazil' \n",
    "\n",
    "# renaming the geometry column\n",
    "brazil_5641DF.rename(columns={0:'geometry'},inplace=True) \n",
    "\n",
    "#setting the geometry (the name is not enough)\n",
    "brazil_5641DF = brazil_5641DF.set_geometry(\"geometry\")\n",
    "\n",
    "# verifying crs:\n",
    "brazil_5641DF.crs"
   ]
  },
  {
   "cell_type": "code",
   "execution_count": null,
   "metadata": {},
   "outputs": [],
   "source": [
    "# see it\n",
    "brazil_5641DF"
   ]
  },
  {
   "cell_type": "markdown",
   "metadata": {},
   "source": [
    "You can add this GDF as a layer:"
   ]
  },
  {
   "cell_type": "code",
   "execution_count": null,
   "metadata": {},
   "outputs": [],
   "source": [
    "brazil_5641DF.to_file(os.path.join(\"maps\",\"brazilMaps_5641.gpkg\"), layer='border', driver=\"GPKG\")"
   ]
  },
  {
   "cell_type": "markdown",
   "metadata": {},
   "source": [
    "### Exercise 3\n",
    "\n",
    "<div class=\"alert-success\"> \n",
    "    \n",
    "1. Recover the boundaries of your country GDF (polygon).\n",
    "    \n",
    "2. Turn the boundary into a GDF.\n",
    "</div>"
   ]
  },
  {
   "cell_type": "markdown",
   "metadata": {},
   "source": [
    "<a class=\"anchor\" id=\"1_2\"></a>\n",
    "\n",
    "### Maps without CRS\n",
    "\n",
    "Reprojecting seems a simple process, but you might find some interesting cases. Download the shapefile of Brazil - Subnational Administrative Boundaries from [here](https://data.humdata.org/dataset/cod-ab-bra) and save it in the maps folder (you need to unzip the file)."
   ]
  },
  {
   "cell_type": "code",
   "execution_count": null,
   "metadata": {},
   "outputs": [],
   "source": [
    "brazil_states=gpd.read_file(os.path.join(\"maps\",\"bra_adm_ibge_2020_shp\",\"bra_admbnda_adm1_ibge_2020.shp\"))\n",
    "brazil_municipalities=gpd.read_file(os.path.join(\"maps\",\"bra_adm_ibge_2020_shp\",\"bra_admbnda_adm2_ibge_2020.shp\"))"
   ]
  },
  {
   "cell_type": "markdown",
   "metadata": {},
   "source": [
    "Notice this:"
   ]
  },
  {
   "cell_type": "code",
   "execution_count": null,
   "metadata": {},
   "outputs": [],
   "source": [
    "brazil_states.crs, brazil_municipalities.crs"
   ]
  },
  {
   "cell_type": "markdown",
   "metadata": {},
   "source": [
    "They do not have crs information, however:"
   ]
  },
  {
   "cell_type": "code",
   "execution_count": null,
   "metadata": {},
   "outputs": [],
   "source": [
    "fig, (ax1, ax2) = pyplot.subplots(ncols=2, sharex=False, sharey=False, figsize=(12,12))\n",
    "\n",
    "brazil_states.plot(ax=ax1, facecolor='lightgrey', edgecolor='black')\n",
    "brazil_municipalities.plot(ax=ax2, facecolor='lightgrey', edgecolor='black',linewidth=0.2)\n"
   ]
  },
  {
   "cell_type": "markdown",
   "metadata": {},
   "source": [
    "Since we are using the crs 5641 for Brazil, we could try:"
   ]
  },
  {
   "cell_type": "code",
   "execution_count": null,
   "metadata": {},
   "outputs": [],
   "source": [
    "brazil_states.to_crs(5641)"
   ]
  },
  {
   "cell_type": "markdown",
   "metadata": {},
   "source": [
    "Python says _\"Please set a crs on the object first\"_. This would mean to know the actual projection, of the geometry:"
   ]
  },
  {
   "cell_type": "code",
   "execution_count": null,
   "metadata": {},
   "outputs": [],
   "source": [
    "brazil_states.geometry"
   ]
  },
  {
   "cell_type": "markdown",
   "metadata": {},
   "source": [
    "From the plots above, it looks like an unprojected map, then:"
   ]
  },
  {
   "cell_type": "code",
   "execution_count": null,
   "metadata": {},
   "outputs": [],
   "source": [
    "brazil_states.crs = \"EPSG:4326\"\n",
    "brazil_municipalities.crs = \"EPSG:4326\""
   ]
  },
  {
   "cell_type": "markdown",
   "metadata": {},
   "source": [
    "Now, we can reproject:"
   ]
  },
  {
   "cell_type": "code",
   "execution_count": null,
   "metadata": {},
   "outputs": [],
   "source": [
    "brazil_states_5641=brazil_states.to_crs(5641)\n",
    "brazil_municipalities_5641=brazil_municipalities.to_crs(5641)"
   ]
  },
  {
   "cell_type": "markdown",
   "metadata": {},
   "source": [
    "We update the file:"
   ]
  },
  {
   "cell_type": "code",
   "execution_count": null,
   "metadata": {},
   "outputs": [],
   "source": [
    "brazil_states_5641.to_file(os.path.join(\"maps\",\"brazilMaps_5641.gpkg\"), layer='states', driver=\"GPKG\")\n",
    "brazil_municipalities_5641.to_file(os.path.join(\"maps\",\"brazilMaps_5641.gpkg\"), layer='municipalities', driver=\"GPKG\")"
   ]
  },
  {
   "cell_type": "markdown",
   "metadata": {},
   "source": [
    "### Exercise 3\n",
    "\n",
    "<div class=\"alert-success\">\n",
    "\n",
    "1. Check all the CRSs of your GDFs.\n",
    "\n",
    "2. If you find one CRS is missing, fill the CRS with the right projection.\n",
    "</div>"
   ]
  },
  {
   "cell_type": "markdown",
   "metadata": {},
   "source": [
    "<a class=\"anchor\" id=\"2\"></a>\n",
    "\n",
    "## Dissolving\n",
    "\n",
    "We have subset the map using clip (subset respect to another map boundaries). You can also subset using _loc_ or _iloc_ (from pandas); let me now subset using   geopandas'  **cx** to do subsetting **by location**:"
   ]
  },
  {
   "cell_type": "code",
   "execution_count": null,
   "metadata": {},
   "outputs": [],
   "source": [
    "centroBrazil=brazil_5641.centroid\n",
    "centroBrazil"
   ]
  },
  {
   "cell_type": "markdown",
   "metadata": {},
   "source": [
    "Notice:"
   ]
  },
  {
   "cell_type": "code",
   "execution_count": null,
   "metadata": {},
   "outputs": [],
   "source": [
    "centroBrazil.x"
   ]
  },
  {
   "cell_type": "code",
   "execution_count": null,
   "metadata": {},
   "outputs": [],
   "source": [
    "centroBrazil.x.iloc[0]"
   ]
  },
  {
   "cell_type": "code",
   "execution_count": null,
   "metadata": {},
   "outputs": [],
   "source": [
    "\n",
    "\n",
    "fig, axs = pyplot.subplots(nrows=2,ncols=2,sharex=False, sharey=False,figsize=(8,8))\n",
    "\n",
    "axs[0,0].set_title('Above_Centroid, LeftOf_Centroid',fontsize=5)\n",
    "brazil_municipalities_5641.cx[:centroBrazil.x.iloc[0],centroBrazil.y.iloc[0]:].plot(ax=axs[0,0]) \n",
    "\n",
    "axs[0,1].set_title('Above_Centroid, RightOf_Centroid',fontsize=5)\n",
    "brazil_municipalities_5641.cx[centroBrazil.x.iloc[0]:,centroBrazil.y.iloc[0]:].plot(ax=axs[0,1]) \n",
    "\n",
    "axs[1,0].set_title('Below_Centroid, LeftOf_Centroid',fontsize=5)\n",
    "brazil_municipalities_5641.cx[:centroBrazil.x.iloc[0],:centroBrazil.y.iloc[0]].plot(ax=axs[1,0]) \n",
    "\n",
    "axs[1,1].set_title('Below_Centroid, RightOf_Centroid',fontsize=5)\n",
    "brazil_municipalities_5641.cx[centroBrazil.x.iloc[0]:,:centroBrazil.y.iloc[0]].plot(ax=axs[1,1]) "
   ]
  },
  {
   "cell_type": "markdown",
   "metadata": {},
   "source": [
    "You can create a polygon with one of these:"
   ]
  },
  {
   "cell_type": "code",
   "execution_count": null,
   "metadata": {},
   "outputs": [],
   "source": [
    "#instead of:\n",
    "brazil_municipalities_5641.cx[:centroBrazil.x.iloc[0],centroBrazil.y.iloc[0]:]"
   ]
  },
  {
   "cell_type": "code",
   "execution_count": null,
   "metadata": {},
   "outputs": [],
   "source": [
    "# you create\n",
    "Brazil_topLeft=brazil_municipalities_5641.cx[:centroBrazil.x.iloc[0],centroBrazil.y.iloc[0]:].dissolve()\n",
    "# you get\n",
    "Brazil_topLeft"
   ]
  },
  {
   "cell_type": "markdown",
   "metadata": {},
   "source": [
    "Aside from the geometry column, the rest is wrong, then:"
   ]
  },
  {
   "cell_type": "code",
   "execution_count": null,
   "metadata": {},
   "outputs": [],
   "source": [
    "Brazil_topLeft['zone']='NW'\n",
    "Brazil_topLeft=Brazil_topLeft.loc[:,['ADM0_EN','zone','geometry']]   \n",
    "Brazil_topLeft"
   ]
  },
  {
   "cell_type": "code",
   "execution_count": null,
   "metadata": {},
   "outputs": [],
   "source": [
    "# this is the plot\n",
    "\n",
    "Brazil_topLeft.plot()"
   ]
  },
  {
   "cell_type": "markdown",
   "metadata": {},
   "source": [
    "Keep in mind that with **CX** you may not get a perfect partition:"
   ]
  },
  {
   "cell_type": "code",
   "execution_count": null,
   "metadata": {},
   "outputs": [],
   "source": [
    "\n",
    "rowsCX=(brazil_municipalities_5641.cx[:centroBrazil.x.iloc[0],centroBrazil.y.iloc[0]:].shape[0],\\\n",
    "brazil_municipalities_5641.cx[centroBrazil.x.iloc[0]:,centroBrazil.y.iloc[0]:].shape[0],\\\n",
    "brazil_municipalities_5641.cx[:centroBrazil.x.iloc[0],:centroBrazil.y.iloc[0]].shape[0],\\\n",
    "brazil_municipalities_5641.cx[centroBrazil.x.iloc[0]:,:centroBrazil.y.iloc[0]].shape[0])\n",
    "sum(rowsCX)"
   ]
  },
  {
   "cell_type": "markdown",
   "metadata": {},
   "source": [
    "So, you have duplicated polygons across the zones:"
   ]
  },
  {
   "cell_type": "code",
   "execution_count": null,
   "metadata": {},
   "outputs": [],
   "source": [
    "sum(rowsCX)-brazil_municipalities_5641.shape[0]"
   ]
  },
  {
   "cell_type": "markdown",
   "metadata": {},
   "source": [
    "### Exercise 4\n",
    "\n",
    "\n",
    "<div class=\"alert-success\"> \n",
    "\n",
    "1. Compute the centroid of your country.\n",
    "\n",
    "2. Dissolve all the polygons to the north, and also all the polygons to the south. Plot both results.\n",
    "\n",
    "3. Detect the amount of duplicates after the dissolving process.\n",
    "    \n",
    "</div>"
   ]
  },
  {
   "cell_type": "markdown",
   "metadata": {},
   "source": [
    "<a class=\"anchor\" id=\"3\"></a>\n",
    "\n",
    "## Creating Spatial data\n",
    "\n",
    "You will get Lines and Polygons as maps for sure, but that may not be the case with points. Let me download a **CSV** file with information on the airports in Brazil from this [website](https://data.humdata.org/dataset/ourairports-bra), I will save it in my **data** folder:"
   ]
  },
  {
   "cell_type": "code",
   "execution_count": null,
   "metadata": {},
   "outputs": [],
   "source": [
    "import pandas as pd \n",
    "infoairports=pd.read_csv(os.path.join(\"data\",\"br-airports.csv\"))\n",
    "\n",
    "# some rows\n",
    "\n",
    "infoairports.iloc[[0,1,2,3,-4,-3,-2,-1],:] #head and tail"
   ]
  },
  {
   "cell_type": "markdown",
   "metadata": {},
   "source": [
    "This needs some cleaning:"
   ]
  },
  {
   "cell_type": "code",
   "execution_count": null,
   "metadata": {},
   "outputs": [],
   "source": [
    "# bye first row \n",
    "infoairports.drop(index=0,inplace=True)\n",
    "infoairports.reset_index(drop=True, inplace=True)\n",
    "infoairports.head()"
   ]
  },
  {
   "cell_type": "code",
   "execution_count": null,
   "metadata": {},
   "outputs": [],
   "source": [
    "# keep the  columns needed\n",
    "\n",
    "infoairports.columns"
   ]
  },
  {
   "cell_type": "code",
   "execution_count": null,
   "metadata": {},
   "outputs": [],
   "source": [
    "keep=['name','type','latitude_deg', 'longitude_deg','elevation_ft','region_name','municipality']\n",
    "infoairports=infoairports.loc[:,keep]"
   ]
  },
  {
   "cell_type": "code",
   "execution_count": null,
   "metadata": {},
   "outputs": [],
   "source": [
    "infoairports.info()"
   ]
  },
  {
   "cell_type": "markdown",
   "metadata": {},
   "source": [
    "Some formatting:"
   ]
  },
  {
   "cell_type": "code",
   "execution_count": null,
   "metadata": {},
   "outputs": [],
   "source": [
    "numericCols=['latitude_deg', 'longitude_deg','elevation_ft']\n",
    "infoairports[numericCols]=infoairports.loc[:,numericCols].apply(lambda x:pd.to_numeric(x))\n",
    "\n",
    "# now \n",
    "infoairports.info()"
   ]
  },
  {
   "cell_type": "code",
   "execution_count": null,
   "metadata": {},
   "outputs": [],
   "source": [
    "# let's plot\n",
    "\n",
    "base = countryGit.plot(color='white', edgecolor='black') #unprojected\n",
    "\n",
    "infoairports.plot.scatter(x = 'longitude_deg', y = 'latitude_deg',ax=base)"
   ]
  },
  {
   "cell_type": "markdown",
   "metadata": {},
   "source": [
    "Would that be ok? It is supposed to be right. \n",
    "Let me turn those coordinates into a map of points:"
   ]
  },
  {
   "cell_type": "code",
   "execution_count": null,
   "metadata": {},
   "outputs": [],
   "source": [
    "airports=gpd.GeoDataFrame(data=infoairports.copy(),\n",
    "                 geometry=gpd.points_from_xy(infoairports.longitude_deg,\n",
    "                                             infoairports.latitude_deg), \n",
    "                 crs=countryGit.crs.to_epsg())# the coordinates were in degrees - unprojected"
   ]
  },
  {
   "cell_type": "code",
   "execution_count": null,
   "metadata": {},
   "outputs": [],
   "source": [
    "# does it look better?\n",
    "\n",
    "# let's plot\n",
    "\n",
    "base = countryGit.plot(color='white', edgecolor='black')\n",
    "airports.plot(ax=base)"
   ]
  },
  {
   "cell_type": "code",
   "execution_count": null,
   "metadata": {},
   "outputs": [],
   "source": [
    "#remember:\n",
    "type(airports), type(infoairports)"
   ]
  },
  {
   "cell_type": "markdown",
   "metadata": {},
   "source": [
    "Then this works:"
   ]
  },
  {
   "cell_type": "code",
   "execution_count": null,
   "metadata": {},
   "outputs": [],
   "source": [
    "airports.to_crs(5641).plot()"
   ]
  },
  {
   "cell_type": "code",
   "execution_count": null,
   "metadata": {},
   "outputs": [],
   "source": [
    "# this does not:\n",
    "infoairports.to_crs(5641).plot()"
   ]
  },
  {
   "cell_type": "markdown",
   "metadata": {},
   "source": [
    "Let's keep the projected version:"
   ]
  },
  {
   "cell_type": "code",
   "execution_count": null,
   "metadata": {},
   "outputs": [],
   "source": [
    "airports_5641=airports.to_crs(5641)"
   ]
  },
  {
   "cell_type": "markdown",
   "metadata": {},
   "source": [
    "Remember you have type of airports:"
   ]
  },
  {
   "cell_type": "code",
   "execution_count": null,
   "metadata": {},
   "outputs": [],
   "source": [
    "airports_5641['type'].value_counts() # this will not work: airports.type.value_counts()"
   ]
  },
  {
   "cell_type": "markdown",
   "metadata": {},
   "source": [
    "We may use that in the future. For now, just rename the **type** column to a different one."
   ]
  },
  {
   "cell_type": "code",
   "execution_count": null,
   "metadata": {},
   "outputs": [],
   "source": [
    "airports_5641.rename(columns={'type':'kind'},inplace=True)"
   ]
  },
  {
   "cell_type": "markdown",
   "metadata": {},
   "source": [
    "Now, let's add this map of points:"
   ]
  },
  {
   "cell_type": "code",
   "execution_count": null,
   "metadata": {},
   "outputs": [],
   "source": [
    "airports_5641.to_file(os.path.join(\"maps\",\"brazilMaps_5641.gpkg\"),layer='airports', driver=\"GPKG\")"
   ]
  },
  {
   "cell_type": "markdown",
   "metadata": {},
   "source": [
    "\n",
    "### Exercise 5 (extra credit - optional)\n",
    "<div class=\"alert-success\">\n",
    "\n",
    "1. Look for some points in a CSV file about your country.\n",
    "    \n",
    "2. Turn those points into a spatial object.\n",
    "    \n",
    "3. Save the layer.\n",
    "    \n",
    "</div>"
   ]
  },
  {
   "cell_type": "markdown",
   "metadata": {},
   "source": [
    "<a class=\"anchor\" id=\"31\"></a>\n",
    "\n",
    "## Creating the convex hull\n",
    "\n",
    "Some time you may have the need to create a polygon that serves as an envelope to a set of points. As en envelope, it should have only convex angles. That envelope is the convex hull:"
   ]
  },
  {
   "cell_type": "code",
   "execution_count": null,
   "metadata": {},
   "outputs": [],
   "source": [
    "# in a polygon\n",
    "Brazil_topLeft"
   ]
  },
  {
   "cell_type": "code",
   "execution_count": null,
   "metadata": {},
   "outputs": [],
   "source": [
    "Brazil_topLeft.plot()"
   ]
  },
  {
   "cell_type": "code",
   "execution_count": null,
   "metadata": {},
   "outputs": [],
   "source": [
    "Brazil_topLeft.convex_hull"
   ]
  },
  {
   "cell_type": "code",
   "execution_count": null,
   "metadata": {},
   "outputs": [],
   "source": [
    "Brazil_topLeft.convex_hull.plot()"
   ]
  },
  {
   "cell_type": "markdown",
   "metadata": {},
   "source": [
    "Notice that the convex hull works for each row of the geometry. _Brazil_topLeft_ was one geometry row, so the convex hull was straightforward.\n",
    "\n",
    "This might be different if you have points:"
   ]
  },
  {
   "cell_type": "code",
   "execution_count": null,
   "metadata": {},
   "outputs": [],
   "source": [
    "large_airport=airports_5641[airports_5641.kind=='large_airport']\n",
    "# several rows\n",
    "large_airport"
   ]
  },
  {
   "cell_type": "markdown",
   "metadata": {},
   "source": [
    "In this situation, as you want the convex hull of the large airports, you need to combine all the points:"
   ]
  },
  {
   "cell_type": "code",
   "execution_count": null,
   "metadata": {},
   "outputs": [],
   "source": [
    "large_airport.unary_union"
   ]
  },
  {
   "cell_type": "markdown",
   "metadata": {},
   "source": [
    "This is a **multipoint** geometry:"
   ]
  },
  {
   "cell_type": "code",
   "execution_count": null,
   "metadata": {},
   "outputs": [],
   "source": [
    "gpd.GeoSeries(large_airport.unary_union)"
   ]
  },
  {
   "cell_type": "markdown",
   "metadata": {},
   "source": [
    "Then, you are ready to get the convex hull:"
   ]
  },
  {
   "cell_type": "code",
   "execution_count": null,
   "metadata": {},
   "outputs": [],
   "source": [
    "large_airport.unary_union.convex_hull"
   ]
  },
  {
   "cell_type": "markdown",
   "metadata": {},
   "source": [
    "Notice the type:"
   ]
  },
  {
   "cell_type": "code",
   "execution_count": null,
   "metadata": {},
   "outputs": [],
   "source": [
    "type(large_airport.unary_union.convex_hull)"
   ]
  },
  {
   "cell_type": "markdown",
   "metadata": {},
   "source": [
    "This will not work for a geometry:"
   ]
  },
  {
   "cell_type": "code",
   "execution_count": null,
   "metadata": {},
   "outputs": [],
   "source": [
    "large_airport.unary_union.convex_hull.plot()"
   ]
  },
  {
   "cell_type": "code",
   "execution_count": null,
   "metadata": {},
   "outputs": [],
   "source": [
    "# but it will for a series\n",
    "gpd.GeoSeries(large_airport.unary_union.convex_hull).plot()"
   ]
  },
  {
   "cell_type": "markdown",
   "metadata": {},
   "source": [
    "Let's turn the GS into a GDF:"
   ]
  },
  {
   "cell_type": "code",
   "execution_count": null,
   "metadata": {},
   "outputs": [],
   "source": [
    "# as gdf\n",
    "LargeAirport_hull=gpd.GeoSeries(large_airport.unary_union.convex_hull).to_frame()\n",
    "LargeAirport_hull"
   ]
  },
  {
   "cell_type": "code",
   "execution_count": null,
   "metadata": {},
   "outputs": [],
   "source": [
    "#next steps\n",
    "LargeAirport_hull.rename(columns={0:'geometry'},inplace=True)\n",
    "LargeAirport_hull['name']='large airports hull' # optional\n",
    "LargeAirport_hull=LargeAirport_hull.set_geometry('geometry')\n",
    "LargeAirport_hull.crs=\"EPSG:5641\"\n",
    "# verifying:\n",
    "LargeAirport_hull.crs"
   ]
  },
  {
   "cell_type": "markdown",
   "metadata": {},
   "source": [
    "Let's use the GDF in plotting:"
   ]
  },
  {
   "cell_type": "code",
   "execution_count": null,
   "metadata": {},
   "outputs": [],
   "source": [
    "base=brazil_5641.plot(facecolor='yellow')\n",
    "large_airport.plot(ax=base)\n",
    "LargeAirport_hull.plot(ax=base,facecolor='green',\n",
    "                       edgecolor='white',alpha=0.4,\n",
    "                       hatch='X')"
   ]
  },
  {
   "cell_type": "code",
   "execution_count": null,
   "metadata": {},
   "outputs": [],
   "source": [
    "LargeAirport_hull.explore()"
   ]
  },
  {
   "cell_type": "markdown",
   "metadata": {},
   "source": [
    "### Exercise 6 \n",
    "\n",
    "<div class=\"alert-success\">\n",
    "\n",
    "1. Select some points from your maps.\n",
    "    \n",
    "2. Create the convex hull for those points.\n",
    "    \n",
    "3. Turn the hull into a GDF.\n",
    "    \n",
    "4. Plot the hull on top of the country.\n",
    "    \n",
    "</div>"
   ]
  },
  {
   "cell_type": "markdown",
   "metadata": {},
   "source": [
    "<a class=\"anchor\" id=\"4\"></a>\n",
    "\n",
    "## Checking Validity of Geometry\n",
    "\n",
    "Geometries are created in a way that some issues may appear, especially in (multi) polygons.\n",
    "Let's check if our recent maps on states and municipalities are valid:"
   ]
  },
  {
   "cell_type": "code",
   "execution_count": null,
   "metadata": {},
   "outputs": [],
   "source": [
    "# non valid\n",
    "brazil_states_5641[~brazil_states_5641.is_valid]"
   ]
  },
  {
   "cell_type": "code",
   "execution_count": null,
   "metadata": {},
   "outputs": [],
   "source": [
    "# see the invalid:\n",
    "brazil_states_5641[~brazil_states_5641.is_valid].plot()"
   ]
  },
  {
   "cell_type": "markdown",
   "metadata": {},
   "source": [
    "It is difficult to see what is wrong. Let's get some information:"
   ]
  },
  {
   "cell_type": "code",
   "execution_count": null,
   "metadata": {},
   "outputs": [],
   "source": [
    "# what is wrong?\n",
    "\n",
    "from shapely.validation import explain_validity, make_valid\n",
    "\n",
    "explain_validity(brazil_states_5641[~brazil_states_5641.is_valid].geometry)"
   ]
  },
  {
   "cell_type": "markdown",
   "metadata": {},
   "source": [
    "Let's solve the issue:"
   ]
  },
  {
   "cell_type": "code",
   "execution_count": null,
   "metadata": {},
   "outputs": [],
   "source": [
    "BrSt5641_valid=brazil_states_5641[~brazil_states_5641.is_valid].copy()\n",
    "\n",
    "# solving the issue:\n",
    "BrSt5641_valid['geometry'] = [make_valid(row)  if not row.is_valid else row for row in BrSt5641_valid['geometry']]\n"
   ]
  },
  {
   "cell_type": "code",
   "execution_count": null,
   "metadata": {},
   "outputs": [],
   "source": [
    "# any invalid?\n",
    "BrSt5641_valid[~BrSt5641_valid.is_valid]"
   ]
  },
  {
   "cell_type": "code",
   "execution_count": null,
   "metadata": {},
   "outputs": [],
   "source": [
    "What about the other geodataframe?"
   ]
  },
  {
   "cell_type": "code",
   "execution_count": null,
   "metadata": {},
   "outputs": [],
   "source": [
    "brazil_municipalities_5641[~brazil_municipalities_5641.is_valid]"
   ]
  },
  {
   "cell_type": "code",
   "execution_count": null,
   "metadata": {},
   "outputs": [],
   "source": [
    "explain_validity(brazil_municipalities_5641[~brazil_municipalities_5641.is_valid].geometry)"
   ]
  },
  {
   "cell_type": "code",
   "execution_count": null,
   "metadata": {},
   "outputs": [],
   "source": [
    "Validity=pd.Series([x.split('[')[0] for x in explain_validity(brazil_municipalities_5641.geometry)])\n",
    "Validity.value_counts()"
   ]
  },
  {
   "cell_type": "code",
   "execution_count": null,
   "metadata": {},
   "outputs": [],
   "source": [
    "# solving the issue:\n",
    "\n",
    "BrMun5641_valid=brazil_municipalities_5641.copy()\n",
    "\n",
    "BrMun5641_valid['geometry'] = [make_valid(row)  if not row.is_valid else row for row in BrMun5641_valid['geometry'] ]\n",
    "#any invalid?\n",
    "BrMun5641_valid[~BrMun5641_valid.is_valid]"
   ]
  },
  {
   "cell_type": "markdown",
   "metadata": {},
   "source": [
    "The _solution_ we got may help for some advanced techniques, but may also give us some extra trouble. Notice that once geopandas solved the problem, you  have created **collections**:"
   ]
  },
  {
   "cell_type": "code",
   "execution_count": null,
   "metadata": {},
   "outputs": [],
   "source": [
    "[x for x in BrMun5641_valid[\"geometry\"]]"
   ]
  },
  {
   "cell_type": "markdown",
   "metadata": {},
   "source": [
    "Let's not save these last changes."
   ]
  },
  {
   "cell_type": "markdown",
   "metadata": {},
   "source": [
    "### Exercise 7 \n",
    "\n",
    "<div class=\"alert-success\">\n",
    "\n",
    "1. Check if all your polygons are valid in every map you have (map of polygons only).\n",
    "    \n",
    "2. If you detect some invalid geometries, detect what the problem is.\n",
    "    \n",
    "3. Correct all cases. Do not save the results.\n",
    "    \n",
    "</div>"
   ]
  },
  {
   "cell_type": "code",
   "execution_count": null,
   "metadata": {},
   "outputs": [],
   "source": []
  }
 ],
 "metadata": {
  "anaconda-cloud": {
   "attach-environment": true,
   "summary": "test"
  },
  "colab": {
   "provenance": []
  },
  "hide_input": false,
  "kernelspec": {
   "display_name": "Python 3 (ipykernel)",
   "language": "python",
   "name": "python3"
  },
  "language_info": {
   "codemirror_mode": {
    "name": "ipython",
    "version": 3
   },
   "file_extension": ".py",
   "mimetype": "text/x-python",
   "name": "python",
   "nbconvert_exporter": "python",
   "pygments_lexer": "ipython3",
   "version": "3.11.5"
  },
  "toc-autonumbering": false
 },
 "nbformat": 4,
 "nbformat_minor": 4
}
