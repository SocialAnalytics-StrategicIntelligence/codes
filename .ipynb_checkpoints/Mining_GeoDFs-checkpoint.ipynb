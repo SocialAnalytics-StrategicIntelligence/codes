{
 "cells": [
  {
   "cell_type": "markdown",
   "id": "2921b8d1",
   "metadata": {},
   "source": [
    "<center><img src=\"https://i.imgur.com/zRrFdsf.png\" width=\"700\"></center>\n",
    "\n",
    "\n",
    "Let's bring the data we created last time:"
   ]
  },
  {
   "cell_type": "code",
   "execution_count": null,
   "id": "d035f11e",
   "metadata": {},
   "outputs": [],
   "source": [
    "brazilMapsLink=\"https://github.com/CienciaDeDatosEspacial/code_and_data/raw/main/maps/brazilMaps_5641.gpkg\"\n",
    "\n",
    "from  fiona import listlayers\n",
    "\n",
    "\n",
    "#layers in maps\n",
    "listlayers(brazilMapsLink)"
   ]
  },
  {
   "cell_type": "code",
   "execution_count": null,
   "id": "71bca363",
   "metadata": {},
   "outputs": [],
   "source": [
    "# reading in the data:\n",
    "\n",
    "import os\n",
    "os.environ['USE_PYGEOS'] = '0'\n",
    "\n",
    "import geopandas as gpd\n",
    "\n",
    "states=gpd.read_file(brazilMapsLink,layer='states')\n",
    "municipalities=gpd.read_file(brazilMapsLink,layer='municipalities')\n",
    "airports=gpd.read_file(brazilMapsLink,layer='airports')\n",
    "rivers=gpd.read_file(brazilMapsLink,layer='rivers')\n",
    "border=gpd.read_file(brazilMapsLink,layer='border')"
   ]
  },
  {
   "cell_type": "markdown",
   "id": "c567126e",
   "metadata": {},
   "source": [
    "In this [link](https://msi.nga.mil/Publications/WPI) we find the  World Port Index (Pub 150), which contains several data on major ports and terminals world-wide. Download the **UpdatedPub150.csv** file in your **data** folder and read it:"
   ]
  },
  {
   "cell_type": "code",
   "execution_count": null,
   "id": "ea0d908f",
   "metadata": {},
   "outputs": [],
   "source": [
    "import pandas as pd \n",
    "infoseaports=pd.read_csv(os.path.join(\"data\",\"UpdatedPub150.csv\"))\n",
    "\n",
    "#columns available (so many)\n",
    "infoseaports.columns.to_list()"
   ]
  },
  {
   "cell_type": "markdown",
   "id": "6ae0e92a",
   "metadata": {},
   "source": [
    "Let me do some preprocessing:"
   ]
  },
  {
   "cell_type": "code",
   "execution_count": null,
   "id": "42dc537e",
   "metadata": {},
   "outputs": [],
   "source": [
    "\n",
    "infoseaports.rename(columns={'Main Port Name':'portName'},inplace=True)\n",
    "infoseaports=infoseaports.loc[:,['portName', 'Country Code','Latitude', 'Longitude']]\n",
    "infoseaports.info()"
   ]
  },
  {
   "cell_type": "markdown",
   "id": "810f28f2",
   "metadata": {},
   "source": [
    "It looks ready to become a spatial object (GDF):"
   ]
  },
  {
   "cell_type": "code",
   "execution_count": null,
   "id": "16d2a73e",
   "metadata": {},
   "outputs": [],
   "source": [
    "seaports=gpd.GeoDataFrame(data=infoseaports.copy(),\n",
    "                 geometry=gpd.points_from_xy(infoseaports.Longitude,\n",
    "                                             infoseaports.Latitude), \n",
    "                 crs=4326)# notice it is unprojected\n",
    "\n",
    "seaports_bra=seaports[seaports['Country Code']=='Brazil'].copy()\n",
    "\n",
    "seaports_bra.reset_index(drop=True, inplace=True)\n",
    "\n",
    "seaports_bra_5641=seaports_bra.to_crs(5641) # projected crs"
   ]
  },
  {
   "cell_type": "markdown",
   "id": "c5afed0d",
   "metadata": {},
   "source": [
    "Let me plot seaports along with the airport (only large ones) we have:"
   ]
  },
  {
   "cell_type": "code",
   "execution_count": null,
   "id": "efd8f3eb",
   "metadata": {},
   "outputs": [],
   "source": [
    "# subsetting\n",
    "largeAirports=airports[airports.kind=='large_airport'] \n",
    "largeAirports.reset_index(drop=True, inplace=True)\n",
    "\n",
    "#plotting\n",
    "base=largeAirports.plot(color='red',marker=\"^\")\n",
    "seaports_bra_5641.plot(ax=base,alpha=0.5,markersize=3)"
   ]
  },
  {
   "cell_type": "markdown",
   "id": "e33e90a3",
   "metadata": {},
   "source": [
    "# Distance\n",
    "\n",
    "## Between points\n",
    "\n",
    "The easiest way to understand distance is to compute how far two coordinates are from each other.\n",
    "\n",
    "You have the seaports:"
   ]
  },
  {
   "cell_type": "code",
   "execution_count": null,
   "id": "40daaf71",
   "metadata": {},
   "outputs": [],
   "source": [
    "seaports_bra_5641.head()"
   ]
  },
  {
   "cell_type": "markdown",
   "id": "a923d850",
   "metadata": {},
   "source": [
    "..and the large airports:"
   ]
  },
  {
   "cell_type": "code",
   "execution_count": null,
   "id": "8b3058d8",
   "metadata": {},
   "outputs": [],
   "source": [
    "largeAirports.head()"
   ]
  },
  {
   "cell_type": "markdown",
   "id": "63843300",
   "metadata": {},
   "source": [
    "If both GDFs have the same projected CRS, we can use the **distance** function:"
   ]
  },
  {
   "cell_type": "code",
   "execution_count": null,
   "id": "d4c53d18",
   "metadata": {},
   "outputs": [],
   "source": [
    "# distance between 'Guarulhos' and 'Dtse / Gegua Oil Terminal' in km\n",
    "largeAirports.iloc[0].geometry.distance(seaports_bra_5641.iloc[0].geometry)/1000"
   ]
  },
  {
   "cell_type": "markdown",
   "id": "e38446d9",
   "metadata": {},
   "source": [
    "However, let's make an effort and create all the distances:"
   ]
  },
  {
   "cell_type": "code",
   "execution_count": null,
   "id": "61a86921",
   "metadata": {},
   "outputs": [],
   "source": [
    "#try 1\n",
    "seaports_bra_5641.geometry.apply\\\n",
    "(lambda g: largeAirports.geometry.distance(g)/1000)"
   ]
  },
  {
   "cell_type": "code",
   "execution_count": null,
   "id": "dde1d24e",
   "metadata": {},
   "outputs": [],
   "source": [
    "# try 2\n",
    "seaports_bra_5641.set_index('portName').geometry.apply\\\n",
    "(lambda g: largeAirports.set_index('name').geometry.distance(g)/1000)"
   ]
  },
  {
   "cell_type": "code",
   "execution_count": null,
   "id": "0936bad1",
   "metadata": {},
   "outputs": [],
   "source": [
    "#try 3\n",
    "seaports_bra_5641.set_index('portName').geometry.apply\\\n",
    "(lambda g: largeAirports.set_index('name').geometry.distance(g)/1000).\\\n",
    "sort_index(axis=0).sort_index(axis=1)"
   ]
  },
  {
   "cell_type": "markdown",
   "id": "3c02e6be",
   "metadata": {},
   "source": [
    "Let's keep the last one:"
   ]
  },
  {
   "cell_type": "code",
   "execution_count": null,
   "id": "3d2f0b5c",
   "metadata": {},
   "outputs": [],
   "source": [
    "distanceMatrixKM_sea_air= seaports_bra_5641.set_index('portName').geometry.apply\\\n",
    "                          (lambda g: largeAirports.set_index('name').geometry.distance(g)/1000).\\\n",
    "                          sort_index(axis=0).sort_index(axis=1)"
   ]
  },
  {
   "cell_type": "markdown",
   "id": "481b14df",
   "metadata": {},
   "source": [
    "This a data frame (pandas), and the facilities are row and column indexes. This is useful this way:"
   ]
  },
  {
   "cell_type": "code",
   "execution_count": null,
   "id": "1d023731",
   "metadata": {},
   "outputs": [],
   "source": [
    "# the mean distance from a seaport to all the large airports (sorted)\n",
    "distanceMatrixKM_sea_air.mean(axis=1).sort_values(ascending=True)"
   ]
  },
  {
   "cell_type": "markdown",
   "id": "4a58d83a",
   "metadata": {},
   "source": [
    "Let's compute more stats:"
   ]
  },
  {
   "cell_type": "code",
   "execution_count": null,
   "id": "a565ab8a",
   "metadata": {},
   "outputs": [],
   "source": [
    "SomeStats=pd.DataFrame()\n",
    "SomeStats['mean']=distanceMatrixKM_sea_air.mean(axis=1)\n",
    "SomeStats['min']=distanceMatrixKM_sea_air.min(axis=1)\n",
    "SomeStats['max']=distanceMatrixKM_sea_air.max(axis=1)\n",
    "SomeStats.head()"
   ]
  },
  {
   "cell_type": "markdown",
   "id": "a343ceec",
   "metadata": {},
   "source": [
    "We can also use **idxmax** to get the particular locations:"
   ]
  },
  {
   "cell_type": "code",
   "execution_count": null,
   "id": "3ce11850",
   "metadata": {},
   "outputs": [],
   "source": [
    "# farthest airport to each seaport\n",
    "distanceMatrixKM_sea_air.idxmax(axis=\"columns\")"
   ]
  },
  {
   "cell_type": "code",
   "execution_count": null,
   "id": "ab247b61",
   "metadata": {},
   "outputs": [],
   "source": [
    "# farthest seaport to each airport\n",
    "distanceMatrixKM_sea_air.idxmax(axis=\"rows\")"
   ]
  },
  {
   "cell_type": "code",
   "execution_count": null,
   "id": "1d1014f2",
   "metadata": {},
   "outputs": [],
   "source": [
    "# closest airport to each seaport\n",
    "distanceMatrixKM_sea_air.idxmin(axis=\"columns\")"
   ]
  },
  {
   "cell_type": "code",
   "execution_count": null,
   "id": "4721bc58",
   "metadata": {},
   "outputs": [],
   "source": [
    "# closest seaport to each airport\n",
    "distanceMatrixKM_sea_air.idxmin(axis=\"rows\")"
   ]
  },
  {
   "cell_type": "markdown",
   "id": "b89d2161",
   "metadata": {},
   "source": [
    "### Exercise 1\n",
    "\n",
    "<div class=\"alert-success\">\n",
    "    \n",
    "1. Create two sets of points.\n",
    "\n",
    "2. Compute the distance matrix for both sets.\n",
    "\n",
    "3. Select one row of the distance matrix, and plot the two point with the minimal distance\n",
    "    \n",
    "    \n",
    "</div>"
   ]
  },
  {
   "cell_type": "markdown",
   "id": "0cceb84e",
   "metadata": {},
   "source": [
    "## Distance between line and point"
   ]
  },
  {
   "cell_type": "markdown",
   "id": "4c4afe9d",
   "metadata": {},
   "source": [
    "Let's take a look at the rivers we have:"
   ]
  },
  {
   "cell_type": "code",
   "execution_count": null,
   "id": "c8c4ccd6",
   "metadata": {},
   "outputs": [],
   "source": [
    "rivers"
   ]
  },
  {
   "cell_type": "code",
   "execution_count": null,
   "id": "c57145a2",
   "metadata": {},
   "outputs": [],
   "source": [
    "#keep one:\n",
    "\n",
    "rivers[rivers.NAME.str.contains('Grande')]"
   ]
  },
  {
   "cell_type": "markdown",
   "id": "67e02737",
   "metadata": {},
   "source": [
    "You can see that distance works between these two elements:"
   ]
  },
  {
   "cell_type": "code",
   "execution_count": null,
   "id": "874c38f3",
   "metadata": {},
   "outputs": [],
   "source": [
    "rivers[rivers.NAME.str.contains('Grande')].iloc[0].geometry.distance(largeAirports.geometry)"
   ]
  },
  {
   "cell_type": "markdown",
   "id": "3a669e18",
   "metadata": {},
   "source": [
    "Based on what we did previously, let's compute all the distances:"
   ]
  },
  {
   "cell_type": "code",
   "execution_count": null,
   "id": "be3f7a01",
   "metadata": {},
   "outputs": [],
   "source": [
    "distanceMatrixKM_riv_air=rivers.set_index('NAME').geometry.apply\\\n",
    "(lambda g: largeAirports.set_index('name').geometry.distance(g)/1000).\\\n",
    "sort_index(axis=0).sort_index(axis=1)\n",
    "distanceMatrixKM_riv_air"
   ]
  },
  {
   "cell_type": "markdown",
   "id": "7cf3dafa",
   "metadata": {},
   "source": [
    "Here, we see one row (river), that tells the distance to each column (large airport):"
   ]
  },
  {
   "cell_type": "code",
   "execution_count": null,
   "id": "9b23b4d4",
   "metadata": {},
   "outputs": [],
   "source": [
    "distanceMatrixKM_riv_air.loc['Rio Grande, South America'].sort_values()"
   ]
  },
  {
   "cell_type": "markdown",
   "id": "48194e60",
   "metadata": {},
   "source": [
    "Let's try a plot:"
   ]
  },
  {
   "cell_type": "code",
   "execution_count": null,
   "id": "b0642c01",
   "metadata": {},
   "outputs": [],
   "source": [
    "base=rivers[rivers.NAME.str.contains('Grande')].explore()\n",
    "largeAirports.explore(m=base,color='red',marker_kwds=dict(radius=10))"
   ]
  },
  {
   "cell_type": "markdown",
   "id": "2211781a",
   "metadata": {},
   "source": [
    "Let's focus on the ones that belong to a system:"
   ]
  },
  {
   "cell_type": "code",
   "execution_count": null,
   "id": "c0cb47c7",
   "metadata": {},
   "outputs": [],
   "source": [
    "rivers[~rivers.SYSTEM.isna()]"
   ]
  },
  {
   "cell_type": "markdown",
   "id": "4186d59d",
   "metadata": {},
   "source": [
    "Let's dissolve the ones that belong to a system into a multiline:"
   ]
  },
  {
   "cell_type": "code",
   "execution_count": null,
   "id": "e1796bcf",
   "metadata": {},
   "outputs": [],
   "source": [
    "systems=rivers.dissolve(by='SYSTEM')\n",
    "systems"
   ]
  },
  {
   "cell_type": "markdown",
   "id": "22a63e87",
   "metadata": {},
   "source": [
    "Let's do som basic formatting:"
   ]
  },
  {
   "cell_type": "code",
   "execution_count": null,
   "id": "d4e139d6",
   "metadata": {},
   "outputs": [],
   "source": [
    "# format the GDF:\n",
    "systems['NAME']=systems.index\n",
    "systems.reset_index(drop=True,inplace=True)\n",
    "systems"
   ]
  },
  {
   "cell_type": "markdown",
   "id": "2e8f39a4",
   "metadata": {},
   "source": [
    "Another distance matrix:"
   ]
  },
  {
   "cell_type": "code",
   "execution_count": null,
   "id": "b69142db",
   "metadata": {},
   "outputs": [],
   "source": [
    "distanceMatrixKM_sys_air=systems.set_index('NAME').geometry.apply\\\n",
    "(lambda g: largeAirports.set_index('name').geometry.distance(g)/1000).\\\n",
    "sort_index(axis=0).sort_index(axis=1)\n",
    "\n",
    "distanceMatrixKM_sys_air"
   ]
  },
  {
   "cell_type": "markdown",
   "id": "db17f599",
   "metadata": {},
   "source": [
    "This time, let me get all the minimum distances:"
   ]
  },
  {
   "cell_type": "code",
   "execution_count": null,
   "id": "74f986d3",
   "metadata": {},
   "outputs": [],
   "source": [
    "mins=distanceMatrixKM_sys_air.idxmin(axis=\"columns\")\n",
    "mins"
   ]
  },
  {
   "cell_type": "code",
   "execution_count": null,
   "id": "43faa293",
   "metadata": {},
   "outputs": [],
   "source": [
    "# one of them\n",
    "mins[1]"
   ]
  },
  {
   "cell_type": "markdown",
   "id": "c1e10c68",
   "metadata": {},
   "source": [
    "Let's see now:"
   ]
  },
  {
   "cell_type": "code",
   "execution_count": null,
   "id": "a5690879",
   "metadata": {},
   "outputs": [],
   "source": [
    "base=systems.explore()\n",
    "# the closest\n",
    "largeAirports[largeAirports.name.isin(mins)].explore(m=base,color='red',marker_kwds=dict(radius=10))\n",
    "# the NOT closest\n",
    "largeAirports[~largeAirports.name.isin(mins)].explore(m=base,color='blue',marker_kwds=dict(radius=5))\n"
   ]
  },
  {
   "cell_type": "markdown",
   "id": "311a55fb",
   "metadata": {},
   "source": [
    "### Exercise 2\n",
    "\n",
    "<div class=\"alert-success\">\n",
    "    \n",
    "1. Create a set of points and a set of lines\n",
    "\n",
    "2. Compute the distance matrix for both sets.\n",
    "\n",
    "3. Select one line of the distance matrix, and plot the closests and the farthest point to that line.\n",
    "    \n",
    "    \n",
    "</div>"
   ]
  },
  {
   "cell_type": "markdown",
   "id": "ebea004d",
   "metadata": {},
   "source": [
    "## Polygon to point"
   ]
  },
  {
   "cell_type": "markdown",
   "id": "05ddf869",
   "metadata": {},
   "source": [
    "Let me create some hulls (polygons):"
   ]
  },
  {
   "cell_type": "code",
   "execution_count": null,
   "id": "ef415136",
   "metadata": {
    "scrolled": false
   },
   "outputs": [],
   "source": [
    "systems.convex_hull.plot()"
   ]
  },
  {
   "cell_type": "markdown",
   "id": "79ec5f8b",
   "metadata": {},
   "source": [
    "Now, a GDF for the hulls:"
   ]
  },
  {
   "cell_type": "code",
   "execution_count": null,
   "id": "c44cbd6b",
   "metadata": {},
   "outputs": [],
   "source": [
    "systems_hulls=systems.convex_hull.to_frame()\n",
    "systems_hulls['system']=['Amazon', 'Parana']\n",
    "systems_hulls.rename(columns={0:'geometry'},inplace=True)\n",
    "systems_hulls=systems_hulls.set_geometry('geometry')\n",
    "systems_hulls.crs=\"EPSG:5641\"\n",
    "systems_hulls"
   ]
  },
  {
   "cell_type": "markdown",
   "id": "2c7c6472",
   "metadata": {},
   "source": [
    "Next, the distance matrix:"
   ]
  },
  {
   "cell_type": "code",
   "execution_count": null,
   "id": "00059e15",
   "metadata": {},
   "outputs": [],
   "source": [
    "\n",
    "distanceMatrixKM_sysHull_air=systems_hulls.set_index('system').geometry.apply\\\n",
    "(lambda g: largeAirports.set_index('name').geometry.distance(g)/1000).\\\n",
    "sort_index(axis=0).sort_index(axis=1)\n",
    "\n",
    "distanceMatrixKM_sysHull_air"
   ]
  },
  {
   "cell_type": "markdown",
   "id": "aecbc201",
   "metadata": {},
   "source": [
    "All the minimal differences:"
   ]
  },
  {
   "cell_type": "code",
   "execution_count": null,
   "id": "c1ee6a63",
   "metadata": {},
   "outputs": [],
   "source": [
    "mins=distanceMatrixKM_sysHull_air.idxmin(axis=\"columns\")\n",
    "mins"
   ]
  },
  {
   "cell_type": "code",
   "execution_count": null,
   "id": "3d4ff09a",
   "metadata": {},
   "outputs": [],
   "source": [
    "# plotting\n",
    "base=systems_hulls.explore()\n",
    "largeAirports[largeAirports.name.isin(mins)].explore(m=base,color='red',marker_kwds=dict(radius=10))\n",
    "largeAirports[~largeAirports.name.isin(mins)].explore(m=base,color='blue',marker_kwds=dict(radius=5))"
   ]
  },
  {
   "cell_type": "markdown",
   "id": "60d1dbd9",
   "metadata": {},
   "source": [
    "### Exercise 3\n",
    "\n",
    "<div class=\"alert-success\">\n",
    "    \n",
    "1. Create a set of points and a set of polygons\n",
    "\n",
    "2. Compute the distance matrix for both sets.\n",
    "\n",
    "3. Select one polygon of the distance matrix, and plot the closests and the farthest point to that polygon.\n",
    "    \n",
    "</div>    "
   ]
  },
  {
   "cell_type": "markdown",
   "id": "40f859b3",
   "metadata": {},
   "source": [
    "## Using Buffers\n",
    "\n",
    "A very important case in distance analysis is the use of buffers:"
   ]
  },
  {
   "cell_type": "code",
   "execution_count": null,
   "id": "66700e80",
   "metadata": {},
   "outputs": [],
   "source": [
    "# remember:\n",
    "distanceMatrixKM_riv_air"
   ]
  },
  {
   "cell_type": "code",
   "execution_count": null,
   "id": "85e65bb9",
   "metadata": {},
   "outputs": [],
   "source": [
    "# getting a value (it can be any value)\n",
    "distanceMatrixKM_riv_air.loc['Amazon'].min()"
   ]
  },
  {
   "cell_type": "markdown",
   "id": "ab814d95",
   "metadata": {},
   "source": [
    "We can use any value to create a buffer:"
   ]
  },
  {
   "cell_type": "code",
   "execution_count": null,
   "id": "77a8d537",
   "metadata": {},
   "outputs": [],
   "source": [
    "minMts=distanceMatrixKM_riv_air.loc['Amazon'].min()*1000\n",
    "\n",
    "#the buffer is a polygon:\n",
    "rivers[rivers.NAME=='Amazon'].buffer(distance = minMts)"
   ]
  },
  {
   "cell_type": "code",
   "execution_count": null,
   "id": "1f670518",
   "metadata": {
    "scrolled": true
   },
   "outputs": [],
   "source": [
    "# see buffer:\n",
    "bufferAroundAmazon=rivers[rivers.NAME=='Amazon'].buffer(distance = minMts)\n",
    "bufferAsBase=bufferAroundAmazon.explore(color='red')\n",
    "rivers[rivers.NAME=='Amazon'].explore(m=bufferAsBase,color='blue',style_kwds={'weight':0.5})"
   ]
  },
  {
   "cell_type": "markdown",
   "id": "b4c5369e",
   "metadata": {},
   "source": [
    "Above we used the buffer (red polygon), and the river (blue). Let me add a layer of airports (small ones):"
   ]
  },
  {
   "cell_type": "code",
   "execution_count": null,
   "id": "260d5ea9",
   "metadata": {
    "scrolled": false
   },
   "outputs": [],
   "source": [
    "small_airports=airports[airports.kind=='small_airport']\n",
    "\n",
    "# plotting\n",
    "rivers[rivers.NAME=='Amazon'].explore(m=bufferAsBase,color='blue',style_kwds={'weight':0.5})\n",
    "small_airports.explore(m=bufferAsBase,color='black')"
   ]
  },
  {
   "cell_type": "markdown",
   "id": "1298b935",
   "metadata": {},
   "source": [
    "Now, we can use the buffer (polygon) to keep the airports thar are at that particular distance around the river:"
   ]
  },
  {
   "cell_type": "code",
   "execution_count": null,
   "id": "cf9601fb",
   "metadata": {},
   "outputs": [],
   "source": [
    "\n",
    "riversWithinBuffer=small_airports.clip(mask=bufferAroundAmazon)\n",
    "#\n",
    "riversWithinBuffer"
   ]
  },
  {
   "cell_type": "code",
   "execution_count": null,
   "id": "4d87ddd5",
   "metadata": {},
   "outputs": [],
   "source": [
    "bufferAsBase=bufferAroundAmazon.explore(color='red')\n",
    "rivers[rivers.NAME=='Amazon'].explore(m=bufferAsBase,color='blue',style_kwds={'weight':0.5})\n",
    "riversWithinBuffer.explore(m=bufferAsBase,color='black')"
   ]
  },
  {
   "cell_type": "code",
   "execution_count": null,
   "id": "92465afd",
   "metadata": {},
   "outputs": [],
   "source": [
    "# minimum of all the minimum by row\n",
    "distanceMatrixKM_riv_air.min(axis=1).min() "
   ]
  },
  {
   "cell_type": "code",
   "execution_count": null,
   "id": "40b7f338",
   "metadata": {},
   "outputs": [],
   "source": [
    "# using the previous value\n",
    "minMinMts_5=5*distanceMatrixKM_riv_air.min(axis=1).min()*1000\n",
    "\n",
    "\n",
    "allMinBuffer=rivers.buffer(distance = minMinMts_5).explore(color='red')\n",
    "rivers.explore(m=allMinBuffer,color='blue',style_kwds={'weight':0.5})\n",
    "small_airports.explore(m=allMinBuffer,color='black')"
   ]
  },
  {
   "cell_type": "code",
   "execution_count": null,
   "id": "73543dc5",
   "metadata": {},
   "outputs": [],
   "source": [
    "# you see all the buffer polygons:\n",
    "rivers.buffer(distance = minMinMts_5)"
   ]
  },
  {
   "cell_type": "code",
   "execution_count": null,
   "id": "d666b77a",
   "metadata": {},
   "outputs": [],
   "source": [
    "# notice\n",
    "riversAll_buf=rivers.buffer(distance = minMinMts_5)\n",
    "type(riversAll_buf)"
   ]
  },
  {
   "cell_type": "code",
   "execution_count": null,
   "id": "39f01bba",
   "metadata": {},
   "outputs": [],
   "source": [
    "# formatting\n",
    "riversAll_bufDF=rivers_buf.to_frame()\n",
    "riversAll_bufDF.rename(columns={0:'geometry'},inplace=True)\n",
    "riversAll_bufDF = riversAll_bufDF.set_geometry(\"geometry\")\n",
    "riversAll_bufDF.crs"
   ]
  },
  {
   "cell_type": "code",
   "execution_count": null,
   "id": "36e5d5a2",
   "metadata": {},
   "outputs": [],
   "source": [
    "allRiversWithinBuffs=small_airports.clip(riversAll_bufDF)\n",
    "allRiversWithinBuffs"
   ]
  },
  {
   "cell_type": "code",
   "execution_count": null,
   "id": "0407b593",
   "metadata": {},
   "outputs": [],
   "source": [
    "# simple\n",
    "base=riversAll_bufDF.plot(color='yellow')\n",
    "allRiversWithinBuffs.plot(ax=base, color='green', markersize=1)"
   ]
  },
  {
   "cell_type": "code",
   "execution_count": null,
   "id": "c3df7ac2",
   "metadata": {},
   "outputs": [],
   "source": [
    "# folium\n",
    "\n",
    "base=riversAll_bufDF.explore(color='yellow')\n",
    "allRiversWithinBuffs.explore(m=base, color='green')"
   ]
  },
  {
   "cell_type": "markdown",
   "id": "fc432f61",
   "metadata": {},
   "source": [
    "### Exercise 4\n",
    "\n",
    "<div class=\"alert-success\">\n",
    "    \n",
    "1. Create a set of points and a set of lines\n",
    "\n",
    "2. Get the buffer for the lines, select different values for the distance.\n",
    "\n",
    "3. Keep the points that are within the buffer (as in point 2, you need to play with differn distances until you show something interesting.  \n",
    "    \n",
    "</div>   "
   ]
  },
  {
   "cell_type": "code",
   "execution_count": null,
   "id": "ed3d79f8",
   "metadata": {},
   "outputs": [],
   "source": []
  }
 ],
 "metadata": {
  "kernelspec": {
   "display_name": "Python 3 (ipykernel)",
   "language": "python",
   "name": "python3"
  },
  "language_info": {
   "codemirror_mode": {
    "name": "ipython",
    "version": 3
   },
   "file_extension": ".py",
   "mimetype": "text/x-python",
   "name": "python",
   "nbconvert_exporter": "python",
   "pygments_lexer": "ipython3",
   "version": "3.11.0"
  }
 },
 "nbformat": 4,
 "nbformat_minor": 5
}
