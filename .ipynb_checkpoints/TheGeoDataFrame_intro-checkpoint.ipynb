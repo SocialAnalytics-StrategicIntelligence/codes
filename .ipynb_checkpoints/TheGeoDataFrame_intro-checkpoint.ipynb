{
 "cells": [
  {
   "cell_type": "markdown",
   "metadata": {
    "id": "Rq_-jS9HtUU-"
   },
   "source": [
    "<img src=\"https://i.imgur.com/6U6q5jQ.png\"/>"
   ]
  },
  {
   "cell_type": "markdown",
   "metadata": {},
   "source": [
    "<a target=\"_blank\" href=\"https://colab.research.google.com/github/SocialAnalytics-StrategicIntelligence/codes/blob/main/TheGeoDataFrame_intro.ipynb\">\n",
    "  <img src=\"https://colab.research.google.com/assets/colab-badge.svg\" alt=\"Open In Colab\"/>\n",
    "</a>"
   ]
  },
  {
   "cell_type": "markdown",
   "metadata": {
    "id": "-cCaZ1r2tUVA"
   },
   "source": [
    "## The Geo Dataframe\n",
    "\n",
    "The geodata frame is an extended data frame where every row represents an spatial element (point, line, polygon, multipolygon).\n",
    "\n",
    "Historically, the most common file type that stores spatial elements is the shapefile. Let's take a look at some of them:\n",
    "\n",
    "1. Create a repository named: introgeodf.\n",
    "2. Clone that repo to a local folder in your computer.\n",
    "3. In that local folder in your computer, create a folder named **maps**.\n",
    "4. Go to this [website](https://www.efrainmaps.es/english-version/free-downloads/world/).\n",
    "5. Download three map files into the folder **maps** in your computer: *countries*, *cities*, and *rivers*."
   ]
  },
  {
   "cell_type": "markdown",
   "metadata": {
    "id": "PhGJmen1tUVB"
   },
   "source": [
    "You may see something like this:\n",
    "\n",
    "<img src=\"https://github.com/CienciaDeDatosEspacial/code_and_data/blob/main/mapsFolderImage.png?raw=true\">"
   ]
  },
  {
   "cell_type": "markdown",
   "metadata": {
    "id": "HBs3ovRstUVB"
   },
   "source": [
    "You can decompress those files:\n",
    "\n",
    "<img title=\"a title\" alt=\"Alt text\" src=\"https://github.com/CienciaDeDatosEspacial/code_and_data/blob/main/folderRar_1.png?raw=true\">"
   ]
  },
  {
   "cell_type": "markdown",
   "metadata": {
    "id": "OzvFDa2JtUVB"
   },
   "source": [
    "Now, take a look a **World_Countries**:\n",
    "\n",
    "<img src=\"https://github.com/CienciaDeDatosEspacial/code_and_data/blob/main/imageCountries_shp.png?raw=true\">"
   ]
  },
  {
   "cell_type": "markdown",
   "metadata": {
    "id": "BUOIWMOTtUVB"
   },
   "source": [
    "There, you see that this **one map** requires **several files**. That is the nature of the shapefile.\n",
    "\n",
    "Let's read the file with the help of **geopandas**:"
   ]
  },
  {
   "cell_type": "code",
   "execution_count": null,
   "metadata": {
    "id": "KJV5G0POtUVB"
   },
   "outputs": [],
   "source": [
    "%reset\n",
    "\n",
    "import os, geopandas as gpd\n",
    "\n",
    "countries=gpd.read_file(os.path.join(\"maps\",\"World_Countries\",\"World_Countries.shp\"))"
   ]
  },
  {
   "cell_type": "markdown",
   "metadata": {
    "id": "a5AOj3mktUVC"
   },
   "source": [
    "Let's use some familiar code:"
   ]
  },
  {
   "cell_type": "code",
   "execution_count": null,
   "metadata": {
    "id": "BTVBGfNatUVC"
   },
   "outputs": [],
   "source": [
    "# what is it?\n",
    "type(countries)"
   ]
  },
  {
   "cell_type": "code",
   "execution_count": null,
   "metadata": {
    "id": "AkvWskZytUVC"
   },
   "outputs": [],
   "source": [
    "# dimensions\n",
    "countries.shape"
   ]
  },
  {
   "cell_type": "code",
   "execution_count": null,
   "metadata": {
    "id": "ETJdBBR1tUVD"
   },
   "outputs": [],
   "source": [
    "# names\n",
    "countries.columns"
   ]
  },
  {
   "cell_type": "code",
   "execution_count": null,
   "metadata": {
    "id": "QrbZt4g5tUVD"
   },
   "outputs": [],
   "source": [
    "# some content\n",
    "countries.head()"
   ]
  },
  {
   "cell_type": "code",
   "execution_count": null,
   "metadata": {
    "id": "vPHdGEtatUVD"
   },
   "outputs": [],
   "source": [
    "# any missing values?\n",
    "countries[countries.isna().any(axis=1)]"
   ]
  },
  {
   "cell_type": "code",
   "execution_count": null,
   "metadata": {
    "id": "TWXmBv-vtUVD",
    "scrolled": true
   },
   "outputs": [],
   "source": [
    "# types\n",
    "countries.info()"
   ]
  },
  {
   "cell_type": "markdown",
   "metadata": {
    "id": "UifQTQ-3tUVD"
   },
   "source": [
    "# Basic Plotting"
   ]
  },
  {
   "cell_type": "markdown",
   "metadata": {
    "id": "QzT4ctrjtUVD"
   },
   "source": [
    "As you see, every pandas command is working, but now we have a new column type: **geometry**."
   ]
  },
  {
   "cell_type": "code",
   "execution_count": null,
   "metadata": {
    "id": "DjMj9myHtUVD"
   },
   "outputs": [],
   "source": [
    "# plot simple\n",
    "\n",
    "countries.plot()"
   ]
  },
  {
   "cell_type": "markdown",
   "metadata": {
    "id": "iCtifGnqtUVD"
   },
   "source": [
    "Let's open the other maps:"
   ]
  },
  {
   "cell_type": "code",
   "execution_count": null,
   "metadata": {
    "id": "lPbJ4wFHtUVD"
   },
   "outputs": [],
   "source": [
    "rivers=gpd.read_file(os.path.join(\"maps\",\"World_Hydrography\",\"World_Hydrography.shp\"))\n",
    "cities=gpd.read_file(os.path.join(\"maps\",\"World_Cities\",\"World_Cities.shp\"))"
   ]
  },
  {
   "cell_type": "code",
   "execution_count": null,
   "metadata": {
    "id": "8Gap_au4tUVD"
   },
   "outputs": [],
   "source": [
    "# visualizing rivers\n",
    "rivers.plot()"
   ]
  },
  {
   "cell_type": "code",
   "execution_count": null,
   "metadata": {
    "id": "8nAC2GkptUVD"
   },
   "outputs": [],
   "source": [
    "# visualizing cities\n",
    "cities.plot()"
   ]
  },
  {
   "cell_type": "markdown",
   "metadata": {
    "id": "gCobKGmqtUVD"
   },
   "source": [
    "## Some visual adjustments\n",
    "\n",
    "In general you need to adjust:\n",
    "* color of the polygon/line/point (see [here](https://matplotlib.org/stable/gallery/color/named_colors.html))\n",
    "* thickness of lines,\n",
    "* line style (see [here](https://matplotlib.org/stable/gallery/lines_bars_and_markers/linestyles.html))\n",
    "* size of points,\n",
    "* point style (see [here](https://matplotlib.org/stable/api/markers_api.html))\n",
    "* and the transparency level (you can find a list of colors ) . Let's see:"
   ]
  },
  {
   "cell_type": "code",
   "execution_count": null,
   "metadata": {
    "id": "sPMLJnuJtUVE"
   },
   "outputs": [],
   "source": [
    "countries.plot(facecolor=\"azure\",#color of polygon fill\n",
    "               edgecolor='black', #color of lines\n",
    "               linewidth=0.1) #thickness of lines"
   ]
  },
  {
   "cell_type": "code",
   "execution_count": null,
   "metadata": {
    "id": "6BwcssjLtUVE"
   },
   "outputs": [],
   "source": [
    "rivers.plot(edgecolor='blue',\n",
    "            linewidth=1,\n",
    "            linestyle='dotted')"
   ]
  },
  {
   "cell_type": "code",
   "execution_count": null,
   "metadata": {
    "id": "Vy6ALFKntUVE"
   },
   "outputs": [],
   "source": [
    "cities.plot(marker='.', # marker type\n",
    "            color='red',\n",
    "            markersize=1,\n",
    "            alpha=0.3) # transparency"
   ]
  },
  {
   "cell_type": "markdown",
   "metadata": {
    "id": "prkK6IA8tUVE"
   },
   "source": [
    "### Multiple layers of maps\n",
    "\n",
    "This requires to plot a map **on top** of the other (order matters).\n",
    "\n",
    "It is a simple process, but the first step is verify that all have the same projection (**CRS**):"
   ]
  },
  {
   "cell_type": "code",
   "execution_count": null,
   "metadata": {
    "id": "8G0MkpZ1tUVE"
   },
   "outputs": [],
   "source": [
    "countries.crs"
   ]
  },
  {
   "cell_type": "code",
   "execution_count": null,
   "metadata": {
    "id": "79QplZm0tUVE"
   },
   "outputs": [],
   "source": [
    "cities.crs"
   ]
  },
  {
   "cell_type": "code",
   "execution_count": null,
   "metadata": {
    "id": "c4578Ki0tUVE"
   },
   "outputs": [],
   "source": [
    "rivers.crs"
   ]
  },
  {
   "cell_type": "markdown",
   "metadata": {
    "id": "KVObNWfctUVE"
   },
   "source": [
    "They all have the same crs, but if they did not, you have to use **to_crs()**:"
   ]
  },
  {
   "cell_type": "code",
   "execution_count": null,
   "metadata": {
    "id": "78HhkUwttUVE"
   },
   "outputs": [],
   "source": [
    "# changing crs in cities and rivers to be the same as countries\n",
    "\n",
    "cities=cities.to_crs(countries.crs)\n",
    "rivers=rivers.to_crs(countries.crs)"
   ]
  },
  {
   "cell_type": "markdown",
   "metadata": {
    "id": "ZOiFM3uYtUVE"
   },
   "source": [
    "You can start by creating the layer on the back (the base), and add layers on top:"
   ]
  },
  {
   "cell_type": "code",
   "execution_count": null,
   "metadata": {
    "id": "rqkVAvHstUVE"
   },
   "outputs": [],
   "source": [
    "base = countries.plot(facecolor=\"white\", edgecolor='black', linewidth=0.1,figsize=(12,12))\n",
    "cities.plot(marker='.', color='red', markersize=1,alpha=0.7,\n",
    "            ax=base) # on top of..\n",
    "rivers.plot(edgecolor='blue', linewidth=0.4,\n",
    "            ax=base)# on top of.."
   ]
  },
  {
   "cell_type": "markdown",
   "metadata": {
    "id": "TvH0GfNuyyXL"
   },
   "source": [
    "We could use interactive maps, but we need to verify the presence of *folium*, *matplotlib*, and *mapclassify*:"
   ]
  },
  {
   "cell_type": "code",
   "execution_count": null,
   "metadata": {
    "id": "cXMGlpeJy-HS"
   },
   "outputs": [],
   "source": [
    "!pip show install folium matplotlib mapclassify"
   ]
  },
  {
   "cell_type": "code",
   "execution_count": null,
   "metadata": {
    "id": "1BGwwJG-zFtZ"
   },
   "outputs": [],
   "source": [
    "#!pip install mapclassify"
   ]
  },
  {
   "cell_type": "code",
   "execution_count": null,
   "metadata": {
    "id": "uFEkQFOctUVE"
   },
   "outputs": [],
   "source": [
    "import folium\n",
    "\n",
    "\n",
    "m = cities.explore(color=\"red\",\n",
    "                   name=\"cities\")#optional\n",
    "\n",
    "m = rivers.explore(m=m, color=\"blue\",\n",
    "                   name=\"rivers\")#optional\n",
    "#folium.LayerControl().add_to(m) #optional\n",
    "m"
   ]
  },
  {
   "cell_type": "markdown",
   "metadata": {
    "id": "4WVBq3bUtUVE"
   },
   "source": [
    "## Focusing on a particular area\n",
    "\n",
    "You can subset your map as you did in classic data frames:"
   ]
  },
  {
   "cell_type": "code",
   "execution_count": null,
   "metadata": {
    "id": "NsiI-8ZYtUVE"
   },
   "outputs": [],
   "source": [
    "brazil=countries[countries.COUNTRY=='Brazil']"
   ]
  },
  {
   "cell_type": "markdown",
   "metadata": {
    "id": "biux_VKutUVF"
   },
   "source": [
    "Then you can keep the **parts** of the other maps that intersect with the sub-polygon:"
   ]
  },
  {
   "cell_type": "code",
   "execution_count": null,
   "metadata": {
    "id": "ltxxI2OotUVF"
   },
   "outputs": [],
   "source": [
    "cities_clipped = gpd.clip(gdf=cities,\n",
    "                          mask=brazil)\n",
    "rivers_clipped = gpd.clip(gdf=rivers,\n",
    "                               mask=brazil)"
   ]
  },
  {
   "cell_type": "markdown",
   "metadata": {
    "id": "2nXd5aiRtUVF"
   },
   "source": [
    "Then, you can plot the clipped version:"
   ]
  },
  {
   "cell_type": "code",
   "execution_count": null,
   "metadata": {
    "id": "dEfKc5nQtUVF"
   },
   "outputs": [],
   "source": [
    "base = brazil.plot(facecolor=\"greenyellow\", edgecolor='black', linewidth=0.4,figsize=(5,5))\n",
    "cities_clipped.plot(marker='+', color='red', markersize=15,ax=base)\n",
    "rivers_clipped.plot(edgecolor='blue', linewidth=0.5,ax=base)"
   ]
  },
  {
   "cell_type": "markdown",
   "metadata": {
    "id": "cU15MYu6tUVF"
   },
   "source": [
    "The interactive alternative for this last case could require to set the **folium** map to a particular coordinate. Let's finde the one for Brazil here: [https://www.geodatos.net/en/coordinates](https://www.geodatos.net/en/coordinates):"
   ]
  },
  {
   "cell_type": "code",
   "execution_count": null,
   "metadata": {
    "id": "LqNT82SCtUVG"
   },
   "outputs": [],
   "source": [
    "brazilCoord=[-14.235004, -51.92528]"
   ]
  },
  {
   "cell_type": "markdown",
   "metadata": {
    "id": "zk3Pbh8MzneT"
   },
   "source": [
    "Now, let's use that information to show the map:"
   ]
  },
  {
   "cell_type": "code",
   "execution_count": null,
   "metadata": {
    "id": "eZidj9vxtUVG"
   },
   "outputs": [],
   "source": [
    "m = cities.explore(location=brazilCoord,\n",
    "                   zoom_start=4,\n",
    "                   tiles='CartoDB positron',\n",
    "                   color='red',\n",
    "                   name=\"cities\") #optional\n",
    "m = rivers.explore(m=m, color=\"blue\",\n",
    "                   name=\"rivers\")#optional\n",
    "# folium.LayerControl().add_to(m) #optional\n",
    "m"
   ]
  },
  {
   "cell_type": "markdown",
   "metadata": {
    "id": "Qz1RhizytUVG"
   },
   "source": [
    "## Exporting your area\n",
    "\n",
    "You may need a couple of things here:\n",
    "\n",
    "- Save the map as an image.\n",
    "- Save the files (not the images).\n",
    "\n",
    "Let's see:"
   ]
  },
  {
   "cell_type": "code",
   "execution_count": null,
   "metadata": {
    "id": "qNaZOxNRtUVG"
   },
   "outputs": [],
   "source": [
    "# save the map as image (create \"images\" folder first)\n",
    "import matplotlib.pyplot as plt\n",
    "\n",
    "base = brazil.plot(facecolor=\"greenyellow\", edgecolor='black', linewidth=0.4,figsize=(5,5))\n",
    "cities=cities_clipped.plot(marker='+', color='red', markersize=15,ax=base)\n",
    "river=rivers_clipped.plot(edgecolor='blue', linewidth=0.5,ax=base)\n",
    "plt.savefig(os.path.join(\"images\",'Brasil_3layers.jpg'))"
   ]
  },
  {
   "cell_type": "markdown",
   "metadata": {
    "id": "Dq083_55tUVG"
   },
   "source": [
    "We may export these layers as one different file (not shapefiles):"
   ]
  },
  {
   "cell_type": "code",
   "execution_count": null,
   "metadata": {
    "id": "FnrWwUWZtUVG"
   },
   "outputs": [],
   "source": [
    "brazil.to_file(os.path.join(\"maps\",\"brazilMaps.gpkg\"), layer='borders', driver=\"GPKG\")\n",
    "cities_clipped.to_file(os.path.join(\"maps\",\"brazilMaps.gpkg\"), layer='cities', driver=\"GPKG\")\n",
    "rivers_clipped.to_file(os.path.join(\"maps\",\"brazilMaps.gpkg\"), layer='rivers', driver=\"GPKG\")"
   ]
  },
  {
   "cell_type": "markdown",
   "metadata": {
    "id": "oum8bIhatUVG"
   },
   "source": [
    "The most important thing, now that you have saved these several maps into one file is that, once in GitHub, you can call the map with the url. Let's reset the variables:"
   ]
  },
  {
   "cell_type": "code",
   "execution_count": null,
   "metadata": {},
   "outputs": [],
   "source": [
    "%reset"
   ]
  },
  {
   "cell_type": "markdown",
   "metadata": {
    "id": "pF1evAgTtUVG"
   },
   "source": [
    "Now, commit and push **brazilMaps.gpkg** and get a link like:"
   ]
  },
  {
   "cell_type": "code",
   "execution_count": null,
   "metadata": {
    "id": "b63-DUWYtUVG"
   },
   "outputs": [],
   "source": [
    "brazilMaps='https://github.com/SocialAnalytics-StrategicIntelligence/codes/raw/main/maps/brazilMaps.gpkg'"
   ]
  },
  {
   "cell_type": "markdown",
   "metadata": {
    "id": "6l3dF92ytUVG"
   },
   "source": [
    "Using that link:"
   ]
  },
  {
   "cell_type": "code",
   "execution_count": null,
   "metadata": {
    "id": "_iBpwxECtUVG"
   },
   "outputs": [],
   "source": [
    "from  fiona import listlayers\n",
    "\n",
    "listlayers(brazilMaps)"
   ]
  },
  {
   "cell_type": "markdown",
   "metadata": {
    "id": "FLJ7uSLctUVG"
   },
   "source": [
    "Now you are confident what to request:"
   ]
  },
  {
   "cell_type": "code",
   "execution_count": null,
   "metadata": {
    "id": "_EB68wV2tUVH"
   },
   "outputs": [],
   "source": [
    "import geopandas as gpd\n",
    "\n",
    "bordersGit=gpd.read_file(brazilMaps,layer='borders')\n",
    "citiesGit=gpd.read_file(brazilMaps,layer='cities')\n",
    "riversGit=gpd.read_file(brazilMaps,layer='rivers')"
   ]
  },
  {
   "cell_type": "code",
   "execution_count": null,
   "metadata": {},
   "outputs": [],
   "source": [
    "bordersGit.geom_type"
   ]
  },
  {
   "cell_type": "code",
   "execution_count": null,
   "metadata": {},
   "outputs": [],
   "source": [
    "citiesGit.geom_type"
   ]
  },
  {
   "cell_type": "code",
   "execution_count": null,
   "metadata": {},
   "outputs": [],
   "source": [
    "riversGit.geom_type"
   ]
  },
  {
   "cell_type": "markdown",
   "metadata": {
    "id": "oDOrjj-ytUVH"
   },
   "source": [
    "As you see, it works great:"
   ]
  },
  {
   "cell_type": "code",
   "execution_count": null,
   "metadata": {
    "id": "wEXDJZiJtUVH"
   },
   "outputs": [],
   "source": [
    "base = bordersGit.plot(facecolor='gainsboro')\n",
    "citiesGit.plot(ax=base, markersize=0.5, color='red')\n",
    "riversGit.plot(ax=base, linewidth=0.5)"
   ]
  },
  {
   "cell_type": "markdown",
   "metadata": {
    "id": "LPmfpa7rtUVH"
   },
   "source": [
    "### Exercise 1\n",
    "\n",
    "<div class=\"alert-success\">\n",
    "    \n",
    "1. Create a repo: **simpleplot**\n",
    "2. Clone that repo to your computer.\n",
    "3. Get **three** _SHP_ files from the same **country** (do not use islands or small territories). You should have polygons (i.e. regions).\n",
    "4. Save the three maps into one geopackage file.\n",
    "5. Get the link for the geopackage, open it in **R** (make sure you the layers you saved).\n",
    "6. Plot the maps in **flexdashboard** using R. It should look at least like [this](https://raw.githubusercontent.com/SocialAnalytics-StrategicIntelligence/codes/main/images/brazilDash1.jpg)\n",
    "    \n",
    "</div>\n",
    "\n"
   ]
  },
  {
   "cell_type": "markdown",
   "metadata": {},
   "source": [
    "## Basic PreProcessing operations in  Geo Dataframes\n",
    "\n",
    "We will review some important formatting processes for geodataframes. As usual, let's do this: \n",
    "\n",
    "1. Create a repository named: geodfprepro.\n",
    "2. Clone that repo to a local folder in your computer.\n",
    "3. In that local folder in your computer, create a folder named **maps** and **data**.\n",
    "4. Put the **geopackage** file that contains the three maps prepared last class into the map folder.\n",
    "5. Commit and push: get the link for the **worldMaps.gpkg** from **geodfprepro** repo in GitHub cloud.\n",
    "\n",
    "Let's read the file with the help of **geopandas**:"
   ]
  },
  {
   "cell_type": "markdown",
   "metadata": {
    "id": "cSdJJmvXtUVH"
   },
   "source": [
    "Now, let's see some important pre processing operations:\n",
    "\n",
    "1. [(Re) Projecting](#1)\n",
    "    * [Geoseries projections](#1_1)\n",
    "    * [Lack of Projection](#1_2)\n",
    "    \n",
    "2. [Dissolving](#2)\n",
    "3. [Creating Spatial Points](#3)\n",
    "    * [Creating a convex hull](#31)\n",
    "4. [Checking Validity](#4)"
   ]
  },
  {
   "cell_type": "markdown",
   "metadata": {},
   "source": [
    "<a class=\"anchor\" id=\"1\"></a>\n",
    "\n",
    "## (Re) Projecting  \n",
    "\n",
    "As mentioned in class, the CRS is a very important property of the maps. They affect three aspects:\n",
    "\n",
    "* shape\n",
    "* area\n",
    "* scale\n",
    "* direction\n",
    "\n",
    "The most used CRS is 4326, but it is **not projected**:"
   ]
  },
  {
   "cell_type": "code",
   "execution_count": null,
   "metadata": {},
   "outputs": [],
   "source": [
    "# unit is in degrees:\n",
    "brazil.crs.axis_info"
   ]
  },
  {
   "cell_type": "markdown",
   "metadata": {},
   "source": [
    "Some operations will **warn** you on this issue:"
   ]
  },
  {
   "cell_type": "code",
   "execution_count": null,
   "metadata": {},
   "outputs": [],
   "source": [
    "# centroid\n",
    "brazil.centroid"
   ]
  },
  {
   "cell_type": "markdown",
   "metadata": {},
   "source": [
    "A projected CRS will have units in meters or feet (or similar):"
   ]
  },
  {
   "cell_type": "code",
   "execution_count": null,
   "metadata": {},
   "outputs": [],
   "source": [
    "brazil.to_crs(3587).crs.axis_info"
   ]
  },
  {
   "cell_type": "code",
   "execution_count": null,
   "metadata": {},
   "outputs": [],
   "source": [
    "# operations that require projected CRS will work:\n",
    "brazil.to_crs(3587).centroid"
   ]
  },
  {
   "cell_type": "code",
   "execution_count": null,
   "metadata": {},
   "outputs": [],
   "source": [
    "# plot this projected version\n",
    "\n",
    "base3587=brazil.to_crs(3587).plot()\n",
    "brazil.to_crs(3587).centroid.plot(color='red',ax=base3587)"
   ]
  },
  {
   "cell_type": "markdown",
   "metadata": {},
   "source": [
    "We use the crs **3587** as an emergency option to reproject a map. However, for a more accurate option it is better to look for the ones explicitly prepared for a particular locations of the world. You can request a crs per country [here](https://epsg.io/?q=brazil+kind%3APROJCRS):"
   ]
  },
  {
   "cell_type": "code",
   "execution_count": null,
   "metadata": {},
   "outputs": [],
   "source": [
    "# recommended for Brazil (meters)\n",
    "brazil.to_crs(5641).crs.axis_info"
   ]
  },
  {
   "cell_type": "code",
   "execution_count": null,
   "metadata": {},
   "outputs": [],
   "source": [
    "# this works\n",
    "brazil.to_crs(5641).centroid"
   ]
  },
  {
   "cell_type": "code",
   "execution_count": null,
   "metadata": {},
   "outputs": [],
   "source": [
    "# replotting:\n",
    "\n",
    "base5641=brazil.to_crs(5641).plot()\n",
    "brazil.to_crs(5641).centroid.plot(color='red',ax=base5641)"
   ]
  },
  {
   "cell_type": "markdown",
   "metadata": {},
   "source": [
    "Not using the right projection will give you a wrong numerical result when needing numerical accuracy; however, you might find situation where the visual output seems right (yet it is wrong):"
   ]
  },
  {
   "cell_type": "code",
   "execution_count": null,
   "metadata": {},
   "outputs": [],
   "source": [
    "from matplotlib import pyplot\n",
    "\n",
    "fig, (ax1, ax2) = pyplot.subplots(ncols=2, sharex=False, sharey=False, figsize=(12,12))\n",
    "\n",
    "ax1.set_title('projected (5641)',fontsize=10)\n",
    "brazil.to_crs(5641).plot(ax=ax1)\n",
    "brazil.to_crs(5641).centroid.plot(color='red',ax=ax1)\n",
    "\n",
    "ax2.set_title('unprojected',fontsize=10)\n",
    "brazil.plot(ax=ax2)\n",
    "brazil.centroid.plot(color='red',ax=ax2)"
   ]
  },
  {
   "cell_type": "markdown",
   "metadata": {},
   "source": [
    "Let's keep the projected version for all our maps:"
   ]
  },
  {
   "cell_type": "code",
   "execution_count": null,
   "metadata": {},
   "outputs": [],
   "source": [
    "brazil_5641=brazil.to_crs(5641)\n",
    "# just Brazil\n",
    "\n",
    "cities_5641=cities.to_crs(brazil_5641.crs)\n",
    "cities_5641=cities_5641[cities_5641.COUNTRY=='Brazil']\n",
    "\n",
    "rivers_5641=rivers.to_crs(brazil_5641.crs)\n",
    "rivers_5641=gpd.clip(gdf=rivers_5641,mask=brazil_5641)"
   ]
  },
  {
   "cell_type": "code",
   "execution_count": null,
   "metadata": {},
   "outputs": [],
   "source": [
    "We could save these maps on Brazil:"
   ]
  },
  {
   "cell_type": "code",
   "execution_count": null,
   "metadata": {},
   "outputs": [],
   "source": [
    "# saving \n",
    "import os\n",
    "\n",
    "brazil_5641.to_file(os.path.join(\"maps\",\"brazilMaps_5641.gpkg\"), layer='country', driver=\"GPKG\")\n",
    "cities_5641.to_file(os.path.join(\"maps\",\"brazilMaps_5641.gpkg\"), layer='cities', driver=\"GPKG\")\n",
    "rivers_5641.to_file(os.path.join(\"maps\",\"brazilMaps_5641.gpkg\"), layer='rivers', driver=\"GPKG\")"
   ]
  },
  {
   "cell_type": "code",
   "execution_count": null,
   "metadata": {},
   "outputs": [],
   "source": [
    "### Exercise 1\n",
    "\n",
    "<div class=\"alert-success\">\n",
    "    \n",
    "1. Compute the centroid of your country map.\n",
    "\n",
    "2. If you get a warning in the previous step, detect the current projection. If there is no CRS information at all, STOP. If you get a CRS, continue.\n",
    "\n",
    "3. Look for the right CRS for your map, so that you get a projected map.\n",
    "\n",
    "4. Reset the CRS.\n",
    "\n",
    "5. Plot both the reprojected map and its centroid.\n",
    "    \n",
    "</div>"
   ]
  },
  {
   "cell_type": "markdown",
   "metadata": {},
   "source": [
    "<a class=\"anchor\" id=\"1_1\"></a>\n",
    "\n",
    "### Formating Geoseries projections"
   ]
  },
  {
   "cell_type": "code",
   "execution_count": null,
   "metadata": {},
   "outputs": [],
   "source": [
    "You know **brazil_5641** is a multipolygon:"
   ]
  },
  {
   "cell_type": "code",
   "execution_count": null,
   "metadata": {},
   "outputs": [],
   "source": [
    "brazil_5641"
   ]
  },
  {
   "cell_type": "code",
   "execution_count": null,
   "metadata": {},
   "outputs": [],
   "source": [
    "Sometime, you just need the border (lines):"
   ]
  },
  {
   "cell_type": "code",
   "execution_count": null,
   "metadata": {},
   "outputs": [],
   "source": [
    "brazil_5641.boundary"
   ]
  },
  {
   "cell_type": "code",
   "execution_count": null,
   "metadata": {},
   "outputs": [],
   "source": [
    "# This is just the borderline\n",
    "brazil_5641.boundary.plot()"
   ]
  },
  {
   "cell_type": "code",
   "execution_count": null,
   "metadata": {},
   "outputs": [],
   "source": [
    "Always check the data type:"
   ]
  },
  {
   "cell_type": "code",
   "execution_count": null,
   "metadata": {},
   "outputs": [],
   "source": [
    "# does 'boundary' return a GDF?\n",
    "type(brazil_5641.boundary)"
   ]
  },
  {
   "cell_type": "code",
   "execution_count": null,
   "metadata": {},
   "outputs": [],
   "source": [
    "Some operations in geopandas require GDF or GS. If you need a GDF instead of a GS:"
   ]
  },
  {
   "cell_type": "code",
   "execution_count": null,
   "metadata": {},
   "outputs": [],
   "source": [
    "# converting into GDF\n",
    "brazil_5641.boundary.to_frame()"
   ]
  },
  {
   "cell_type": "code",
   "execution_count": null,
   "metadata": {},
   "outputs": [],
   "source": [
    "Notice you get a very simple GDF, and you may want to add some info:"
   ]
  },
  {
   "cell_type": "code",
   "execution_count": null,
   "metadata": {},
   "outputs": [],
   "source": [
    "# conversion\n",
    "brazil_5641DF=brazil_5641.boundary.to_frame() \n",
    "\n",
    "# new column (optional)\n",
    "brazil_5641DF['name']='Brazil' \n",
    "\n",
    "# renaming the geometry column\n",
    "brazil_5641DF.rename(columns={0:'geometry'},inplace=True) \n",
    "\n",
    "#setting the geometry (the name is not enough)\n",
    "brazil_5641DF = brazil_5641DF.set_geometry(\"geometry\")\n",
    "\n",
    "# verifying:\n",
    "brazil_5641DF.crs"
   ]
  },
  {
   "cell_type": "code",
   "execution_count": null,
   "metadata": {},
   "outputs": [],
   "source": [
    "You can add this GDF as a layer:"
   ]
  },
  {
   "cell_type": "code",
   "execution_count": null,
   "metadata": {},
   "outputs": [],
   "source": [
    "brazil_5641DF.to_file(os.path.join(\"maps\",\"brazilMaps_5641.gpkg\"), layer='border', driver=\"GPKG\")"
   ]
  },
  {
   "cell_type": "code",
   "execution_count": null,
   "metadata": {},
   "outputs": [],
   "source": [
    "### Exercise 2\n",
    "\n",
    "<div class=\"alert-success\"> \n",
    "    \n",
    "1. Select one of **your** GDFs with several polygons.\n",
    "    \n",
    "2. Recover just the boundaries of that GDF.\n",
    "    \n",
    "3. Turn the boundary into a GDF.\n",
    "</div>"
   ]
  },
  {
   "cell_type": "markdown",
   "metadata": {},
   "source": [
    "<a class=\"anchor\" id=\"1_2\"></a>\n",
    "\n",
    "### Lacking CRS information\n",
    "\n",
    "Reprojecting seems a simple process, but you might find some interesting cases. Download the shapefile of Brazil - Subnational Administrative Boundaries from [here](https://data.humdata.org/dataset/cod-ab-bra) and save it in the maps folder (you need to unzip the file)."
   ]
  },
  {
   "cell_type": "code",
   "execution_count": null,
   "metadata": {},
   "outputs": [],
   "source": [
    "brazil_states=gpd.read_file(os.path.join(\"maps\",\"bra_adm_ibge_2020_shp\",\"bra_admbnda_adm1_ibge_2020.shp\"))\n",
    "brazil_municipalities=gpd.read_file(os.path.join(\"maps\",\"bra_adm_ibge_2020_shp\",\"bra_admbnda_adm2_ibge_2020.shp\"))"
   ]
  },
  {
   "cell_type": "markdown",
   "metadata": {},
   "source": [
    "Notice this:"
   ]
  },
  {
   "cell_type": "code",
   "execution_count": null,
   "metadata": {},
   "outputs": [],
   "source": [
    "brazil_states.crs, brazil_municipalities.crs"
   ]
  },
  {
   "cell_type": "code",
   "execution_count": null,
   "metadata": {},
   "outputs": [],
   "source": [
    "They do not have crs information, however:"
   ]
  },
  {
   "cell_type": "code",
   "execution_count": null,
   "metadata": {},
   "outputs": [],
   "source": [
    "fig, (ax1, ax2) = pyplot.subplots(ncols=2, sharex=False, sharey=False, figsize=(12,12))\n",
    "\n",
    "brazil_states.plot(ax=ax1, facecolor='lightgrey', edgecolor='black')\n",
    "brazil_municipalities.plot(ax=ax2, facecolor='lightgrey', edgecolor='black',linewidth=0.2)\n"
   ]
  },
  {
   "cell_type": "code",
   "execution_count": null,
   "metadata": {},
   "outputs": [],
   "source": [
    "Since we are using the crs 5641 for Brazil:"
   ]
  },
  {
   "cell_type": "code",
   "execution_count": null,
   "metadata": {},
   "outputs": [],
   "source": [
    "brazil_states.to_crs(5641)"
   ]
  },
  {
   "cell_type": "code",
   "execution_count": null,
   "metadata": {},
   "outputs": [],
   "source": [
    "Python says _\"Please set a crs on the object first\"_. This would mean to know the actual projection, of the geometry:"
   ]
  },
  {
   "cell_type": "code",
   "execution_count": null,
   "metadata": {},
   "outputs": [],
   "source": [
    "brazil_states.geometry"
   ]
  },
  {
   "cell_type": "code",
   "execution_count": null,
   "metadata": {},
   "outputs": [],
   "source": [
    "From the plots above, it looks like an unprojected map, then:"
   ]
  },
  {
   "cell_type": "code",
   "execution_count": null,
   "metadata": {},
   "outputs": [],
   "source": [
    "brazil_states.crs = \"EPSG:4326\"\n",
    "brazil_municipalities.crs = \"EPSG:4326\""
   ]
  },
  {
   "cell_type": "code",
   "execution_count": null,
   "metadata": {},
   "outputs": [],
   "source": [
    "Now, we can reproject:"
   ]
  },
  {
   "cell_type": "code",
   "execution_count": null,
   "metadata": {},
   "outputs": [],
   "source": [
    "brazil_states_5641=brazil_states.to_crs(5641)\n",
    "brazil_municipalities_5641=brazil_municipalities.to_crs(5641)"
   ]
  },
  {
   "cell_type": "code",
   "execution_count": null,
   "metadata": {},
   "outputs": [],
   "source": [
    "We update the file:"
   ]
  },
  {
   "cell_type": "code",
   "execution_count": null,
   "metadata": {},
   "outputs": [],
   "source": [
    "brazil_states_5641.to_file(os.path.join(\"maps\",\"brazilMaps_5641.gpkg\"), layer='states', driver=\"GPKG\")\n",
    "brazil_municipalities_5641.to_file(os.path.join(\"maps\",\"brazilMaps_5641.gpkg\"), layer='municipalities', driver=\"GPKG\")"
   ]
  },
  {
   "cell_type": "markdown",
   "metadata": {},
   "source": [
    "### Exercise 3\n",
    "\n",
    "<div class=\"alert-success\">\n",
    "\n",
    "1. Check all the CRSs of your GDFs.\n",
    "\n",
    "2. If you find one CRS is missing, fill the CRS with the right projection.\n",
    "</div>"
   ]
  },
  {
   "cell_type": "markdown",
   "metadata": {},
   "source": [
    "<a class=\"anchor\" id=\"2\"></a>\n",
    "\n",
    "## Dissolving\n",
    "\n",
    "We have subset the map using clip (subset respect to another map boundaries). You can also subset using _loc_ or _iloc_ (from pandas); let me now subset using   geopandas'  **cx** to do subsetting **by location**:"
   ]
  },
  {
   "cell_type": "code",
   "execution_count": null,
   "metadata": {},
   "outputs": [],
   "source": [
    "centroBrazil=brazil_5641.centroid\n",
    "\n",
    "\n",
    "fig, axs = pyplot.subplots(nrows=2,ncols=2,sharex=False, sharey=False,figsize=(8,8))\n",
    "\n",
    "axs[0,0].set_title('Above_Centroid, LeftOf_Centroid',fontsize=5)\n",
    "brazil_municipalities_5641.cx[:centroBrazil.x,centroBrazil.y:].plot(ax=axs[0,0]) \n",
    "\n",
    "axs[0,1].set_title('Above_Centroid, RightOf_Centroid',fontsize=5)\n",
    "brazil_municipalities_5641.cx[centroBrazil.x:,centroBrazil.y:].plot(ax=axs[0,1]) \n",
    "\n",
    "axs[1,0].set_title('Below_Centroid, LeftOf_Centroid',fontsize=5)\n",
    "brazil_municipalities_5641.cx[:centroBrazil.x,:centroBrazil.y].plot(ax=axs[1,0]) \n",
    "\n",
    "axs[1,1].set_title('Below_Centroid, RightOf_Centroid',fontsize=5)\n",
    "brazil_municipalities_5641.cx[centroBrazil.x:,:centroBrazil.y].plot(ax=axs[1,1]) "
   ]
  },
  {
   "cell_type": "markdown",
   "metadata": {},
   "source": [
    "You can create a polygon with one of these:"
   ]
  },
  {
   "cell_type": "code",
   "execution_count": null,
   "metadata": {},
   "outputs": [],
   "source": [
    "#instead of:\n",
    "brazil_municipalities_5641.cx[:centroBrazil.x,centroBrazil.y:]"
   ]
  },
  {
   "cell_type": "code",
   "execution_count": null,
   "metadata": {},
   "outputs": [],
   "source": [
    "# you create\n",
    "Brazil_topLeft=brazil_municipalities_5641.cx[:centroBrazil.x,centroBrazil.y:].dissolve()\n",
    "# you get\n",
    "Brazil_topLeft"
   ]
  },
  {
   "cell_type": "code",
   "execution_count": null,
   "metadata": {},
   "outputs": [],
   "source": [
    "Aside from the geometry column, the rest in wrong, then:"
   ]
  },
  {
   "cell_type": "code",
   "execution_count": null,
   "metadata": {},
   "outputs": [],
   "source": [
    "Brazil_topLeft['zone']='NW'\n",
    "Brazil_topLeft=Brazil_topLeft.loc[:,['ADM0_EN','zone','geometry']]   \n",
    "Brazil_topLeft"
   ]
  },
  {
   "cell_type": "code",
   "execution_count": null,
   "metadata": {},
   "outputs": [],
   "source": [
    "# this is the plot\n",
    "\n",
    "Brazil_topLeft.plot()"
   ]
  },
  {
   "cell_type": "code",
   "execution_count": null,
   "metadata": {},
   "outputs": [],
   "source": [
    "Keep in mind that with **CX** you may not get a perfect partition:"
   ]
  },
  {
   "cell_type": "code",
   "execution_count": null,
   "metadata": {},
   "outputs": [],
   "source": [
    "\n",
    "rowsCX=(brazil_municipalities_5641.cx[:centroBrazil.x,centroBrazil.y:].shape[0],\\\n",
    "brazil_municipalities_5641.cx[centroBrazil.x:,centroBrazil.y:].shape[0],\\\n",
    "brazil_municipalities_5641.cx[:centroBrazil.x,:centroBrazil.y].shape[0],\\\n",
    "brazil_municipalities_5641.cx[centroBrazil.x:,:centroBrazil.y].shape[0])\n",
    "sum(rowsCX)"
   ]
  },
  {
   "cell_type": "code",
   "execution_count": null,
   "metadata": {},
   "outputs": [],
   "source": [
    "So, you have duplicated polygons across the zones:"
   ]
  },
  {
   "cell_type": "code",
   "execution_count": null,
   "metadata": {},
   "outputs": [],
   "source": [
    "sum(rowsCX)-brazil_municipalities_5641.shape[0]"
   ]
  },
  {
   "cell_type": "markdown",
   "metadata": {},
   "source": [
    "### Exercise 4\n",
    "\n",
    "\n",
    "<div class=\"alert-success\"> \n",
    "\n",
    "1. Compute the centroid of your country.\n",
    "\n",
    "2. Dissolve all the polygons to the north, and also all the polygons to the south. Plot both results.\n",
    "\n",
    "3. Detect the amount of duplicates after the dissolving process.\n",
    "    \n",
    "</div>"
   ]
  },
  {
   "cell_type": "markdown",
   "metadata": {},
   "source": [
    "<a class=\"anchor\" id=\"3\"></a>\n",
    "\n",
    "## Creating Spatial data\n",
    "\n",
    "You will get Lines and Polygons as maps for sure, but that may not be the case with points. Let me download a **CSV** file with information on the airports in Brazil from this [website](https://data.humdata.org/dataset/ourairports-bra), I will save it in my **data** folder:"
   ]
  },
  {
   "cell_type": "code",
   "execution_count": null,
   "metadata": {},
   "outputs": [],
   "source": [
    "import pandas as pd \n",
    "infoairports=pd.read_csv(os.path.join(\"data\",\"br-airports.csv\"))\n",
    "\n",
    "# some rows\n",
    "\n",
    "infoairports.iloc[[0,1,2,3,-4,-3,-2,-1],:] #head and tail"
   ]
  },
  {
   "cell_type": "code",
   "execution_count": null,
   "metadata": {},
   "outputs": [],
   "source": [
    "This needs some cleaning:"
   ]
  },
  {
   "cell_type": "code",
   "execution_count": null,
   "metadata": {},
   "outputs": [],
   "source": [
    "# bye first row \n",
    "infoairports.drop(index=0,inplace=True)\n",
    "infoairports.reset_index(drop=True, inplace=True)\n",
    "infoairports.head()"
   ]
  },
  {
   "cell_type": "code",
   "execution_count": null,
   "metadata": {},
   "outputs": [],
   "source": [
    "# keep the  columns needed\n",
    "\n",
    "infoairports.columns.to_list()"
   ]
  },
  {
   "cell_type": "code",
   "execution_count": null,
   "metadata": {},
   "outputs": [],
   "source": [
    "keep=['name','type','latitude_deg', 'longitude_deg','elevation_ft','region_name','municipality']\n",
    "infoairports=infoairports.loc[:,keep]"
   ]
  },
  {
   "cell_type": "code",
   "execution_count": null,
   "metadata": {},
   "outputs": [],
   "source": [
    "infoairports.info()"
   ]
  },
  {
   "cell_type": "code",
   "execution_count": null,
   "metadata": {},
   "outputs": [],
   "source": [
    "Some formatting:"
   ]
  },
  {
   "cell_type": "code",
   "execution_count": null,
   "metadata": {},
   "outputs": [],
   "source": [
    "numericCols=['latitude_deg', 'longitude_deg','elevation_ft']\n",
    "infoairports[numericCols]=infoairports.loc[:,numericCols].apply(lambda x:pd.to_numeric(x))\n",
    "\n",
    "# now \n",
    "infoairports.info()"
   ]
  },
  {
   "cell_type": "code",
   "execution_count": null,
   "metadata": {},
   "outputs": [],
   "source": [
    "# let's plot\n",
    "\n",
    "base = brazil.plot(color='white', edgecolor='black') #unprojected\n",
    "\n",
    "infoairports.plot.scatter(x = 'longitude_deg', y = 'latitude_deg',ax=base)"
   ]
  },
  {
   "cell_type": "code",
   "execution_count": null,
   "metadata": {},
   "outputs": [],
   "source": [
    "Would that be ok? It is supposed to be right. \n",
    "Let me turn those coordinates into a map of points:"
   ]
  },
  {
   "cell_type": "code",
   "execution_count": null,
   "metadata": {},
   "outputs": [],
   "source": [
    "airports=gpd.GeoDataFrame(data=infoairports.copy(),\n",
    "                 geometry=gpd.points_from_xy(infoairports.longitude_deg,\n",
    "                                             infoairports.latitude_deg), \n",
    "                 crs=brazil.crs.to_epsg())# the coordinates were in degrees - unprojected"
   ]
  },
  {
   "cell_type": "code",
   "execution_count": null,
   "metadata": {},
   "outputs": [],
   "source": [
    "# does it look better?\n",
    "\n",
    "# let's plot\n",
    "\n",
    "base = brazil.plot(color='white', edgecolor='black')\n",
    "airports.plot(ax=base)"
   ]
  },
  {
   "cell_type": "code",
   "execution_count": null,
   "metadata": {},
   "outputs": [],
   "source": [
    "#remember:\n",
    "type(airports), type(infoairports)"
   ]
  },
  {
   "cell_type": "code",
   "execution_count": null,
   "metadata": {},
   "outputs": [],
   "source": [
    "Then this works:"
   ]
  },
  {
   "cell_type": "code",
   "execution_count": null,
   "metadata": {},
   "outputs": [],
   "source": [
    "airports.to_crs(5641).plot()"
   ]
  },
  {
   "cell_type": "code",
   "execution_count": null,
   "metadata": {},
   "outputs": [],
   "source": [
    "# this does not:\n",
    "infoairports.to_crs(5641).plot()"
   ]
  },
  {
   "cell_type": "code",
   "execution_count": null,
   "metadata": {},
   "outputs": [],
   "source": [
    "Let's keep the projected version:"
   ]
  },
  {
   "cell_type": "code",
   "execution_count": null,
   "metadata": {},
   "outputs": [],
   "source": [
    "airports_5641=airports.to_crs(5641)"
   ]
  },
  {
   "cell_type": "code",
   "execution_count": null,
   "metadata": {},
   "outputs": [],
   "source": [
    "Remember you have type of airports:"
   ]
  },
  {
   "cell_type": "code",
   "execution_count": null,
   "metadata": {},
   "outputs": [],
   "source": [
    "airports_5641['type'].value_counts() # this will not work: airports.type.value_counts()"
   ]
  },
  {
   "cell_type": "code",
   "execution_count": null,
   "metadata": {},
   "outputs": [],
   "source": [
    "We may use that in the future. For now, just rename the **type** column to a different one."
   ]
  },
  {
   "cell_type": "code",
   "execution_count": null,
   "metadata": {},
   "outputs": [],
   "source": [
    "airports_5641.rename(columns={'type':'kind'},inplace=True)"
   ]
  },
  {
   "cell_type": "code",
   "execution_count": null,
   "metadata": {},
   "outputs": [],
   "source": [
    "That may be useful:"
   ]
  },
  {
   "cell_type": "code",
   "execution_count": null,
   "metadata": {},
   "outputs": [],
   "source": [
    "from folium import LayerControl\n",
    "\n",
    "\n",
    "m = airports_5641[airports_5641.kind=='small_airport'].explore(color=\"red\",name=\"small\",show=False)\n",
    "m = airports_5641[airports_5641.kind=='medium_airport'].explore(m=m, color=\"blue\",name=\"medium\",show=False)\n",
    "m = airports_5641[airports_5641.kind=='large_airport'].explore(m=m, color=\"black\",name=\"large\",show=True)\n",
    "m = airports_5641[airports_5641.kind=='seaplane_base'].explore(m=m, color=\"green\",name=\"seaplane\",show=False)\n",
    "m = airports_5641[airports_5641.kind=='closed'].explore(m=m, color=\"white\",name=\"closed\",show=False)\n",
    "m = airports_5641[airports_5641.kind=='heliport'].explore(m=m, color=\"orange\",name=\"heliport\",show=False)\n",
    "\n",
    "LayerControl(collapsed=False).add_to(m) #optional\n",
    "\n",
    "m"
   ]
  },
  {
   "cell_type": "code",
   "execution_count": null,
   "metadata": {},
   "outputs": [],
   "source": [
    "Now, let's add this map of points:"
   ]
  },
  {
   "cell_type": "code",
   "execution_count": null,
   "metadata": {},
   "outputs": [],
   "source": [
    "airports_5641.to_file(os.path.join(\"maps\",\"brazilMaps_5641.gpkg\"),layer='airports', driver=\"GPKG\")"
   ]
  },
  {
   "cell_type": "code",
   "execution_count": null,
   "metadata": {},
   "outputs": [],
   "source": [
    "\n",
    "### Exercise 5 (extra credit - optional)\n",
    "<div class=\"alert-success\">\n",
    "\n",
    "1. Look for some points in a CSV file about your country.\n",
    "    \n",
    "2. Turn those points into a spatial object.\n",
    "    \n",
    "3. Save the layer.\n",
    "    \n",
    "</div>"
   ]
  },
  {
   "cell_type": "markdown",
   "metadata": {},
   "source": [
    "<a class=\"anchor\" id=\"31\"></a>\n",
    "\n",
    "## Creating the convex hull\n",
    "\n",
    "Some time you may have the need to create a polygon that serves as an envelope to a set of points. As en envelope, it should have only convex angles. That envelope is the convex hull:"
   ]
  },
  {
   "cell_type": "code",
   "execution_count": null,
   "metadata": {},
   "outputs": [],
   "source": [
    "# in a polygon\n",
    "Brazil_topLeft"
   ]
  },
  {
   "cell_type": "code",
   "execution_count": null,
   "metadata": {},
   "outputs": [],
   "source": [
    "Brazil_topLeft.plot()"
   ]
  },
  {
   "cell_type": "code",
   "execution_count": null,
   "metadata": {},
   "outputs": [],
   "source": [
    "Brazil_topLeft.convex_hull"
   ]
  },
  {
   "cell_type": "code",
   "execution_count": null,
   "metadata": {},
   "outputs": [],
   "source": [
    "Brazil_topLeft.convex_hull.plot()"
   ]
  },
  {
   "cell_type": "markdown",
   "metadata": {},
   "source": [
    "Notice that the convex hull works for each row of the geometry. _Brazil_topLeft_ was one geometry row, so the convex hull was straightforward.\n",
    "\n",
    "This might be different if you have points:"
   ]
  },
  {
   "cell_type": "code",
   "execution_count": null,
   "metadata": {},
   "outputs": [],
   "source": [
    "large_airport=airports_5641[airports_5641.kind=='large_airport']\n",
    "# several rows\n",
    "large_airport"
   ]
  },
  {
   "cell_type": "markdown",
   "metadata": {},
   "source": [
    "In this situation, as you want the convex hull of the large airports, you need to combine all the points:"
   ]
  },
  {
   "cell_type": "code",
   "execution_count": null,
   "metadata": {},
   "outputs": [],
   "source": [
    "large_airport.unary_union"
   ]
  },
  {
   "cell_type": "code",
   "execution_count": null,
   "metadata": {},
   "outputs": [],
   "source": [
    "This is a **multipoint** geometry:"
   ]
  },
  {
   "cell_type": "code",
   "execution_count": null,
   "metadata": {},
   "outputs": [],
   "source": [
    "gpd.GeoSeries(large_airport.unary_union)"
   ]
  },
  {
   "cell_type": "code",
   "execution_count": null,
   "metadata": {},
   "outputs": [],
   "source": [
    "Then, you are ready to get the convex hull:"
   ]
  },
  {
   "cell_type": "code",
   "execution_count": null,
   "metadata": {},
   "outputs": [],
   "source": [
    "large_airport.unary_union.convex_hull"
   ]
  },
  {
   "cell_type": "code",
   "execution_count": null,
   "metadata": {},
   "outputs": [],
   "source": [
    "Notice the type:"
   ]
  },
  {
   "cell_type": "code",
   "execution_count": null,
   "metadata": {},
   "outputs": [],
   "source": [
    "type(large_airport.unary_union.convex_hull)"
   ]
  },
  {
   "cell_type": "code",
   "execution_count": null,
   "metadata": {},
   "outputs": [],
   "source": [
    "This will not work for a geometry:"
   ]
  },
  {
   "cell_type": "code",
   "execution_count": null,
   "metadata": {},
   "outputs": [],
   "source": [
    "large_airport.unary_union.convex_hull.plot()"
   ]
  },
  {
   "cell_type": "code",
   "execution_count": null,
   "metadata": {},
   "outputs": [],
   "source": [
    "# but it will for a series\n",
    "gpd.GeoSeries(large_airport.unary_union.convex_hull).plot()"
   ]
  },
  {
   "cell_type": "code",
   "execution_count": null,
   "metadata": {},
   "outputs": [],
   "source": [
    "Let's turn the GS into a GDF:"
   ]
  },
  {
   "cell_type": "code",
   "execution_count": null,
   "metadata": {},
   "outputs": [],
   "source": [
    "# as gdf\n",
    "LargeAirport_hull=gpd.GeoSeries(large_airport.unary_union.convex_hull).to_frame()\n",
    "LargeAirport_hull"
   ]
  },
  {
   "cell_type": "code",
   "execution_count": null,
   "metadata": {},
   "outputs": [],
   "source": [
    "#next steps\n",
    "LargeAirport_hull.rename(columns={0:'geometry'},inplace=True)\n",
    "LargeAirport_hull['name']='large airports hull' # optional\n",
    "LargeAirport_hull=LargeAirport_hull.set_geometry('geometry')\n",
    "LargeAirport_hull.crs=\"EPSG:5641\"\n",
    "# verifying:\n",
    "LargeAirport_hull.crs"
   ]
  },
  {
   "cell_type": "code",
   "execution_count": null,
   "metadata": {},
   "outputs": [],
   "source": [
    "Let's use the GDF in plotting:"
   ]
  },
  {
   "cell_type": "code",
   "execution_count": null,
   "metadata": {},
   "outputs": [],
   "source": [
    "base=brazil_5641.plot(facecolor='yellow')\n",
    "large_airport.plot(ax=base)\n",
    "LargeAirport_hull.plot(ax=base,facecolor='green',\n",
    "                       edgecolor='white',alpha=0.4,\n",
    "                       hatch='X')"
   ]
  },
  {
   "cell_type": "code",
   "execution_count": null,
   "metadata": {},
   "outputs": [],
   "source": [
    "LargeAirport_hull.explore()"
   ]
  },
  {
   "cell_type": "code",
   "execution_count": null,
   "metadata": {},
   "outputs": [],
   "source": [
    "### Exercise 6 \n",
    "\n",
    "<div class=\"alert-success\">\n",
    "\n",
    "1. Select some points from your maps.\n",
    "    \n",
    "2. Create the convex hull for those points.\n",
    "    \n",
    "3. Turn the hull into a GDF.\n",
    "    \n",
    "4. Plot the hull on top of the country.\n",
    "    \n",
    "</div>"
   ]
  },
  {
   "cell_type": "code",
   "execution_count": null,
   "metadata": {},
   "outputs": [],
   "source": [
    "<a class=\"anchor\" id=\"4\"></a>\n",
    "\n",
    "## Checking Validity of Geometry\n",
    "\n",
    "Geometries are created in a way that some issues may appear, especially in (multi) polygons.\n",
    "Let's check if our recent maps on states and municipalities are valid:"
   ]
  },
  {
   "cell_type": "code",
   "execution_count": null,
   "metadata": {},
   "outputs": [],
   "source": [
    "# non valid\n",
    "brazil_states_5641[~brazil_states_5641.is_valid]"
   ]
  },
  {
   "cell_type": "code",
   "execution_count": null,
   "metadata": {},
   "outputs": [],
   "source": [
    "# see the invalid:\n",
    "brazil_states_5641[~brazil_states_5641.is_valid].plot()"
   ]
  },
  {
   "cell_type": "code",
   "execution_count": null,
   "metadata": {},
   "outputs": [],
   "source": [
    "It is difficult to see what is wrong. Let's get some information:"
   ]
  },
  {
   "cell_type": "code",
   "execution_count": null,
   "metadata": {},
   "outputs": [],
   "source": [
    "# what is wrong?\n",
    "\n",
    "from shapely.validation import explain_validity, make_valid\n",
    "\n",
    "explain_validity(brazil_states_5641[~brazil_states_5641.is_valid].geometry)"
   ]
  },
  {
   "cell_type": "code",
   "execution_count": null,
   "metadata": {},
   "outputs": [],
   "source": [
    "Let's solve the issue:"
   ]
  },
  {
   "cell_type": "code",
   "execution_count": null,
   "metadata": {},
   "outputs": [],
   "source": [
    "BrSt5641_valid=brazil_states_5641[~brazil_states_5641.is_valid].copy()\n",
    "\n",
    "# solving the issue:\n",
    "BrSt5641_valid['geometry'] = [make_valid(row)  if not row.is_valid else row for row in BrSt5641_valid['geometry']]\n"
   ]
  },
  {
   "cell_type": "code",
   "execution_count": null,
   "metadata": {},
   "outputs": [],
   "source": [
    "# any invalid?\n",
    "BrSt5641_valid[~BrSt5641_valid.is_valid]"
   ]
  },
  {
   "cell_type": "code",
   "execution_count": null,
   "metadata": {},
   "outputs": [],
   "source": [
    "What about the other geodataframe?"
   ]
  },
  {
   "cell_type": "code",
   "execution_count": null,
   "metadata": {},
   "outputs": [],
   "source": [
    "brazil_municipalities_5641[~brazil_municipalities_5641.is_valid]"
   ]
  },
  {
   "cell_type": "code",
   "execution_count": null,
   "metadata": {},
   "outputs": [],
   "source": [
    "explain_validity(brazil_municipalities_5641[~brazil_municipalities_5641.is_valid].geometry)"
   ]
  },
  {
   "cell_type": "code",
   "execution_count": null,
   "metadata": {},
   "outputs": [],
   "source": [
    "# varieties?\n",
    "brazil_municipalities_5641['validity']=[x.split('[')[0] for x in brazil_municipalities_5641.geometry.apply(lambda x: explain_validity(x))]\n",
    "brazil_municipalities_5641['validity'].value_counts()"
   ]
  },
  {
   "cell_type": "code",
   "execution_count": null,
   "metadata": {},
   "outputs": [],
   "source": [
    "# solving the issue:\n",
    "brazil_municipalities_5641.drop(columns=['validity'],inplace=True)\n",
    "\n",
    "BrMun5641_valid=brazil_municipalities_5641.copy()\n",
    "\n",
    "BrMun5641_valid['geometry'] = [make_valid(row)  if not row.is_valid else row for row in BrMun5641_valid['geometry'] ]\n",
    "#any invalid?\n",
    "BrMun5641_valid[~BrMun5641_valid.is_valid]"
   ]
  },
  {
   "cell_type": "markdown",
   "metadata": {},
   "source": [
    "The _solution_ we got may help for some advanced techniques, but may also give us some extra trouble. Notice that once geopandas solved the problem, you  have created **collections**:"
   ]
  },
  {
   "cell_type": "code",
   "execution_count": null,
   "metadata": {},
   "outputs": [],
   "source": [
    "[x for x in BrMun5641_valid[\"geometry\"]]"
   ]
  },
  {
   "cell_type": "code",
   "execution_count": null,
   "metadata": {},
   "outputs": [],
   "source": [
    "Let's not save these last changes."
   ]
  },
  {
   "cell_type": "code",
   "execution_count": null,
   "metadata": {},
   "outputs": [],
   "source": [
    "### Exercise 7 \n",
    "\n",
    "<div class=\"alert-success\">\n",
    "\n",
    "1. Check if all your polygons are valid in every map you have (map of polygons only).\n",
    "    \n",
    "2. If you detect some invalid geometries, detect what the problem is.\n",
    "    \n",
    "3. Correct all cases. Do not save the results.\n",
    "    \n",
    "</div>"
   ]
  },
  {
   "cell_type": "code",
   "execution_count": null,
   "metadata": {},
   "outputs": [],
   "source": []
  }
 ],
 "metadata": {
  "anaconda-cloud": {
   "attach-environment": true,
   "summary": "test"
  },
  "colab": {
   "provenance": []
  },
  "hide_input": false,
  "kernelspec": {
   "display_name": "Python 3 (ipykernel)",
   "language": "python",
   "name": "python3"
  },
  "language_info": {
   "codemirror_mode": {
    "name": "ipython",
    "version": 3
   },
   "file_extension": ".py",
   "mimetype": "text/x-python",
   "name": "python",
   "nbconvert_exporter": "python",
   "pygments_lexer": "ipython3",
   "version": "3.11.5"
  },
  "toc-autonumbering": false
 },
 "nbformat": 4,
 "nbformat_minor": 4
}
