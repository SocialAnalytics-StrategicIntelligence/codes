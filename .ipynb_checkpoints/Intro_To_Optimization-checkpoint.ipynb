{
 "cells": [
  {
   "cell_type": "markdown",
   "id": "e94c1246",
   "metadata": {},
   "source": [
    "<img src=\"https://i.imgur.com/6U6q5jQ.png\"/>\n",
    "\n",
    "_____\n",
    "<a id='home'></a>\n",
    "\n",
    "\n",
    "<a target=\"_blank\" href=\"https://colab.research.google.com/github/SocialAnalytics-StrategicIntelligence/codes/blob/main/Intro_To_Optimization.ipynb\">\n",
    "  <img src=\"https://colab.research.google.com/assets/colab-badge.svg\" alt=\"Open In Colab\"/>\n",
    "</a>\n",
    "\n",
    "# Introduction to Optimization\n"
   ]
  },
  {
   "cell_type": "code",
   "execution_count": null,
   "id": "4e38af10",
   "metadata": {},
   "outputs": [],
   "source": [
    "%%html\n",
    "<iframe src=\"https://docs.google.com/presentation/d/e/2PACX-1vQHq0p2eTmxRWJjDmo1mUmdarYgIrEew4ieiVbIGQy-D_CyBw5rbbRUlRxwLKKaVQpRV9Hs8MGnz0X2/embed?start=false&loop=false&delayms=3000\" frameborder=\"0\" width=\"960\" height=\"569\" allowfullscreen=\"true\" mozallowfullscreen=\"true\" webkitallowfullscreen=\"true\"></iframe>\n"
   ]
  },
  {
   "cell_type": "markdown",
   "id": "869a5ade-2e6f-4ccd-8fd6-b4f276cff22f",
   "metadata": {},
   "source": [
    "# Part 1: Solving the Problem"
   ]
  },
  {
   "cell_type": "markdown",
   "id": "1f02e23b",
   "metadata": {},
   "source": [
    "Please, go to your _environment_ in Anacoda Navigator to install **glpk** and **pulp**  before runing the codes below.\n",
    "Then, call the library:"
   ]
  },
  {
   "cell_type": "code",
   "execution_count": null,
   "id": "a105dc9b-d105-49d3-8093-96d03eca9530",
   "metadata": {},
   "outputs": [],
   "source": [
    "import pulp as pp"
   ]
  },
  {
   "cell_type": "markdown",
   "id": "dd461c8a-8a20-4a93-aa9e-2b46c1deaf52",
   "metadata": {},
   "source": [
    "1. **Initialize the MODEL**: just write the name and declare if it is maximization or minimization problem type."
   ]
  },
  {
   "cell_type": "code",
   "execution_count": null,
   "id": "4436e0c7",
   "metadata": {},
   "outputs": [],
   "source": [
    "model = pp.LpProblem(name='refinery-problem', # just the name\n",
    "                     sense=pp.LpMaximize) # type of problem"
   ]
  },
  {
   "cell_type": "markdown",
   "id": "c001fd3a-190b-45d8-9fa3-c3e21578fa03",
   "metadata": {},
   "source": [
    "2. **Declare the VARIABLES**: The refinery model consists of these _variables_:"
   ]
  },
  {
   "cell_type": "code",
   "execution_count": null,
   "id": "8533e838-9e02-4ca8-85ef-de557cb1dd7c",
   "metadata": {},
   "outputs": [],
   "source": [
    "# how much gas?\n",
    "Gas = pp.LpVariable(name=\"Gas\",  # just the name\n",
    "                    lowBound=0,  # ensure non-negativity\n",
    "                    cat='Continuous') # here: you accept decimal values\n",
    "\n",
    "# how much oil?\n",
    "Oil = pp.LpVariable(name=\"Oil\",\n",
    "                 lowBound=0,\n",
    "                 cat='Continuous')"
   ]
  },
  {
   "cell_type": "markdown",
   "id": "611438aa-54e1-4cdd-aa77-44702feb498a",
   "metadata": {},
   "source": [
    "3. **Create function to OPTIMIZE**: The function is just the linear combination of the variables and their _given coefficients__: "
   ]
  },
  {
   "cell_type": "code",
   "execution_count": null,
   "id": "e676c256-353d-4fbd-a206-6914f29ff8ba",
   "metadata": {},
   "outputs": [],
   "source": [
    "GasCoeff=1.9\n",
    "OilCoeff=1.5\n",
    "obj_func = GasCoeff*Gas + OilCoeff*Oil"
   ]
  },
  {
   "cell_type": "markdown",
   "id": "65a5c48f-d28c-489a-bcd4-f97be76b57c7",
   "metadata": {},
   "source": [
    "4. **Represent the constraints**: These are the rules the model (set of variables) must obey:"
   ]
  },
  {
   "cell_type": "code",
   "execution_count": null,
   "id": "c24146f7-5db5-4606-90fd-9bc010685754",
   "metadata": {},
   "outputs": [],
   "source": [
    "# SUBJECT TO:\n",
    "C1= pp.LpConstraint(name='Gas Constraint',   # just the name\n",
    "                    e= 1*gas - 2*oil, rhs=0, # linear combination of constraint and rhs \n",
    "                    sense=pp.LpConstraintGE) # 'rule' >= 0 (LpConstraintGE)\n",
    "C2= pp.LpConstraint(name='Oil Constraint',\n",
    "                    e= 1*oil, rhs=3000000,\n",
    "                    sense=pp.LpConstraintGE) # 'rule' >= 3000000 (LpConstraintGE)\n",
    "C3= pp.LpConstraint(name='Demand Constraint',\n",
    "                    e= 1*gas, rhs=6400000,\n",
    "                    sense=pp.LpConstraintLE, )# 'rule' <= 6400000 (LpConstraintLE)"
   ]
  },
  {
   "cell_type": "markdown",
   "id": "10465ba5-03d5-41d0-9e65-b4c13d8a8728",
   "metadata": {},
   "source": [
    "5. **Build MODEL**: Here you add (i) the objective function, and (ii) all the constraints:"
   ]
  },
  {
   "cell_type": "code",
   "execution_count": null,
   "id": "44dd2783-49c1-44fd-952b-47743c9d4686",
   "metadata": {},
   "outputs": [],
   "source": [
    "model += obj_func\n",
    "model += C1\n",
    "model += C2\n",
    "model += C3\n"
   ]
  },
  {
   "cell_type": "markdown",
   "id": "2a332886-694b-40d8-98d3-e27066b28e96",
   "metadata": {},
   "source": [
    "6. **Solve the MODEL**: Notice we are not using the _default solver_, we are explicitly usig **COIN_CMD**:"
   ]
  },
  {
   "cell_type": "code",
   "execution_count": null,
   "id": "636442d1-a48c-4a3a-a84d-9f2312f3d473",
   "metadata": {},
   "outputs": [],
   "source": [
    "solver = pp.COIN_CMD(msg=False)\n",
    "result=model.solve(solver)"
   ]
  },
  {
   "cell_type": "markdown",
   "id": "54053ca1-f45e-4ae8-927e-a6b6cfc9a9e4",
   "metadata": {},
   "source": [
    "# Part 2: Seeing optimal solution"
   ]
  },
  {
   "cell_type": "markdown",
   "id": "7db07777-25b5-46c9-9d51-f1d0e3ceb709",
   "metadata": {},
   "source": [
    "You can create a summary like this:"
   ]
  },
  {
   "cell_type": "code",
   "execution_count": null,
   "id": "3a0152d1-cdd5-4426-9ba6-90556a685048",
   "metadata": {},
   "outputs": [],
   "source": [
    "Results={\"Model Status\":pp.LpStatus[model.status]}\n",
    "Results.update({\"Optimal Solution\":pp.value(model.objective)})\n",
    "Results.update({v.name: v.varValue for v in model.variables()})\n",
    "pd.DataFrame.from_dict(Results,orient='index').T.set_index('Model Status').style.format('{:,}')"
   ]
  },
  {
   "cell_type": "markdown",
   "id": "8e77ed67-1efc-4180-b2d0-b946077c78b9",
   "metadata": {},
   "source": [
    "# Part 3: Sensibility of the Solution\n",
    "\n",
    "## Computing Shadow and Slack"
   ]
  },
  {
   "cell_type": "markdown",
   "id": "d82e4229-ee51-4d07-8b66-ac6e45440e91",
   "metadata": {},
   "source": [
    "The solution obtained comes with two extra pieces of information:\n",
    "\n",
    "* The **slack**: The amount you can modify in the RHS, so that the current Optimal Result does not change. \n",
    "* The **shadow price**: The change in the Optimal result, if you change the RHS in one unit."
   ]
  },
  {
   "cell_type": "code",
   "execution_count": null,
   "id": "d019b6cc-b19f-4c8b-95eb-bf88989c6bbb",
   "metadata": {},
   "outputs": [],
   "source": [
    "import pandas as pd\n",
    "\n",
    "pd.DataFrame([{'name':name,'slack': c.slack,'shadow price':c.pi} for name, c in model.constraints.items()])"
   ]
  },
  {
   "cell_type": "markdown",
   "id": "2362c0d8-de75-4d9a-a298-9342b44a07b0",
   "metadata": {},
   "source": [
    "## Using Slack"
   ]
  },
  {
   "cell_type": "markdown",
   "id": "d1575050-08e9-4008-b183-a6b69eed7788",
   "metadata": {},
   "source": [
    "That is, if currently the RHS of 'oil' constraint is 3,000,000, if we add its slack (200,000) or less."
   ]
  },
  {
   "cell_type": "code",
   "execution_count": null,
   "id": "8c2f097d-70f1-446d-aea1-ca49ab089a88",
   "metadata": {},
   "outputs": [],
   "source": [
    "model = pp.LpProblem(name='refinery-problem',sense=pp.LpMaximize)\n",
    "\n",
    "C1= pp.LpConstraint(name='Gas Constraint',e= 1*gas - 2*oil, rhs=0,sense=pp.LpConstraintGE) \n",
    "C2= pp.LpConstraint(name='Oil Constraint',e= 1*oil, rhs=3200000,sense=pp.LpConstraintGE) # use SLACK\n",
    "C3= pp.LpConstraint(name='Demand Constraint',e= 1*gas, rhs=6400000,sense=pp.LpConstraintLE, )\n",
    "\n",
    "model += obj_func\n",
    "model += C1\n",
    "model += C2\n",
    "model += C3\n",
    "\n",
    "solver = pp.COIN_CMD(msg=False)\n",
    "result=model.solve(solver)\n",
    "\n",
    "Results={\"Model Status\":pp.LpStatus[model.status]}\n",
    "Results.update({\"Optimal Solution\":pp.value(model.objective)})\n",
    "Results.update({v.name: v.varValue for v in model.variables()})\n",
    "pd.DataFrame.from_dict(Results,orient='index').T.set_index('Model Status').style.format('{:,}')"
   ]
  },
  {
   "cell_type": "markdown",
   "id": "ac4ead51-ebea-450e-b034-ee4306c5ca4f",
   "metadata": {},
   "source": [
    "## Using Shadow price"
   ]
  },
  {
   "cell_type": "markdown",
   "id": "56537430-e950-42c7-b7d0-c700bafca1dd",
   "metadata": {},
   "source": [
    "As the shadow price of _Demand_ is 2.65, this will happen to the optimal solution if we add __1__ to the RHS of _Demand_:"
   ]
  },
  {
   "cell_type": "code",
   "execution_count": null,
   "id": "24fa08ff-420e-4984-b794-ff4967380068",
   "metadata": {},
   "outputs": [],
   "source": [
    "model = pp.LpProblem(name='refinery-problem',sense=pp.LpMaximize)\n",
    "\n",
    "C1= pp.LpConstraint(name='Gas Constraint',e= 1*gas - 2*oil, rhs=0,sense=pp.LpConstraintGE) \n",
    "C2= pp.LpConstraint(name='Oil Constraint',e= 1*oil, rhs=3000000,sense=pp.LpConstraintGE) \n",
    "C3= pp.LpConstraint(name='Demand Constraint',e= 1*gas, rhs=6400001,sense=pp.LpConstraintLE) # add 1 (use shadow price)\n",
    "\n",
    "model += obj_func\n",
    "model += C1\n",
    "model += C2\n",
    "model += C3\n",
    "\n",
    "solver = pp.COIN_CMD(msg=False)\n",
    "result=model.solve(solver)\n",
    "\n",
    "Results={\"Model Status\":pp.LpStatus[model.status]}\n",
    "Results.update({\"Optimal Solution\":pp.value(model.objective)})\n",
    "Results.update({v.name: v.varValue for v in model.variables()})\n",
    "pd.DataFrame.from_dict(Results,orient='index').T.set_index('Model Status').style.format('{:,}')"
   ]
  },
  {
   "cell_type": "markdown",
   "id": "9c025230-ed6e-40b1-ae5c-03bed5c5c0b7",
   "metadata": {},
   "source": [
    "# More Examples\n",
    "\n",
    "## The diet problem"
   ]
  },
  {
   "cell_type": "code",
   "execution_count": null,
   "id": "a7e1cb7a",
   "metadata": {},
   "outputs": [],
   "source": [
    "%%html\n",
    "\n",
    "<iframe src=\"https://docs.google.com/presentation/d/e/2PACX-1vTSq9X74urGAB_5n_MIJ9ZGIboKSvBdokVTBXVLh_qqZnmLRTJioOF431Rzys3Qi9UaFwWXjeq6Wmd5/embed?start=false&loop=false&delayms=3000\" frameborder=\"0\" width=\"960\" height=\"569\" allowfullscreen=\"true\" mozallowfullscreen=\"true\" webkitallowfullscreen=\"true\"></iframe>"
   ]
  },
  {
   "cell_type": "code",
   "execution_count": null,
   "id": "06e07313",
   "metadata": {},
   "outputs": [],
   "source": [
    "model = pp.LpProblem(name='diet-problem', sense=pp.LpMinimize)\n",
    "\n",
    "V_V = pp.LpVariable(name=\"Vega Vita\", lowBound=0,cat='Integer')\n",
    "H_H = pp.LpVariable(name=\"Happy Health\", lowBound=0,cat='Integer')\n",
    "\n",
    "obj_func = 0.2*V_V + 0.3*H_H\n",
    "\n",
    "C1=pp.LpConstraint(e=20*V_V + 30*H_H,sense=pp.LpConstraintGE,name='Vitamin C',rhs=60)\n",
    "C2=pp.LpConstraint(e=500*V_V + 250*H_H,sense=pp.LpConstraintGE,name='Calcium',rhs=1000)\n",
    "C3=pp.LpConstraint(e=9*V_V + 2*H_H,sense=pp.LpConstraintGE,name='Iron',rhs=18)\n",
    "C4=pp.LpConstraint(e=2*V_V + 10*H_H,sense=pp.LpConstraintGE,name='Niacin',rhs=20)\n",
    "C5=pp.LpConstraint(e=60*V_V + 90*H_H,sense=pp.LpConstraintGE,name='Magnesium',rhs=360)\n",
    "\n",
    "\n",
    "model += obj_func\n",
    "model += C1\n",
    "model += C2\n",
    "model += C3\n",
    "model += C4\n",
    "model += C5\n",
    "\n",
    "solver = pp.COIN_CMD(msg=False)\n",
    "result=model.solve(solver)\n",
    "\n",
    "Results={\"Model Status\":pp.LpStatus[model.status]}\n",
    "Results.update({\"Optimal Solution\":pp.value(model.objective)})\n",
    "Results.update({v.name: v.varValue for v in model.variables()})\n",
    "pd.DataFrame.from_dict(Results,orient='index').T.set_index('Model Status').style.format('{:,}')"
   ]
  },
  {
   "cell_type": "code",
   "execution_count": null,
   "id": "edf6787d",
   "metadata": {},
   "outputs": [],
   "source": [
    "pd.DataFrame([{'name':name,'slack': c.slack,'shadow price':c.pi} for name, c in model.constraints.items()])"
   ]
  },
  {
   "cell_type": "markdown",
   "id": "e7c2f371-c489-44aa-93bc-5a2574802467",
   "metadata": {},
   "source": [
    "## The scheduling problem"
   ]
  },
  {
   "cell_type": "code",
   "execution_count": null,
   "id": "591b3dc7-103f-496f-a293-f1b95042e33e",
   "metadata": {},
   "outputs": [],
   "source": [
    "%%html\n",
    "<iframe src=\"https://docs.google.com/presentation/d/e/2PACX-1vQtBRpIr6Hx1_T0zJ3_DRqsE82YUjx7ZkeEKLdA64fbjtjkmc6Ibf6ebzp6CY69D482IGpG2h9GcsC5/embed?start=false&loop=false&delayms=3000\" frameborder=\"0\" width=\"960\" height=\"569\" allowfullscreen=\"true\" mozallowfullscreen=\"true\" webkitallowfullscreen=\"true\"></iframe>"
   ]
  },
  {
   "cell_type": "code",
   "execution_count": null,
   "id": "28e818e8-226f-41da-a960-93e248c261d9",
   "metadata": {},
   "outputs": [],
   "source": []
  }
 ],
 "metadata": {
  "kernelspec": {
   "display_name": "Python 3 (ipykernel)",
   "language": "python",
   "name": "python3"
  },
  "language_info": {
   "codemirror_mode": {
    "name": "ipython",
    "version": 3
   },
   "file_extension": ".py",
   "mimetype": "text/x-python",
   "name": "python",
   "nbconvert_exporter": "python",
   "pygments_lexer": "ipython3",
   "version": "3.11.5"
  }
 },
 "nbformat": 4,
 "nbformat_minor": 5
}
