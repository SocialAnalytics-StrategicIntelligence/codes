{
 "cells": [
  {
   "cell_type": "code",
   "execution_count": 3,
   "id": "873b4e2e",
   "metadata": {},
   "outputs": [],
   "source": [
    "Link=\"https://www.builtinseattle.com/2018/08/06/50-seattle-tech-twitter-accounts-to-follow\"\n",
    "\n",
    "from newspaper import Article\n",
    "\n",
    "article = Article(Link)\n",
    "article.download()"
   ]
  },
  {
   "cell_type": "code",
   "execution_count": 5,
   "id": "5c6c2a66",
   "metadata": {},
   "outputs": [],
   "source": [
    "#article.html"
   ]
  },
  {
   "cell_type": "code",
   "execution_count": 6,
   "id": "533dd41b",
   "metadata": {},
   "outputs": [],
   "source": [
    "article.parse()"
   ]
  },
  {
   "cell_type": "code",
   "execution_count": 13,
   "id": "e749c018",
   "metadata": {},
   "outputs": [
    {
     "data": {
      "text/plain": [
       "['@Rich_Barton',\n",
       " '@toddbishop',\n",
       " '@ShaunaCausey',\n",
       " '@mcolacurcio',\n",
       " '@mattmday',\n",
       " '@crashdev',\n",
       " '@funcOfJoe',\n",
       " '@etzioni',\n",
       " '@LeslieFeinzaig',\n",
       " '@john_gabbert',\n",
       " '@2morrowknight',\n",
       " '@JenMsft',\n",
       " '@gilbert',\n",
       " '@BrettGreene',\n",
       " '@SoGulley',\n",
       " '@moniguzman',\n",
       " '@Kristen_Hammy',\n",
       " '@PeterHamilton',\n",
       " '@gigglegirl4e',\n",
       " '@Ryanintheus',\n",
       " '@nhuntwalker',\n",
       " '@akipman',\n",
       " '@lanctot',\n",
       " '@marybethlambert',\n",
       " '@rachelerman',\n",
       " '@lovelletters',\n",
       " '@sonalpmane',\n",
       " '@mattmcilwain',\n",
       " '@memcnally',\n",
       " '@medinism',\n",
       " '@daryn',\n",
       " '@matt_oppy',\n",
       " '@MissDestructo',\n",
       " '@eugenio_pace',\n",
       " '@DaveParkerSEA',\n",
       " '@hadip',\n",
       " '@heatherredman',\n",
       " '@juliesandler',\n",
       " '@danshapiro',\n",
       " '@rsingh68',\n",
       " '@stevesi',\n",
       " '@BradSmi',\n",
       " '@KieranSnyder',\n",
       " '@AdamStelle',\n",
       " '@ashannstew',\n",
       " '@sarahstood',\n",
       " '@jinman',\n",
       " '@tarah',\n",
       " '@kirbywinfield',\n",
       " '@Jenerationy']"
      ]
     },
     "execution_count": 13,
     "metadata": {},
     "output_type": "execute_result"
    }
   ],
   "source": [
    "import re\n",
    "xx = article.text\n",
    "allTw=[x.split()[1] for x in  re.findall(r\"Follow \\@\\w+\",xx)]\n",
    "allTw"
   ]
  },
  {
   "cell_type": "code",
   "execution_count": 12,
   "id": "00b6cf4c",
   "metadata": {},
   "outputs": [
    {
     "data": {
      "text/plain": [
       "50"
      ]
     },
     "execution_count": 12,
     "metadata": {},
     "output_type": "execute_result"
    }
   ],
   "source": [
    "len(allTw)"
   ]
  },
  {
   "cell_type": "code",
   "execution_count": 17,
   "id": "ce4b75b1",
   "metadata": {},
   "outputs": [],
   "source": [
    "#%%\n",
    "import json\n",
    "import tweepy\n",
    "\n",
    "# your credentials as a dictionary in a text file:\n",
    "keysAPI = json.load(open('APIkeys.txt','r'))\n",
    "api_key = keysAPI['api_key']\n",
    "api_secret_key = keysAPI['api_key_secret']\n",
    "access_token = keysAPI['access_token']\n",
    "access_token_secret = keysAPI['access_token_secret']\n",
    "\n",
    "# authorizing your application:\n",
    "auth = tweepy.OAuthHandler(api_key, api_secret_key)\n",
    "auth.set_access_token(access_token, access_token_secret)\n",
    "\n",
    "# some extra attributes\n",
    "api=tweepy.API(auth, \n",
    "               retry_count=3,\n",
    "               timeout=600,\n",
    "               wait_on_rate_limit=True,\n",
    "               #wait_on_rate_limit_notify=True,\n",
    "               parser=tweepy.parsers.JSONParser())"
   ]
  },
  {
   "cell_type": "code",
   "execution_count": 24,
   "id": "2d15d3a3",
   "metadata": {},
   "outputs": [
    {
     "data": {
      "text/plain": [
       "'@Rich_Barton'"
      ]
     },
     "execution_count": 24,
     "metadata": {},
     "output_type": "execute_result"
    }
   ],
   "source": [
    "allTw[0]"
   ]
  },
  {
   "cell_type": "code",
   "execution_count": 35,
   "id": "e6265937",
   "metadata": {},
   "outputs": [
    {
     "data": {
      "text/plain": [
       "['@BrettGreene', '@gigglegirl4e', '@memcnally', '@AdamStelle']"
      ]
     },
     "execution_count": 35,
     "metadata": {},
     "output_type": "execute_result"
    }
   ],
   "source": [
    "toExclude=[]\n",
    "\n",
    "for user in allTw:\n",
    "    try:\n",
    "        api.get_user(screen_name=user)\n",
    "    except Exception:\n",
    "        toExclude.append(user)\n",
    "#not\n",
    "toExclude"
   ]
  },
  {
   "cell_type": "code",
   "execution_count": 38,
   "id": "aeda3bcc",
   "metadata": {},
   "outputs": [],
   "source": [
    "allUsersOK=list(set(allTw)-set(toExclude))"
   ]
  },
  {
   "cell_type": "code",
   "execution_count": 39,
   "id": "5ccec837",
   "metadata": {},
   "outputs": [
    {
     "name": "stderr",
     "output_type": "stream",
     "text": [
      "Rate limit reached. Sleeping for: 867\n",
      "Rate limit reached. Sleeping for: 867\n",
      "Rate limit reached. Sleeping for: 863\n",
      "Rate limit reached. Sleeping for: 866\n",
      "Rate limit reached. Sleeping for: 869\n"
     ]
    }
   ],
   "source": [
    "import itertools\n",
    "import networkx as nx\n",
    "isolates=[]\n",
    "net = nx.DiGraph()\n",
    "for a,b in itertools.combinations(allUsersOK,2):\n",
    "    res=api.get_friendship(source_screen_name=a,target_screen_name=b)\n",
    "    status=res['relationship']['source']['following'], res['relationship']['target']['following']\n",
    "    if status[0] and status[1]:\n",
    "        net.add_edge(a, b)\n",
    "        net.add_edge(b, a)\n",
    "    if status[0] and not status[1]:\n",
    "        net.add_edge(a, b)\n",
    "    if not status[0] and status[1]:\n",
    "        net.add_edge(b, a)"
   ]
  },
  {
   "cell_type": "code",
   "execution_count": 52,
   "id": "a54ff8c0",
   "metadata": {},
   "outputs": [],
   "source": [
    "theNodes=[g for g in net.nodes()]"
   ]
  },
  {
   "cell_type": "code",
   "execution_count": 53,
   "id": "3b36ec93",
   "metadata": {},
   "outputs": [
    {
     "data": {
      "text/plain": [
       "{'@rsingh68'}"
      ]
     },
     "execution_count": 53,
     "metadata": {},
     "output_type": "execute_result"
    }
   ],
   "source": [
    "set(allUsersOK)-set(theNodes) #@RajSinghSeattle"
   ]
  },
  {
   "cell_type": "code",
   "execution_count": 66,
   "id": "860481ec",
   "metadata": {},
   "outputs": [
    {
     "data": {
      "text/plain": [
       "[('@RajSinghSeattle', '@rachelerman'),\n",
       " ('@RajSinghSeattle', '@mattmcilwain'),\n",
       " ('@RajSinghSeattle', '@DaveParkerSEA'),\n",
       " ('@RajSinghSeattle', '@toddbishop'),\n",
       " ('@RajSinghSeattle', '@ashannstew'),\n",
       " ('@RajSinghSeattle', '@LeslieFeinzaig'),\n",
       " ('@RajSinghSeattle', '@akipman'),\n",
       " ('@RajSinghSeattle', '@matt_oppy'),\n",
       " ('@RajSinghSeattle', '@gilbert'),\n",
       " ('@RajSinghSeattle', '@juliesandler'),\n",
       " ('@RajSinghSeattle', '@BradSmi'),\n",
       " ('@RajSinghSeattle', '@crashdev'),\n",
       " ('@RajSinghSeattle', '@ShaunaCausey'),\n",
       " ('@RajSinghSeattle', '@john_gabbert'),\n",
       " ('@RajSinghSeattle', '@moniguzman'),\n",
       " ('@RajSinghSeattle', '@mattmday'),\n",
       " ('@RajSinghSeattle', '@Rich_Barton'),\n",
       " ('@RajSinghSeattle', '@daryn'),\n",
       " ('@RajSinghSeattle', '@lovelletters'),\n",
       " ('@RajSinghSeattle', '@etzioni'),\n",
       " ('@RajSinghSeattle', '@MissDestructo'),\n",
       " ('@RajSinghSeattle', '@heatherredman'),\n",
       " ('@RajSinghSeattle', '@danshapiro'),\n",
       " ('@RajSinghSeattle', '@medinism'),\n",
       " ('@RajSinghSeattle', '@KieranSnyder'),\n",
       " ('@RajSinghSeattle', '@hadip'),\n",
       " ('@RajSinghSeattle', '@funcOfJoe'),\n",
       " ('@RajSinghSeattle', '@kirbywinfield'),\n",
       " ('@RajSinghSeattle', '@stevesi'),\n",
       " ('@RajSinghSeattle', '@Ryanintheus'),\n",
       " ('@RajSinghSeattle', '@sonalpmane'),\n",
       " ('@RajSinghSeattle', '@SoGulley'),\n",
       " ('@RajSinghSeattle', '@2morrowknight'),\n",
       " ('@RajSinghSeattle', '@jinman'),\n",
       " ('@RajSinghSeattle', '@tarah'),\n",
       " ('@RajSinghSeattle', '@Jenerationy'),\n",
       " ('@RajSinghSeattle', '@lanctot'),\n",
       " ('@RajSinghSeattle', '@Kristen_Hammy'),\n",
       " ('@RajSinghSeattle', '@nhuntwalker'),\n",
       " ('@RajSinghSeattle', '@eugenio_pace'),\n",
       " ('@RajSinghSeattle', '@JenMsft'),\n",
       " ('@RajSinghSeattle', '@PeterHamilton'),\n",
       " ('@RajSinghSeattle', '@sarahstood'),\n",
       " ('@RajSinghSeattle', '@mcolacurcio'),\n",
       " ('@RajSinghSeattle', '@marybethlambert')]"
      ]
     },
     "execution_count": 66,
     "metadata": {},
     "output_type": "execute_result"
    }
   ],
   "source": [
    "corrections=['@RajSinghSeattle']\n",
    "list(itertools.product(corrections, theNodes))"
   ]
  },
  {
   "cell_type": "code",
   "execution_count": 60,
   "id": "97e9e514",
   "metadata": {},
   "outputs": [],
   "source": [
    "import itertools\n",
    "import networkx as nx\n",
    "#net = nx.DiGraph()\n",
    "for a,b in itertools.product(corrections, theNodes):\n",
    "    res=api.get_friendship(source_screen_name=a,target_screen_name=b)\n",
    "    status=res['relationship']['source']['following'], res['relationship']['target']['following']\n",
    "    if status[0] and status[1]:\n",
    "        net.add_edge(a, b)\n",
    "        net.add_edge(b, a)\n",
    "    if status[0] and not status[1]:\n",
    "        net.add_edge(a, b)\n",
    "    if not status[0] and status[1]:\n",
    "        net.add_edge(b, a)"
   ]
  },
  {
   "cell_type": "code",
   "execution_count": 67,
   "id": "2695f9e8",
   "metadata": {},
   "outputs": [
    {
     "data": {
      "text/plain": [
       "['@rachelerman',\n",
       " '@mattmcilwain',\n",
       " '@DaveParkerSEA',\n",
       " '@toddbishop',\n",
       " '@ashannstew',\n",
       " '@LeslieFeinzaig',\n",
       " '@akipman',\n",
       " '@matt_oppy',\n",
       " '@gilbert',\n",
       " '@Ryanintheus',\n",
       " '@juliesandler',\n",
       " '@BradSmi',\n",
       " '@crashdev',\n",
       " '@sonalpmane',\n",
       " '@ShaunaCausey',\n",
       " '@john_gabbert',\n",
       " '@moniguzman',\n",
       " '@mattmday',\n",
       " '@marybethlambert',\n",
       " '@Rich_Barton',\n",
       " '@daryn',\n",
       " '@Jenerationy',\n",
       " '@lovelletters',\n",
       " '@etzioni',\n",
       " '@MissDestructo',\n",
       " '@heatherredman',\n",
       " '@danshapiro',\n",
       " '@medinism',\n",
       " '@KieranSnyder',\n",
       " '@hadip',\n",
       " '@funcOfJoe',\n",
       " '@Kristen_Hammy',\n",
       " '@kirbywinfield',\n",
       " '@stevesi',\n",
       " '@SoGulley',\n",
       " '@2morrowknight',\n",
       " '@jinman',\n",
       " '@tarah',\n",
       " '@lanctot',\n",
       " '@nhuntwalker',\n",
       " '@eugenio_pace',\n",
       " '@JenMsft',\n",
       " '@PeterHamilton',\n",
       " '@sarahstood',\n",
       " '@mcolacurcio',\n",
       " '@RajSinghSeattle']"
      ]
     },
     "execution_count": 67,
     "metadata": {},
     "output_type": "execute_result"
    }
   ],
   "source": [
    "[x for x in net.nodes()]"
   ]
  },
  {
   "cell_type": "code",
   "execution_count": 70,
   "id": "cdc3752d",
   "metadata": {},
   "outputs": [
    {
     "data": {
      "text/plain": [
       "[]"
      ]
     },
     "execution_count": 70,
     "metadata": {},
     "output_type": "execute_result"
    }
   ],
   "source": [
    "[x for x in nx.isolates(net)]"
   ]
  },
  {
   "cell_type": "code",
   "execution_count": 72,
   "id": "88c3f7d0",
   "metadata": {},
   "outputs": [
    {
     "data": {
      "text/plain": [
       "46"
      ]
     },
     "execution_count": 72,
     "metadata": {},
     "output_type": "execute_result"
    }
   ],
   "source": [
    "len(net.nodes)"
   ]
  },
  {
   "cell_type": "code",
   "execution_count": 73,
   "id": "4aba203a",
   "metadata": {},
   "outputs": [],
   "source": [
    "nx.write_adjlist(net, \"net.adjlist\")"
   ]
  },
  {
   "cell_type": "code",
   "execution_count": 74,
   "id": "a80f27aa",
   "metadata": {},
   "outputs": [],
   "source": [
    "G = nx.read_adjlist(\"net.adjlist\")"
   ]
  },
  {
   "cell_type": "code",
   "execution_count": 84,
   "id": "1c29d0ea",
   "metadata": {},
   "outputs": [
    {
     "data": {
      "text/plain": [
       "[('@toddbishop', 41),\n",
       " ('@DaveParkerSEA', 36),\n",
       " ('@juliesandler', 31),\n",
       " ('@rachelerman', 30),\n",
       " ('@heatherredman', 30),\n",
       " ('@moniguzman', 29),\n",
       " ('@lovelletters', 29),\n",
       " ('@ShaunaCausey', 28),\n",
       " ('@matt_oppy', 26),\n",
       " ('@stevesi', 26),\n",
       " ('@crashdev', 25),\n",
       " ('@MissDestructo', 23),\n",
       " ('@hadip', 23),\n",
       " ('@SoGulley', 22),\n",
       " ('@KieranSnyder', 21),\n",
       " ('@Rich_Barton', 19),\n",
       " ('@RajSinghSeattle', 19),\n",
       " ('@ashannstew', 18),\n",
       " ('@LeslieFeinzaig', 18),\n",
       " ('@gilbert', 18),\n",
       " ('@etzioni', 18),\n",
       " ('@kirbywinfield', 17),\n",
       " ('@mattmcilwain', 16),\n",
       " ('@danshapiro', 16),\n",
       " ('@Jenerationy', 15),\n",
       " ('@Kristen_Hammy', 15),\n",
       " ('@mattmday', 14),\n",
       " ('@Ryanintheus', 14),\n",
       " ('@sonalpmane', 14),\n",
       " ('@BradSmi', 13),\n",
       " ('@lanctot', 12),\n",
       " ('@mcolacurcio', 12),\n",
       " ('@PeterHamilton', 11),\n",
       " ('@daryn', 10),\n",
       " ('@medinism', 9),\n",
       " ('@funcOfJoe', 9),\n",
       " ('@tarah', 8),\n",
       " ('@sarahstood', 8),\n",
       " ('@john_gabbert', 7),\n",
       " ('@nhuntwalker', 7),\n",
       " ('@JenMsft', 7),\n",
       " ('@akipman', 6),\n",
       " ('@jinman', 6),\n",
       " ('@marybethlambert', 5),\n",
       " ('@eugenio_pace', 3),\n",
       " ('@2morrowknight', 2)]"
      ]
     },
     "execution_count": 84,
     "metadata": {},
     "output_type": "execute_result"
    }
   ],
   "source": [
    "sorted(G.degree, key=lambda x: x[1], reverse=True)"
   ]
  },
  {
   "cell_type": "code",
   "execution_count": 85,
   "id": "dbf69d08",
   "metadata": {},
   "outputs": [
    {
     "data": {
      "text/plain": [
       "[('@toddbishop', 70),\n",
       " ('@juliesandler', 52),\n",
       " ('@DaveParkerSEA', 51),\n",
       " ('@ShaunaCausey', 51),\n",
       " ('@rachelerman', 50),\n",
       " ('@heatherredman', 50),\n",
       " ('@lovelletters', 46),\n",
       " ('@moniguzman', 45),\n",
       " ('@stevesi', 42),\n",
       " ('@MissDestructo', 39),\n",
       " ('@matt_oppy', 37),\n",
       " ('@crashdev', 37),\n",
       " ('@LeslieFeinzaig', 34),\n",
       " ('@KieranSnyder', 31),\n",
       " ('@etzioni', 30),\n",
       " ('@SoGulley', 29),\n",
       " ('@ashannstew', 27),\n",
       " ('@hadip', 27),\n",
       " ('@kirbywinfield', 26),\n",
       " ('@RajSinghSeattle', 24),\n",
       " ('@gilbert', 23),\n",
       " ('@Ryanintheus', 23),\n",
       " ('@mattmcilwain', 22),\n",
       " ('@mattmday', 22),\n",
       " ('@Rich_Barton', 22),\n",
       " ('@Kristen_Hammy', 21),\n",
       " ('@BradSmi', 20),\n",
       " ('@sonalpmane', 20),\n",
       " ('@danshapiro', 20),\n",
       " ('@Jenerationy', 19),\n",
       " ('@daryn', 17),\n",
       " ('@mcolacurcio', 17),\n",
       " ('@lanctot', 16),\n",
       " ('@PeterHamilton', 15),\n",
       " ('@john_gabbert', 13),\n",
       " ('@sarahstood', 12),\n",
       " ('@medinism', 11),\n",
       " ('@nhuntwalker', 11),\n",
       " ('@funcOfJoe', 10),\n",
       " ('@jinman', 9),\n",
       " ('@tarah', 8),\n",
       " ('@JenMsft', 8),\n",
       " ('@akipman', 7),\n",
       " ('@marybethlambert', 7),\n",
       " ('@eugenio_pace', 3),\n",
       " ('@2morrowknight', 2)]"
      ]
     },
     "execution_count": 85,
     "metadata": {},
     "output_type": "execute_result"
    }
   ],
   "source": [
    "sorted(net.degree, key=lambda x: x[1], reverse=True)"
   ]
  },
  {
   "cell_type": "code",
   "execution_count": 75,
   "id": "d56e3d12",
   "metadata": {},
   "outputs": [
    {
     "data": {
      "text/plain": [
       "EdgeView([('@rachelerman', '@mattmcilwain'), ('@rachelerman', '@DaveParkerSEA'), ('@rachelerman', '@toddbishop'), ('@rachelerman', '@ashannstew'), ('@rachelerman', '@LeslieFeinzaig'), ('@rachelerman', '@akipman'), ('@rachelerman', '@matt_oppy'), ('@rachelerman', '@gilbert'), ('@rachelerman', '@juliesandler'), ('@rachelerman', '@BradSmi'), ('@rachelerman', '@crashdev'), ('@rachelerman', '@ShaunaCausey'), ('@rachelerman', '@john_gabbert'), ('@rachelerman', '@moniguzman'), ('@rachelerman', '@mattmday'), ('@rachelerman', '@Rich_Barton'), ('@rachelerman', '@daryn'), ('@rachelerman', '@lovelletters'), ('@rachelerman', '@etzioni'), ('@rachelerman', '@MissDestructo'), ('@rachelerman', '@heatherredman'), ('@rachelerman', '@danshapiro'), ('@rachelerman', '@medinism'), ('@rachelerman', '@KieranSnyder'), ('@rachelerman', '@hadip'), ('@rachelerman', '@RajSinghSeattle'), ('@rachelerman', '@Ryanintheus'), ('@rachelerman', '@sonalpmane'), ('@rachelerman', '@marybethlambert'), ('@rachelerman', '@Jenerationy'), ('@mattmcilwain', '@toddbishop'), ('@mattmcilwain', '@gilbert'), ('@mattmcilwain', '@juliesandler'), ('@mattmcilwain', '@funcOfJoe'), ('@mattmcilwain', '@Rich_Barton'), ('@mattmcilwain', '@kirbywinfield'), ('@mattmcilwain', '@etzioni'), ('@mattmcilwain', '@MissDestructo'), ('@mattmcilwain', '@RajSinghSeattle'), ('@mattmcilwain', '@ashannstew'), ('@mattmcilwain', '@matt_oppy'), ('@mattmcilwain', '@ShaunaCausey'), ('@mattmcilwain', '@mattmday'), ('@mattmcilwain', '@lovelletters'), ('@mattmcilwain', '@Kristen_Hammy'), ('@DaveParkerSEA', '@toddbishop'), ('@DaveParkerSEA', '@ashannstew'), ('@DaveParkerSEA', '@LeslieFeinzaig'), ('@DaveParkerSEA', '@matt_oppy'), ('@DaveParkerSEA', '@stevesi'), ('@DaveParkerSEA', '@gilbert'), ('@DaveParkerSEA', '@Ryanintheus'), ('@DaveParkerSEA', '@juliesandler'), ('@DaveParkerSEA', '@crashdev'), ('@DaveParkerSEA', '@funcOfJoe'), ('@DaveParkerSEA', '@sonalpmane'), ('@DaveParkerSEA', '@ShaunaCausey'), ('@DaveParkerSEA', '@SoGulley'), ('@DaveParkerSEA', '@john_gabbert'), ('@DaveParkerSEA', '@moniguzman'), ('@DaveParkerSEA', '@mattmday'), ('@DaveParkerSEA', '@Rich_Barton'), ('@DaveParkerSEA', '@2morrowknight'), ('@DaveParkerSEA', '@jinman'), ('@DaveParkerSEA', '@tarah'), ('@DaveParkerSEA', '@Jenerationy'), ('@DaveParkerSEA', '@lanctot'), ('@DaveParkerSEA', '@Kristen_Hammy'), ('@DaveParkerSEA', '@nhuntwalker'), ('@DaveParkerSEA', '@kirbywinfield'), ('@DaveParkerSEA', '@lovelletters'), ('@DaveParkerSEA', '@eugenio_pace'), ('@DaveParkerSEA', '@etzioni'), ('@DaveParkerSEA', '@MissDestructo'), ('@DaveParkerSEA', '@heatherredman'), ('@DaveParkerSEA', '@danshapiro'), ('@DaveParkerSEA', '@medinism'), ('@DaveParkerSEA', '@KieranSnyder'), ('@DaveParkerSEA', '@hadip'), ('@DaveParkerSEA', '@RajSinghSeattle'), ('@toddbishop', '@ashannstew'), ('@toddbishop', '@LeslieFeinzaig'), ('@toddbishop', '@akipman'), ('@toddbishop', '@matt_oppy'), ('@toddbishop', '@stevesi'), ('@toddbishop', '@gilbert'), ('@toddbishop', '@Ryanintheus'), ('@toddbishop', '@juliesandler'), ('@toddbishop', '@BradSmi'), ('@toddbishop', '@crashdev'), ('@toddbishop', '@funcOfJoe'), ('@toddbishop', '@JenMsft'), ('@toddbishop', '@ShaunaCausey'), ('@toddbishop', '@SoGulley'), ('@toddbishop', '@john_gabbert'), ('@toddbishop', '@moniguzman'), ('@toddbishop', '@mattmday'), ('@toddbishop', '@Rich_Barton'), ('@toddbishop', '@jinman'), ('@toddbishop', '@tarah'), ('@toddbishop', '@daryn'), ('@toddbishop', '@PeterHamilton'), ('@toddbishop', '@lanctot'), ('@toddbishop', '@Kristen_Hammy'), ('@toddbishop', '@kirbywinfield'), ('@toddbishop', '@lovelletters'), ('@toddbishop', '@etzioni'), ('@toddbishop', '@sarahstood'), ('@toddbishop', '@MissDestructo'), ('@toddbishop', '@heatherredman'), ('@toddbishop', '@danshapiro'), ('@toddbishop', '@mcolacurcio'), ('@toddbishop', '@medinism'), ('@toddbishop', '@KieranSnyder'), ('@toddbishop', '@hadip'), ('@toddbishop', '@RajSinghSeattle'), ('@toddbishop', '@marybethlambert'), ('@toddbishop', '@Jenerationy'), ('@ashannstew', '@LeslieFeinzaig'), ('@ashannstew', '@matt_oppy'), ('@ashannstew', '@stevesi'), ('@ashannstew', '@gilbert'), ('@ashannstew', '@juliesandler'), ('@ashannstew', '@crashdev'), ('@ashannstew', '@moniguzman'), ('@ashannstew', '@mattmday'), ('@ashannstew', '@lovelletters'), ('@ashannstew', '@heatherredman'), ('@ashannstew', '@hadip'), ('@ashannstew', '@RajSinghSeattle'), ('@ashannstew', '@Jenerationy'), ('@ashannstew', '@lanctot'), ('@LeslieFeinzaig', '@matt_oppy'), ('@LeslieFeinzaig', '@stevesi'), ('@LeslieFeinzaig', '@juliesandler'), ('@LeslieFeinzaig', '@sonalpmane'), ('@LeslieFeinzaig', '@ShaunaCausey'), ('@LeslieFeinzaig', '@SoGulley'), ('@LeslieFeinzaig', '@kirbywinfield'), ('@LeslieFeinzaig', '@lovelletters'), ('@LeslieFeinzaig', '@MissDestructo'), ('@LeslieFeinzaig', '@heatherredman'), ('@LeslieFeinzaig', '@mcolacurcio'), ('@LeslieFeinzaig', '@KieranSnyder'), ('@LeslieFeinzaig', '@Ryanintheus'), ('@LeslieFeinzaig', '@moniguzman'), ('@akipman', '@BradSmi'), ('@akipman', '@mattmday'), ('@akipman', '@MissDestructo'), ('@akipman', '@JenMsft'), ('@matt_oppy', '@stevesi'), ('@matt_oppy', '@gilbert'), ('@matt_oppy', '@juliesandler'), ('@matt_oppy', '@crashdev'), ('@matt_oppy', '@ShaunaCausey'), ('@matt_oppy', '@john_gabbert'), ('@matt_oppy', '@moniguzman'), ('@matt_oppy', '@Rich_Barton'), ('@matt_oppy', '@Jenerationy'), ('@matt_oppy', '@PeterHamilton'), ('@matt_oppy', '@Kristen_Hammy'), ('@matt_oppy', '@kirbywinfield'), ('@matt_oppy', '@lovelletters'), ('@matt_oppy', '@eugenio_pace'), ('@matt_oppy', '@etzioni'), ('@matt_oppy', '@heatherredman'), ('@matt_oppy', '@danshapiro'), ('@matt_oppy', '@medinism'), ('@matt_oppy', '@KieranSnyder'), ('@matt_oppy', '@RajSinghSeattle'), ('@gilbert', '@stevesi'), ('@gilbert', '@juliesandler'), ('@gilbert', '@Rich_Barton'), ('@gilbert', '@daryn'), ('@gilbert', '@kirbywinfield'), ('@gilbert', '@KieranSnyder'), ('@gilbert', '@moniguzman'), ('@gilbert', '@Jenerationy'), ('@gilbert', '@etzioni'), ('@gilbert', '@MissDestructo'), ('@gilbert', '@heatherredman'), ('@gilbert', '@lanctot'), ('@juliesandler', '@BradSmi'), ('@juliesandler', '@crashdev'), ('@juliesandler', '@sonalpmane'), ('@juliesandler', '@ShaunaCausey'), ('@juliesandler', '@john_gabbert'), ('@juliesandler', '@moniguzman'), ('@juliesandler', '@Rich_Barton'), ('@juliesandler', '@daryn'), ('@juliesandler', '@Kristen_Hammy'), ('@juliesandler', '@kirbywinfield'), ('@juliesandler', '@lovelletters'), ('@juliesandler', '@etzioni'), ('@juliesandler', '@MissDestructo'), ('@juliesandler', '@heatherredman'), ('@juliesandler', '@danshapiro'), ('@juliesandler', '@KieranSnyder'), ('@juliesandler', '@hadip'), ('@juliesandler', '@RajSinghSeattle'), ('@juliesandler', '@mattmday'), ('@juliesandler', '@Jenerationy'), ('@juliesandler', '@funcOfJoe'), ('@juliesandler', '@SoGulley'), ('@juliesandler', '@sarahstood'), ('@BradSmi', '@mattmday'), ('@BradSmi', '@Rich_Barton'), ('@BradSmi', '@etzioni'), ('@BradSmi', '@hadip'), ('@BradSmi', '@RajSinghSeattle'), ('@BradSmi', '@heatherredman'), ('@BradSmi', '@SoGulley'), ('@BradSmi', '@lanctot'), ('@BradSmi', '@JenMsft'), ('@crashdev', '@stevesi'), ('@crashdev', '@john_gabbert'), ('@crashdev', '@Rich_Barton'), ('@crashdev', '@Kristen_Hammy'), ('@crashdev', '@kirbywinfield'), ('@crashdev', '@lovelletters'), ('@crashdev', '@eugenio_pace'), ('@crashdev', '@etzioni'), ('@crashdev', '@heatherredman'), ('@crashdev', '@danshapiro'), ('@crashdev', '@medinism'), ('@crashdev', '@RajSinghSeattle'), ('@crashdev', '@sonalpmane'), ('@crashdev', '@Jenerationy'), ('@crashdev', '@hadip'), ('@crashdev', '@SoGulley'), ('@crashdev', '@jinman'), ('@crashdev', '@PeterHamilton'), ('@crashdev', '@sarahstood'), ('@ShaunaCausey', '@stevesi'), ('@ShaunaCausey', '@SoGulley'), ('@ShaunaCausey', '@john_gabbert'), ('@ShaunaCausey', '@moniguzman'), ('@ShaunaCausey', '@marybethlambert'), ('@ShaunaCausey', '@Rich_Barton'), ('@ShaunaCausey', '@jinman'), ('@ShaunaCausey', '@daryn'), ('@ShaunaCausey', '@Jenerationy'), ('@ShaunaCausey', '@PeterHamilton'), ('@ShaunaCausey', '@lanctot'), ('@ShaunaCausey', '@Kristen_Hammy'), ('@ShaunaCausey', '@lovelletters'), ('@ShaunaCausey', '@etzioni'), ('@ShaunaCausey', '@sarahstood'), ('@ShaunaCausey', '@MissDestructo'), ('@ShaunaCausey', '@heatherredman'), ('@ShaunaCausey', '@mcolacurcio'), ('@ShaunaCausey', '@KieranSnyder'), ('@ShaunaCausey', '@hadip'), ('@ShaunaCausey', '@RajSinghSeattle'), ('@moniguzman', '@Ryanintheus'), ('@moniguzman', '@sonalpmane'), ('@moniguzman', '@stevesi'), ('@moniguzman', '@mattmday'), ('@moniguzman', '@Rich_Barton'), ('@moniguzman', '@tarah'), ('@moniguzman', '@daryn'), ('@moniguzman', '@Jenerationy'), ('@moniguzman', '@lanctot'), ('@moniguzman', '@lovelletters'), ('@moniguzman', '@sarahstood'), ('@moniguzman', '@MissDestructo'), ('@moniguzman', '@heatherredman'), ('@moniguzman', '@danshapiro'), ('@moniguzman', '@mcolacurcio'), ('@moniguzman', '@hadip'), ('@moniguzman', '@RajSinghSeattle'), ('@moniguzman', '@marybethlambert'), ('@moniguzman', '@SoGulley'), ('@moniguzman', '@PeterHamilton'), ('@mattmday', '@Rich_Barton'), ('@mattmday', '@daryn'), ('@mattmday', '@medinism'), ('@mattmday', '@KieranSnyder'), ('@mattmday', '@MissDestructo'), ('@Rich_Barton', '@stevesi'), ('@Rich_Barton', '@etzioni'), ('@Rich_Barton', '@hadip'), ('@Rich_Barton', '@heatherredman'), ('@Rich_Barton', '@Kristen_Hammy'), ('@Rich_Barton', '@mcolacurcio'), ('@Rich_Barton', '@RajSinghSeattle'), ('@daryn', '@heatherredman'), ('@daryn', '@danshapiro'), ('@daryn', '@hadip'), ('@lovelletters', '@Ryanintheus'), ('@lovelletters', '@sonalpmane'), ('@lovelletters', '@stevesi'), ('@lovelletters', '@tarah'), ('@lovelletters', '@Kristen_Hammy'), ('@lovelletters', '@kirbywinfield'), ('@lovelletters', '@etzioni'), ('@lovelletters', '@MissDestructo'), ('@lovelletters', '@heatherredman'), ('@lovelletters', '@danshapiro'), ('@lovelletters', '@KieranSnyder'), ('@lovelletters', '@hadip'), ('@lovelletters', '@RajSinghSeattle'), ('@lovelletters', '@SoGulley'), ('@lovelletters', '@lanctot'), ('@lovelletters', '@PeterHamilton'), ('@lovelletters', '@sarahstood'), ('@lovelletters', '@mcolacurcio'), ('@etzioni', '@kirbywinfield'), ('@etzioni', '@heatherredman'), ('@etzioni', '@hadip'), ('@etzioni', '@KieranSnyder'), ('@etzioni', '@funcOfJoe'), ('@etzioni', '@stevesi'), ('@MissDestructo', '@Ryanintheus'), ('@MissDestructo', '@sonalpmane'), ('@MissDestructo', '@stevesi'), ('@MissDestructo', '@SoGulley'), ('@MissDestructo', '@2morrowknight'), ('@MissDestructo', '@tarah'), ('@MissDestructo', '@PeterHamilton'), ('@MissDestructo', '@heatherredman'), ('@MissDestructo', '@danshapiro'), ('@MissDestructo', '@KieranSnyder'), ('@MissDestructo', '@RajSinghSeattle'), ('@heatherredman', '@Ryanintheus'), ('@heatherredman', '@sonalpmane'), ('@heatherredman', '@marybethlambert'), ('@heatherredman', '@stevesi'), ('@heatherredman', '@SoGulley'), ('@heatherredman', '@tarah'), ('@heatherredman', '@Kristen_Hammy'), ('@heatherredman', '@kirbywinfield'), ('@heatherredman', '@mcolacurcio'), ('@heatherredman', '@medinism'), ('@heatherredman', '@KieranSnyder'), ('@heatherredman', '@RajSinghSeattle'), ('@heatherredman', '@lanctot'), ('@danshapiro', '@sonalpmane'), ('@danshapiro', '@Jenerationy'), ('@danshapiro', '@stevesi'), ('@danshapiro', '@KieranSnyder'), ('@danshapiro', '@Kristen_Hammy'), ('@danshapiro', '@PeterHamilton'), ('@medinism', '@hadip'), ('@medinism', '@SoGulley'), ('@KieranSnyder', '@sonalpmane'), ('@KieranSnyder', '@stevesi'), ('@KieranSnyder', '@Kristen_Hammy'), ('@KieranSnyder', '@nhuntwalker'), ('@KieranSnyder', '@funcOfJoe'), ('@KieranSnyder', '@SoGulley'), ('@KieranSnyder', '@JenMsft'), ('@hadip', '@sonalpmane'), ('@hadip', '@Jenerationy'), ('@hadip', '@stevesi'), ('@hadip', '@funcOfJoe'), ('@hadip', '@SoGulley'), ('@hadip', '@jinman'), ('@hadip', '@lanctot'), ('@hadip', '@nhuntwalker'), ('@hadip', '@mcolacurcio'), ('@RajSinghSeattle', '@Ryanintheus'), ('@RajSinghSeattle', '@funcOfJoe'), ('@RajSinghSeattle', '@SoGulley'), ('@RajSinghSeattle', '@stevesi'), ('@funcOfJoe', '@stevesi'), ('@kirbywinfield', '@Ryanintheus'), ('@kirbywinfield', '@stevesi'), ('@kirbywinfield', '@lanctot'), ('@kirbywinfield', '@SoGulley'), ('@kirbywinfield', '@sarahstood'), ('@kirbywinfield', '@mcolacurcio'), ('@stevesi', '@sonalpmane'), ('@stevesi', '@JenMsft'), ('@stevesi', '@Kristen_Hammy'), ('@stevesi', '@jinman'), ('@stevesi', '@lanctot'), ('@stevesi', '@mcolacurcio'), ('@Ryanintheus', '@JenMsft'), ('@Ryanintheus', '@Jenerationy'), ('@Ryanintheus', '@nhuntwalker'), ('@Ryanintheus', '@sarahstood'), ('@sonalpmane', '@SoGulley'), ('@SoGulley', '@tarah'), ('@SoGulley', '@Jenerationy'), ('@SoGulley', '@PeterHamilton'), ('@SoGulley', '@Kristen_Hammy'), ('@SoGulley', '@nhuntwalker'), ('@tarah', '@nhuntwalker'), ('@Jenerationy', '@PeterHamilton'), ('@Kristen_Hammy', '@mcolacurcio'), ('@nhuntwalker', '@JenMsft'), ('@PeterHamilton', '@mcolacurcio')])"
      ]
     },
     "execution_count": 75,
     "metadata": {},
     "output_type": "execute_result"
    }
   ],
   "source": [
    "G.edges()"
   ]
  },
  {
   "cell_type": "code",
   "execution_count": 78,
   "id": "f24cdd16",
   "metadata": {},
   "outputs": [
    {
     "data": {
      "text/plain": [
       "NodeView(('@rachelerman', '@mattmcilwain', '@DaveParkerSEA', '@toddbishop', '@ashannstew', '@LeslieFeinzaig', '@akipman', '@matt_oppy', '@gilbert', '@juliesandler', '@BradSmi', '@crashdev', '@ShaunaCausey', '@john_gabbert', '@moniguzman', '@mattmday', '@Rich_Barton', '@daryn', '@lovelletters', '@etzioni', '@MissDestructo', '@heatherredman', '@danshapiro', '@medinism', '@KieranSnyder', '@hadip', '@RajSinghSeattle', '@funcOfJoe', '@kirbywinfield', '@stevesi', '@Ryanintheus', '@sonalpmane', '@SoGulley', '@2morrowknight', '@jinman', '@tarah', '@Jenerationy', '@lanctot', '@Kristen_Hammy', '@nhuntwalker', '@eugenio_pace', '@JenMsft', '@PeterHamilton', '@sarahstood', '@mcolacurcio', '@marybethlambert'))"
      ]
     },
     "execution_count": 78,
     "metadata": {},
     "output_type": "execute_result"
    }
   ],
   "source": [
    "G.nodes()"
   ]
  },
  {
   "cell_type": "code",
   "execution_count": null,
   "id": "423ebb29",
   "metadata": {},
   "outputs": [],
   "source": []
  }
 ],
 "metadata": {
  "kernelspec": {
   "display_name": "Python 3 (ipykernel)",
   "language": "python",
   "name": "python3"
  },
  "language_info": {
   "codemirror_mode": {
    "name": "ipython",
    "version": 3
   },
   "file_extension": ".py",
   "mimetype": "text/x-python",
   "name": "python",
   "nbconvert_exporter": "python",
   "pygments_lexer": "ipython3",
   "version": "3.11.5"
  }
 },
 "nbformat": 4,
 "nbformat_minor": 5
}
